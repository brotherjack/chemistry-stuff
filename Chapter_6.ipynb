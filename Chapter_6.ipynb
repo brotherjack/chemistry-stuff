{
 "cells": [
  {
   "cell_type": "markdown",
   "id": "d1f83ae9",
   "metadata": {},
   "source": [
    "# Chapter 6 Jupyter Notebook\n",
    "\n",
    "## What & Why\n",
    "\n",
    "Basically I'm hoping to do three things with this, namely:\n",
    "\n",
    "1. This is an exercise in maintaining and expaning my skill set in Julia programing, LaTeX typesetting, and usage of jupyter notebooks. These skills are definitely important in working with science programing. Even if there is nothing computationally complex here, I can keep these skills sharp and develop them as the material I'm studying gets more complex.\n",
    "2. I can share what I'm working on and how I'm approaching it. This is also good practice for managing more complex data. One of the most important things in data analysis is maintaining a _chain of custody_. While this also refers to managing who collects data and how, it also covers how data is manipulated, cleaned, and otherwise transformed. A jupyter notebook is a great tool for this.\n",
    "3. I can check my calculations algorithmically. While none of these calculations are particularly difficult, they can become messy with paper and pen, and I am prone to transcription errors. While the first two points are far more important, this isn't without some importance. Also, I can prototype relationships and draw plots, which could be helpful as long as I don't spend too much time working on this and not the actual material.\n",
    "\n",
    "It should be noted that I probably spent too much time today on this. However, much of this was on tooling and set up. As long as my pace picks up, I think this small investment will pay off in the long run.\n",
    "\n",
    "## OK, what should I do with this?\n",
    "\n",
    "You don't really have to do anything with this. You can chose to ignore it completely. You can dive into the code if you really want to, but it would probably be best to just ignore that. You can tell the difference between the \"cells\" that are programming code and those that are the markdown code (which this cell is, and has the actual human-specific stuff) by the presence of `In [#]:`. That prefix indicates that the cell is programming input, you can see the output beneath it in a cell called `Out[#]:`, every cell that doesn't have these prefixes are what is for presentation.\n",
    "\n"
   ]
  },
  {
   "cell_type": "code",
   "execution_count": 1,
   "id": "0f79a21d",
   "metadata": {},
   "outputs": [
    {
     "data": {
      "text/plain": [
       "@javascript_str (macro with 1 method)"
      ]
     },
     "execution_count": 1,
     "metadata": {},
     "output_type": "execute_result"
    }
   ],
   "source": [
    "macro javascript_str(s) display(\"text/javascript\", s); end"
   ]
  },
  {
   "cell_type": "code",
   "execution_count": 2,
   "id": "c16ea1d1",
   "metadata": {},
   "outputs": [
    {
     "data": {
      "application/javascript": [
       "MathJax.Extension[\"TeX/cancel\"]={version:\"2.4.0\",ALLOWED:{color:1,mathcolor:1,background:1,mathbackground:1,padding:1,thickness:1}};MathJax.Hub.Register.StartupHook(\"TeX Jax Ready\",function(){var c=MathJax.InputJax.TeX,a=MathJax.ElementJax.mml,b=MathJax.Extension[\"TeX/cancel\"];b.setAttributes=function(h,e){if(e!==\"\"){e=e.replace(/ /g,\"\").split(/,/);for(var g=0,d=e.length;g<d;g++){var f=e[g].split(/[:=]/);if(b.ALLOWED[f[0]]){if(f[1]===\"true\"){f[1]=true}if(f[1]===\"false\"){f[1]=false}h[f[0]]=f[1]}}}return h};c.Definitions.Add({macros:{cancel:[\"Cancel\",a.NOTATION.UPDIAGONALSTRIKE],bcancel:[\"Cancel\",a.NOTATION.DOWNDIAGONALSTRIKE],xcancel:[\"Cancel\",a.NOTATION.UPDIAGONALSTRIKE+\" \"+a.NOTATION.DOWNDIAGONALSTRIKE],cancelto:\"CancelTo\"}},null,true);c.Parse.Augment({Cancel:function(e,g){var d=this.GetBrackets(e,\"\"),f=this.ParseArg(e);var h=b.setAttributes({notation:g},d);this.Push(a.menclose(f).With(h))},CancelTo:function(e,g){var i=this.ParseArg(e),d=this.GetBrackets(e,\"\"),f=this.ParseArg(e);var h=b.setAttributes({notation:a.NOTATION.UPDIAGONALSTRIKE+\" \"+a.NOTATION.UPDIAGONALARROW},d);i=a.mpadded(i).With({depth:\"-.1em\",height:\"+.1em\",voffset:\".1em\"});this.Push(a.msup(a.menclose(f).With(h),i))}});MathJax.Hub.Startup.signal.Post(\"TeX cancel Ready\")});MathJax.Ajax.loadComplete(\"[MathJax]/extensions/TeX/cancel.js\");\n"
      ]
     },
     "metadata": {},
     "output_type": "display_data"
    }
   ],
   "source": [
    "javascript\"\"\"\n",
    "MathJax.Extension[\"TeX/cancel\"]={version:\"2.4.0\",ALLOWED:{color:1,mathcolor:1,background:1,mathbackground:1,padding:1,thickness:1}};MathJax.Hub.Register.StartupHook(\"TeX Jax Ready\",function(){var c=MathJax.InputJax.TeX,a=MathJax.ElementJax.mml,b=MathJax.Extension[\"TeX/cancel\"];b.setAttributes=function(h,e){if(e!==\"\"){e=e.replace(/ /g,\"\").split(/,/);for(var g=0,d=e.length;g<d;g++){var f=e[g].split(/[:=]/);if(b.ALLOWED[f[0]]){if(f[1]===\"true\"){f[1]=true}if(f[1]===\"false\"){f[1]=false}h[f[0]]=f[1]}}}return h};c.Definitions.Add({macros:{cancel:[\"Cancel\",a.NOTATION.UPDIAGONALSTRIKE],bcancel:[\"Cancel\",a.NOTATION.DOWNDIAGONALSTRIKE],xcancel:[\"Cancel\",a.NOTATION.UPDIAGONALSTRIKE+\" \"+a.NOTATION.DOWNDIAGONALSTRIKE],cancelto:\"CancelTo\"}},null,true);c.Parse.Augment({Cancel:function(e,g){var d=this.GetBrackets(e,\"\"),f=this.ParseArg(e);var h=b.setAttributes({notation:g},d);this.Push(a.menclose(f).With(h))},CancelTo:function(e,g){var i=this.ParseArg(e),d=this.GetBrackets(e,\"\"),f=this.ParseArg(e);var h=b.setAttributes({notation:a.NOTATION.UPDIAGONALSTRIKE+\" \"+a.NOTATION.UPDIAGONALARROW},d);i=a.mpadded(i).With({depth:\"-.1em\",height:\"+.1em\",voffset:\".1em\"});this.Push(a.msup(a.menclose(f).With(h),i))}});MathJax.Hub.Startup.signal.Post(\"TeX cancel Ready\")});MathJax.Ajax.loadComplete(\"[MathJax]/extensions/TeX/cancel.js\");\n",
    "\"\"\""
   ]
  },
  {
   "cell_type": "code",
   "execution_count": 3,
   "id": "861bbc52",
   "metadata": {},
   "outputs": [
    {
     "data": {
      "text/plain": [
       "0.08206 atm L K^-1 mol^-1"
      ]
     },
     "execution_count": 3,
     "metadata": {},
     "output_type": "execute_result"
    }
   ],
   "source": [
    "using PeriodicTable, DataStructures, Unitful\n",
    "\n",
    "const g = u\"g\"\n",
    "const mol = u\"mol\"\n",
    "const L = u\"L\"\n",
    "const atm = u\"atm\"\n",
    "const K = u\"K\"\n",
    "const R = 0.08206L*atm*mol^-1*K^-1"
   ]
  },
  {
   "cell_type": "code",
   "execution_count": 4,
   "id": "c7bf4321",
   "metadata": {},
   "outputs": [],
   "source": [
    "struct Molecule\n",
    "    charge::Int\n",
    "    elements::Array{Tuple{Symbol, Int}}\n",
    "end"
   ]
  },
  {
   "cell_type": "code",
   "execution_count": 6,
   "id": "42ee9f5d",
   "metadata": {},
   "outputs": [
    {
     "data": {
      "text/plain": [
       "Molecule(0, [(:H, 2)])"
      ]
     },
     "execution_count": 6,
     "metadata": {},
     "output_type": "execute_result"
    }
   ],
   "source": [
    "h2 = Molecule(0, [(:H, 2)])"
   ]
  },
  {
   "cell_type": "code",
   "execution_count": 7,
   "id": "f2a15cc2",
   "metadata": {},
   "outputs": [
    {
     "data": {
      "text/plain": [
       "get_molar_mass (generic function with 2 methods)"
      ]
     },
     "execution_count": 7,
     "metadata": {},
     "output_type": "execute_result"
    }
   ],
   "source": [
    "function get_molar_mass(atoms::Array{Tuple{Symbol, Int}})\n",
    "    total_moles = 0g/mol\n",
    "    for (atom, number_of) in atoms\n",
    "        total_moles += number_of * ustrip(elements[atom].atomic_mass) * 1g/mol \n",
    "    end\n",
    "    return total_moles\n",
    "end\n",
    "\n",
    "function get_molar_mass(molecule::Molecule)\n",
    "    return get_molar_mass(molecule.elements)\n",
    "end"
   ]
  },
  {
   "cell_type": "code",
   "execution_count": 8,
   "id": "265ffd89",
   "metadata": {},
   "outputs": [
    {
     "data": {
      "text/plain": [
       "2.016 g mol^-1"
      ]
     },
     "execution_count": 8,
     "metadata": {},
     "output_type": "execute_result"
    }
   ],
   "source": [
    "get_molar_mass(h2)"
   ]
  },
  {
   "cell_type": "code",
   "execution_count": 9,
   "id": "545a7233",
   "metadata": {},
   "outputs": [
    {
     "data": {
      "text/plain": [
       "volume_of_ideal_gas (generic function with 3 methods)"
      ]
     },
     "execution_count": 9,
     "metadata": {},
     "output_type": "execute_result"
    }
   ],
   "source": [
    "function volume_of_ideal_gas(n, T=273.15K, P=1.00atm)\n",
    "    return n*R*T / P\n",
    "end"
   ]
  },
  {
   "cell_type": "markdown",
   "id": "a7fb65e8",
   "metadata": {},
   "source": [
    "## Conceptual Question 6.3 - Molar Volume\n",
    "\n",
    "Assuming ideal behavior, which of these gas samples has\n",
    "the greatest volume at STP?\n",
    "- (a) 1 g of $H_{2}$\n",
    "- (b) 1 g of $O_{2}$\n",
    "- (c) 1 g of $Ar$"
   ]
  },
  {
   "cell_type": "markdown",
   "id": "0f17cce2",
   "metadata": {},
   "source": [
    "### My Answer\n",
    "  \n",
    "So we need to get the moles of $H_{2}$ as follows: $1 \\cancel{g} H_{2} \\times \\frac{1mol}{2.016 \\cancel{g}} = \\frac{1}{2.016}mol H_{2}$\n",
    "We'll need to do the same thing for the Oxygen and Argon gas. Then we run it through the ideal gas equation..."
   ]
  },
  {
   "cell_type": "code",
   "execution_count": 10,
   "id": "421392cd",
   "metadata": {},
   "outputs": [
    {
     "data": {
      "text/plain": [
       "true"
      ]
     },
     "execution_count": 10,
     "metadata": {},
     "output_type": "execute_result"
    }
   ],
   "source": [
    "# My molar mass function inverted should provide the same answer, but let's check to be sure... \n",
    "\n",
    "get_molar_mass([(:H, 2)])^-1 * 1g == 1mol/2.016"
   ]
  },
  {
   "cell_type": "code",
   "execution_count": 11,
   "id": "620c4350",
   "metadata": {},
   "outputs": [
    {
     "name": "stdout",
     "output_type": "stream",
     "text": [
      "The moles of hydrogen gas is 0.49603174603174605 mol and has a volume of 11.118397321428569 L\n",
      "The moles of oxygen gas is 0.03125195324707794 mol and has a volume of 0.7005028126757921 L\n",
      "The moles of argon gas is 0.025032479642335934 mol and has a volume of 0.5610952460817911 L\n"
     ]
    }
   ],
   "source": [
    "# So why not do this with variables\n",
    "mm_h2_gas = get_molar_mass([(:H, 2)])^-1 * 1g\n",
    "mm_o2_gas = get_molar_mass([(:O, 2)])^-1 * 1g\n",
    "mm_ar_gas = get_molar_mass([(:Ar, 1)])^-1 * 1g\n",
    "\n",
    "println(\"The moles of hydrogen gas is $mm_h2_gas and has a volume of $(volume_of_ideal_gas(mm_h2_gas))\")\n",
    "println(\"The moles of oxygen gas is $mm_o2_gas and has a volume of $(volume_of_ideal_gas(mm_o2_gas))\")\n",
    "println(\"The moles of argon gas is $mm_ar_gas and has a volume of $(volume_of_ideal_gas(mm_ar_gas))\")"
   ]
  },
  {
   "cell_type": "markdown",
   "id": "0bbc026c",
   "metadata": {},
   "source": [
    "So the **answer appears to be (a)**, this must be because there are far more of those small hydrogen atoms in a gram of gas. I could have probably guessed this instead of going through all this rigamarole of setting up a Jupyter notebook for Julia 1.7.3, learning how to strikeout text in mathmode in LaTeX, how to manupulate units with the Unitful package, and such, but a) that was kinda fun and b) this will be useful for future things, and it makes it easier to share my work so 👍"
   ]
  },
  {
   "cell_type": "code",
   "execution_count": 12,
   "id": "bc95ab17",
   "metadata": {},
   "outputs": [
    {
     "name": "stdout",
     "output_type": "stream",
     "text": [
      "The molar mass of hydrogen gas is 2.016 g mol^-1\n",
      "The molar mass of oxygen gas is 31.998 g mol^-1\n",
      "The molar mass of argon gas is  39.9481 g mol^-1\n"
     ]
    }
   ],
   "source": [
    "# So then let's see our molar masses...\n",
    "println(\"The molar mass of hydrogen gas is $(get_molar_mass([(:H, 2)]))\")\n",
    "println(\"The molar mass of oxygen gas is $(get_molar_mass([(:O, 2)]))\")\n",
    "println(\"The molar mass of argon gas is  $(get_molar_mass([(:Ar, 1)]))\")"
   ]
  },
  {
   "cell_type": "markdown",
   "id": "332b508b",
   "metadata": {},
   "source": [
    "Yeah, 2.016 << 31.998, so that makes sense."
   ]
  },
  {
   "cell_type": "markdown",
   "id": "5dc08b21",
   "metadata": {},
   "source": [
    "## Lil' Intelude\n",
    "\n",
    "So from [this](https://www.engineeringtoolbox.com/molecular-mass-air-d_679.html) it turns out that the molar mass of an average sample of air should be close to $28.9647 g/mol$. Also, to quoteth from the text:\n",
    "\n",
    "> a gas with a molar mass lower than that of air tends to rise in air.\n",
    "\n",
    "So, hydrogen gas should rise, whereas oxygen gas and argon gas should sink."
   ]
  },
  {
   "cell_type": "markdown",
   "id": "3a4593ab",
   "metadata": {},
   "source": [
    "## Conceptual Question 6.4 - Density of a Gas\n",
    "\n",
    "Arrange the following gases in order of increasing density at STP: $Ne$, $Cl_{2}$ , $F_{2}$ , and $O_{2}$:\n",
    "\n",
    "- (a) $Ne < O_{2} < F_{2} < Cl_{2}$\n",
    "- (b) $F_{2} < Ne < O_{2} < Cl_{2}$\n",
    "- (c) $Cl_{2} < F_{2} < O_{2} < Ne$"
   ]
  },
  {
   "cell_type": "markdown",
   "id": "9961d5be",
   "metadata": {},
   "source": [
    "### My Answer\n",
    "\n",
    "As from the previous example, this probably can be determined simply based on the increasing molar mass of the gas. \n",
    "\n",
    "This is based on the density equation: \n",
    "$d = \\frac{PM}{RT}$\n",
    "\n",
    "Given that \"M\" is the molar mass, and that value is in the numerator, increasing values of molar mass should result in denser gases. Since the molar mass of an element increases with atomic number, all else equal, the atom with a higher molar mass should be further to the right. However, given that some of these gases are formed from diatomic molecules, there is a bit of a curve here.\n",
    "\n",
    "(c) is definitely out, as Cl is in the third period and thus a much heavier atom than the others in the second period. Also, (b) is out as two oxygen atoms should have less mass than two fluorine atoms. So by process of elimination _the answer should be (a)_. Let's check this, first by the molar masses and then by checking the actual densities."
   ]
  },
  {
   "cell_type": "code",
   "execution_count": 13,
   "id": "aa25f89b",
   "metadata": {},
   "outputs": [
    {
     "name": "stdout",
     "output_type": "stream",
     "text": [
      "The molar mass of oxygen gas is 31.998 g mol^-1\n",
      "The molar mass of fluorine gas is 37.9968063272 g mol^-1\n",
      "The molar mass of neon gas is 20.17976 g mol^-1\n",
      "The molar mass of chlorine gas is 70.9 g mol^-1\n"
     ]
    }
   ],
   "source": [
    "# Checking the molar masses...in order of atomic number\n",
    "println(\"The molar mass of oxygen gas is $(get_molar_mass([(:O, 2)]))\")\n",
    "println(\"The molar mass of fluorine gas is $(get_molar_mass([(:F, 2)]))\")\n",
    "println(\"The molar mass of neon gas is $(get_molar_mass([(:Ne, 1)]))\")\n",
    "println(\"The molar mass of chlorine gas is $(get_molar_mass([(:Cl, 2)]))\")"
   ]
  },
  {
   "cell_type": "code",
   "execution_count": 14,
   "id": "977a33d0",
   "metadata": {},
   "outputs": [
    {
     "data": {
      "text/plain": [
       "calculate_density_of_gas (generic function with 3 methods)"
      ]
     },
     "execution_count": 14,
     "metadata": {},
     "output_type": "execute_result"
    }
   ],
   "source": [
    "# So now let's write a function to check densities...\n",
    "function calculate_density_of_gas(M, P=1.00atm, T=273.15K)\n",
    "    return (P*M) / (R*T)\n",
    "end"
   ]
  },
  {
   "cell_type": "code",
   "execution_count": 15,
   "id": "b06d2fe8",
   "metadata": {},
   "outputs": [
    {
     "data": {
      "text/plain": [
       "4-element Vector{Quantity{Float64, 𝐌 𝐍^-1, Unitful.FreeUnits{(g, mol^-1), 𝐌 𝐍^-1, nothing}}}:\n",
       "      20.17976 g mol^-1\n",
       "        31.998 g mol^-1\n",
       " 37.9968063272 g mol^-1\n",
       "          70.9 g mol^-1"
      ]
     },
     "execution_count": 15,
     "metadata": {},
     "output_type": "execute_result"
    }
   ],
   "source": [
    "# Checking our assumption\n",
    "correct_order = [(:Ne, 1), (:O, 2), (:F, 2), (:Cl, 2)]\n",
    "masses = [get_molar_mass([(sym, num)]) for (sym,num) in correct_order]\n"
   ]
  },
  {
   "cell_type": "code",
   "execution_count": 16,
   "id": "0c133bf4",
   "metadata": {},
   "outputs": [
    {
     "data": {
      "text/plain": [
       "true"
      ]
     },
     "execution_count": 16,
     "metadata": {},
     "output_type": "execute_result"
    }
   ],
   "source": [
    "all([x < masses[ind+1] for (ind, x) in enumerate(masses) if ind < length(masses)])"
   ]
  },
  {
   "cell_type": "code",
   "execution_count": 17,
   "id": "42bfc727",
   "metadata": {},
   "outputs": [
    {
     "data": {
      "text/plain": [
       "4-element Vector{Quantity{Float64, 𝐌 𝐋^-3, Unitful.FreeUnits{(g, L^-1), 𝐌 𝐋^-3, nothing}}}:\n",
       " 0.9002917684916354 g L^-1\n",
       "  1.427546016810673 g L^-1\n",
       " 1.6951743710207179 g L^-1\n",
       " 3.1631043375172423 g L^-1"
      ]
     },
     "execution_count": 17,
     "metadata": {},
     "output_type": "execute_result"
    }
   ],
   "source": [
    "densities = [calculate_density_of_gas(gas_mass) for gas_mass in masses]"
   ]
  },
  {
   "cell_type": "code",
   "execution_count": 18,
   "id": "282da9aa",
   "metadata": {},
   "outputs": [
    {
     "data": {
      "text/plain": [
       "true"
      ]
     },
     "execution_count": 18,
     "metadata": {},
     "output_type": "execute_result"
    }
   ],
   "source": [
    "all([x < densities[ind+1] for (ind, x) in enumerate(densities) if ind < length(densities)])"
   ]
  },
  {
   "cell_type": "markdown",
   "id": "89e1eb1e",
   "metadata": {},
   "source": [
    "**So the answer is, in fact, (a)**"
   ]
  },
  {
   "cell_type": "markdown",
   "id": "3a7736c3",
   "metadata": {},
   "source": [
    "## Conceptual Question 6.6 - Partial Pressures \n",
    "\n",
    "A gas mixture contains an equal number of moles of $He$ and $Ne$. The total pressure of the mixture is $3.0 atm$. What are the partial pressures of $He$ and $Ne$?\n",
    "- (a) P He = 2.0 atm; P Ne = 1.0 atm\n",
    "- (b) P He = 1.0 atm; P Ne = 2.0 atm\n",
    "- (c) P He = 1.5 atm; P Ne = 1.5 atm"
   ]
  },
  {
   "cell_type": "markdown",
   "id": "067dc574",
   "metadata": {},
   "source": [
    "### My answer\n",
    "\n",
    "This is pretty simple. As the equation for partial pressure is $P_{a} = X_{a}P_{total}$. Since the molar pressure $X_{a} = \\frac{P_{a}}{P_total} = \\frac{n_{a}}{n_{total}}$ and we know that the moles $n_{He} = n_{Ne}$, then $X_{a}$ must equal $\\frac{1}{2}$. We can check this by solving for $P_{total}$: \n",
    "$$\n",
    "P_{a} = X_{a}P_{total} \\\\\n",
    "(1.5) = \\left(\\frac{1}{2}\\right)P_{total} \\\\\n",
    "P_{total} = \\frac{1.5}{\\frac{1}{2}} \\\\\n",
    "P_{total} = 3.0\n",
    "$$"
   ]
  },
  {
   "cell_type": "code",
   "execution_count": 19,
   "id": "4f86f623",
   "metadata": {},
   "outputs": [
    {
     "data": {
      "text/plain": [
       "true"
      ]
     },
     "execution_count": 19,
     "metadata": {},
     "output_type": "execute_result"
    }
   ],
   "source": [
    "# Just making sure...\n",
    "1.5 / .5 == 3.0"
   ]
  },
  {
   "cell_type": "markdown",
   "id": "aaa27b84",
   "metadata": {},
   "source": [
    "## Another lil' Interlude\n",
    "\n",
    "Again from the book...\n",
    "\n",
    "> On top of Mount Everest, where the total pressure is\n",
    "0.311 atm, the partial pressure of oxygen is only 0.065 atm. Low\n",
    "oxygen levels produce a physiological condition called hypoxia\n",
    "or oxygen starvation\n",
    "\n",
    "![title](img/oxygen_partial_pressure_limits.png)\n",
    "\n",
    "Also from the book (emphasis added)...\n",
    "\n",
    "> Severe hypoxia, which occurs when \n",
    "$P_{O_{2}}$ drops below 0.1 atm, may result in unconsciousness or even death. For this reason, climbers hoping to make the\n",
    "summit of Mount Everest _**usually**_ carry oxygen to breathe.\n",
    "\n",
    "My only guess to the usually here is that they are assuming that someone might not have? Or maybe someone did? If the latter, I can't imagine that moron surived..."
   ]
  },
  {
   "cell_type": "markdown",
   "id": "6cdee7fb",
   "metadata": {},
   "source": [
    "## Conceptual Question 6.6 - Pressure and Number of Moles\n",
    "\n",
    "Nitrogen and hydrogen\n",
    "react to form ammonia according to the following equation:\n",
    "\n",
    "$$\n",
    "N_{2}(g) + 3H_{2}(g) \\rightleftharpoons 2NH_{3} ( g)\n",
    "$$\n",
    "\n",
    "Consider the following representations of the initial mixture of reactants and the\n",
    "resulting mixture after the reaction has been allowed to react for some time:\n",
    "\n",
    "![title](img/cc66_img.png)\n",
    "\n",
    "If the volume is kept constant, and nothing is added to the reaction mixture, what happens to the total pressure during the course of the reaction?\n",
    "\n",
    "- (a) The pressure increases.\n",
    "- (b) The pressure decreases.\n",
    "- (c) The pressure does not change."
   ]
  },
  {
   "cell_type": "markdown",
   "id": "aa71c058",
   "metadata": {},
   "source": [
    "### My answer\n",
    "\n",
    "This is interesting and beyond the ideal gas equation, the image also suggests why the answer is (b). As pointed out in section 6.2, the pressure from a gas comes the force of the molecules striking the sides of the container. Since there are less molecules (11 in the first picture, 7 in the second), there are less potential collisions at any point.\n",
    "\n",
    "Also, from the ideal gas law...\n",
    "\n",
    "$$\n",
    "P = \\frac{nRT}{V}\n",
    "$$\n",
    "\n",
    "It's explicitly declared that the volume is kept constant, and R is a constant we can remove these from the equation:\n",
    "\n",
    "$$\n",
    "P = \\frac{nRT}{V} \\\\\n",
    "P = \\frac{n\\cancel{R}T}{\\cancel{V}} \\\\\n",
    "P = nT\n",
    "$$\n",
    "\n",
    "Temperature is not explicitly mentioned, but I think it can be safely assumed to be constant. As such, $P \\propto n$, and if $n$ decreases so does $P$. "
   ]
  }
 ],
 "metadata": {
  "@webio": {
   "lastCommId": null,
   "lastKernelId": null
  },
  "kernelspec": {
   "display_name": "Julia 1.7.3",
   "language": "julia",
   "name": "julia-1.7"
  },
  "language_info": {
   "file_extension": ".jl",
   "mimetype": "application/julia",
   "name": "julia",
   "version": "1.7.3"
  }
 },
 "nbformat": 4,
 "nbformat_minor": 5
}
