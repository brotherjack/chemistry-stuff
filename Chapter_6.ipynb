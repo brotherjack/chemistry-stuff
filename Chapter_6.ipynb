{
 "cells": [
  {
   "cell_type": "markdown",
   "id": "d1f83ae9",
   "metadata": {},
   "source": [
    "# Chapter 6 Jupyter Notebook\n",
    "\n",
    "## What & Why\n",
    "\n",
    "Basically I'm hoping to do three things with this, namely:\n",
    "\n",
    "1. This is an exercise in maintaining and expaning my skill set in Julia programing, LaTeX typesetting, and usage of jupyter notebooks. These skills are definitely important in working with science programing. Even if there is nothing computationally complex here, I can keep these skills sharp and develop them as the material I'm studying gets more complex.\n",
    "2. I can share what I'm working on and how I'm approaching it. This is also good practice for managing more complex data. One of the most important things in data analysis is maintaining a _chain of custody_. While this also refers to managing who collects data and how, it also covers how data is manipulated, cleaned, and otherwise transformed. A jupyter notebook is a great tool for this.\n",
    "3. I can check my calculations algorithmically. While none of these calculations are particularly difficult, they can become messy with paper and pen, and I am prone to transcription errors. While the first two points are far more important, this isn't without some importance. Also, I can prototype relationships and draw plots, which could be helpful as long as I don't spend too much time working on this and not the actual material.\n",
    "\n",
    "It should be noted that I probably spent too much time today on this. However, much of this was on tooling and set up. As long as my pace picks up, I think this small investment will pay off in the long run.\n",
    "\n",
    "## OK, what should I do with this?\n",
    "\n",
    "You don't really have to do anything with this. You can chose to ignore it completely. You can dive into the code if you really want to, but it would probably be best to just ignore that. You can tell the difference between the \"cells\" that are programming code and those that are the markdown code (which this cell is, and has the actual human-specific stuff) by the presence of `In [#]:`. That prefix indicates that the cell is programming input, you can see the output beneath it in a cell called `Out[#]:`, every cell that doesn't have these prefixes are what is for presentation.\n",
    "\n"
   ]
  },
  {
   "cell_type": "code",
   "execution_count": 1,
   "id": "0f79a21d",
   "metadata": {},
   "outputs": [
    {
     "data": {
      "text/plain": [
       "@javascript_str (macro with 1 method)"
      ]
     },
     "execution_count": 1,
     "metadata": {},
     "output_type": "execute_result"
    }
   ],
   "source": [
    "macro javascript_str(s) display(\"text/javascript\", s); end"
   ]
  },
  {
   "cell_type": "code",
   "execution_count": 2,
   "id": "c16ea1d1",
   "metadata": {},
   "outputs": [
    {
     "data": {
      "application/javascript": [
       "MathJax.Extension[\"TeX/cancel\"]={version:\"2.4.0\",ALLOWED:{color:1,mathcolor:1,background:1,mathbackground:1,padding:1,thickness:1}};MathJax.Hub.Register.StartupHook(\"TeX Jax Ready\",function(){var c=MathJax.InputJax.TeX,a=MathJax.ElementJax.mml,b=MathJax.Extension[\"TeX/cancel\"];b.setAttributes=function(h,e){if(e!==\"\"){e=e.replace(/ /g,\"\").split(/,/);for(var g=0,d=e.length;g<d;g++){var f=e[g].split(/[:=]/);if(b.ALLOWED[f[0]]){if(f[1]===\"true\"){f[1]=true}if(f[1]===\"false\"){f[1]=false}h[f[0]]=f[1]}}}return h};c.Definitions.Add({macros:{cancel:[\"Cancel\",a.NOTATION.UPDIAGONALSTRIKE],bcancel:[\"Cancel\",a.NOTATION.DOWNDIAGONALSTRIKE],xcancel:[\"Cancel\",a.NOTATION.UPDIAGONALSTRIKE+\" \"+a.NOTATION.DOWNDIAGONALSTRIKE],cancelto:\"CancelTo\"}},null,true);c.Parse.Augment({Cancel:function(e,g){var d=this.GetBrackets(e,\"\"),f=this.ParseArg(e);var h=b.setAttributes({notation:g},d);this.Push(a.menclose(f).With(h))},CancelTo:function(e,g){var i=this.ParseArg(e),d=this.GetBrackets(e,\"\"),f=this.ParseArg(e);var h=b.setAttributes({notation:a.NOTATION.UPDIAGONALSTRIKE+\" \"+a.NOTATION.UPDIAGONALARROW},d);i=a.mpadded(i).With({depth:\"-.1em\",height:\"+.1em\",voffset:\".1em\"});this.Push(a.msup(a.menclose(f).With(h),i))}});MathJax.Hub.Startup.signal.Post(\"TeX cancel Ready\")});MathJax.Ajax.loadComplete(\"[MathJax]/extensions/TeX/cancel.js\");\n"
      ]
     },
     "metadata": {},
     "output_type": "display_data"
    }
   ],
   "source": [
    "javascript\"\"\"\n",
    "MathJax.Extension[\"TeX/cancel\"]={version:\"2.4.0\",ALLOWED:{color:1,mathcolor:1,background:1,mathbackground:1,padding:1,thickness:1}};MathJax.Hub.Register.StartupHook(\"TeX Jax Ready\",function(){var c=MathJax.InputJax.TeX,a=MathJax.ElementJax.mml,b=MathJax.Extension[\"TeX/cancel\"];b.setAttributes=function(h,e){if(e!==\"\"){e=e.replace(/ /g,\"\").split(/,/);for(var g=0,d=e.length;g<d;g++){var f=e[g].split(/[:=]/);if(b.ALLOWED[f[0]]){if(f[1]===\"true\"){f[1]=true}if(f[1]===\"false\"){f[1]=false}h[f[0]]=f[1]}}}return h};c.Definitions.Add({macros:{cancel:[\"Cancel\",a.NOTATION.UPDIAGONALSTRIKE],bcancel:[\"Cancel\",a.NOTATION.DOWNDIAGONALSTRIKE],xcancel:[\"Cancel\",a.NOTATION.UPDIAGONALSTRIKE+\" \"+a.NOTATION.DOWNDIAGONALSTRIKE],cancelto:\"CancelTo\"}},null,true);c.Parse.Augment({Cancel:function(e,g){var d=this.GetBrackets(e,\"\"),f=this.ParseArg(e);var h=b.setAttributes({notation:g},d);this.Push(a.menclose(f).With(h))},CancelTo:function(e,g){var i=this.ParseArg(e),d=this.GetBrackets(e,\"\"),f=this.ParseArg(e);var h=b.setAttributes({notation:a.NOTATION.UPDIAGONALSTRIKE+\" \"+a.NOTATION.UPDIAGONALARROW},d);i=a.mpadded(i).With({depth:\"-.1em\",height:\"+.1em\",voffset:\".1em\"});this.Push(a.msup(a.menclose(f).With(h),i))}});MathJax.Hub.Startup.signal.Post(\"TeX cancel Ready\")});MathJax.Ajax.loadComplete(\"[MathJax]/extensions/TeX/cancel.js\");\n",
    "\"\"\""
   ]
  },
  {
   "cell_type": "code",
   "execution_count": 107,
   "id": "861bbc52",
   "metadata": {},
   "outputs": [
    {
     "data": {
      "text/plain": [
       "6.0221408e23 mol^-1"
      ]
     },
     "execution_count": 107,
     "metadata": {},
     "output_type": "execute_result"
    }
   ],
   "source": [
    "using PeriodicTable, DataStructures, Unitful, Plots\n",
    "\n",
    "const g = u\"g\"\n",
    "const mol = u\"mol\"\n",
    "const L = u\"L\"\n",
    "const atm = u\"atm\"\n",
    "const K = u\"K\"\n",
    "const R = 0.08205736608096L*atm*mol^-1*K^-1 # Gas constant\n",
    "const °C = u\"°C\"\n",
    "const N_a = 6.0221408e23mol^-1"
   ]
  },
  {
   "cell_type": "code",
   "execution_count": 4,
   "id": "c7bf4321",
   "metadata": {},
   "outputs": [],
   "source": [
    "struct Molecule\n",
    "    charge::Int\n",
    "    elements::Array{Tuple{Symbol, Int}}\n",
    "end"
   ]
  },
  {
   "cell_type": "code",
   "execution_count": 5,
   "id": "42ee9f5d",
   "metadata": {},
   "outputs": [
    {
     "data": {
      "text/plain": [
       "Molecule(0, [(:H, 2)])"
      ]
     },
     "execution_count": 5,
     "metadata": {},
     "output_type": "execute_result"
    }
   ],
   "source": [
    "h2 = Molecule(0, [(:H, 2)])"
   ]
  },
  {
   "cell_type": "code",
   "execution_count": 28,
   "id": "f2a15cc2",
   "metadata": {},
   "outputs": [
    {
     "data": {
      "text/plain": [
       "get_molar_mass (generic function with 3 methods)"
      ]
     },
     "execution_count": 28,
     "metadata": {},
     "output_type": "execute_result"
    }
   ],
   "source": [
    "function get_molar_mass(atoms::Array{Tuple{Symbol, Int}})\n",
    "    total_moles = 0g/mol\n",
    "    for (atom, number_of) in atoms \n",
    "        total_moles += number_of * uconvert(g, elements[atom].atomic_mass)*N_a \n",
    "    end\n",
    "    return total_moles\n",
    "end\n",
    "\n",
    "function get_molar_mass(molecule::Molecule)\n",
    "    return get_molar_mass(molecule.elements)\n",
    "end\n",
    "\n",
    "function get_molar_mass(atom::Symbol)\n",
    "    return uconvert(g, elements[atom].atomic_mass)*N_a\n",
    "end"
   ]
  },
  {
   "cell_type": "code",
   "execution_count": 7,
   "id": "265ffd89",
   "metadata": {},
   "outputs": [
    {
     "data": {
      "text/plain": [
       "2.0160000126939006 g mol^-1"
      ]
     },
     "execution_count": 7,
     "metadata": {},
     "output_type": "execute_result"
    }
   ],
   "source": [
    "get_molar_mass(h2)"
   ]
  },
  {
   "cell_type": "code",
   "execution_count": 8,
   "id": "545a7233",
   "metadata": {},
   "outputs": [
    {
     "data": {
      "text/plain": [
       "volume_of_ideal_gas (generic function with 3 methods)"
      ]
     },
     "execution_count": 8,
     "metadata": {},
     "output_type": "execute_result"
    }
   ],
   "source": [
    "function volume_of_ideal_gas(n, T=273.15K, P=1.00atm)\n",
    "    return n*R*T / P\n",
    "end"
   ]
  },
  {
   "cell_type": "markdown",
   "id": "a7fb65e8",
   "metadata": {},
   "source": [
    "## Conceptual Question 6.3 - Molar Volume\n",
    "\n",
    "Assuming ideal behavior, which of these gas samples has\n",
    "the greatest volume at STP?\n",
    "- (a) 1 g of $H_{2}$\n",
    "- (b) 1 g of $O_{2}$\n",
    "- (c) 1 g of $Ar$"
   ]
  },
  {
   "cell_type": "markdown",
   "id": "0f17cce2",
   "metadata": {},
   "source": [
    "### My Answer\n",
    "  \n",
    "So we need to get the moles of $H_{2}$ as follows: $1 \\cancel{g} H_{2} \\times \\frac{1mol}{2.016 \\cancel{g}} = \\frac{1}{2.016}mol H_{2}$\n",
    "We'll need to do the same thing for the Oxygen and Argon gas. Then we run it through the ideal gas equation..."
   ]
  },
  {
   "cell_type": "code",
   "execution_count": 9,
   "id": "421392cd",
   "metadata": {},
   "outputs": [
    {
     "data": {
      "text/plain": [
       "false"
      ]
     },
     "execution_count": 9,
     "metadata": {},
     "output_type": "execute_result"
    }
   ],
   "source": [
    "# My molar mass function inverted should provide the same answer, but let's check to be sure... \n",
    "\n",
    "get_molar_mass([(:H, 2)])^-1 * 1g == 1mol/2.016"
   ]
  },
  {
   "cell_type": "markdown",
   "id": "f08a7067",
   "metadata": {},
   "source": [
    "#### OK, looks like my changes have made this false...how false?"
   ]
  },
  {
   "cell_type": "code",
   "execution_count": 10,
   "id": "2e742396",
   "metadata": {},
   "outputs": [
    {
     "data": {
      "text/plain": [
       "0.49603174603174605 mol"
      ]
     },
     "execution_count": 10,
     "metadata": {},
     "output_type": "execute_result"
    }
   ],
   "source": [
    "1mol/2.016"
   ]
  },
  {
   "cell_type": "code",
   "execution_count": 11,
   "id": "d7b22d24",
   "metadata": {},
   "outputs": [
    {
     "data": {
      "text/plain": [
       "0.49603174290844365 mol"
      ]
     },
     "execution_count": 11,
     "metadata": {},
     "output_type": "execute_result"
    }
   ],
   "source": [
    "get_molar_mass([(:H, 2)])^-1 * 1g"
   ]
  },
  {
   "cell_type": "markdown",
   "id": "a633066f",
   "metadata": {},
   "source": [
    "OK, doesn't look that not false, rounding error. Out of curiosity, how significant is this error?"
   ]
  },
  {
   "cell_type": "code",
   "execution_count": 12,
   "id": "b731ad7e",
   "metadata": {},
   "outputs": [
    {
     "data": {
      "text/plain": [
       "6.2965775926571155e-9"
      ]
     },
     "execution_count": 12,
     "metadata": {},
     "output_type": "execute_result"
    }
   ],
   "source": [
    "1 - (get_molar_mass([(:H, 2)])^-1 * 1g) / (1mol/2.016)"
   ]
  },
  {
   "cell_type": "markdown",
   "id": "00762e65",
   "metadata": {},
   "source": [
    "Seems like about a billionth of a problem. So we'll approximate and say there is no problem here."
   ]
  },
  {
   "cell_type": "code",
   "execution_count": 13,
   "id": "620c4350",
   "metadata": {},
   "outputs": [
    {
     "name": "stdout",
     "output_type": "stream",
     "text": [
      "The moles of hydrogen gas is 0.49603174290844365 mol and has a volume of 11.11804037891018 L\n",
      "The moles of oxygen gas is 0.03125195305029759 mol and has a volume of 0.7004803238915845 L\n",
      "The moles of argon gas is 0.025032479484716978 mol and has a volume of 0.5610772328066397 L\n"
     ]
    }
   ],
   "source": [
    "# So why not do this with variables\n",
    "mm_h2_gas = get_molar_mass([(:H, 2)])^-1 * 1g\n",
    "mm_o2_gas = get_molar_mass([(:O, 2)])^-1 * 1g\n",
    "mm_ar_gas = get_molar_mass([(:Ar, 1)])^-1 * 1g\n",
    "\n",
    "println(\"The moles of hydrogen gas is $mm_h2_gas and has a volume of $(volume_of_ideal_gas(mm_h2_gas))\")\n",
    "println(\"The moles of oxygen gas is $mm_o2_gas and has a volume of $(volume_of_ideal_gas(mm_o2_gas))\")\n",
    "println(\"The moles of argon gas is $mm_ar_gas and has a volume of $(volume_of_ideal_gas(mm_ar_gas))\")"
   ]
  },
  {
   "cell_type": "markdown",
   "id": "0bbc026c",
   "metadata": {},
   "source": [
    "So the **answer appears to be (a)**, this must be because there are far more of those small hydrogen atoms in a gram of gas. I could have probably guessed this instead of going through all this rigamarole of setting up a Jupyter notebook for Julia 1.7.3, learning how to strikeout text in mathmode in LaTeX, how to manupulate units with the Unitful package, and such, but a) that was kinda fun and b) this will be useful for future things, and it makes it easier to share my work so 👍"
   ]
  },
  {
   "cell_type": "code",
   "execution_count": 14,
   "id": "bc95ab17",
   "metadata": {},
   "outputs": [
    {
     "name": "stdout",
     "output_type": "stream",
     "text": [
      "The molar mass of hydrogen gas is 2.0160000126939006 g mol^-1\n",
      "The molar mass of oxygen gas is 31.998000201477893 g mol^-1\n",
      "The molar mass of argon gas is  39.94810025153632 g mol^-1\n"
     ]
    }
   ],
   "source": [
    "# So then let's see our molar masses...\n",
    "println(\"The molar mass of hydrogen gas is $(get_molar_mass([(:H, 2)]))\")\n",
    "println(\"The molar mass of oxygen gas is $(get_molar_mass([(:O, 2)]))\")\n",
    "println(\"The molar mass of argon gas is  $(get_molar_mass([(:Ar, 1)]))\")"
   ]
  },
  {
   "cell_type": "markdown",
   "id": "332b508b",
   "metadata": {},
   "source": [
    "Yeah, 2.016 << 31.998, so that makes sense."
   ]
  },
  {
   "cell_type": "markdown",
   "id": "5dc08b21",
   "metadata": {},
   "source": [
    "## Lil' Intelude\n",
    "\n",
    "So from [this](https://www.engineeringtoolbox.com/molecular-mass-air-d_679.html) it turns out that the molar mass of an average sample of air should be close to $28.9647 g/mol$. Also, to quoteth from the text:\n",
    "\n",
    "> a gas with a molar mass lower than that of air tends to rise in air.\n",
    "\n",
    "So, hydrogen gas should rise, whereas oxygen gas and argon gas should sink."
   ]
  },
  {
   "cell_type": "markdown",
   "id": "3a4593ab",
   "metadata": {},
   "source": [
    "## Conceptual Question 6.4 - Density of a Gas\n",
    "\n",
    "Arrange the following gases in order of increasing density at STP: $Ne$, $Cl_{2}$ , $F_{2}$ , and $O_{2}$:\n",
    "\n",
    "- (a) $Ne < O_{2} < F_{2} < Cl_{2}$\n",
    "- (b) $F_{2} < Ne < O_{2} < Cl_{2}$\n",
    "- (c) $Cl_{2} < F_{2} < O_{2} < Ne$"
   ]
  },
  {
   "cell_type": "markdown",
   "id": "9961d5be",
   "metadata": {},
   "source": [
    "### My Answer\n",
    "\n",
    "As from the previous example, this probably can be determined simply based on the increasing molar mass of the gas. \n",
    "\n",
    "This is based on the density equation: \n",
    "$d = \\frac{PM}{RT}$\n",
    "\n",
    "Given that \"M\" is the molar mass, and that value is in the numerator, increasing values of molar mass should result in denser gases. Since the molar mass of an element increases with atomic number, all else equal, the atom with a higher molar mass should be further to the right. However, given that some of these gases are formed from diatomic molecules, there is a bit of a curve here.\n",
    "\n",
    "(c) is definitely out, as Cl is in the third period and thus a much heavier atom than the others in the second period. Also, (b) is out as two oxygen atoms should have less mass than two fluorine atoms. So by process of elimination _the answer should be (a)_. Let's check this, first by the molar masses and then by checking the actual densities."
   ]
  },
  {
   "cell_type": "code",
   "execution_count": 15,
   "id": "aa25f89b",
   "metadata": {},
   "outputs": [
    {
     "name": "stdout",
     "output_type": "stream",
     "text": [
      "The molar mass of oxygen gas is 31.998000201477893 g mol^-1\n",
      "The molar mass of fluorine gas is 37.99680656644985 g mol^-1\n",
      "The molar mass of neon gas is 20.17976012706343 g mol^-1\n",
      "The molar mass of chlorine gas is 70.90000044642737 g mol^-1\n"
     ]
    }
   ],
   "source": [
    "# Checking the molar masses...in order of atomic number\n",
    "println(\"The molar mass of oxygen gas is $(get_molar_mass([(:O, 2)]))\")\n",
    "println(\"The molar mass of fluorine gas is $(get_molar_mass([(:F, 2)]))\")\n",
    "println(\"The molar mass of neon gas is $(get_molar_mass([(:Ne, 1)]))\")\n",
    "println(\"The molar mass of chlorine gas is $(get_molar_mass([(:Cl, 2)]))\")"
   ]
  },
  {
   "cell_type": "code",
   "execution_count": 16,
   "id": "977a33d0",
   "metadata": {},
   "outputs": [
    {
     "data": {
      "text/plain": [
       "calculate_density_of_gas (generic function with 3 methods)"
      ]
     },
     "execution_count": 16,
     "metadata": {},
     "output_type": "execute_result"
    }
   ],
   "source": [
    "# So now let's write a function to check densities...\n",
    "function calculate_density_of_gas(M, P=1.00atm, T=273.15K)\n",
    "    return (P*M) / (R*T)\n",
    "end"
   ]
  },
  {
   "cell_type": "code",
   "execution_count": 17,
   "id": "b06d2fe8",
   "metadata": {},
   "outputs": [
    {
     "data": {
      "text/plain": [
       "4-element Vector{Quantity{Float64, 𝐌 𝐍^-1, Unitful.FreeUnits{(g, mol^-1), 𝐌 𝐍^-1, nothing}}}:\n",
       "  20.17976012706343 g mol^-1\n",
       " 31.998000201477893 g mol^-1\n",
       "  37.99680656644985 g mol^-1\n",
       "  70.90000044642737 g mol^-1"
      ]
     },
     "execution_count": 17,
     "metadata": {},
     "output_type": "execute_result"
    }
   ],
   "source": [
    "# Checking our assumption\n",
    "correct_order = [(:Ne, 1), (:O, 2), (:F, 2), (:Cl, 2)]\n",
    "masses = [get_molar_mass([(sym, num)]) for (sym,num) in correct_order]\n"
   ]
  },
  {
   "cell_type": "code",
   "execution_count": 18,
   "id": "0c133bf4",
   "metadata": {},
   "outputs": [
    {
     "data": {
      "text/plain": [
       "true"
      ]
     },
     "execution_count": 18,
     "metadata": {},
     "output_type": "execute_result"
    }
   ],
   "source": [
    "all([x < masses[ind+1] for (ind, x) in enumerate(masses) if ind < length(masses)])"
   ]
  },
  {
   "cell_type": "code",
   "execution_count": 19,
   "id": "42bfc727",
   "metadata": {},
   "outputs": [
    {
     "data": {
      "text/plain": [
       "4-element Vector{Quantity{Float64, 𝐌 𝐋^-3, Unitful.FreeUnits{(g, L^-1), 𝐌 𝐋^-3, nothing}}}:\n",
       " 0.9003206721833095 g L^-1\n",
       " 1.4275918478971767 g L^-1\n",
       " 1.6952287942633473 g L^-1\n",
       " 3.1632058883652054 g L^-1"
      ]
     },
     "execution_count": 19,
     "metadata": {},
     "output_type": "execute_result"
    }
   ],
   "source": [
    "densities = [calculate_density_of_gas(gas_mass) for gas_mass in masses]"
   ]
  },
  {
   "cell_type": "code",
   "execution_count": 20,
   "id": "282da9aa",
   "metadata": {},
   "outputs": [
    {
     "data": {
      "text/plain": [
       "true"
      ]
     },
     "execution_count": 20,
     "metadata": {},
     "output_type": "execute_result"
    }
   ],
   "source": [
    "all([x < densities[ind+1] for (ind, x) in enumerate(densities) if ind < length(densities)])"
   ]
  },
  {
   "cell_type": "markdown",
   "id": "89e1eb1e",
   "metadata": {},
   "source": [
    "**So the answer is, in fact, (a)**"
   ]
  },
  {
   "cell_type": "markdown",
   "id": "3a7736c3",
   "metadata": {},
   "source": [
    "## Conceptual Question 6.6 - Partial Pressures \n",
    "\n",
    "A gas mixture contains an equal number of moles of $He$ and $Ne$. The total pressure of the mixture is $3.0 atm$. What are the partial pressures of $He$ and $Ne$?\n",
    "- (a) P He = 2.0 atm; P Ne = 1.0 atm\n",
    "- (b) P He = 1.0 atm; P Ne = 2.0 atm\n",
    "- (c) P He = 1.5 atm; P Ne = 1.5 atm"
   ]
  },
  {
   "cell_type": "markdown",
   "id": "067dc574",
   "metadata": {},
   "source": [
    "### My answer\n",
    "\n",
    "This is pretty simple. As the equation for partial pressure is $P_{a} = \\mathcal{X}_{a}P_{total}$. Since the molar pressure $X_{a} = \\frac{P_{a}}{P_total} = \\frac{n_{a}}{n_{total}}$ and we know that the moles $n_{He} = n_{Ne}$, then $\\mathcal{X}_{a}$ must equal $\\frac{1}{2}$. We can check this by solving for $P_{total}$: \n",
    "$$\n",
    "P_{a} = \\mathcal{X}_{a}P_{total} \\\\\n",
    "(1.5) = \\left(\\frac{1}{2}\\right)P_{total} \\\\\n",
    "P_{total} = \\frac{1.5}{\\frac{1}{2}} \\\\\n",
    "P_{total} = 3.0\n",
    "$$"
   ]
  },
  {
   "cell_type": "code",
   "execution_count": 21,
   "id": "4f86f623",
   "metadata": {},
   "outputs": [
    {
     "data": {
      "text/plain": [
       "true"
      ]
     },
     "execution_count": 21,
     "metadata": {},
     "output_type": "execute_result"
    }
   ],
   "source": [
    "# Just making sure...\n",
    "1.5 / .5 == 3.0"
   ]
  },
  {
   "cell_type": "markdown",
   "id": "aaa27b84",
   "metadata": {},
   "source": [
    "## Another lil' Interlude\n",
    "\n",
    "Again from the book...\n",
    "\n",
    "> On top of Mount Everest, where the total pressure is\n",
    "0.311 atm, the partial pressure of oxygen is only 0.065 atm. Low\n",
    "oxygen levels produce a physiological condition called hypoxia\n",
    "or oxygen starvation\n",
    "\n",
    "![title](img/oxygen_partial_pressure_limits.png)\n",
    "\n",
    "Also from the book (emphasis added)...\n",
    "\n",
    "> Severe hypoxia, which occurs when \n",
    "$P_{O_{2}}$ drops below 0.1 atm, may result in unconsciousness or even death. For this reason, climbers hoping to make the\n",
    "summit of Mount Everest _**usually**_ carry oxygen to breathe.\n",
    "\n",
    "My only guess to the usually here is that they are assuming that someone might not have? Or maybe someone did? If the latter, I can't imagine that moron surived..."
   ]
  },
  {
   "cell_type": "markdown",
   "id": "6cdee7fb",
   "metadata": {},
   "source": [
    "## Conceptual Question 6.6 - Pressure and Number of Moles\n",
    "\n",
    "Nitrogen and hydrogen\n",
    "react to form ammonia according to the following equation:\n",
    "\n",
    "$$\n",
    "N_{2}(g) + 3H_{2}(g) \\rightleftharpoons 2NH_{3} ( g)\n",
    "$$\n",
    "\n",
    "Consider the following representations of the initial mixture of reactants and the\n",
    "resulting mixture after the reaction has been allowed to react for some time:\n",
    "\n",
    "![title](img/cc66_img.png)\n",
    "\n",
    "If the volume is kept constant, and nothing is added to the reaction mixture, what happens to the total pressure during the course of the reaction?\n",
    "\n",
    "- (a) The pressure increases.\n",
    "- (b) The pressure decreases.\n",
    "- (c) The pressure does not change."
   ]
  },
  {
   "cell_type": "markdown",
   "id": "aa71c058",
   "metadata": {},
   "source": [
    "### My answer\n",
    "\n",
    "This is interesting and beyond the ideal gas equation, the image also suggests why the answer is (b). As pointed out in section 6.2, the pressure from a gas comes the force of the molecules striking the sides of the container. Since there are less molecules (11 in the first picture, 7 in the second), there are less potential collisions at any point.\n",
    "\n",
    "Also, from the ideal gas law...\n",
    "\n",
    "$$\n",
    "P = \\frac{nRT}{V}\n",
    "$$\n",
    "\n",
    "It's explicitly declared that the volume is kept constant, and R is a constant we can remove these from the equation:\n",
    "\n",
    "$$\n",
    "P = \\frac{nRT}{V} \\\\\n",
    "P = \\frac{n\\cancel{R}T}{\\cancel{V}} \\\\\n",
    "P = nT\n",
    "$$\n",
    "\n",
    "Temperature is not explicitly mentioned, but I think it can be safely assumed to be constant. As such, $P \\propto n$, and if $n$ decreases so does $P$. "
   ]
  },
  {
   "cell_type": "markdown",
   "id": "9cf295c9",
   "metadata": {},
   "source": [
    "## Conceptual Question 6.7 - Pressure and number of moles\n",
    "\n",
    "How does the approximate root\n",
    "mean square velocity of neon compare to that of krypton at the same temperature?\n",
    "\n",
    "- (a) The root mean square velocity of Ne is approximately four times that of Kr.\n",
    "- (b) The root mean square velocity of Ne is approximately two times that of Kr.\n",
    "- (c) The root mean square velocity of Ne is approximately one-half that of Kr.\n",
    "- (d) The root mean square velocity of Ne is approximately one-fourth that of Kr."
   ]
  },
  {
   "cell_type": "markdown",
   "id": "33ba5728",
   "metadata": {},
   "source": [
    "### My Answer\n",
    "\n",
    "This can be found pretty easily by using the root mean square velocity formula: \n",
    "\n",
    "$$\n",
    "u_{rms} = \\sqrt{\\frac{3RT}{\\mathcal{M}}}\n",
    "$$\n",
    "\n",
    "The one difference to keep in mind is that the gas constant will need to be adjusted, the book notes from molar volume to molar mass, as well as adjusting from pressure to velocity. The book does not go into detail here, so I think it would be useful to include it here, as I have less in terms of space limitations. There is a useful [Wikipedia article on the gas constant](https://en.wikipedia.org/wiki/Gas_constant#Dimensions), which I'm drawing from here.\n",
    "\n",
    "We are currently using the following version of the constant:\n",
    "\n",
    "$$\n",
    "R = \\frac{\\frac{force}{area} \\times volume}{ammount \\times tempature} = \\frac{atm \\times L}{mol \\times K}\n",
    "$$\n",
    "\n",
    "The article shows how to convert this to the form we need, which is...\n",
    "\n",
    "$$\n",
    "R = \\frac{mass \\times length^{2}}{amount \\times temperature \\times time^{2}} = \\frac{kg \\times m^{2}}{mol \\times K \\times s^{2}}\n",
    "$$\n",
    "\n",
    "I was having some problems getting my function to match the book's figures for the root mean square velocity of Hydrogen and Nitrogen. Part of the problem was that I was not including Avogadro's number, but the other issue was a little more illusive. Long story->short, I was not taking into account that both hydrogen and nitogen are diatomic molecules at room temperature. A brief web search shows there is an easy way to account for this, as [this article details](https://www.thoughtco.com/what-are-the-seven-diatomic-elements-606623). Apparently, elements that end in \"-gen\" form stable pure element diatomic molecules and can be remembered by this helpful neumonic:\n",
    "\n",
    "| Atom | Phrase | Atomic Name |\n",
    "| - | ------ | -------- |\n",
    "| H | \"Have\" | Hydrogen |\n",
    "| N | \"No\"   | Nitrogen |\n",
    "| F | \"Fear\" | Fluorine |\n",
    "| O | \"Of\" | Oxygen |\n",
    "| I | \"Ice\" | Iodine |\n",
    "| Cl | \"Cold\" | Chlorine |\n",
    "| Br | \"Beer\" | Bromine |\n",
    "\n",
    "The hardest part is remembering that \"Cold\" is not refering to Carbon. This requires some conceptual know-how in recognizing that Carbon cannot form a stable bond with itself, but that's not too hard."
   ]
  },
  {
   "cell_type": "code",
   "execution_count": 22,
   "id": "c5861c92",
   "metadata": {},
   "outputs": [
    {
     "data": {
      "text/plain": [
       "rms_velocity (generic function with 2 methods)"
      ]
     },
     "execution_count": 22,
     "metadata": {},
     "output_type": "execute_result"
    }
   ],
   "source": [
    "function rms_velocity(atomic_symbol, T=298.15K)\n",
    "    _R = uconvert(u\"kg*m^2*s^-2*K^-1*mol^-1\", R)\n",
    "    diatomic_weight = atomic_symbol in [:H, :N, :F, :O, :I, :Cl, :Br] ? 2 : 1\n",
    "    M = N_a*uconvert(u\"kg\", elements[atomic_symbol].atomic_mass)*diatomic_weight\n",
    "    return √(3*_R*T / M)\n",
    "end\n",
    "       \n"
   ]
  },
  {
   "cell_type": "code",
   "execution_count": 23,
   "id": "d58a0fe7",
   "metadata": {},
   "outputs": [
    {
     "data": {
      "text/plain": [
       "1920.6572125099383 m s^-1"
      ]
     },
     "execution_count": 23,
     "metadata": {},
     "output_type": "execute_result"
    }
   ],
   "source": [
    "rms_velocity(:H)"
   ]
  },
  {
   "cell_type": "code",
   "execution_count": 24,
   "id": "b73cabb6",
   "metadata": {},
   "outputs": [
    {
     "data": {
      "text/plain": [
       "515.2376173305167 m s^-1"
      ]
     },
     "execution_count": 24,
     "metadata": {},
     "output_type": "execute_result"
    }
   ],
   "source": [
    "rms_velocity(:N)"
   ]
  },
  {
   "cell_type": "markdown",
   "id": "bd01728d",
   "metadata": {},
   "source": [
    "#### Good\n",
    "\n",
    "That matches what I'm seeing in the book. So let's compare the results of the algorithm on the question then."
   ]
  },
  {
   "cell_type": "code",
   "execution_count": 25,
   "id": "207c7362",
   "metadata": {},
   "outputs": [
    {
     "name": "stdout",
     "output_type": "stream",
     "text": [
      "Correct answers are: b\n"
     ]
    }
   ],
   "source": [
    "values = [(:a, 4), (:b, 2), (:c, 0.5), (:d, 0.25)]\n",
    "correct = []\n",
    "ne_velocity = rms_velocity(:Ne)\n",
    "\n",
    "for (answer, weight) in values\n",
    "    if ne_velocity - ne_velocity*0.05 < rms_velocity(:Kr)*weight < ne_velocity + ne_velocity*0.05\n",
    "        push!(correct, answer)\n",
    "    end\n",
    "end\n",
    "println(\"Correct answers are: $(join(correct, ','))\")"
   ]
  },
  {
   "cell_type": "markdown",
   "id": "a01d6818",
   "metadata": {},
   "source": [
    "Well, there we go: _The root mean square velocity of Ne is approximately two times that of Kr._"
   ]
  },
  {
   "cell_type": "markdown",
   "id": "34708c9f",
   "metadata": {},
   "source": [
    "## Conceptual Question 6.8 - Kinetic Molecular Theory\n",
    "\n",
    "Which sample of an ideal gas has\n",
    "the greatest pressure? Assume that the mass of each particle is proportional to its size and\n",
    "that all the gas samples are at the same temperature.\n",
    "\n",
    "![title](img/cc68_img.png)"
   ]
  },
  {
   "cell_type": "markdown",
   "id": "36961382",
   "metadata": {},
   "source": [
    "## My answer\n",
    "\n",
    "An important relation is outlined in equation \\[6.18\\], namely:\n",
    "\n",
    "$$\n",
    "P \\propto mv^{2} \\times \\frac{n}{V}\n",
    "$$\n",
    "\n",
    "Since, as outlined in equation \\[6.19]\\: $ mv^{2} \\propto T$ and temperature is held constant, we can remove velocity from consideration as mass should remain constant. This leaves us with $P \\propto \\frac{mn}{V}$.\n",
    "\n",
    "The number of molecules is 7 for (a), 7 for (b), and 11 for (c). So that should remove (a) from consideration as it's mass is apparently the same as (c). The tricky part is determining what the \"mass\" of these particles is. I think a good estimate, if maybe a little generous, is that the (b) molecules are 4 times the size of the (c) molecules. So, let's see how this relates to pressure..."
   ]
  },
  {
   "cell_type": "code",
   "execution_count": 26,
   "id": "f5f8ea22",
   "metadata": {},
   "outputs": [
    {
     "name": "stdout",
     "output_type": "stream",
     "text": [
      "Relative pressure is 4.0P for (b) and 4.0P for (c)\n"
     ]
    }
   ],
   "source": [
    "pfn = (m,n) -> m*n / 1\n",
    "println(\"Relative pressure is $(pfn(4, 1))P for (b) and $(pfn(1, (11-7)))P for (c)\")"
   ]
  },
  {
   "cell_type": "markdown",
   "id": "90f20221",
   "metadata": {},
   "source": [
    "So several possibilites...\n",
    "- 1) I misestimated the size of (b)'s molecules, which seems likely. I can be argued either way at this point, but basically if I _over_-estimated than (c) is under the greatest pressure, and if I _under_-estimated than (b) is under the greatest pressure.\n",
    "- 2) I estimated the size of (b)'s molecules correctly, and both (b) and (c) are under the greatest pressure.\n",
    "- 3) I have a flaw in my reasoning and am just wrong."
   ]
  },
  {
   "cell_type": "markdown",
   "id": "0645226c",
   "metadata": {},
   "source": [
    "## Conceptual Connection - 6.9: Graham's Law of Effusion\n",
    "\n",
    "A glass tube contains an equal\n",
    "number of moles of helium and argon. After five minutes, half of the particles escape\n",
    "through a small hole in the glass. What are the relative amounts of helium and argon in\n",
    "the tube at five minutes?\n",
    "\n",
    "- (a) The tube still contains an equal number of moles of helium and argon.\n",
    "- (b) The tube contains a greater number of moles of helium than argon.\n",
    "- (c) The tube contains a greater number of moles of argon than helium."
   ]
  },
  {
   "cell_type": "markdown",
   "id": "dadf05c3",
   "metadata": {},
   "source": [
    "## My answer\n",
    "\n",
    "This is pretty straightforward, as seen in the relation between root mean square velocity and the rate of effusion: \n",
    "\n",
    "$$\n",
    "rate \\propto \\frac{1}{\\sqrt{\\mathcal{M}}}\n",
    "$$\n",
    "\n",
    "Since 1 mol of $Ar$ is heavier than $He$, _I'd expect that the answer is (c)._ Since a larger value of $\\mathcal{M}$ would result in a smaller rate of effusion."
   ]
  },
  {
   "cell_type": "code",
   "execution_count": 30,
   "id": "06d1e4de",
   "metadata": {},
   "outputs": [
    {
     "name": "stdout",
     "output_type": "stream",
     "text": [
      "The mass of one mol of Ar is 39.94810025153632 g mol^-1\n",
      "The mass of one mol of He is 4.002602225202696 g mol^-1 and is 10.019505808786901% lighter than Ar\n"
     ]
    }
   ],
   "source": [
    "mm_ar = get_molar_mass(:Ar)\n",
    "mm_he = get_molar_mass(:He)\n",
    "println(\"The mass of one mol of Ar is $mm_ar\")\n",
    "println(\"The mass of one mol of He is $mm_he and is $((mm_he/mm_ar)*100)% lighter than Ar\")"
   ]
  },
  {
   "cell_type": "code",
   "execution_count": 31,
   "id": "7559ea07",
   "metadata": {},
   "outputs": [
    {
     "data": {
      "text/plain": [
       "true"
      ]
     },
     "execution_count": 31,
     "metadata": {},
     "output_type": "execute_result"
    }
   ],
   "source": [
    "# So pretty obvious, but let's just be clear...\n",
    "1/√mm_he > 1/√mm_ar"
   ]
  },
  {
   "cell_type": "markdown",
   "id": "0f8f3140",
   "metadata": {},
   "source": [
    "**So yeah, the answer is (c)**"
   ]
  },
  {
   "cell_type": "markdown",
   "id": "df0ee6a5",
   "metadata": {},
   "source": [
    "## Conceptual Connection - 6.10: Real Gases\n",
    "\n",
    "The graph shows $\\frac{PV}{RT}$ for carbon dioxide at three different\n",
    "temperatures. Rank the curves in order of increasing temperature.\n",
    "\n",
    "![title](img/cc610_img.png)\n",
    "\n",
    "- (a) C < A < B\n",
    "- (b) A < B < C\n",
    "- (c) B < C < A\n",
    "- (d) C < B < A"
   ]
  },
  {
   "cell_type": "markdown",
   "id": "0d5ce435",
   "metadata": {},
   "source": [
    "## My answer\n",
    "\n",
    "I think this can be found from the Van der Waal's temperature correction to the ideal gas law:\n",
    "\n",
    "$$\n",
    "P = \\frac{nRT}{V} - a\\left(\\frac{n}{V}\\right)^{2}\n",
    "$$\n",
    "\n",
    "From table 6.5, the constant $a$ for $CO_{2}$ is 3.59\n",
    "\n",
    "$$\n",
    "P = \\frac{nRT}{V} - a\\left(\\frac{n}{V}\\right)^{2} \\\\\n",
    "\\frac{nRT}{V} = P + a\\left(\\frac{n}{V}\\right)^{2} \\\\\n",
    "T = \\frac{V}{Rn}\\left(P + a\\left(\\frac{n}{V}\\right)^{2}\\right) \\\\\n",
    "T = \\frac{PV}{Rn} + \\frac{an}{VR}\n",
    "$$\n",
    "\n"
   ]
  },
  {
   "cell_type": "code",
   "execution_count": 41,
   "id": "48eebe50",
   "metadata": {},
   "outputs": [
    {
     "data": {
      "text/plain": [
       "#19 (generic function with 1 method)"
      ]
     },
     "execution_count": 41,
     "metadata": {},
     "output_type": "execute_result"
    }
   ],
   "source": [
    "co2_temp = (P) -> ((P*1L)/(R*1mol)) + ((3.59L^2*atm*mol^-2*1mol)/(1L*R))"
   ]
  },
  {
   "cell_type": "code",
   "execution_count": 42,
   "id": "f176039a",
   "metadata": {},
   "outputs": [
    {
     "data": {
      "text/plain": [
       "12230.346255689357 K"
      ]
     },
     "execution_count": 42,
     "metadata": {},
     "output_type": "execute_result"
    }
   ],
   "source": [
    "co2_temp(1000atm)"
   ]
  },
  {
   "cell_type": "code",
   "execution_count": 40,
   "id": "9272b651",
   "metadata": {},
   "outputs": [
    {
     "data": {
      "text/plain": [
       "12186.59637470417 K L^2"
      ]
     },
     "execution_count": 40,
     "metadata": {},
     "output_type": "execute_result"
    }
   ],
   "source": [
    "(1000atm*1L^3)/(R*1mol)"
   ]
  },
  {
   "cell_type": "markdown",
   "id": "38de8111",
   "metadata": {},
   "source": [
    "$$\n",
    "\\frac{PV}{nRT} = 1 - \\frac{an}{VRT} \\\\\n",
    "(1.9) = 1 - \\frac{(3.59\\cancel{\\frac{L^{2} \\cdot atm}{mol^{2}}})(\\cancel{1mol})}{(1\\cancel{L})(0.08205736608096\\cancel{\\frac{atm \\cdot L}{K \\cdot mol})}T} \\\\\n",
    "0.9 = -\\frac{3.59}{0.08205736608096 \\cdot T} \\\\\n",
    "0.9\\cdot T = -\\frac{3.59}{0.08205736608096}\n",
    "$$"
   ]
  },
  {
   "cell_type": "code",
   "execution_count": 43,
   "id": "61d47e81",
   "metadata": {},
   "outputs": [
    {
     "data": {
      "text/plain": [
       "0.08205736608096 atm L K^-1 mol^-1"
      ]
     },
     "execution_count": 43,
     "metadata": {},
     "output_type": "execute_result"
    }
   ],
   "source": [
    "R"
   ]
  },
  {
   "cell_type": "markdown",
   "id": "2cc3522c",
   "metadata": {},
   "source": [
    "$$\n",
    "\\left[P + a\\left(\\frac{n}{V}\\right)^{2}\\right] \\times \\left[V - nb \\right] = nRT \\\\\n",
    "T = \\frac{\\left[P + a\\left(\\frac{n}{V}\\right)^{2}\\right] \\times \\left[V - nb \\right]}{nR}\n",
    "$$"
   ]
  },
  {
   "cell_type": "code",
   "execution_count": 59,
   "id": "6388c37f",
   "metadata": {},
   "outputs": [
    {
     "data": {
      "text/plain": [
       "temperature_of_gas (generic function with 3 methods)"
      ]
     },
     "execution_count": 59,
     "metadata": {},
     "output_type": "execute_result"
    }
   ],
   "source": [
    "function temperature_of_gas(P, a, b, V=1L, n=1mol)\n",
    "    return ((P + a*(n/V)^2)*(V - n*b)) / (n*R)\n",
    "end"
   ]
  },
  {
   "cell_type": "code",
   "execution_count": 61,
   "id": "37c19baf",
   "metadata": {},
   "outputs": [
    {
     "data": {
      "text/plain": [
       "53.547989776624746 K"
      ]
     },
     "execution_count": 61,
     "metadata": {},
     "output_type": "execute_result"
    }
   ],
   "source": [
    "temperature_of_gas(1atm, 3.59L^2*atm*mol^-2, 0.0427L*mol^-1)"
   ]
  },
  {
   "cell_type": "code",
   "execution_count": 62,
   "id": "6ce0c348",
   "metadata": {},
   "outputs": [
    {
     "data": {
      "text/plain": [
       "-219.60201022337523 °C"
      ]
     },
     "execution_count": 62,
     "metadata": {},
     "output_type": "execute_result"
    }
   ],
   "source": [
    "uconvert(u\"°C\", temperature_of_gas(1atm, 3.59L^2*atm*mol^-2, 0.0427L*mol^-1))"
   ]
  },
  {
   "cell_type": "code",
   "execution_count": 77,
   "id": "a1de3a72",
   "metadata": {},
   "outputs": [
    {
     "data": {
      "image/svg+xml": [
       "<?xml version=\"1.0\" encoding=\"utf-8\"?>\n",
       "<svg xmlns=\"http://www.w3.org/2000/svg\" xmlns:xlink=\"http://www.w3.org/1999/xlink\" width=\"600\" height=\"400\" viewBox=\"0 0 2400 1600\">\n",
       "<defs>\n",
       "  <clipPath id=\"clip140\">\n",
       "    <rect x=\"0\" y=\"0\" width=\"2400\" height=\"1600\"/>\n",
       "  </clipPath>\n",
       "</defs>\n",
       "<path clip-path=\"url(#clip140)\" d=\"\n",
       "M0 1600 L2400 1600 L2400 0 L0 0  Z\n",
       "  \" fill=\"#ffffff\" fill-rule=\"evenodd\" fill-opacity=\"1\"/>\n",
       "<defs>\n",
       "  <clipPath id=\"clip141\">\n",
       "    <rect x=\"480\" y=\"0\" width=\"1681\" height=\"1600\"/>\n",
       "  </clipPath>\n",
       "</defs>\n",
       "<defs>\n",
       "  <clipPath id=\"clip142\">\n",
       "    <rect x=\"229\" y=\"123\" width=\"2124\" height=\"1364\"/>\n",
       "  </clipPath>\n",
       "</defs>\n",
       "<path clip-path=\"url(#clip140)\" d=\"\n",
       "M292.713 1423.18 L2352.76 1423.18 L2352.76 123.472 L292.713 123.472  Z\n",
       "  \" fill=\"#ffffff\" fill-rule=\"evenodd\" fill-opacity=\"1\"/>\n",
       "<defs>\n",
       "  <clipPath id=\"clip143\">\n",
       "    <rect x=\"292\" y=\"123\" width=\"2061\" height=\"1301\"/>\n",
       "  </clipPath>\n",
       "</defs>\n",
       "<polyline clip-path=\"url(#clip143)\" style=\"stroke:#000000; stroke-linecap:butt; stroke-linejoin:round; stroke-width:2; stroke-opacity:0.1; fill:none\" points=\"\n",
       "  351.016,1423.18 351.016,123.472 \n",
       "  \"/>\n",
       "<polyline clip-path=\"url(#clip143)\" style=\"stroke:#000000; stroke-linecap:butt; stroke-linejoin:round; stroke-width:2; stroke-opacity:0.1; fill:none\" points=\"\n",
       "  836.875,1423.18 836.875,123.472 \n",
       "  \"/>\n",
       "<polyline clip-path=\"url(#clip143)\" style=\"stroke:#000000; stroke-linecap:butt; stroke-linejoin:round; stroke-width:2; stroke-opacity:0.1; fill:none\" points=\"\n",
       "  1322.73,1423.18 1322.73,123.472 \n",
       "  \"/>\n",
       "<polyline clip-path=\"url(#clip143)\" style=\"stroke:#000000; stroke-linecap:butt; stroke-linejoin:round; stroke-width:2; stroke-opacity:0.1; fill:none\" points=\"\n",
       "  1808.59,1423.18 1808.59,123.472 \n",
       "  \"/>\n",
       "<polyline clip-path=\"url(#clip143)\" style=\"stroke:#000000; stroke-linecap:butt; stroke-linejoin:round; stroke-width:2; stroke-opacity:0.1; fill:none\" points=\"\n",
       "  2294.45,1423.18 2294.45,123.472 \n",
       "  \"/>\n",
       "<polyline clip-path=\"url(#clip140)\" style=\"stroke:#000000; stroke-linecap:butt; stroke-linejoin:round; stroke-width:4; stroke-opacity:1; fill:none\" points=\"\n",
       "  292.713,1423.18 2352.76,1423.18 \n",
       "  \"/>\n",
       "<polyline clip-path=\"url(#clip140)\" style=\"stroke:#000000; stroke-linecap:butt; stroke-linejoin:round; stroke-width:4; stroke-opacity:1; fill:none\" points=\"\n",
       "  351.016,1423.18 351.016,1404.28 \n",
       "  \"/>\n",
       "<polyline clip-path=\"url(#clip140)\" style=\"stroke:#000000; stroke-linecap:butt; stroke-linejoin:round; stroke-width:4; stroke-opacity:1; fill:none\" points=\"\n",
       "  836.875,1423.18 836.875,1404.28 \n",
       "  \"/>\n",
       "<polyline clip-path=\"url(#clip140)\" style=\"stroke:#000000; stroke-linecap:butt; stroke-linejoin:round; stroke-width:4; stroke-opacity:1; fill:none\" points=\"\n",
       "  1322.73,1423.18 1322.73,1404.28 \n",
       "  \"/>\n",
       "<polyline clip-path=\"url(#clip140)\" style=\"stroke:#000000; stroke-linecap:butt; stroke-linejoin:round; stroke-width:4; stroke-opacity:1; fill:none\" points=\"\n",
       "  1808.59,1423.18 1808.59,1404.28 \n",
       "  \"/>\n",
       "<polyline clip-path=\"url(#clip140)\" style=\"stroke:#000000; stroke-linecap:butt; stroke-linejoin:round; stroke-width:4; stroke-opacity:1; fill:none\" points=\"\n",
       "  2294.45,1423.18 2294.45,1404.28 \n",
       "  \"/>\n",
       "<path clip-path=\"url(#clip140)\" d=\"M351.016 1454.1 Q347.405 1454.1 345.576 1457.66 Q343.771 1461.2 343.771 1468.33 Q343.771 1475.44 345.576 1479.01 Q347.405 1482.55 351.016 1482.55 Q354.65 1482.55 356.456 1479.01 Q358.285 1475.44 358.285 1468.33 Q358.285 1461.2 356.456 1457.66 Q354.65 1454.1 351.016 1454.1 M351.016 1450.39 Q356.826 1450.39 359.882 1455 Q362.961 1459.58 362.961 1468.33 Q362.961 1477.06 359.882 1481.67 Q356.826 1486.25 351.016 1486.25 Q345.206 1486.25 342.127 1481.67 Q339.072 1477.06 339.072 1468.33 Q339.072 1459.58 342.127 1455 Q345.206 1450.39 351.016 1450.39 Z\" fill=\"#000000\" fill-rule=\"evenodd\" fill-opacity=\"1\" /><path clip-path=\"url(#clip140)\" d=\"M800.568 1481.64 L816.887 1481.64 L816.887 1485.58 L794.943 1485.58 L794.943 1481.64 Q797.605 1478.89 802.188 1474.26 Q806.794 1469.61 807.975 1468.27 Q810.22 1465.74 811.1 1464.01 Q812.003 1462.25 812.003 1460.56 Q812.003 1457.8 810.058 1456.07 Q808.137 1454.33 805.035 1454.33 Q802.836 1454.33 800.382 1455.09 Q797.952 1455.86 795.174 1457.41 L795.174 1452.69 Q797.998 1451.55 800.452 1450.97 Q802.906 1450.39 804.943 1450.39 Q810.313 1450.39 813.507 1453.08 Q816.702 1455.77 816.702 1460.26 Q816.702 1462.39 815.892 1464.31 Q815.105 1466.2 812.998 1468.8 Q812.419 1469.47 809.318 1472.69 Q806.216 1475.88 800.568 1481.64 Z\" fill=\"#000000\" fill-rule=\"evenodd\" fill-opacity=\"1\" /><path clip-path=\"url(#clip140)\" d=\"M826.748 1451.02 L845.104 1451.02 L845.104 1454.96 L831.03 1454.96 L831.03 1463.43 Q832.049 1463.08 833.067 1462.92 Q834.086 1462.73 835.105 1462.73 Q840.892 1462.73 844.271 1465.9 Q847.651 1469.08 847.651 1474.49 Q847.651 1480.07 844.179 1483.17 Q840.706 1486.25 834.387 1486.25 Q832.211 1486.25 829.943 1485.88 Q827.697 1485.51 825.29 1484.77 L825.29 1480.07 Q827.373 1481.2 829.595 1481.76 Q831.818 1482.32 834.294 1482.32 Q838.299 1482.32 840.637 1480.21 Q842.975 1478.1 842.975 1474.49 Q842.975 1470.88 840.637 1468.77 Q838.299 1466.67 834.294 1466.67 Q832.419 1466.67 830.544 1467.08 Q828.693 1467.5 826.748 1468.38 L826.748 1451.02 Z\" fill=\"#000000\" fill-rule=\"evenodd\" fill-opacity=\"1\" /><path clip-path=\"url(#clip140)\" d=\"M866.864 1454.1 Q863.253 1454.1 861.424 1457.66 Q859.618 1461.2 859.618 1468.33 Q859.618 1475.44 861.424 1479.01 Q863.253 1482.55 866.864 1482.55 Q870.498 1482.55 872.303 1479.01 Q874.132 1475.44 874.132 1468.33 Q874.132 1461.2 872.303 1457.66 Q870.498 1454.1 866.864 1454.1 M866.864 1450.39 Q872.674 1450.39 875.729 1455 Q878.808 1459.58 878.808 1468.33 Q878.808 1477.06 875.729 1481.67 Q872.674 1486.25 866.864 1486.25 Q861.053 1486.25 857.975 1481.67 Q854.919 1477.06 854.919 1468.33 Q854.919 1459.58 857.975 1455 Q861.053 1450.39 866.864 1450.39 Z\" fill=\"#000000\" fill-rule=\"evenodd\" fill-opacity=\"1\" /><path clip-path=\"url(#clip140)\" d=\"M1282.35 1451.02 L1300.71 1451.02 L1300.71 1454.96 L1286.64 1454.96 L1286.64 1463.43 Q1287.65 1463.08 1288.67 1462.92 Q1289.69 1462.73 1290.71 1462.73 Q1296.5 1462.73 1299.88 1465.9 Q1303.26 1469.08 1303.26 1474.49 Q1303.26 1480.07 1299.78 1483.17 Q1296.31 1486.25 1289.99 1486.25 Q1287.82 1486.25 1285.55 1485.88 Q1283.3 1485.51 1280.89 1484.77 L1280.89 1480.07 Q1282.98 1481.2 1285.2 1481.76 Q1287.42 1482.32 1289.9 1482.32 Q1293.9 1482.32 1296.24 1480.21 Q1298.58 1478.1 1298.58 1474.49 Q1298.58 1470.88 1296.24 1468.77 Q1293.9 1466.67 1289.9 1466.67 Q1288.02 1466.67 1286.15 1467.08 Q1284.3 1467.5 1282.35 1468.38 L1282.35 1451.02 Z\" fill=\"#000000\" fill-rule=\"evenodd\" fill-opacity=\"1\" /><path clip-path=\"url(#clip140)\" d=\"M1322.47 1454.1 Q1318.86 1454.1 1317.03 1457.66 Q1315.22 1461.2 1315.22 1468.33 Q1315.22 1475.44 1317.03 1479.01 Q1318.86 1482.55 1322.47 1482.55 Q1326.1 1482.55 1327.91 1479.01 Q1329.74 1475.44 1329.74 1468.33 Q1329.74 1461.2 1327.91 1457.66 Q1326.1 1454.1 1322.47 1454.1 M1322.47 1450.39 Q1328.28 1450.39 1331.33 1455 Q1334.41 1459.58 1334.41 1468.33 Q1334.41 1477.06 1331.33 1481.67 Q1328.28 1486.25 1322.47 1486.25 Q1316.66 1486.25 1313.58 1481.67 Q1310.52 1477.06 1310.52 1468.33 Q1310.52 1459.58 1313.58 1455 Q1316.66 1450.39 1322.47 1450.39 Z\" fill=\"#000000\" fill-rule=\"evenodd\" fill-opacity=\"1\" /><path clip-path=\"url(#clip140)\" d=\"M1352.63 1454.1 Q1349.02 1454.1 1347.19 1457.66 Q1345.38 1461.2 1345.38 1468.33 Q1345.38 1475.44 1347.19 1479.01 Q1349.02 1482.55 1352.63 1482.55 Q1356.26 1482.55 1358.07 1479.01 Q1359.9 1475.44 1359.9 1468.33 Q1359.9 1461.2 1358.07 1457.66 Q1356.26 1454.1 1352.63 1454.1 M1352.63 1450.39 Q1358.44 1450.39 1361.5 1455 Q1364.57 1459.58 1364.57 1468.33 Q1364.57 1477.06 1361.5 1481.67 Q1358.44 1486.25 1352.63 1486.25 Q1346.82 1486.25 1343.74 1481.67 Q1340.69 1477.06 1340.69 1468.33 Q1340.69 1459.58 1343.74 1455 Q1346.82 1450.39 1352.63 1450.39 Z\" fill=\"#000000\" fill-rule=\"evenodd\" fill-opacity=\"1\" /><path clip-path=\"url(#clip140)\" d=\"M1766.87 1451.02 L1789.09 1451.02 L1789.09 1453.01 L1776.55 1485.58 L1771.66 1485.58 L1783.47 1454.96 L1766.87 1454.96 L1766.87 1451.02 Z\" fill=\"#000000\" fill-rule=\"evenodd\" fill-opacity=\"1\" /><path clip-path=\"url(#clip140)\" d=\"M1798.26 1451.02 L1816.61 1451.02 L1816.61 1454.96 L1802.54 1454.96 L1802.54 1463.43 Q1803.56 1463.08 1804.58 1462.92 Q1805.6 1462.73 1806.61 1462.73 Q1812.4 1462.73 1815.78 1465.9 Q1819.16 1469.08 1819.16 1474.49 Q1819.16 1480.07 1815.69 1483.17 Q1812.22 1486.25 1805.9 1486.25 Q1803.72 1486.25 1801.45 1485.88 Q1799.21 1485.51 1796.8 1484.77 L1796.8 1480.07 Q1798.88 1481.2 1801.11 1481.76 Q1803.33 1482.32 1805.8 1482.32 Q1809.81 1482.32 1812.15 1480.21 Q1814.48 1478.1 1814.48 1474.49 Q1814.48 1470.88 1812.15 1468.77 Q1809.81 1466.67 1805.8 1466.67 Q1803.93 1466.67 1802.05 1467.08 Q1800.2 1467.5 1798.26 1468.38 L1798.26 1451.02 Z\" fill=\"#000000\" fill-rule=\"evenodd\" fill-opacity=\"1\" /><path clip-path=\"url(#clip140)\" d=\"M1838.37 1454.1 Q1834.76 1454.1 1832.93 1457.66 Q1831.13 1461.2 1831.13 1468.33 Q1831.13 1475.44 1832.93 1479.01 Q1834.76 1482.55 1838.37 1482.55 Q1842.01 1482.55 1843.81 1479.01 Q1845.64 1475.44 1845.64 1468.33 Q1845.64 1461.2 1843.81 1457.66 Q1842.01 1454.1 1838.37 1454.1 M1838.37 1450.39 Q1844.18 1450.39 1847.24 1455 Q1850.32 1459.58 1850.32 1468.33 Q1850.32 1477.06 1847.24 1481.67 Q1844.18 1486.25 1838.37 1486.25 Q1832.56 1486.25 1829.48 1481.67 Q1826.43 1477.06 1826.43 1468.33 Q1826.43 1459.58 1829.48 1455 Q1832.56 1450.39 1838.37 1450.39 Z\" fill=\"#000000\" fill-rule=\"evenodd\" fill-opacity=\"1\" /><path clip-path=\"url(#clip140)\" d=\"M2238.98 1481.64 L2246.62 1481.64 L2246.62 1455.28 L2238.31 1456.95 L2238.31 1452.69 L2246.57 1451.02 L2251.25 1451.02 L2251.25 1481.64 L2258.89 1481.64 L2258.89 1485.58 L2238.98 1485.58 L2238.98 1481.64 Z\" fill=\"#000000\" fill-rule=\"evenodd\" fill-opacity=\"1\" /><path clip-path=\"url(#clip140)\" d=\"M2278.33 1454.1 Q2274.72 1454.1 2272.89 1457.66 Q2271.08 1461.2 2271.08 1468.33 Q2271.08 1475.44 2272.89 1479.01 Q2274.72 1482.55 2278.33 1482.55 Q2281.96 1482.55 2283.77 1479.01 Q2285.6 1475.44 2285.6 1468.33 Q2285.6 1461.2 2283.77 1457.66 Q2281.96 1454.1 2278.33 1454.1 M2278.33 1450.39 Q2284.14 1450.39 2287.2 1455 Q2290.27 1459.58 2290.27 1468.33 Q2290.27 1477.06 2287.2 1481.67 Q2284.14 1486.25 2278.33 1486.25 Q2272.52 1486.25 2269.44 1481.67 Q2266.39 1477.06 2266.39 1468.33 Q2266.39 1459.58 2269.44 1455 Q2272.52 1450.39 2278.33 1450.39 Z\" fill=\"#000000\" fill-rule=\"evenodd\" fill-opacity=\"1\" /><path clip-path=\"url(#clip140)\" d=\"M2308.49 1454.1 Q2304.88 1454.1 2303.05 1457.66 Q2301.25 1461.2 2301.25 1468.33 Q2301.25 1475.44 2303.05 1479.01 Q2304.88 1482.55 2308.49 1482.55 Q2312.13 1482.55 2313.93 1479.01 Q2315.76 1475.44 2315.76 1468.33 Q2315.76 1461.2 2313.93 1457.66 Q2312.13 1454.1 2308.49 1454.1 M2308.49 1450.39 Q2314.3 1450.39 2317.36 1455 Q2320.44 1459.58 2320.44 1468.33 Q2320.44 1477.06 2317.36 1481.67 Q2314.3 1486.25 2308.49 1486.25 Q2302.68 1486.25 2299.6 1481.67 Q2296.55 1477.06 2296.55 1468.33 Q2296.55 1459.58 2299.6 1455 Q2302.68 1450.39 2308.49 1450.39 Z\" fill=\"#000000\" fill-rule=\"evenodd\" fill-opacity=\"1\" /><path clip-path=\"url(#clip140)\" d=\"M2338.65 1454.1 Q2335.04 1454.1 2333.21 1457.66 Q2331.41 1461.2 2331.41 1468.33 Q2331.41 1475.44 2333.21 1479.01 Q2335.04 1482.55 2338.65 1482.55 Q2342.29 1482.55 2344.09 1479.01 Q2345.92 1475.44 2345.92 1468.33 Q2345.92 1461.2 2344.09 1457.66 Q2342.29 1454.1 2338.65 1454.1 M2338.65 1450.39 Q2344.46 1450.39 2347.52 1455 Q2350.6 1459.58 2350.6 1468.33 Q2350.6 1477.06 2347.52 1481.67 Q2344.46 1486.25 2338.65 1486.25 Q2332.84 1486.25 2329.77 1481.67 Q2326.71 1477.06 2326.71 1468.33 Q2326.71 1459.58 2329.77 1455 Q2332.84 1450.39 2338.65 1450.39 Z\" fill=\"#000000\" fill-rule=\"evenodd\" fill-opacity=\"1\" /><path clip-path=\"url(#clip140)\" d=\"M1095.7 1525.81 L1095.7 1543.66 L1103.79 1543.66 Q1108.27 1543.66 1110.72 1541.34 Q1113.18 1539.02 1113.18 1534.72 Q1113.18 1530.45 1110.72 1528.13 Q1108.27 1525.81 1103.79 1525.81 L1095.7 1525.81 M1089.27 1520.52 L1103.79 1520.52 Q1111.77 1520.52 1115.85 1524.15 Q1119.95 1527.75 1119.95 1534.72 Q1119.95 1541.75 1115.85 1545.35 Q1111.77 1548.95 1103.79 1548.95 L1095.7 1548.95 L1095.7 1568.04 L1089.27 1568.04 L1089.27 1520.52 Z\" fill=\"#000000\" fill-rule=\"evenodd\" fill-opacity=\"1\" /><path clip-path=\"url(#clip140)\" d=\"M1147.84 1537.87 Q1146.85 1537.3 1145.67 1537.04 Q1144.53 1536.76 1143.13 1536.76 Q1138.16 1536.76 1135.49 1540 Q1132.85 1543.22 1132.85 1549.27 L1132.85 1568.04 L1126.96 1568.04 L1126.96 1532.4 L1132.85 1532.4 L1132.85 1537.93 Q1134.69 1534.69 1137.65 1533.13 Q1140.61 1531.54 1144.84 1531.54 Q1145.45 1531.54 1146.18 1531.63 Q1146.91 1531.7 1147.8 1531.85 L1147.84 1537.87 Z\" fill=\"#000000\" fill-rule=\"evenodd\" fill-opacity=\"1\" /><path clip-path=\"url(#clip140)\" d=\"M1183.04 1548.76 L1183.04 1551.62 L1156.11 1551.62 Q1156.49 1557.67 1159.74 1560.85 Q1163.02 1564 1168.84 1564 Q1172.22 1564 1175.37 1563.17 Q1178.55 1562.35 1181.67 1560.69 L1181.67 1566.23 Q1178.52 1567.57 1175.21 1568.27 Q1171.9 1568.97 1168.49 1568.97 Q1159.96 1568.97 1154.97 1564 Q1150 1559.04 1150 1550.57 Q1150 1541.82 1154.71 1536.69 Q1159.45 1531.54 1167.47 1531.54 Q1174.67 1531.54 1178.84 1536.18 Q1183.04 1540.8 1183.04 1548.76 M1177.18 1547.04 Q1177.12 1542.23 1174.48 1539.37 Q1171.87 1536.5 1167.54 1536.5 Q1162.64 1536.5 1159.68 1539.27 Q1156.75 1542.04 1156.3 1547.07 L1177.18 1547.04 Z\" fill=\"#000000\" fill-rule=\"evenodd\" fill-opacity=\"1\" /><path clip-path=\"url(#clip140)\" d=\"M1215.38 1533.45 L1215.38 1538.98 Q1212.89 1537.71 1210.22 1537.07 Q1207.55 1536.44 1204.68 1536.44 Q1200.32 1536.44 1198.13 1537.77 Q1195.96 1539.11 1195.96 1541.79 Q1195.96 1543.82 1197.52 1545 Q1199.08 1546.15 1203.79 1547.2 L1205.8 1547.64 Q1212.03 1548.98 1214.64 1551.43 Q1217.29 1553.85 1217.29 1558.21 Q1217.29 1563.17 1213.34 1566.07 Q1209.42 1568.97 1202.55 1568.97 Q1199.69 1568.97 1196.57 1568.39 Q1193.48 1567.85 1190.04 1566.74 L1190.04 1560.69 Q1193.29 1562.38 1196.44 1563.24 Q1199.59 1564.07 1202.68 1564.07 Q1206.81 1564.07 1209.04 1562.66 Q1211.27 1561.23 1211.27 1558.65 Q1211.27 1556.27 1209.65 1554.99 Q1208.06 1553.72 1202.61 1552.54 L1200.58 1552.07 Q1195.13 1550.92 1192.71 1548.56 Q1190.3 1546.18 1190.3 1542.04 Q1190.3 1537.01 1193.86 1534.27 Q1197.43 1531.54 1203.98 1531.54 Q1207.23 1531.54 1210.09 1532.01 Q1212.96 1532.49 1215.38 1533.45 Z\" fill=\"#000000\" fill-rule=\"evenodd\" fill-opacity=\"1\" /><path clip-path=\"url(#clip140)\" d=\"M1249.34 1533.45 L1249.34 1538.98 Q1246.86 1537.71 1244.18 1537.07 Q1241.51 1536.44 1238.64 1536.44 Q1234.28 1536.44 1232.09 1537.77 Q1229.92 1539.11 1229.92 1541.79 Q1229.92 1543.82 1231.48 1545 Q1233.04 1546.15 1237.75 1547.2 L1239.76 1547.64 Q1246 1548.98 1248.61 1551.43 Q1251.25 1553.85 1251.25 1558.21 Q1251.25 1563.17 1247.3 1566.07 Q1243.39 1568.97 1236.51 1568.97 Q1233.65 1568.97 1230.53 1568.39 Q1227.44 1567.85 1224 1566.74 L1224 1560.69 Q1227.25 1562.38 1230.4 1563.24 Q1233.55 1564.07 1236.64 1564.07 Q1240.78 1564.07 1243 1562.66 Q1245.23 1561.23 1245.23 1558.65 Q1245.23 1556.27 1243.61 1554.99 Q1242.02 1553.72 1236.57 1552.54 L1234.54 1552.07 Q1229.09 1550.92 1226.68 1548.56 Q1224.26 1546.18 1224.26 1542.04 Q1224.26 1537.01 1227.82 1534.27 Q1231.39 1531.54 1237.94 1531.54 Q1241.19 1531.54 1244.05 1532.01 Q1246.92 1532.49 1249.34 1533.45 Z\" fill=\"#000000\" fill-rule=\"evenodd\" fill-opacity=\"1\" /><path clip-path=\"url(#clip140)\" d=\"M1259.97 1553.98 L1259.97 1532.4 L1265.83 1532.4 L1265.83 1553.75 Q1265.83 1558.81 1267.8 1561.36 Q1269.77 1563.87 1273.72 1563.87 Q1278.46 1563.87 1281.2 1560.85 Q1283.97 1557.83 1283.97 1552.61 L1283.97 1532.4 L1289.82 1532.4 L1289.82 1568.04 L1283.97 1568.04 L1283.97 1562.57 Q1281.83 1565.82 1279 1567.41 Q1276.2 1568.97 1272.48 1568.97 Q1266.33 1568.97 1263.15 1565.15 Q1259.97 1561.33 1259.97 1553.98 M1274.71 1531.54 L1274.71 1531.54 Z\" fill=\"#000000\" fill-rule=\"evenodd\" fill-opacity=\"1\" /><path clip-path=\"url(#clip140)\" d=\"M1322.54 1537.87 Q1321.56 1537.3 1320.38 1537.04 Q1319.23 1536.76 1317.83 1536.76 Q1312.87 1536.76 1310.19 1540 Q1307.55 1543.22 1307.55 1549.27 L1307.55 1568.04 L1301.66 1568.04 L1301.66 1532.4 L1307.55 1532.4 L1307.55 1537.93 Q1309.4 1534.69 1312.36 1533.13 Q1315.32 1531.54 1319.55 1531.54 Q1320.16 1531.54 1320.89 1531.63 Q1321.62 1531.7 1322.51 1531.85 L1322.54 1537.87 Z\" fill=\"#000000\" fill-rule=\"evenodd\" fill-opacity=\"1\" /><path clip-path=\"url(#clip140)\" d=\"M1357.75 1548.76 L1357.75 1551.62 L1330.82 1551.62 Q1331.2 1557.67 1334.45 1560.85 Q1337.73 1564 1343.55 1564 Q1346.92 1564 1350.08 1563.17 Q1353.26 1562.35 1356.38 1560.69 L1356.38 1566.23 Q1353.23 1567.57 1349.92 1568.27 Q1346.61 1568.97 1343.2 1568.97 Q1334.67 1568.97 1329.67 1564 Q1324.71 1559.04 1324.71 1550.57 Q1324.71 1541.82 1329.42 1536.69 Q1334.16 1531.54 1342.18 1531.54 Q1349.37 1531.54 1353.54 1536.18 Q1357.75 1540.8 1357.75 1548.76 M1351.89 1547.04 Q1351.83 1542.23 1349.18 1539.37 Q1346.57 1536.5 1342.25 1536.5 Q1337.34 1536.5 1334.38 1539.27 Q1331.46 1542.04 1331.01 1547.07 L1351.89 1547.04 Z\" fill=\"#000000\" fill-rule=\"evenodd\" fill-opacity=\"1\" /><path clip-path=\"url(#clip140)\" d=\"M1402.15 1518.58 Q1397.88 1525.9 1395.81 1533.06 Q1393.74 1540.23 1393.74 1547.58 Q1393.74 1554.93 1395.81 1562.16 Q1397.91 1569.35 1402.15 1576.64 L1397.05 1576.64 Q1392.28 1569.16 1389.89 1561.93 Q1387.54 1554.71 1387.54 1547.58 Q1387.54 1540.48 1389.89 1533.29 Q1392.25 1526.09 1397.05 1518.58 L1402.15 1518.58 Z\" fill=\"#000000\" fill-rule=\"evenodd\" fill-opacity=\"1\" /><path clip-path=\"url(#clip140)\" d=\"M1429.71 1550.12 Q1422.61 1550.12 1419.88 1551.75 Q1417.14 1553.37 1417.14 1557.29 Q1417.14 1560.4 1419.17 1562.25 Q1421.24 1564.07 1424.78 1564.07 Q1429.65 1564.07 1432.57 1560.63 Q1435.53 1557.16 1435.53 1551.43 L1435.53 1550.12 L1429.71 1550.12 M1441.39 1547.71 L1441.39 1568.04 L1435.53 1568.04 L1435.53 1562.63 Q1433.53 1565.88 1430.54 1567.44 Q1427.55 1568.97 1423.22 1568.97 Q1417.74 1568.97 1414.5 1565.91 Q1411.28 1562.82 1411.28 1557.67 Q1411.28 1551.65 1415.29 1548.6 Q1419.33 1545.54 1427.32 1545.54 L1435.53 1545.54 L1435.53 1544.97 Q1435.53 1540.93 1432.86 1538.73 Q1430.22 1536.5 1425.41 1536.5 Q1422.36 1536.5 1419.46 1537.23 Q1416.57 1537.97 1413.89 1539.43 L1413.89 1534.02 Q1417.11 1532.78 1420.13 1532.17 Q1423.15 1531.54 1426.02 1531.54 Q1433.75 1531.54 1437.57 1535.55 Q1441.39 1539.56 1441.39 1547.71 Z\" fill=\"#000000\" fill-rule=\"evenodd\" fill-opacity=\"1\" /><path clip-path=\"url(#clip140)\" d=\"M1459.25 1522.27 L1459.25 1532.4 L1471.31 1532.4 L1471.31 1536.95 L1459.25 1536.95 L1459.25 1556.3 Q1459.25 1560.66 1460.42 1561.9 Q1461.63 1563.14 1465.29 1563.14 L1471.31 1563.14 L1471.31 1568.04 L1465.29 1568.04 Q1458.52 1568.04 1455.94 1565.53 Q1453.36 1562.98 1453.36 1556.3 L1453.36 1536.95 L1449.06 1536.95 L1449.06 1532.4 L1453.36 1532.4 L1453.36 1522.27 L1459.25 1522.27 Z\" fill=\"#000000\" fill-rule=\"evenodd\" fill-opacity=\"1\" /><path clip-path=\"url(#clip140)\" d=\"M1506.77 1539.24 Q1508.96 1535.29 1512.02 1533.41 Q1515.07 1531.54 1519.21 1531.54 Q1524.78 1531.54 1527.81 1535.45 Q1530.83 1539.33 1530.83 1546.53 L1530.83 1568.04 L1524.94 1568.04 L1524.94 1546.72 Q1524.94 1541.59 1523.13 1539.11 Q1521.31 1536.63 1517.59 1536.63 Q1513.04 1536.63 1510.4 1539.65 Q1507.75 1542.68 1507.75 1547.9 L1507.75 1568.04 L1501.87 1568.04 L1501.87 1546.72 Q1501.87 1541.56 1500.05 1539.11 Q1498.24 1536.63 1494.45 1536.63 Q1489.96 1536.63 1487.32 1539.68 Q1484.68 1542.71 1484.68 1547.9 L1484.68 1568.04 L1478.79 1568.04 L1478.79 1532.4 L1484.68 1532.4 L1484.68 1537.93 Q1486.68 1534.66 1489.48 1533.1 Q1492.29 1531.54 1496.14 1531.54 Q1500.02 1531.54 1502.72 1533.51 Q1505.46 1535.48 1506.77 1539.24 Z\" fill=\"#000000\" fill-rule=\"evenodd\" fill-opacity=\"1\" /><path clip-path=\"url(#clip140)\" d=\"M1541.59 1518.58 L1546.68 1518.58 Q1551.45 1526.09 1553.81 1533.29 Q1556.2 1540.48 1556.2 1547.58 Q1556.2 1554.71 1553.81 1561.93 Q1551.45 1569.16 1546.68 1576.64 L1541.59 1576.64 Q1545.82 1569.35 1547.89 1562.16 Q1549.99 1554.93 1549.99 1547.58 Q1549.99 1540.23 1547.89 1533.06 Q1545.82 1525.9 1541.59 1518.58 Z\" fill=\"#000000\" fill-rule=\"evenodd\" fill-opacity=\"1\" /><polyline clip-path=\"url(#clip143)\" style=\"stroke:#000000; stroke-linecap:butt; stroke-linejoin:round; stroke-width:2; stroke-opacity:0.1; fill:none\" points=\"\n",
       "  292.713,1390.8 2352.76,1390.8 \n",
       "  \"/>\n",
       "<polyline clip-path=\"url(#clip143)\" style=\"stroke:#000000; stroke-linecap:butt; stroke-linejoin:round; stroke-width:2; stroke-opacity:0.1; fill:none\" points=\"\n",
       "  292.713,1128.04 2352.76,1128.04 \n",
       "  \"/>\n",
       "<polyline clip-path=\"url(#clip143)\" style=\"stroke:#000000; stroke-linecap:butt; stroke-linejoin:round; stroke-width:2; stroke-opacity:0.1; fill:none\" points=\"\n",
       "  292.713,865.289 2352.76,865.289 \n",
       "  \"/>\n",
       "<polyline clip-path=\"url(#clip143)\" style=\"stroke:#000000; stroke-linecap:butt; stroke-linejoin:round; stroke-width:2; stroke-opacity:0.1; fill:none\" points=\"\n",
       "  292.713,602.535 2352.76,602.535 \n",
       "  \"/>\n",
       "<polyline clip-path=\"url(#clip143)\" style=\"stroke:#000000; stroke-linecap:butt; stroke-linejoin:round; stroke-width:2; stroke-opacity:0.1; fill:none\" points=\"\n",
       "  292.713,339.781 2352.76,339.781 \n",
       "  \"/>\n",
       "<polyline clip-path=\"url(#clip140)\" style=\"stroke:#000000; stroke-linecap:butt; stroke-linejoin:round; stroke-width:4; stroke-opacity:1; fill:none\" points=\"\n",
       "  292.713,1423.18 292.713,123.472 \n",
       "  \"/>\n",
       "<polyline clip-path=\"url(#clip140)\" style=\"stroke:#000000; stroke-linecap:butt; stroke-linejoin:round; stroke-width:4; stroke-opacity:1; fill:none\" points=\"\n",
       "  292.713,1390.8 311.611,1390.8 \n",
       "  \"/>\n",
       "<polyline clip-path=\"url(#clip140)\" style=\"stroke:#000000; stroke-linecap:butt; stroke-linejoin:round; stroke-width:4; stroke-opacity:1; fill:none\" points=\"\n",
       "  292.713,1128.04 311.611,1128.04 \n",
       "  \"/>\n",
       "<polyline clip-path=\"url(#clip140)\" style=\"stroke:#000000; stroke-linecap:butt; stroke-linejoin:round; stroke-width:4; stroke-opacity:1; fill:none\" points=\"\n",
       "  292.713,865.289 311.611,865.289 \n",
       "  \"/>\n",
       "<polyline clip-path=\"url(#clip140)\" style=\"stroke:#000000; stroke-linecap:butt; stroke-linejoin:round; stroke-width:4; stroke-opacity:1; fill:none\" points=\"\n",
       "  292.713,602.535 311.611,602.535 \n",
       "  \"/>\n",
       "<polyline clip-path=\"url(#clip140)\" style=\"stroke:#000000; stroke-linecap:butt; stroke-linejoin:round; stroke-width:4; stroke-opacity:1; fill:none\" points=\"\n",
       "  292.713,339.781 311.611,339.781 \n",
       "  \"/>\n",
       "<path clip-path=\"url(#clip140)\" d=\"M244.769 1376.6 Q241.158 1376.6 239.329 1380.16 Q237.523 1383.7 237.523 1390.83 Q237.523 1397.94 239.329 1401.5 Q241.158 1405.05 244.769 1405.05 Q248.403 1405.05 250.209 1401.5 Q252.037 1397.94 252.037 1390.83 Q252.037 1383.7 250.209 1380.16 Q248.403 1376.6 244.769 1376.6 M244.769 1372.89 Q250.579 1372.89 253.634 1377.5 Q256.713 1382.08 256.713 1390.83 Q256.713 1399.56 253.634 1404.17 Q250.579 1408.75 244.769 1408.75 Q238.959 1408.75 235.88 1404.17 Q232.824 1399.56 232.824 1390.83 Q232.824 1382.08 235.88 1377.5 Q238.959 1372.89 244.769 1372.89 Z\" fill=\"#000000\" fill-rule=\"evenodd\" fill-opacity=\"1\" /><path clip-path=\"url(#clip140)\" d=\"M148.311 1141.39 L164.63 1141.39 L164.63 1145.32 L142.686 1145.32 L142.686 1141.39 Q145.348 1138.63 149.931 1134 Q154.538 1129.35 155.718 1128.01 Q157.964 1125.49 158.843 1123.75 Q159.746 1121.99 159.746 1120.3 Q159.746 1117.55 157.802 1115.81 Q155.88 1114.07 152.778 1114.07 Q150.579 1114.07 148.126 1114.84 Q145.695 1115.6 142.917 1117.15 L142.917 1112.43 Q145.741 1111.3 148.195 1110.72 Q150.649 1110.14 152.686 1110.14 Q158.056 1110.14 161.251 1112.82 Q164.445 1115.51 164.445 1120 Q164.445 1122.13 163.635 1124.05 Q162.848 1125.95 160.741 1128.54 Q160.163 1129.21 157.061 1132.43 Q153.959 1135.62 148.311 1141.39 Z\" fill=\"#000000\" fill-rule=\"evenodd\" fill-opacity=\"1\" /><path clip-path=\"url(#clip140)\" d=\"M174.491 1110.76 L192.848 1110.76 L192.848 1114.7 L178.774 1114.7 L178.774 1123.17 Q179.792 1122.82 180.811 1122.66 Q181.829 1122.48 182.848 1122.48 Q188.635 1122.48 192.014 1125.65 Q195.394 1128.82 195.394 1134.24 Q195.394 1139.81 191.922 1142.92 Q188.45 1145.99 182.13 1145.99 Q179.954 1145.99 177.686 1145.62 Q175.44 1145.25 173.033 1144.51 L173.033 1139.81 Q175.116 1140.95 177.339 1141.5 Q179.561 1142.06 182.038 1142.06 Q186.042 1142.06 188.38 1139.95 Q190.718 1137.85 190.718 1134.24 Q190.718 1130.62 188.38 1128.52 Q186.042 1126.41 182.038 1126.41 Q180.163 1126.41 178.288 1126.83 Q176.436 1127.24 174.491 1128.12 L174.491 1110.76 Z\" fill=\"#000000\" fill-rule=\"evenodd\" fill-opacity=\"1\" /><path clip-path=\"url(#clip140)\" d=\"M214.607 1113.84 Q210.996 1113.84 209.167 1117.41 Q207.362 1120.95 207.362 1128.08 Q207.362 1135.18 209.167 1138.75 Q210.996 1142.29 214.607 1142.29 Q218.241 1142.29 220.047 1138.75 Q221.875 1135.18 221.875 1128.08 Q221.875 1120.95 220.047 1117.41 Q218.241 1113.84 214.607 1113.84 M214.607 1110.14 Q220.417 1110.14 223.473 1114.74 Q226.551 1119.33 226.551 1128.08 Q226.551 1136.81 223.473 1141.41 Q220.417 1145.99 214.607 1145.99 Q208.797 1145.99 205.718 1141.41 Q202.662 1136.81 202.662 1128.08 Q202.662 1119.33 205.718 1114.74 Q208.797 1110.14 214.607 1110.14 Z\" fill=\"#000000\" fill-rule=\"evenodd\" fill-opacity=\"1\" /><path clip-path=\"url(#clip140)\" d=\"M244.769 1113.84 Q241.158 1113.84 239.329 1117.41 Q237.523 1120.95 237.523 1128.08 Q237.523 1135.18 239.329 1138.75 Q241.158 1142.29 244.769 1142.29 Q248.403 1142.29 250.209 1138.75 Q252.037 1135.18 252.037 1128.08 Q252.037 1120.95 250.209 1117.41 Q248.403 1113.84 244.769 1113.84 M244.769 1110.14 Q250.579 1110.14 253.634 1114.74 Q256.713 1119.33 256.713 1128.08 Q256.713 1136.81 253.634 1141.41 Q250.579 1145.99 244.769 1145.99 Q238.959 1145.99 235.88 1141.41 Q232.824 1136.81 232.824 1128.08 Q232.824 1119.33 235.88 1114.74 Q238.959 1110.14 244.769 1110.14 Z\" fill=\"#000000\" fill-rule=\"evenodd\" fill-opacity=\"1\" /><path clip-path=\"url(#clip140)\" d=\"M144.329 848.009 L162.686 848.009 L162.686 851.945 L148.612 851.945 L148.612 860.417 Q149.63 860.07 150.649 859.908 Q151.667 859.722 152.686 859.722 Q158.473 859.722 161.852 862.894 Q165.232 866.065 165.232 871.482 Q165.232 877.06 161.76 880.162 Q158.288 883.241 151.968 883.241 Q149.792 883.241 147.524 882.87 Q145.279 882.5 142.871 881.759 L142.871 877.06 Q144.954 878.195 147.177 878.75 Q149.399 879.306 151.876 879.306 Q155.88 879.306 158.218 877.199 Q160.556 875.093 160.556 871.482 Q160.556 867.87 158.218 865.764 Q155.88 863.658 151.876 863.658 Q150.001 863.658 148.126 864.074 Q146.274 864.491 144.329 865.37 L144.329 848.009 Z\" fill=\"#000000\" fill-rule=\"evenodd\" fill-opacity=\"1\" /><path clip-path=\"url(#clip140)\" d=\"M184.445 851.088 Q180.834 851.088 179.005 854.653 Q177.2 858.195 177.2 865.324 Q177.2 872.431 179.005 875.995 Q180.834 879.537 184.445 879.537 Q188.079 879.537 189.885 875.995 Q191.713 872.431 191.713 865.324 Q191.713 858.195 189.885 854.653 Q188.079 851.088 184.445 851.088 M184.445 847.384 Q190.255 847.384 193.311 851.991 Q196.389 856.574 196.389 865.324 Q196.389 874.051 193.311 878.657 Q190.255 883.241 184.445 883.241 Q178.635 883.241 175.556 878.657 Q172.501 874.051 172.501 865.324 Q172.501 856.574 175.556 851.991 Q178.635 847.384 184.445 847.384 Z\" fill=\"#000000\" fill-rule=\"evenodd\" fill-opacity=\"1\" /><path clip-path=\"url(#clip140)\" d=\"M214.607 851.088 Q210.996 851.088 209.167 854.653 Q207.362 858.195 207.362 865.324 Q207.362 872.431 209.167 875.995 Q210.996 879.537 214.607 879.537 Q218.241 879.537 220.047 875.995 Q221.875 872.431 221.875 865.324 Q221.875 858.195 220.047 854.653 Q218.241 851.088 214.607 851.088 M214.607 847.384 Q220.417 847.384 223.473 851.991 Q226.551 856.574 226.551 865.324 Q226.551 874.051 223.473 878.657 Q220.417 883.241 214.607 883.241 Q208.797 883.241 205.718 878.657 Q202.662 874.051 202.662 865.324 Q202.662 856.574 205.718 851.991 Q208.797 847.384 214.607 847.384 Z\" fill=\"#000000\" fill-rule=\"evenodd\" fill-opacity=\"1\" /><path clip-path=\"url(#clip140)\" d=\"M244.769 851.088 Q241.158 851.088 239.329 854.653 Q237.523 858.195 237.523 865.324 Q237.523 872.431 239.329 875.995 Q241.158 879.537 244.769 879.537 Q248.403 879.537 250.209 875.995 Q252.037 872.431 252.037 865.324 Q252.037 858.195 250.209 854.653 Q248.403 851.088 244.769 851.088 M244.769 847.384 Q250.579 847.384 253.634 851.991 Q256.713 856.574 256.713 865.324 Q256.713 874.051 253.634 878.657 Q250.579 883.241 244.769 883.241 Q238.959 883.241 235.88 878.657 Q232.824 874.051 232.824 865.324 Q232.824 856.574 235.88 851.991 Q238.959 847.384 244.769 847.384 Z\" fill=\"#000000\" fill-rule=\"evenodd\" fill-opacity=\"1\" /><path clip-path=\"url(#clip140)\" d=\"M143.103 585.255 L165.325 585.255 L165.325 587.246 L152.778 619.815 L147.894 619.815 L159.7 589.191 L143.103 589.191 L143.103 585.255 Z\" fill=\"#000000\" fill-rule=\"evenodd\" fill-opacity=\"1\" /><path clip-path=\"url(#clip140)\" d=\"M174.491 585.255 L192.848 585.255 L192.848 589.191 L178.774 589.191 L178.774 597.663 Q179.792 597.316 180.811 597.154 Q181.829 596.968 182.848 596.968 Q188.635 596.968 192.014 600.14 Q195.394 603.311 195.394 608.728 Q195.394 614.306 191.922 617.408 Q188.45 620.487 182.13 620.487 Q179.954 620.487 177.686 620.116 Q175.44 619.746 173.033 619.005 L173.033 614.306 Q175.116 615.44 177.339 615.996 Q179.561 616.552 182.038 616.552 Q186.042 616.552 188.38 614.445 Q190.718 612.339 190.718 608.728 Q190.718 605.116 188.38 603.01 Q186.042 600.904 182.038 600.904 Q180.163 600.904 178.288 601.32 Q176.436 601.737 174.491 602.616 L174.491 585.255 Z\" fill=\"#000000\" fill-rule=\"evenodd\" fill-opacity=\"1\" /><path clip-path=\"url(#clip140)\" d=\"M214.607 588.334 Q210.996 588.334 209.167 591.899 Q207.362 595.441 207.362 602.57 Q207.362 609.677 209.167 613.241 Q210.996 616.783 214.607 616.783 Q218.241 616.783 220.047 613.241 Q221.875 609.677 221.875 602.57 Q221.875 595.441 220.047 591.899 Q218.241 588.334 214.607 588.334 M214.607 584.63 Q220.417 584.63 223.473 589.237 Q226.551 593.82 226.551 602.57 Q226.551 611.297 223.473 615.903 Q220.417 620.487 214.607 620.487 Q208.797 620.487 205.718 615.903 Q202.662 611.297 202.662 602.57 Q202.662 593.82 205.718 589.237 Q208.797 584.63 214.607 584.63 Z\" fill=\"#000000\" fill-rule=\"evenodd\" fill-opacity=\"1\" /><path clip-path=\"url(#clip140)\" d=\"M244.769 588.334 Q241.158 588.334 239.329 591.899 Q237.523 595.441 237.523 602.57 Q237.523 609.677 239.329 613.241 Q241.158 616.783 244.769 616.783 Q248.403 616.783 250.209 613.241 Q252.037 609.677 252.037 602.57 Q252.037 595.441 250.209 591.899 Q248.403 588.334 244.769 588.334 M244.769 584.63 Q250.579 584.63 253.634 589.237 Q256.713 593.82 256.713 602.57 Q256.713 611.297 253.634 615.903 Q250.579 620.487 244.769 620.487 Q238.959 620.487 235.88 615.903 Q232.824 611.297 232.824 602.57 Q232.824 593.82 235.88 589.237 Q238.959 584.63 244.769 584.63 Z\" fill=\"#000000\" fill-rule=\"evenodd\" fill-opacity=\"1\" /><path clip-path=\"url(#clip140)\" d=\"M114.931 353.126 L122.57 353.126 L122.57 326.761 L114.26 328.427 L114.26 324.168 L122.524 322.501 L127.2 322.501 L127.2 353.126 L134.839 353.126 L134.839 357.061 L114.931 357.061 L114.931 353.126 Z\" fill=\"#000000\" fill-rule=\"evenodd\" fill-opacity=\"1\" /><path clip-path=\"url(#clip140)\" d=\"M154.283 325.58 Q150.672 325.58 148.843 329.145 Q147.038 332.687 147.038 339.816 Q147.038 346.923 148.843 350.487 Q150.672 354.029 154.283 354.029 Q157.917 354.029 159.723 350.487 Q161.552 346.923 161.552 339.816 Q161.552 332.687 159.723 329.145 Q157.917 325.58 154.283 325.58 M154.283 321.876 Q160.093 321.876 163.149 326.483 Q166.227 331.066 166.227 339.816 Q166.227 348.543 163.149 353.149 Q160.093 357.733 154.283 357.733 Q148.473 357.733 145.394 353.149 Q142.339 348.543 142.339 339.816 Q142.339 331.066 145.394 326.483 Q148.473 321.876 154.283 321.876 Z\" fill=\"#000000\" fill-rule=\"evenodd\" fill-opacity=\"1\" /><path clip-path=\"url(#clip140)\" d=\"M184.445 325.58 Q180.834 325.58 179.005 329.145 Q177.2 332.687 177.2 339.816 Q177.2 346.923 179.005 350.487 Q180.834 354.029 184.445 354.029 Q188.079 354.029 189.885 350.487 Q191.713 346.923 191.713 339.816 Q191.713 332.687 189.885 329.145 Q188.079 325.58 184.445 325.58 M184.445 321.876 Q190.255 321.876 193.311 326.483 Q196.389 331.066 196.389 339.816 Q196.389 348.543 193.311 353.149 Q190.255 357.733 184.445 357.733 Q178.635 357.733 175.556 353.149 Q172.501 348.543 172.501 339.816 Q172.501 331.066 175.556 326.483 Q178.635 321.876 184.445 321.876 Z\" fill=\"#000000\" fill-rule=\"evenodd\" fill-opacity=\"1\" /><path clip-path=\"url(#clip140)\" d=\"M214.607 325.58 Q210.996 325.58 209.167 329.145 Q207.362 332.687 207.362 339.816 Q207.362 346.923 209.167 350.487 Q210.996 354.029 214.607 354.029 Q218.241 354.029 220.047 350.487 Q221.875 346.923 221.875 339.816 Q221.875 332.687 220.047 329.145 Q218.241 325.58 214.607 325.58 M214.607 321.876 Q220.417 321.876 223.473 326.483 Q226.551 331.066 226.551 339.816 Q226.551 348.543 223.473 353.149 Q220.417 357.733 214.607 357.733 Q208.797 357.733 205.718 353.149 Q202.662 348.543 202.662 339.816 Q202.662 331.066 205.718 326.483 Q208.797 321.876 214.607 321.876 Z\" fill=\"#000000\" fill-rule=\"evenodd\" fill-opacity=\"1\" /><path clip-path=\"url(#clip140)\" d=\"M244.769 325.58 Q241.158 325.58 239.329 329.145 Q237.523 332.687 237.523 339.816 Q237.523 346.923 239.329 350.487 Q241.158 354.029 244.769 354.029 Q248.403 354.029 250.209 350.487 Q252.037 346.923 252.037 339.816 Q252.037 332.687 250.209 329.145 Q248.403 325.58 244.769 325.58 M244.769 321.876 Q250.579 321.876 253.634 326.483 Q256.713 331.066 256.713 339.816 Q256.713 348.543 253.634 353.149 Q250.579 357.733 244.769 357.733 Q238.959 357.733 235.88 353.149 Q232.824 348.543 232.824 339.816 Q232.824 331.066 235.88 326.483 Q238.959 321.876 244.769 321.876 Z\" fill=\"#000000\" fill-rule=\"evenodd\" fill-opacity=\"1\" /><path clip-path=\"url(#clip140)\" d=\"M16.4842 1034.24 L16.4842 994.041 L21.895 994.041 L21.895 1010.91 L64.0042 1010.91 L64.0042 1017.37 L21.895 1017.37 L21.895 1034.24 L16.4842 1034.24 Z\" fill=\"#000000\" fill-rule=\"evenodd\" fill-opacity=\"1\" /><path clip-path=\"url(#clip140)\" d=\"M44.7161 968.674 L47.5806 968.674 L47.5806 995.601 Q53.6281 995.219 56.8109 991.972 Q59.9619 988.694 59.9619 982.869 Q59.9619 979.495 59.1344 976.344 Q58.3069 973.161 56.6518 970.042 L62.1899 970.042 Q63.5267 973.193 64.227 976.503 Q64.9272 979.814 64.9272 983.219 Q64.9272 991.749 59.9619 996.746 Q54.9967 1001.71 46.5303 1001.71 Q37.7774 1001.71 32.6531 997.001 Q27.4968 992.259 27.4968 984.238 Q27.4968 977.045 32.1438 972.875 Q36.7589 968.674 44.7161 968.674 M42.9973 974.53 Q38.1912 974.594 35.3266 977.235 Q32.4621 979.845 32.4621 984.174 Q32.4621 989.076 35.2312 992.036 Q38.0002 994.964 43.0292 995.41 L42.9973 974.53 Z\" fill=\"#000000\" fill-rule=\"evenodd\" fill-opacity=\"1\" /><path clip-path=\"url(#clip140)\" d=\"M35.1993 931.307 Q31.2526 929.111 29.3747 926.055 Q27.4968 923 27.4968 918.862 Q27.4968 913.292 31.4117 910.268 Q35.2948 907.245 42.4881 907.245 L64.0042 907.245 L64.0042 913.133 L42.679 913.133 Q37.5546 913.133 35.072 914.947 Q32.5894 916.761 32.5894 920.485 Q32.5894 925.037 35.6131 927.678 Q38.6368 930.32 43.8567 930.32 L64.0042 930.32 L64.0042 936.209 L42.679 936.209 Q37.5228 936.209 35.072 938.023 Q32.5894 939.837 32.5894 943.625 Q32.5894 948.112 35.6449 950.754 Q38.6686 953.396 43.8567 953.396 L64.0042 953.396 L64.0042 959.284 L28.3562 959.284 L28.3562 953.396 L33.8944 953.396 Q30.616 951.391 29.0564 948.59 Q27.4968 945.789 27.4968 941.938 Q27.4968 938.055 29.4702 935.349 Q31.4436 932.612 35.1993 931.307 Z\" fill=\"#000000\" fill-rule=\"evenodd\" fill-opacity=\"1\" /><path clip-path=\"url(#clip140)\" d=\"M58.657 889.898 L77.5631 889.898 L77.5631 895.786 L28.3562 895.786 L28.3562 889.898 L33.7671 889.898 Q30.5842 888.052 29.0564 885.251 Q27.4968 882.418 27.4968 878.503 Q27.4968 872.01 32.6531 867.968 Q37.8093 863.894 46.212 863.894 Q54.6147 863.894 59.771 867.968 Q64.9272 872.01 64.9272 878.503 Q64.9272 882.418 63.3994 885.251 Q61.8398 888.052 58.657 889.898 M46.212 869.973 Q39.7508 869.973 36.0905 872.647 Q32.3984 875.289 32.3984 879.936 Q32.3984 884.583 36.0905 887.256 Q39.7508 889.898 46.212 889.898 Q52.6732 889.898 56.3653 887.256 Q60.0256 884.583 60.0256 879.936 Q60.0256 875.289 56.3653 872.647 Q52.6732 869.973 46.212 869.973 Z\" fill=\"#000000\" fill-rule=\"evenodd\" fill-opacity=\"1\" /><path clip-path=\"url(#clip140)\" d=\"M44.7161 823.695 L47.5806 823.695 L47.5806 850.622 Q53.6281 850.24 56.8109 846.993 Q59.9619 843.715 59.9619 837.89 Q59.9619 834.516 59.1344 831.365 Q58.3069 828.182 56.6518 825.063 L62.1899 825.063 Q63.5267 828.214 64.227 831.524 Q64.9272 834.835 64.9272 838.24 Q64.9272 846.77 59.9619 851.767 Q54.9967 856.733 46.5303 856.733 Q37.7774 856.733 32.6531 852.022 Q27.4968 847.28 27.4968 839.259 Q27.4968 832.066 32.1438 827.896 Q36.7589 823.695 44.7161 823.695 M42.9973 829.551 Q38.1912 829.615 35.3266 832.257 Q32.4621 834.866 32.4621 839.195 Q32.4621 844.097 35.2312 847.057 Q38.0002 849.985 43.0292 850.431 L42.9973 829.551 Z\" fill=\"#000000\" fill-rule=\"evenodd\" fill-opacity=\"1\" /><path clip-path=\"url(#clip140)\" d=\"M33.8307 793.426 Q33.2578 794.412 33.0032 795.59 Q32.7167 796.736 32.7167 798.136 Q32.7167 803.102 35.9632 805.775 Q39.1779 808.417 45.2253 808.417 L64.0042 808.417 L64.0042 814.305 L28.3562 814.305 L28.3562 808.417 L33.8944 808.417 Q30.6479 806.571 29.0883 803.611 Q27.4968 800.651 27.4968 796.418 Q27.4968 795.813 27.5923 795.081 Q27.656 794.349 27.8151 793.458 L33.8307 793.426 Z\" fill=\"#000000\" fill-rule=\"evenodd\" fill-opacity=\"1\" /><path clip-path=\"url(#clip140)\" d=\"M46.0847 771.082 Q46.0847 778.18 47.7079 780.917 Q49.3312 783.654 53.2461 783.654 Q56.3653 783.654 58.2114 781.617 Q60.0256 779.548 60.0256 776.015 Q60.0256 771.146 56.5881 768.218 Q53.1188 765.257 47.3897 765.257 L46.0847 765.257 L46.0847 771.082 M43.6657 759.401 L64.0042 759.401 L64.0042 765.257 L58.5933 765.257 Q61.8398 767.263 63.3994 770.255 Q64.9272 773.246 64.9272 777.575 Q64.9272 783.05 61.8716 786.296 Q58.7843 789.511 53.6281 789.511 Q47.6125 789.511 44.5569 785.5 Q41.5014 781.458 41.5014 773.469 L41.5014 765.257 L40.9285 765.257 Q36.8862 765.257 34.6901 767.931 Q32.4621 770.573 32.4621 775.379 Q32.4621 778.434 33.1941 781.331 Q33.9262 784.227 35.3903 786.901 L29.9795 786.901 Q28.7381 783.686 28.1334 780.662 Q27.4968 777.639 27.4968 774.774 Q27.4968 767.04 31.5072 763.22 Q35.5176 759.401 43.6657 759.401 Z\" fill=\"#000000\" fill-rule=\"evenodd\" fill-opacity=\"1\" /><path clip-path=\"url(#clip140)\" d=\"M18.2347 741.545 L28.3562 741.545 L28.3562 729.482 L32.9077 729.482 L32.9077 741.545 L52.2594 741.545 Q56.6199 741.545 57.8613 740.368 Q59.1026 739.158 59.1026 735.498 L59.1026 729.482 L64.0042 729.482 L64.0042 735.498 Q64.0042 742.277 61.4897 744.855 Q58.9434 747.433 52.2594 747.433 L32.9077 747.433 L32.9077 751.73 L28.3562 751.73 L28.3562 747.433 L18.2347 747.433 L18.2347 741.545 Z\" fill=\"#000000\" fill-rule=\"evenodd\" fill-opacity=\"1\" /><path clip-path=\"url(#clip140)\" d=\"M49.9359 722.384 L28.3562 722.384 L28.3562 716.528 L49.7131 716.528 Q54.7739 716.528 57.3202 714.555 Q59.8346 712.581 59.8346 708.634 Q59.8346 703.892 56.8109 701.155 Q53.7872 698.386 48.5673 698.386 L28.3562 698.386 L28.3562 692.529 L64.0042 692.529 L64.0042 698.386 L58.5296 698.386 Q61.7762 700.518 63.3676 703.351 Q64.9272 706.152 64.9272 709.876 Q64.9272 716.019 61.1078 719.202 Q57.2883 722.384 49.9359 722.384 M27.4968 707.648 L27.4968 707.648 Z\" fill=\"#000000\" fill-rule=\"evenodd\" fill-opacity=\"1\" /><path clip-path=\"url(#clip140)\" d=\"M33.8307 659.81 Q33.2578 660.796 33.0032 661.974 Q32.7167 663.12 32.7167 664.52 Q32.7167 669.485 35.9632 672.159 Q39.1779 674.801 45.2253 674.801 L64.0042 674.801 L64.0042 680.689 L28.3562 680.689 L28.3562 674.801 L33.8944 674.801 Q30.6479 672.955 29.0883 669.995 Q27.4968 667.035 27.4968 662.801 Q27.4968 662.197 27.5923 661.465 Q27.656 660.733 27.8151 659.841 L33.8307 659.81 Z\" fill=\"#000000\" fill-rule=\"evenodd\" fill-opacity=\"1\" /><path clip-path=\"url(#clip140)\" d=\"M44.7161 624.607 L47.5806 624.607 L47.5806 651.534 Q53.6281 651.152 56.8109 647.906 Q59.9619 644.627 59.9619 638.803 Q59.9619 635.429 59.1344 632.278 Q58.3069 629.095 56.6518 625.976 L62.1899 625.976 Q63.5267 629.127 64.227 632.437 Q64.9272 635.747 64.9272 639.153 Q64.9272 647.683 59.9619 652.68 Q54.9967 657.645 46.5303 657.645 Q37.7774 657.645 32.6531 652.935 Q27.4968 648.192 27.4968 640.171 Q27.4968 632.978 32.1438 628.809 Q36.7589 624.607 44.7161 624.607 M42.9973 630.464 Q38.1912 630.527 35.3266 633.169 Q32.4621 635.779 32.4621 640.108 Q32.4621 645.009 35.2312 647.969 Q38.0002 650.898 43.0292 651.343 L42.9973 630.464 Z\" fill=\"#000000\" fill-rule=\"evenodd\" fill-opacity=\"1\" /><path clip-path=\"url(#clip140)\" d=\"M14.5426 580.206 Q21.8632 584.471 29.0246 586.54 Q36.186 588.609 43.5384 588.609 Q50.8908 588.609 58.1159 586.54 Q65.3091 584.44 72.5979 580.206 L72.5979 585.299 Q65.1182 590.073 57.8931 592.46 Q50.668 594.816 43.5384 594.816 Q36.4406 594.816 29.2474 592.46 Q22.0542 590.105 14.5426 585.299 L14.5426 580.206 Z\" fill=\"#000000\" fill-rule=\"evenodd\" fill-opacity=\"1\" /><path clip-path=\"url(#clip140)\" d=\"M16.4842 568.589 L16.4842 562.16 L36.568 562.16 L16.4842 540.834 L16.4842 532.559 L38.6368 556.144 L64.0042 530.872 L64.0042 539.339 L41.1194 562.16 L64.0042 562.16 L64.0042 568.589 L16.4842 568.589 Z\" fill=\"#000000\" fill-rule=\"evenodd\" fill-opacity=\"1\" /><path clip-path=\"url(#clip140)\" d=\"M14.5426 527.021 L14.5426 521.928 Q22.0542 517.154 29.2474 514.799 Q36.4406 512.412 43.5384 512.412 Q50.668 512.412 57.8931 514.799 Q65.1182 517.154 72.5979 521.928 L72.5979 527.021 Q65.3091 522.788 58.1159 520.719 Q50.8908 518.618 43.5384 518.618 Q36.186 518.618 29.0246 520.719 Q21.8632 522.788 14.5426 527.021 Z\" fill=\"#000000\" fill-rule=\"evenodd\" fill-opacity=\"1\" /><path clip-path=\"url(#clip140)\" d=\"M439.87 10.7217 L491.033 10.7217 L491.033 17.6082 L469.563 17.6082 L469.563 71.2017 L461.34 71.2017 L461.34 17.6082 L439.87 17.6082 L439.87 10.7217 Z\" fill=\"#000000\" fill-rule=\"evenodd\" fill-opacity=\"1\" /><path clip-path=\"url(#clip140)\" d=\"M523.319 46.6532 L523.319 50.299 L489.048 50.299 Q489.534 57.9957 493.666 62.0466 Q497.838 66.057 505.252 66.057 Q509.546 66.057 513.556 65.0038 Q517.607 63.9506 521.577 61.8441 L521.577 68.8927 Q517.566 70.5941 513.353 71.4853 Q509.14 72.3764 504.806 72.3764 Q493.95 72.3764 487.59 66.057 Q481.27 59.7376 481.27 48.9622 Q481.27 37.8222 487.266 31.3003 Q493.301 24.7378 503.51 24.7378 Q512.665 24.7378 517.971 30.6521 Q523.319 36.5259 523.319 46.6532 M515.865 44.4657 Q515.784 38.3489 512.422 34.703 Q509.1 31.0572 503.591 31.0572 Q497.352 31.0572 493.585 34.5815 Q489.858 38.1058 489.291 44.5062 L515.865 44.4657 Z\" fill=\"#000000\" fill-rule=\"evenodd\" fill-opacity=\"1\" /><path clip-path=\"url(#clip140)\" d=\"M570.876 34.541 Q573.671 29.5179 577.56 27.1278 Q581.449 24.7378 586.715 24.7378 Q593.804 24.7378 597.653 29.7204 Q601.501 34.6625 601.501 43.8176 L601.501 71.2017 L594.007 71.2017 L594.007 44.0606 Q594.007 37.5387 591.698 34.379 Q589.389 31.2193 584.649 31.2193 Q578.856 31.2193 575.494 35.0676 Q572.132 38.916 572.132 45.5595 L572.132 71.2017 L564.638 71.2017 L564.638 44.0606 Q564.638 37.4982 562.329 34.379 Q560.02 31.2193 555.199 31.2193 Q549.487 31.2193 546.125 35.1081 Q542.763 38.9565 542.763 45.5595 L542.763 71.2017 L535.269 71.2017 L535.269 25.8316 L542.763 25.8316 L542.763 32.8801 Q545.315 28.7077 548.88 26.7228 Q552.445 24.7378 557.346 24.7378 Q562.288 24.7378 565.732 27.2494 Q569.215 29.7609 570.876 34.541 Z\" fill=\"#000000\" fill-rule=\"evenodd\" fill-opacity=\"1\" /><path clip-path=\"url(#clip140)\" d=\"M623.578 64.3962 L623.578 88.4585 L616.084 88.4585 L616.084 25.8316 L623.578 25.8316 L623.578 32.7181 Q625.928 28.6672 629.493 26.7228 Q633.098 24.7378 638.081 24.7378 Q646.345 24.7378 651.489 31.3003 Q656.674 37.8627 656.674 48.5571 Q656.674 59.2515 651.489 65.814 Q646.345 72.3764 638.081 72.3764 Q633.098 72.3764 629.493 70.432 Q625.928 68.4471 623.578 64.3962 M648.937 48.5571 Q648.937 40.3338 645.534 35.6753 Q642.172 30.9762 636.258 30.9762 Q630.343 30.9762 626.941 35.6753 Q623.578 40.3338 623.578 48.5571 Q623.578 56.7805 626.941 61.4795 Q630.343 66.1381 636.258 66.1381 Q642.172 66.1381 645.534 61.4795 Q648.937 56.7805 648.937 48.5571 Z\" fill=\"#000000\" fill-rule=\"evenodd\" fill-opacity=\"1\" /><path clip-path=\"url(#clip140)\" d=\"M707.837 46.6532 L707.837 50.299 L673.567 50.299 Q674.053 57.9957 678.185 62.0466 Q682.357 66.057 689.77 66.057 Q694.064 66.057 698.075 65.0038 Q702.126 63.9506 706.095 61.8441 L706.095 68.8927 Q702.085 70.5941 697.872 71.4853 Q693.659 72.3764 689.325 72.3764 Q678.468 72.3764 672.108 66.057 Q665.789 59.7376 665.789 48.9622 Q665.789 37.8222 671.784 31.3003 Q677.82 24.7378 688.028 24.7378 Q697.183 24.7378 702.49 30.6521 Q707.837 36.5259 707.837 46.6532 M700.384 44.4657 Q700.303 38.3489 696.94 34.703 Q693.619 31.0572 688.109 31.0572 Q681.871 31.0572 678.104 34.5815 Q674.377 38.1058 673.81 44.5062 L700.384 44.4657 Z\" fill=\"#000000\" fill-rule=\"evenodd\" fill-opacity=\"1\" /><path clip-path=\"url(#clip140)\" d=\"M746.361 32.7991 Q745.106 32.07 743.607 31.7459 Q742.148 31.3813 740.366 31.3813 Q734.047 31.3813 730.644 35.5132 Q727.282 39.6046 727.282 47.3014 L727.282 71.2017 L719.787 71.2017 L719.787 25.8316 L727.282 25.8316 L727.282 32.8801 Q729.631 28.7482 733.398 26.7633 Q737.166 24.7378 742.554 24.7378 Q743.323 24.7378 744.255 24.8593 Q745.187 24.9404 746.321 25.1429 L746.361 32.7991 Z\" fill=\"#000000\" fill-rule=\"evenodd\" fill-opacity=\"1\" /><path clip-path=\"url(#clip140)\" d=\"M774.799 48.3951 Q765.765 48.3951 762.281 50.4611 Q758.798 52.527 758.798 57.5096 Q758.798 61.4795 761.39 63.829 Q764.023 66.1381 768.52 66.1381 Q774.718 66.1381 778.445 61.7631 Q782.212 57.3476 782.212 50.056 L782.212 48.3951 L774.799 48.3951 M789.666 45.3164 L789.666 71.2017 L782.212 71.2017 L782.212 64.3152 Q779.66 68.4471 775.852 70.432 Q772.044 72.3764 766.535 72.3764 Q759.567 72.3764 755.435 68.4876 Q751.344 64.5582 751.344 57.9957 Q751.344 50.3395 756.448 46.4507 Q761.593 42.5618 771.761 42.5618 L782.212 42.5618 L782.212 41.8326 Q782.212 36.688 778.809 33.8929 Q775.447 31.0572 769.33 31.0572 Q765.441 31.0572 761.755 31.9889 Q758.068 32.9206 754.666 34.7841 L754.666 27.8975 Q758.757 26.3177 762.606 25.548 Q766.454 24.7378 770.1 24.7378 Q779.943 24.7378 784.804 29.842 Q789.666 34.9461 789.666 45.3164 Z\" fill=\"#000000\" fill-rule=\"evenodd\" fill-opacity=\"1\" /><path clip-path=\"url(#clip140)\" d=\"M812.391 12.9497 L812.391 25.8316 L827.744 25.8316 L827.744 31.6244 L812.391 31.6244 L812.391 56.2539 Q812.391 61.8036 813.89 63.3834 Q815.429 64.9633 820.088 64.9633 L827.744 64.9633 L827.744 71.2017 L820.088 71.2017 Q811.459 71.2017 808.178 68.0015 Q804.897 64.7607 804.897 56.2539 L804.897 31.6244 L799.428 31.6244 L799.428 25.8316 L804.897 25.8316 L804.897 12.9497 L812.391 12.9497 Z\" fill=\"#000000\" fill-rule=\"evenodd\" fill-opacity=\"1\" /><path clip-path=\"url(#clip140)\" d=\"M836.778 53.2967 L836.778 25.8316 L844.231 25.8316 L844.231 53.0131 Q844.231 59.4541 846.743 62.6948 Q849.254 65.895 854.277 65.895 Q860.313 65.895 863.797 62.0466 Q867.321 58.1983 867.321 51.5548 L867.321 25.8316 L874.775 25.8316 L874.775 71.2017 L867.321 71.2017 L867.321 64.2341 Q864.607 68.3661 861.002 70.3915 Q857.437 72.3764 852.698 72.3764 Q844.879 72.3764 840.828 67.5154 Q836.778 62.6543 836.778 53.2967 M855.533 24.7378 L855.533 24.7378 Z\" fill=\"#000000\" fill-rule=\"evenodd\" fill-opacity=\"1\" /><path clip-path=\"url(#clip140)\" d=\"M916.418 32.7991 Q915.163 32.07 913.664 31.7459 Q912.205 31.3813 910.423 31.3813 Q904.104 31.3813 900.701 35.5132 Q897.339 39.6046 897.339 47.3014 L897.339 71.2017 L889.844 71.2017 L889.844 25.8316 L897.339 25.8316 L897.339 32.8801 Q899.688 28.7482 903.455 26.7633 Q907.223 24.7378 912.61 24.7378 Q913.38 24.7378 914.312 24.8593 Q915.244 24.9404 916.378 25.1429 L916.418 32.7991 Z\" fill=\"#000000\" fill-rule=\"evenodd\" fill-opacity=\"1\" /><path clip-path=\"url(#clip140)\" d=\"M961.221 46.6532 L961.221 50.299 L926.951 50.299 Q927.437 57.9957 931.569 62.0466 Q935.741 66.057 943.154 66.057 Q947.448 66.057 951.459 65.0038 Q955.51 63.9506 959.479 61.8441 L959.479 68.8927 Q955.469 70.5941 951.256 71.4853 Q947.043 72.3764 942.709 72.3764 Q931.852 72.3764 925.492 66.057 Q919.173 59.7376 919.173 48.9622 Q919.173 37.8222 925.168 31.3003 Q931.204 24.7378 941.412 24.7378 Q950.567 24.7378 955.874 30.6521 Q961.221 36.5259 961.221 46.6532 M953.768 44.4657 Q953.687 38.3489 950.324 34.703 Q947.003 31.0572 941.493 31.0572 Q935.255 31.0572 931.488 34.5815 Q927.761 38.1058 927.194 44.5062 L953.768 44.4657 Z\" fill=\"#000000\" fill-rule=\"evenodd\" fill-opacity=\"1\" /><path clip-path=\"url(#clip140)\" d=\"M1017.41 31.0572 Q1011.41 31.0572 1007.93 35.7563 Q1004.44 40.4148 1004.44 48.5571 Q1004.44 56.6995 1007.89 61.3985 Q1011.37 66.057 1017.41 66.057 Q1023.36 66.057 1026.85 61.358 Q1030.33 56.6589 1030.33 48.5571 Q1030.33 40.4958 1026.85 35.7968 Q1023.36 31.0572 1017.41 31.0572 M1017.41 24.7378 Q1027.13 24.7378 1032.68 31.0572 Q1038.23 37.3766 1038.23 48.5571 Q1038.23 59.6971 1032.68 66.057 Q1027.13 72.3764 1017.41 72.3764 Q1007.64 72.3764 1002.09 66.057 Q996.586 59.6971 996.586 48.5571 Q996.586 37.3766 1002.09 31.0572 Q1007.64 24.7378 1017.41 24.7378 Z\" fill=\"#000000\" fill-rule=\"evenodd\" fill-opacity=\"1\" /><path clip-path=\"url(#clip140)\" d=\"M1073.55 8.16962 L1073.55 14.3675 L1066.42 14.3675 Q1062.41 14.3675 1060.83 15.9879 Q1059.29 17.6082 1059.29 21.8212 L1059.29 25.8316 L1071.57 25.8316 L1071.57 31.6244 L1059.29 31.6244 L1059.29 71.2017 L1051.8 71.2017 L1051.8 31.6244 L1044.67 31.6244 L1044.67 25.8316 L1051.8 25.8316 L1051.8 22.6719 Q1051.8 15.0967 1055.32 11.6534 Q1058.85 8.16962 1066.5 8.16962 L1073.55 8.16962 Z\" fill=\"#000000\" fill-rule=\"evenodd\" fill-opacity=\"1\" /><path clip-path=\"url(#clip140)\" d=\"M1157.94 12.8739 L1152.66 34.2703 Q1152.29 35.623 1152.04 35.787 Q1151.84 35.9509 1151.18 35.9509 Q1149.91 35.9509 1149.91 35.0901 Q1149.91 35.0082 1150.03 33.9424 Q1150.15 32.8357 1150.15 30.8272 Q1150.15 23.4082 1146.55 19.0223 Q1142.98 14.6365 1136.63 14.6365 Q1131.14 14.6365 1125.6 17.4238 Q1120.11 20.211 1116.17 24.7608 Q1113.22 28.2039 1111.05 32.5488 Q1108.92 36.8937 1107.89 40.8696 Q1106.91 44.8456 1106.46 47.8378 Q1106.01 50.83 1106.01 53.0024 Q1106.01 56.1586 1106.67 58.8229 Q1107.36 61.4872 1108.59 63.3727 Q1109.82 65.2173 1111.38 66.6519 Q1112.98 68.0455 1114.82 68.8653 Q1116.71 69.6851 1118.59 70.095 Q1120.48 70.4639 1122.45 70.4639 Q1130.36 70.4639 1137.9 64.3155 Q1143.88 59.2738 1146.38 51.035 Q1146.59 50.2152 1147.45 50.2152 Q1148.47 50.2152 1148.47 51.035 Q1148.47 51.1989 1148.27 52.0187 Q1148.06 52.7975 1147.45 54.3961 Q1146.83 55.9537 1145.89 57.7162 Q1144.95 59.4788 1143.19 61.6922 Q1141.42 63.9056 1139.25 65.8321 Q1135.56 69.0293 1130.89 71.0377 Q1126.22 73.0462 1121.09 73.0462 Q1114.7 73.0462 1109.53 70.2179 Q1104.37 67.3897 1101.34 62.1021 Q1098.34 56.8145 1098.34 50.0512 Q1098.34 42.9191 1101.62 35.9099 Q1104.9 28.9008 1110.11 23.6951 Q1115.31 18.4895 1122.2 15.2513 Q1129.09 12.0132 1135.97 12.0132 Q1138.6 12.0132 1140.93 12.71 Q1143.27 13.4068 1144.66 14.2676 Q1146.1 15.1284 1147.37 16.399 Q1148.64 17.6287 1149.05 18.2026 Q1149.5 18.7764 1149.91 19.4732 L1155.77 13.0379 Q1156.8 12.0132 1157.04 12.0132 Q1157.53 12.0132 1157.74 12.3001 Q1157.94 12.587 1157.94 12.8739 Z\" fill=\"#000000\" fill-rule=\"evenodd\" fill-opacity=\"1\" /><path clip-path=\"url(#clip140)\" d=\"M1215.82 34.5983 Q1215.82 40.4597 1213.73 46.2802 Q1211.68 52.0597 1208.07 56.8145 Q1204.46 61.5692 1199.87 65.2582 Q1195.28 68.9473 1189.91 70.9967 Q1184.54 73.0462 1179.3 73.0462 Q1169.99 73.0462 1163.88 66.9388 Q1157.78 60.8314 1157.78 50.6251 Q1157.78 43.4929 1160.97 36.4018 Q1164.17 29.2697 1169.25 23.982 Q1174.34 18.6534 1181.02 15.3333 Q1187.74 12.0132 1194.38 12.0132 Q1203.81 12.0132 1209.79 18.2845 Q1215.82 24.5149 1215.82 34.5983 M1208.32 31.3191 Q1208.32 26.8103 1207.05 23.4082 Q1205.78 19.9651 1203.64 17.9976 Q1201.55 16.0301 1199.05 15.0874 Q1196.59 14.1036 1193.89 14.1036 Q1188.64 14.1036 1183.03 17.5057 Q1177.41 20.9078 1173.23 27.2202 Q1170.98 30.6633 1169.34 34.8032 Q1167.7 38.9021 1166.96 42.5502 Q1166.22 46.1572 1165.89 48.6986 Q1165.61 51.2399 1165.61 53.0024 Q1165.61 61.2003 1169.54 66.037 Q1173.48 70.8738 1179.79 70.8738 Q1184.75 70.8738 1189.58 67.9635 Q1194.42 65.0123 1197.74 60.7904 Q1200.69 57.1424 1202.87 52.7565 Q1205.08 48.3707 1206.19 44.3537 Q1207.29 40.3368 1207.78 37.0986 Q1208.32 33.8605 1208.32 31.3191 Z\" fill=\"#000000\" fill-rule=\"evenodd\" fill-opacity=\"1\" /><path clip-path=\"url(#clip140)\" d=\"M1224.21 96.2873 Q1224.21 95.2257 1224.29 94.9101 Q1224.41 94.5945 1224.87 94.1067 L1236.14 81.5394 Q1242.31 74.5958 1242.31 68.5417 Q1242.31 64.6108 1240.24 61.7989 Q1238.21 58.9871 1234.45 58.9871 Q1231.87 58.9871 1229.69 60.5652 Q1227.51 62.1432 1226.5 64.9551 Q1226.67 64.8977 1227.28 64.8977 Q1228.74 64.8977 1229.54 65.8159 Q1230.37 66.734 1230.37 67.9678 Q1230.37 69.5459 1229.34 70.3206 Q1228.34 71.0666 1227.33 71.0666 Q1226.93 71.0666 1226.39 70.9805 Q1225.87 70.8945 1225.04 70.0911 Q1224.21 69.259 1224.21 67.7957 Q1224.21 63.6926 1227.3 60.4217 Q1230.43 57.1507 1235.19 57.1507 Q1240.59 57.1507 1244.12 60.3643 Q1247.68 63.5492 1247.68 68.5417 Q1247.68 70.2919 1247.13 71.8987 Q1246.61 73.4768 1245.9 74.7106 Q1245.21 75.9443 1243.31 77.9241 Q1241.42 79.9039 1239.9 81.3098 Q1238.38 82.7158 1234.97 85.6998 L1228.74 91.7539 L1239.33 91.7539 Q1244.49 91.7539 1244.89 91.2948 Q1245.47 90.4627 1246.18 86.0728 L1247.68 86.0728 L1246.01 96.2873 L1224.21 96.2873 Z\" fill=\"#000000\" fill-rule=\"evenodd\" fill-opacity=\"1\" /><path clip-path=\"url(#clip140)\" d=\"M1317.07 48.3951 Q1308.04 48.3951 1304.56 50.4611 Q1301.07 52.527 1301.07 57.5096 Q1301.07 61.4795 1303.67 63.829 Q1306.3 66.1381 1310.79 66.1381 Q1316.99 66.1381 1320.72 61.7631 Q1324.49 57.3476 1324.49 50.056 L1324.49 48.3951 L1317.07 48.3951 M1331.94 45.3164 L1331.94 71.2017 L1324.49 71.2017 L1324.49 64.3152 Q1321.93 68.4471 1318.13 70.432 Q1314.32 72.3764 1308.81 72.3764 Q1301.84 72.3764 1297.71 68.4876 Q1293.62 64.5582 1293.62 57.9957 Q1293.62 50.3395 1298.72 46.4507 Q1303.87 42.5618 1314.04 42.5618 L1324.49 42.5618 L1324.49 41.8326 Q1324.49 36.688 1321.08 33.8929 Q1317.72 31.0572 1311.6 31.0572 Q1307.72 31.0572 1304.03 31.9889 Q1300.34 32.9206 1296.94 34.7841 L1296.94 27.8975 Q1301.03 26.3177 1304.88 25.548 Q1308.73 24.7378 1312.37 24.7378 Q1322.22 24.7378 1327.08 29.842 Q1331.94 34.9461 1331.94 45.3164 Z\" fill=\"#000000\" fill-rule=\"evenodd\" fill-opacity=\"1\" /><path clip-path=\"url(#clip140)\" d=\"M1354.67 12.9497 L1354.67 25.8316 L1370.02 25.8316 L1370.02 31.6244 L1354.67 31.6244 L1354.67 56.2539 Q1354.67 61.8036 1356.16 63.3834 Q1357.7 64.9633 1362.36 64.9633 L1370.02 64.9633 L1370.02 71.2017 L1362.36 71.2017 Q1353.73 71.2017 1350.45 68.0015 Q1347.17 64.7607 1347.17 56.2539 L1347.17 31.6244 L1341.7 31.6244 L1341.7 25.8316 L1347.17 25.8316 L1347.17 12.9497 L1354.67 12.9497 Z\" fill=\"#000000\" fill-rule=\"evenodd\" fill-opacity=\"1\" /><path clip-path=\"url(#clip140)\" d=\"M1406.19 25.8316 L1413.65 25.8316 L1413.65 71.2017 L1406.19 71.2017 L1406.19 25.8316 M1406.19 8.16962 L1413.65 8.16962 L1413.65 17.6082 L1406.19 17.6082 L1406.19 8.16962 Z\" fill=\"#000000\" fill-rule=\"evenodd\" fill-opacity=\"1\" /><path clip-path=\"url(#clip140)\" d=\"M1466.96 43.8176 L1466.96 71.2017 L1459.5 71.2017 L1459.5 44.0606 Q1459.5 37.6197 1456.99 34.4195 Q1454.48 31.2193 1449.46 31.2193 Q1443.42 31.2193 1439.94 35.0676 Q1436.45 38.916 1436.45 45.5595 L1436.45 71.2017 L1428.96 71.2017 L1428.96 25.8316 L1436.45 25.8316 L1436.45 32.8801 Q1439.13 28.7887 1442.73 26.7633 Q1446.38 24.7378 1451.12 24.7378 Q1458.94 24.7378 1462.95 29.5989 Q1466.96 34.4195 1466.96 43.8176 Z\" fill=\"#000000\" fill-rule=\"evenodd\" fill-opacity=\"1\" /><path clip-path=\"url(#clip140)\" d=\"M1514.47 27.5734 L1514.47 34.541 Q1511.31 32.7991 1508.11 31.9484 Q1504.95 31.0572 1501.71 31.0572 Q1494.46 31.0572 1490.45 35.6753 Q1486.44 40.2528 1486.44 48.5571 Q1486.44 56.8615 1490.45 61.4795 Q1494.46 66.057 1501.71 66.057 Q1504.95 66.057 1508.11 65.2063 Q1511.31 64.3152 1514.47 62.5733 L1514.47 69.4598 Q1511.36 70.9181 1507.99 71.6473 Q1504.67 72.3764 1500.9 72.3764 Q1490.65 72.3764 1484.62 65.9355 Q1478.58 59.4946 1478.58 48.5571 Q1478.58 37.4577 1484.66 31.0977 Q1490.78 24.7378 1501.39 24.7378 Q1504.83 24.7378 1508.11 25.467 Q1511.4 26.1556 1514.47 27.5734 Z\" fill=\"#000000\" fill-rule=\"evenodd\" fill-opacity=\"1\" /><path clip-path=\"url(#clip140)\" d=\"M1553.73 32.7991 Q1552.47 32.07 1550.97 31.7459 Q1549.51 31.3813 1547.73 31.3813 Q1541.41 31.3813 1538.01 35.5132 Q1534.65 39.6046 1534.65 47.3014 L1534.65 71.2017 L1527.15 71.2017 L1527.15 25.8316 L1534.65 25.8316 L1534.65 32.8801 Q1537 28.7482 1540.76 26.7633 Q1544.53 24.7378 1549.92 24.7378 Q1550.69 24.7378 1551.62 24.8593 Q1552.55 24.9404 1553.69 25.1429 L1553.73 32.7991 Z\" fill=\"#000000\" fill-rule=\"evenodd\" fill-opacity=\"1\" /><path clip-path=\"url(#clip140)\" d=\"M1598.53 46.6532 L1598.53 50.299 L1564.26 50.299 Q1564.75 57.9957 1568.88 62.0466 Q1573.05 66.057 1580.46 66.057 Q1584.76 66.057 1588.77 65.0038 Q1592.82 63.9506 1596.79 61.8441 L1596.79 68.8927 Q1592.78 70.5941 1588.57 71.4853 Q1584.35 72.3764 1580.02 72.3764 Q1569.16 72.3764 1562.8 66.057 Q1556.48 59.7376 1556.48 48.9622 Q1556.48 37.8222 1562.48 31.3003 Q1568.51 24.7378 1578.72 24.7378 Q1587.88 24.7378 1593.18 30.6521 Q1598.53 36.5259 1598.53 46.6532 M1591.08 44.4657 Q1591 38.3489 1587.63 34.703 Q1584.31 31.0572 1578.8 31.0572 Q1572.56 31.0572 1568.8 34.5815 Q1565.07 38.1058 1564.5 44.5062 L1591.08 44.4657 Z\" fill=\"#000000\" fill-rule=\"evenodd\" fill-opacity=\"1\" /><path clip-path=\"url(#clip140)\" d=\"M1631.38 48.3951 Q1622.35 48.3951 1618.87 50.4611 Q1615.38 52.527 1615.38 57.5096 Q1615.38 61.4795 1617.97 63.829 Q1620.61 66.1381 1625.1 66.1381 Q1631.3 66.1381 1635.03 61.7631 Q1638.8 57.3476 1638.8 50.056 L1638.8 48.3951 L1631.38 48.3951 M1646.25 45.3164 L1646.25 71.2017 L1638.8 71.2017 L1638.8 64.3152 Q1636.24 68.4471 1632.44 70.432 Q1628.63 72.3764 1623.12 72.3764 Q1616.15 72.3764 1612.02 68.4876 Q1607.93 64.5582 1607.93 57.9957 Q1607.93 50.3395 1613.03 46.4507 Q1618.18 42.5618 1628.35 42.5618 L1638.8 42.5618 L1638.8 41.8326 Q1638.8 36.688 1635.39 33.8929 Q1632.03 31.0572 1625.91 31.0572 Q1622.03 31.0572 1618.34 31.9889 Q1614.65 32.9206 1611.25 34.7841 L1611.25 27.8975 Q1615.34 26.3177 1619.19 25.548 Q1623.04 24.7378 1626.68 24.7378 Q1636.53 24.7378 1641.39 29.842 Q1646.25 34.9461 1646.25 45.3164 Z\" fill=\"#000000\" fill-rule=\"evenodd\" fill-opacity=\"1\" /><path clip-path=\"url(#clip140)\" d=\"M1690.53 27.1684 L1690.53 34.2169 Q1687.37 32.5966 1683.96 31.7864 Q1680.56 30.9762 1676.92 30.9762 Q1671.37 30.9762 1668.57 32.6776 Q1665.82 34.379 1665.82 37.7817 Q1665.82 40.3743 1667.8 41.8731 Q1669.79 43.3315 1675.78 44.6683 L1678.33 45.2354 Q1686.27 46.9368 1689.59 50.056 Q1692.96 53.1347 1692.96 58.6844 Q1692.96 65.0038 1687.93 68.6901 Q1682.95 72.3764 1674.2 72.3764 Q1670.56 72.3764 1666.59 71.6473 Q1662.66 70.9586 1658.28 69.5408 L1658.28 61.8441 Q1662.41 63.9911 1666.42 65.0848 Q1670.43 66.1381 1674.36 66.1381 Q1679.63 66.1381 1682.47 64.3557 Q1685.3 62.5328 1685.3 59.2515 Q1685.3 56.2133 1683.23 54.593 Q1681.21 52.9726 1674.28 51.4738 L1671.69 50.8661 Q1664.76 49.4078 1661.68 46.4102 Q1658.61 43.372 1658.61 38.1058 Q1658.61 31.7054 1663.14 28.2216 Q1667.68 24.7378 1676.02 24.7378 Q1680.16 24.7378 1683.8 25.3455 Q1687.45 25.9531 1690.53 27.1684 Z\" fill=\"#000000\" fill-rule=\"evenodd\" fill-opacity=\"1\" /><path clip-path=\"url(#clip140)\" d=\"M1704.83 25.8316 L1712.28 25.8316 L1712.28 71.2017 L1704.83 71.2017 L1704.83 25.8316 M1704.83 8.16962 L1712.28 8.16962 L1712.28 17.6082 L1704.83 17.6082 L1704.83 8.16962 Z\" fill=\"#000000\" fill-rule=\"evenodd\" fill-opacity=\"1\" /><path clip-path=\"url(#clip140)\" d=\"M1765.59 43.8176 L1765.59 71.2017 L1758.14 71.2017 L1758.14 44.0606 Q1758.14 37.6197 1755.62 34.4195 Q1753.11 31.2193 1748.09 31.2193 Q1742.05 31.2193 1738.57 35.0676 Q1735.09 38.916 1735.09 45.5595 L1735.09 71.2017 L1727.59 71.2017 L1727.59 25.8316 L1735.09 25.8316 L1735.09 32.8801 Q1737.76 28.7887 1741.37 26.7633 Q1745.01 24.7378 1749.75 24.7378 Q1757.57 24.7378 1761.58 29.5989 Q1765.59 34.4195 1765.59 43.8176 Z\" fill=\"#000000\" fill-rule=\"evenodd\" fill-opacity=\"1\" /><path clip-path=\"url(#clip140)\" d=\"M1810.31 47.99 Q1810.31 39.8882 1806.95 35.4322 Q1803.63 30.9762 1797.59 30.9762 Q1791.6 30.9762 1788.23 35.4322 Q1784.91 39.8882 1784.91 47.99 Q1784.91 56.0513 1788.23 60.5073 Q1791.6 64.9633 1797.59 64.9633 Q1803.63 64.9633 1806.95 60.5073 Q1810.31 56.0513 1810.31 47.99 M1817.77 65.5709 Q1817.77 77.1565 1812.62 82.7873 Q1807.48 88.4585 1796.86 88.4585 Q1792.93 88.4585 1789.45 87.8509 Q1785.97 87.2838 1782.68 86.0685 L1782.68 78.8174 Q1785.97 80.5998 1789.17 81.4505 Q1792.37 82.3012 1795.69 82.3012 Q1803.02 82.3012 1806.67 78.4528 Q1810.31 74.645 1810.31 66.9077 L1810.31 63.2214 Q1808 67.2318 1804.4 69.2167 Q1800.79 71.2017 1795.77 71.2017 Q1787.42 71.2017 1782.32 64.8418 Q1777.22 58.4818 1777.22 47.99 Q1777.22 37.4577 1782.32 31.0977 Q1787.42 24.7378 1795.77 24.7378 Q1800.79 24.7378 1804.4 26.7228 Q1808 28.7077 1810.31 32.7181 L1810.31 25.8316 L1817.77 25.8316 L1817.77 65.5709 Z\" fill=\"#000000\" fill-rule=\"evenodd\" fill-opacity=\"1\" /><path clip-path=\"url(#clip140)\" d=\"M1866.7 64.3962 L1866.7 88.4585 L1859.21 88.4585 L1859.21 25.8316 L1866.7 25.8316 L1866.7 32.7181 Q1869.05 28.6672 1872.61 26.7228 Q1876.22 24.7378 1881.2 24.7378 Q1889.47 24.7378 1894.61 31.3003 Q1899.8 37.8627 1899.8 48.5571 Q1899.8 59.2515 1894.61 65.814 Q1889.47 72.3764 1881.2 72.3764 Q1876.22 72.3764 1872.61 70.432 Q1869.05 68.4471 1866.7 64.3962 M1892.06 48.5571 Q1892.06 40.3338 1888.66 35.6753 Q1885.29 30.9762 1879.38 30.9762 Q1873.47 30.9762 1870.06 35.6753 Q1866.7 40.3338 1866.7 48.5571 Q1866.7 56.7805 1870.06 61.4795 Q1873.47 66.1381 1879.38 66.1381 Q1885.29 66.1381 1888.66 61.4795 Q1892.06 56.7805 1892.06 48.5571 Z\" fill=\"#000000\" fill-rule=\"evenodd\" fill-opacity=\"1\" /><path clip-path=\"url(#clip140)\" d=\"M1938.44 32.7991 Q1937.19 32.07 1935.69 31.7459 Q1934.23 31.3813 1932.45 31.3813 Q1926.13 31.3813 1922.72 35.5132 Q1919.36 39.6046 1919.36 47.3014 L1919.36 71.2017 L1911.87 71.2017 L1911.87 25.8316 L1919.36 25.8316 L1919.36 32.8801 Q1921.71 28.7482 1925.48 26.7633 Q1929.25 24.7378 1934.63 24.7378 Q1935.4 24.7378 1936.34 24.8593 Q1937.27 24.9404 1938.4 25.1429 L1938.44 32.7991 Z\" fill=\"#000000\" fill-rule=\"evenodd\" fill-opacity=\"1\" /><path clip-path=\"url(#clip140)\" d=\"M1983.24 46.6532 L1983.24 50.299 L1948.97 50.299 Q1949.46 57.9957 1953.59 62.0466 Q1957.76 66.057 1965.18 66.057 Q1969.47 66.057 1973.48 65.0038 Q1977.53 63.9506 1981.5 61.8441 L1981.5 68.8927 Q1977.49 70.5941 1973.28 71.4853 Q1969.07 72.3764 1964.73 72.3764 Q1953.88 72.3764 1947.52 66.057 Q1941.2 59.7376 1941.2 48.9622 Q1941.2 37.8222 1947.19 31.3003 Q1953.23 24.7378 1963.44 24.7378 Q1972.59 24.7378 1977.9 30.6521 Q1983.24 36.5259 1983.24 46.6532 M1975.79 44.4657 Q1975.71 38.3489 1972.35 34.703 Q1969.03 31.0572 1963.52 31.0572 Q1957.28 31.0572 1953.51 34.5815 Q1949.78 38.1058 1949.22 44.5062 L1975.79 44.4657 Z\" fill=\"#000000\" fill-rule=\"evenodd\" fill-opacity=\"1\" /><path clip-path=\"url(#clip140)\" d=\"M2024.4 27.1684 L2024.4 34.2169 Q2021.24 32.5966 2017.84 31.7864 Q2014.44 30.9762 2010.79 30.9762 Q2005.24 30.9762 2002.45 32.6776 Q1999.69 34.379 1999.69 37.7817 Q1999.69 40.3743 2001.68 41.8731 Q2003.66 43.3315 2009.66 44.6683 L2012.21 45.2354 Q2020.15 46.9368 2023.47 50.056 Q2026.83 53.1347 2026.83 58.6844 Q2026.83 65.0038 2021.81 68.6901 Q2016.83 72.3764 2008.08 72.3764 Q2004.43 72.3764 2000.46 71.6473 Q1996.53 70.9586 1992.16 69.5408 L1992.16 61.8441 Q1996.29 63.9911 2000.3 65.0848 Q2004.31 66.1381 2008.24 66.1381 Q2013.51 66.1381 2016.34 64.3557 Q2019.18 62.5328 2019.18 59.2515 Q2019.18 56.2133 2017.11 54.593 Q2015.09 52.9726 2008.16 51.4738 L2005.57 50.8661 Q1998.64 49.4078 1995.56 46.4102 Q1992.48 43.372 1992.48 38.1058 Q1992.48 31.7054 1997.02 28.2216 Q2001.55 24.7378 2009.9 24.7378 Q2014.03 24.7378 2017.68 25.3455 Q2021.32 25.9531 2024.4 27.1684 Z\" fill=\"#000000\" fill-rule=\"evenodd\" fill-opacity=\"1\" /><path clip-path=\"url(#clip140)\" d=\"M2067.63 27.1684 L2067.63 34.2169 Q2064.47 32.5966 2061.06 31.7864 Q2057.66 30.9762 2054.01 30.9762 Q2048.46 30.9762 2045.67 32.6776 Q2042.91 34.379 2042.91 37.7817 Q2042.91 40.3743 2044.9 41.8731 Q2046.88 43.3315 2052.88 44.6683 L2055.43 45.2354 Q2063.37 46.9368 2066.69 50.056 Q2070.06 53.1347 2070.06 58.6844 Q2070.06 65.0038 2065.03 68.6901 Q2060.05 72.3764 2051.3 72.3764 Q2047.65 72.3764 2043.68 71.6473 Q2039.76 70.9586 2035.38 69.5408 L2035.38 61.8441 Q2039.51 63.9911 2043.52 65.0848 Q2047.53 66.1381 2051.46 66.1381 Q2056.73 66.1381 2059.56 64.3557 Q2062.4 62.5328 2062.4 59.2515 Q2062.4 56.2133 2060.33 54.593 Q2058.31 52.9726 2051.38 51.4738 L2048.79 50.8661 Q2041.86 49.4078 2038.78 46.4102 Q2035.7 43.372 2035.7 38.1058 Q2035.7 31.7054 2040.24 28.2216 Q2044.78 24.7378 2053.12 24.7378 Q2057.25 24.7378 2060.9 25.3455 Q2064.55 25.9531 2067.63 27.1684 Z\" fill=\"#000000\" fill-rule=\"evenodd\" fill-opacity=\"1\" /><path clip-path=\"url(#clip140)\" d=\"M2081.16 53.2967 L2081.16 25.8316 L2088.61 25.8316 L2088.61 53.0131 Q2088.61 59.4541 2091.12 62.6948 Q2093.63 65.895 2098.66 65.895 Q2104.69 65.895 2108.17 62.0466 Q2111.7 58.1983 2111.7 51.5548 L2111.7 25.8316 L2119.15 25.8316 L2119.15 71.2017 L2111.7 71.2017 L2111.7 64.2341 Q2108.98 68.3661 2105.38 70.3915 Q2101.81 72.3764 2097.08 72.3764 Q2089.26 72.3764 2085.21 67.5154 Q2081.16 62.6543 2081.16 53.2967 M2099.91 24.7378 L2099.91 24.7378 Z\" fill=\"#000000\" fill-rule=\"evenodd\" fill-opacity=\"1\" /><path clip-path=\"url(#clip140)\" d=\"M2160.8 32.7991 Q2159.54 32.07 2158.04 31.7459 Q2156.58 31.3813 2154.8 31.3813 Q2148.48 31.3813 2145.08 35.5132 Q2141.72 39.6046 2141.72 47.3014 L2141.72 71.2017 L2134.22 71.2017 L2134.22 25.8316 L2141.72 25.8316 L2141.72 32.8801 Q2144.07 28.7482 2147.83 26.7633 Q2151.6 24.7378 2156.99 24.7378 Q2157.76 24.7378 2158.69 24.8593 Q2159.62 24.9404 2160.76 25.1429 L2160.8 32.7991 Z\" fill=\"#000000\" fill-rule=\"evenodd\" fill-opacity=\"1\" /><path clip-path=\"url(#clip140)\" d=\"M2205.6 46.6532 L2205.6 50.299 L2171.33 50.299 Q2171.81 57.9957 2175.95 62.0466 Q2180.12 66.057 2187.53 66.057 Q2191.83 66.057 2195.84 65.0038 Q2199.89 63.9506 2203.86 61.8441 L2203.86 68.8927 Q2199.85 70.5941 2195.63 71.4853 Q2191.42 72.3764 2187.09 72.3764 Q2176.23 72.3764 2169.87 66.057 Q2163.55 59.7376 2163.55 48.9622 Q2163.55 37.8222 2169.55 31.3003 Q2175.58 24.7378 2185.79 24.7378 Q2194.95 24.7378 2200.25 30.6521 Q2205.6 36.5259 2205.6 46.6532 M2198.15 44.4657 Q2198.06 38.3489 2194.7 34.703 Q2191.38 31.0572 2185.87 31.0572 Q2179.63 31.0572 2175.87 34.5815 Q2172.14 38.1058 2171.57 44.5062 L2198.15 44.4657 Z\" fill=\"#000000\" fill-rule=\"evenodd\" fill-opacity=\"1\" /><polyline clip-path=\"url(#clip143)\" style=\"stroke:#009af9; stroke-linecap:butt; stroke-linejoin:round; stroke-width:4; stroke-opacity:1; fill:none\" points=\"\n",
       "  351.016,1386.4 352.96,1385.17 354.903,1383.94 356.847,1382.72 358.79,1381.49 360.733,1380.26 362.677,1379.04 364.62,1377.81 366.564,1376.59 368.507,1375.36 \n",
       "  370.451,1374.13 372.394,1372.91 374.337,1371.68 376.281,1370.46 378.224,1369.23 380.168,1368 382.111,1366.78 384.055,1365.55 385.998,1364.33 387.941,1363.1 \n",
       "  389.885,1361.87 391.828,1360.65 393.772,1359.42 395.715,1358.19 397.659,1356.97 399.602,1355.74 401.546,1354.52 403.489,1353.29 405.432,1352.06 407.376,1350.84 \n",
       "  409.319,1349.61 411.263,1348.39 413.206,1347.16 415.15,1345.93 417.093,1344.71 419.036,1343.48 420.98,1342.25 422.923,1341.03 424.867,1339.8 426.81,1338.58 \n",
       "  428.754,1337.35 430.697,1336.12 432.641,1334.9 434.584,1333.67 436.527,1332.45 438.471,1331.22 440.414,1329.99 442.358,1328.77 444.301,1327.54 446.245,1326.31 \n",
       "  448.188,1325.09 450.131,1323.86 452.075,1322.64 454.018,1321.41 455.962,1320.18 457.905,1318.96 459.849,1317.73 461.792,1316.51 463.736,1315.28 465.679,1314.05 \n",
       "  467.622,1312.83 469.566,1311.6 471.509,1310.38 473.453,1309.15 475.396,1307.92 477.34,1306.7 479.283,1305.47 481.226,1304.24 483.17,1303.02 485.113,1301.79 \n",
       "  487.057,1300.57 489,1299.34 490.944,1298.11 492.887,1296.89 494.831,1295.66 496.774,1294.44 498.717,1293.21 500.661,1291.98 502.604,1290.76 504.548,1289.53 \n",
       "  506.491,1288.3 508.435,1287.08 510.378,1285.85 512.321,1284.63 514.265,1283.4 516.208,1282.17 518.152,1280.95 520.095,1279.72 522.039,1278.5 523.982,1277.27 \n",
       "  525.925,1276.04 527.869,1274.82 529.812,1273.59 531.756,1272.36 533.699,1271.14 535.643,1269.91 537.586,1268.69 539.53,1267.46 541.473,1266.23 543.416,1265.01 \n",
       "  545.36,1263.78 547.303,1262.56 549.247,1261.33 551.19,1260.1 553.134,1258.88 555.077,1257.65 557.02,1256.42 558.964,1255.2 560.907,1253.97 562.851,1252.75 \n",
       "  564.794,1251.52 566.738,1250.29 568.681,1249.07 570.625,1247.84 572.568,1246.62 574.511,1245.39 576.455,1244.16 578.398,1242.94 580.342,1241.71 582.285,1240.49 \n",
       "  584.229,1239.26 586.172,1238.03 588.115,1236.81 590.059,1235.58 592.002,1234.35 593.946,1233.13 595.889,1231.9 597.833,1230.68 599.776,1229.45 601.72,1228.22 \n",
       "  603.663,1227 605.606,1225.77 607.55,1224.55 609.493,1223.32 611.437,1222.09 613.38,1220.87 615.324,1219.64 617.267,1218.41 619.21,1217.19 621.154,1215.96 \n",
       "  623.097,1214.74 625.041,1213.51 626.984,1212.28 628.928,1211.06 630.871,1209.83 632.815,1208.61 634.758,1207.38 636.701,1206.15 638.645,1204.93 640.588,1203.7 \n",
       "  642.532,1202.47 644.475,1201.25 646.419,1200.02 648.362,1198.8 650.305,1197.57 652.249,1196.34 654.192,1195.12 656.136,1193.89 658.079,1192.67 660.023,1191.44 \n",
       "  661.966,1190.21 663.909,1188.99 665.853,1187.76 667.796,1186.53 669.74,1185.31 671.683,1184.08 673.627,1182.86 675.57,1181.63 677.514,1180.4 679.457,1179.18 \n",
       "  681.4,1177.95 683.344,1176.73 685.287,1175.5 687.231,1174.27 689.174,1173.05 691.118,1171.82 693.061,1170.6 695.004,1169.37 696.948,1168.14 698.891,1166.92 \n",
       "  700.835,1165.69 702.778,1164.46 704.722,1163.24 706.665,1162.01 708.609,1160.79 710.552,1159.56 712.495,1158.33 714.439,1157.11 716.382,1155.88 718.326,1154.66 \n",
       "  720.269,1153.43 722.213,1152.2 724.156,1150.98 726.099,1149.75 728.043,1148.52 729.986,1147.3 731.93,1146.07 733.873,1144.85 735.817,1143.62 737.76,1142.39 \n",
       "  739.704,1141.17 741.647,1139.94 743.59,1138.72 745.534,1137.49 747.477,1136.26 749.421,1135.04 751.364,1133.81 753.308,1132.58 755.251,1131.36 757.194,1130.13 \n",
       "  759.138,1128.91 761.081,1127.68 763.025,1126.45 764.968,1125.23 766.912,1124 768.855,1122.78 770.799,1121.55 772.742,1120.32 774.685,1119.1 776.629,1117.87 \n",
       "  778.572,1116.65 780.516,1115.42 782.459,1114.19 784.403,1112.97 786.346,1111.74 788.289,1110.51 790.233,1109.29 792.176,1108.06 794.12,1106.84 796.063,1105.61 \n",
       "  798.007,1104.38 799.95,1103.16 801.893,1101.93 803.837,1100.71 805.78,1099.48 807.724,1098.25 809.667,1097.03 811.611,1095.8 813.554,1094.57 815.498,1093.35 \n",
       "  817.441,1092.12 819.384,1090.9 821.328,1089.67 823.271,1088.44 825.215,1087.22 827.158,1085.99 829.102,1084.77 831.045,1083.54 832.988,1082.31 834.932,1081.09 \n",
       "  836.875,1079.86 838.819,1078.63 840.762,1077.41 842.706,1076.18 844.649,1074.96 846.593,1073.73 848.536,1072.5 850.479,1071.28 852.423,1070.05 854.366,1068.83 \n",
       "  856.31,1067.6 858.253,1066.37 860.197,1065.15 862.14,1063.92 864.083,1062.69 866.027,1061.47 867.97,1060.24 869.914,1059.02 871.857,1057.79 873.801,1056.56 \n",
       "  875.744,1055.34 877.688,1054.11 879.631,1052.89 881.574,1051.66 883.518,1050.43 885.461,1049.21 887.405,1047.98 889.348,1046.76 891.292,1045.53 893.235,1044.3 \n",
       "  895.178,1043.08 897.122,1041.85 899.065,1040.62 901.009,1039.4 902.952,1038.17 904.896,1036.95 906.839,1035.72 908.783,1034.49 910.726,1033.27 912.669,1032.04 \n",
       "  914.613,1030.82 916.556,1029.59 918.5,1028.36 920.443,1027.14 922.387,1025.91 924.33,1024.68 926.273,1023.46 928.217,1022.23 930.16,1021.01 932.104,1019.78 \n",
       "  934.047,1018.55 935.991,1017.33 937.934,1016.1 939.877,1014.88 941.821,1013.65 943.764,1012.42 945.708,1011.2 947.651,1009.97 949.595,1008.74 951.538,1007.52 \n",
       "  953.482,1006.29 955.425,1005.07 957.368,1003.84 959.312,1002.61 961.255,1001.39 963.199,1000.16 965.142,998.936 967.086,997.709 969.029,996.483 970.972,995.257 \n",
       "  972.916,994.031 974.859,992.805 976.803,991.579 978.746,990.353 980.69,989.127 982.633,987.9 984.577,986.674 986.52,985.448 988.463,984.222 990.407,982.996 \n",
       "  992.35,981.77 994.294,980.544 996.237,979.317 998.181,978.091 1000.12,976.865 1002.07,975.639 1004.01,974.413 1005.95,973.187 1007.9,971.961 1009.84,970.734 \n",
       "  1011.78,969.508 1013.73,968.282 1015.67,967.056 1017.61,965.83 1019.56,964.604 1021.5,963.378 1023.45,962.151 1025.39,960.925 1027.33,959.699 1029.28,958.473 \n",
       "  1031.22,957.247 1033.16,956.021 1035.11,954.795 1037.05,953.568 1038.99,952.342 1040.94,951.116 1042.88,949.89 1044.82,948.664 1046.77,947.438 1048.71,946.212 \n",
       "  1050.65,944.985 1052.6,943.759 1054.54,942.533 1056.48,941.307 1058.43,940.081 1060.37,938.855 1062.31,937.629 1064.26,936.403 1066.2,935.176 1068.14,933.95 \n",
       "  1070.09,932.724 1072.03,931.498 1073.97,930.272 1075.92,929.046 1077.86,927.82 1079.8,926.593 1081.75,925.367 1083.69,924.141 1085.64,922.915 1087.58,921.689 \n",
       "  1089.52,920.463 1091.47,919.237 1093.41,918.01 1095.35,916.784 1097.3,915.558 1099.24,914.332 1101.18,913.106 1103.13,911.88 1105.07,910.654 1107.01,909.427 \n",
       "  1108.96,908.201 1110.9,906.975 1112.84,905.749 1114.79,904.523 1116.73,903.297 1118.67,902.071 1120.62,900.844 1122.56,899.618 1124.5,898.392 1126.45,897.166 \n",
       "  1128.39,895.94 1130.33,894.714 1132.28,893.488 1134.22,892.262 1136.16,891.035 1138.11,889.809 1140.05,888.583 1141.99,887.357 1143.94,886.131 1145.88,884.905 \n",
       "  1147.83,883.679 1149.77,882.452 1151.71,881.226 1153.66,880 1155.6,878.774 1157.54,877.548 1159.49,876.322 1161.43,875.096 1163.37,873.869 1165.32,872.643 \n",
       "  1167.26,871.417 1169.2,870.191 1171.15,868.965 1173.09,867.739 1175.03,866.513 1176.98,865.286 1178.92,864.06 1180.86,862.834 1182.81,861.608 1184.75,860.382 \n",
       "  1186.69,859.156 1188.64,857.93 1190.58,856.703 1192.52,855.477 1194.47,854.251 1196.41,853.025 1198.35,851.799 1200.3,850.573 1202.24,849.347 1204.18,848.12 \n",
       "  1206.13,846.894 1208.07,845.668 1210.02,844.442 1211.96,843.216 1213.9,841.99 1215.85,840.764 1217.79,839.538 1219.73,838.311 1221.68,837.085 1223.62,835.859 \n",
       "  1225.56,834.633 1227.51,833.407 1229.45,832.181 1231.39,830.955 1233.34,829.728 1235.28,828.502 1237.22,827.276 1239.17,826.05 1241.11,824.824 1243.05,823.598 \n",
       "  1245,822.372 1246.94,821.145 1248.88,819.919 1250.83,818.693 1252.77,817.467 1254.71,816.241 1256.66,815.015 1258.6,813.789 1260.54,812.562 1262.49,811.336 \n",
       "  1264.43,810.11 1266.37,808.884 1268.32,807.658 1270.26,806.432 1272.21,805.206 1274.15,803.979 1276.09,802.753 1278.04,801.527 1279.98,800.301 1281.92,799.075 \n",
       "  1283.87,797.849 1285.81,796.623 1287.75,795.396 1289.7,794.17 1291.64,792.944 1293.58,791.718 1295.53,790.492 1297.47,789.266 1299.41,788.04 1301.36,786.814 \n",
       "  1303.3,785.587 1305.24,784.361 1307.19,783.135 1309.13,781.909 1311.07,780.683 1313.02,779.457 1314.96,778.231 1316.9,777.004 1318.85,775.778 1320.79,774.552 \n",
       "  1322.73,773.326 1324.68,772.1 1326.62,770.874 1328.56,769.648 1330.51,768.421 1332.45,767.195 1334.4,765.969 1336.34,764.743 1338.28,763.517 1340.23,762.291 \n",
       "  1342.17,761.065 1344.11,759.838 1346.06,758.612 1348,757.386 1349.94,756.16 1351.89,754.934 1353.83,753.708 1355.77,752.482 1357.72,751.255 1359.66,750.029 \n",
       "  1361.6,748.803 1363.55,747.577 1365.49,746.351 1367.43,745.125 1369.38,743.899 1371.32,742.673 1373.26,741.446 1375.21,740.22 1377.15,738.994 1379.09,737.768 \n",
       "  1381.04,736.542 1382.98,735.316 1384.92,734.09 1386.87,732.863 1388.81,731.637 1390.75,730.411 1392.7,729.185 1394.64,727.959 1396.59,726.733 1398.53,725.507 \n",
       "  1400.47,724.28 1402.42,723.054 1404.36,721.828 1406.3,720.602 1408.25,719.376 1410.19,718.15 1412.13,716.924 1414.08,715.697 1416.02,714.471 1417.96,713.245 \n",
       "  1419.91,712.019 1421.85,710.793 1423.79,709.567 1425.74,708.341 1427.68,707.114 1429.62,705.888 1431.57,704.662 1433.51,703.436 1435.45,702.21 1437.4,700.984 \n",
       "  1439.34,699.758 1441.28,698.531 1443.23,697.305 1445.17,696.079 1447.11,694.853 1449.06,693.627 1451,692.401 1452.94,691.175 1454.89,689.949 1456.83,688.722 \n",
       "  1458.78,687.496 1460.72,686.27 1462.66,685.044 1464.61,683.818 1466.55,682.592 1468.49,681.366 1470.44,680.139 1472.38,678.913 1474.32,677.687 1476.27,676.461 \n",
       "  1478.21,675.235 1480.15,674.009 1482.1,672.783 1484.04,671.556 1485.98,670.33 1487.93,669.104 1489.87,667.878 1491.81,666.652 1493.76,665.426 1495.7,664.2 \n",
       "  1497.64,662.973 1499.59,661.747 1501.53,660.521 1503.47,659.295 1505.42,658.069 1507.36,656.843 1509.3,655.617 1511.25,654.39 1513.19,653.164 1515.13,651.938 \n",
       "  1517.08,650.712 1519.02,649.486 1520.97,648.26 1522.91,647.034 1524.85,645.807 1526.8,644.581 1528.74,643.355 1530.68,642.129 1532.63,640.903 1534.57,639.677 \n",
       "  1536.51,638.451 1538.46,637.225 1540.4,635.998 1542.34,634.772 1544.29,633.546 1546.23,632.32 1548.17,631.094 1550.12,629.868 1552.06,628.642 1554,627.415 \n",
       "  1555.95,626.189 1557.89,624.963 1559.83,623.737 1561.78,622.511 1563.72,621.285 1565.66,620.059 1567.61,618.832 1569.55,617.606 1571.49,616.38 1573.44,615.154 \n",
       "  1575.38,613.928 1577.32,612.702 1579.27,611.476 1581.21,610.249 1583.16,609.023 1585.1,607.797 1587.04,606.571 1588.99,605.345 1590.93,604.119 1592.87,602.893 \n",
       "  1594.82,601.666 1596.76,600.44 1598.7,599.214 1600.65,597.988 1602.59,596.762 1604.53,595.536 1606.48,594.31 1608.42,593.083 1610.36,591.857 1612.31,590.631 \n",
       "  1614.25,589.405 1616.19,588.179 1618.14,586.953 1620.08,585.727 1622.02,584.501 1623.97,583.274 1625.91,582.048 1627.85,580.822 1629.8,579.596 1631.74,578.37 \n",
       "  1633.68,577.144 1635.63,575.918 1637.57,574.691 1639.51,573.465 1641.46,572.239 1643.4,571.013 1645.34,569.787 1647.29,568.561 1649.23,567.335 1651.18,566.108 \n",
       "  1653.12,564.882 1655.06,563.656 1657.01,562.43 1658.95,561.204 1660.89,559.978 1662.84,558.752 1664.78,557.525 1666.72,556.299 1668.67,555.073 1670.61,553.847 \n",
       "  1672.55,552.621 1674.5,551.395 1676.44,550.169 1678.38,548.942 1680.33,547.716 1682.27,546.49 1684.21,545.264 1686.16,544.038 1688.1,542.812 1690.04,541.586 \n",
       "  1691.99,540.36 1693.93,539.133 1695.87,537.907 1697.82,536.681 1699.76,535.455 1701.7,534.229 1703.65,533.003 1705.59,531.777 1707.53,530.55 1709.48,529.324 \n",
       "  1711.42,528.098 1713.37,526.872 1715.31,525.646 1717.25,524.42 1719.2,523.194 1721.14,521.967 1723.08,520.741 1725.03,519.515 1726.97,518.289 1728.91,517.063 \n",
       "  1730.86,515.837 1732.8,514.611 1734.74,513.384 1736.69,512.158 1738.63,510.932 1740.57,509.706 1742.52,508.48 1744.46,507.254 1746.4,506.028 1748.35,504.801 \n",
       "  1750.29,503.575 1752.23,502.349 1754.18,501.123 1756.12,499.897 1758.06,498.671 1760.01,497.445 1761.95,496.218 1763.89,494.992 1765.84,493.766 1767.78,492.54 \n",
       "  1769.72,491.314 1771.67,490.088 1773.61,488.862 1775.56,487.636 1777.5,486.409 1779.44,485.183 1781.39,483.957 1783.33,482.731 1785.27,481.505 1787.22,480.279 \n",
       "  1789.16,479.053 1791.1,477.826 1793.05,476.6 1794.99,475.374 1796.93,474.148 1798.88,472.922 1800.82,471.696 1802.76,470.47 1804.71,469.243 1806.65,468.017 \n",
       "  1808.59,466.791 1810.54,465.565 1812.48,464.339 1814.42,463.113 1816.37,461.887 1818.31,460.66 1820.25,459.434 1822.2,458.208 1824.14,456.982 1826.08,455.756 \n",
       "  1828.03,454.53 1829.97,453.304 1831.91,452.077 1833.86,450.851 1835.8,449.625 1837.75,448.399 1839.69,447.173 1841.63,445.947 1843.58,444.721 1845.52,443.494 \n",
       "  1847.46,442.268 1849.41,441.042 1851.35,439.816 1853.29,438.59 1855.24,437.364 1857.18,436.138 1859.12,434.912 1861.07,433.685 1863.01,432.459 1864.95,431.233 \n",
       "  1866.9,430.007 1868.84,428.781 1870.78,427.555 1872.73,426.329 1874.67,425.102 1876.61,423.876 1878.56,422.65 1880.5,421.424 1882.44,420.198 1884.39,418.972 \n",
       "  1886.33,417.746 1888.27,416.519 1890.22,415.293 1892.16,414.067 1894.1,412.841 1896.05,411.615 1897.99,410.389 1899.94,409.163 1901.88,407.936 1903.82,406.71 \n",
       "  1905.77,405.484 1907.71,404.258 1909.65,403.032 1911.6,401.806 1913.54,400.58 1915.48,399.353 1917.43,398.127 1919.37,396.901 1921.31,395.675 1923.26,394.449 \n",
       "  1925.2,393.223 1927.14,391.997 1929.09,390.771 1931.03,389.544 1932.97,388.318 1934.92,387.092 1936.86,385.866 1938.8,384.64 1940.75,383.414 1942.69,382.188 \n",
       "  1944.63,380.961 1946.58,379.735 1948.52,378.509 1950.46,377.283 1952.41,376.057 1954.35,374.831 1956.29,373.605 1958.24,372.378 1960.18,371.152 1962.13,369.926 \n",
       "  1964.07,368.7 1966.01,367.474 1967.96,366.248 1969.9,365.022 1971.84,363.795 1973.79,362.569 1975.73,361.343 1977.67,360.117 1979.62,358.891 1981.56,357.665 \n",
       "  1983.5,356.439 1985.45,355.212 1987.39,353.986 1989.33,352.76 1991.28,351.534 1993.22,350.308 1995.16,349.082 1997.11,347.856 1999.05,346.629 2000.99,345.403 \n",
       "  2002.94,344.177 2004.88,342.951 2006.82,341.725 2008.77,340.499 2010.71,339.273 2012.65,338.047 2014.6,336.82 2016.54,335.594 2018.48,334.368 2020.43,333.142 \n",
       "  2022.37,331.916 2024.32,330.69 2026.26,329.464 2028.2,328.237 2030.15,327.011 2032.09,325.785 2034.03,324.559 2035.98,323.333 2037.92,322.107 2039.86,320.881 \n",
       "  2041.81,319.654 2043.75,318.428 2045.69,317.202 2047.64,315.976 2049.58,314.75 2051.52,313.524 2053.47,312.298 2055.41,311.071 2057.35,309.845 2059.3,308.619 \n",
       "  2061.24,307.393 2063.18,306.167 2065.13,304.941 2067.07,303.715 2069.01,302.488 2070.96,301.262 2072.9,300.036 2074.84,298.81 2076.79,297.584 2078.73,296.358 \n",
       "  2080.67,295.132 2082.62,293.905 2084.56,292.679 2086.51,291.453 2088.45,290.227 2090.39,289.001 2092.34,287.775 2094.28,286.549 2096.22,285.323 2098.17,284.096 \n",
       "  2100.11,282.87 2102.05,281.644 2104,280.418 2105.94,279.192 2107.88,277.966 2109.83,276.74 2111.77,275.513 2113.71,274.287 2115.66,273.061 2117.6,271.835 \n",
       "  2119.54,270.609 2121.49,269.383 2123.43,268.157 2125.37,266.93 2127.32,265.704 2129.26,264.478 2131.2,263.252 2133.15,262.026 2135.09,260.8 2137.03,259.574 \n",
       "  2138.98,258.347 2140.92,257.121 2142.86,255.895 2144.81,254.669 2146.75,253.443 2148.7,252.217 2150.64,250.991 2152.58,249.764 2154.53,248.538 2156.47,247.312 \n",
       "  2158.41,246.086 2160.36,244.86 2162.3,243.634 2164.24,242.408 2166.19,241.182 2168.13,239.955 2170.07,238.729 2172.02,237.503 2173.96,236.277 2175.9,235.051 \n",
       "  2177.85,233.825 2179.79,232.599 2181.73,231.372 2183.68,230.146 2185.62,228.92 2187.56,227.694 2189.51,226.468 2191.45,225.242 2193.39,224.016 2195.34,222.789 \n",
       "  2197.28,221.563 2199.22,220.337 2201.17,219.111 2203.11,217.885 2205.05,216.659 2207,215.433 2208.94,214.206 2210.89,212.98 2212.83,211.754 2214.77,210.528 \n",
       "  2216.72,209.302 2218.66,208.076 2220.6,206.85 2222.55,205.623 2224.49,204.397 2226.43,203.171 2228.38,201.945 2230.32,200.719 2232.26,199.493 2234.21,198.267 \n",
       "  2236.15,197.04 2238.09,195.814 2240.04,194.588 2241.98,193.362 2243.92,192.136 2245.87,190.91 2247.81,189.684 2249.75,188.458 2251.7,187.231 2253.64,186.005 \n",
       "  2255.58,184.779 2257.53,183.553 2259.47,182.327 2261.41,181.101 2263.36,179.875 2265.3,178.648 2267.24,177.422 2269.19,176.196 2271.13,174.97 2273.08,173.744 \n",
       "  2275.02,172.518 2276.96,171.292 2278.91,170.065 2280.85,168.839 2282.79,167.613 2284.74,166.387 2286.68,165.161 2288.62,163.935 2290.57,162.709 2292.51,161.482 \n",
       "  2294.45,160.256 \n",
       "  \"/>\n",
       "<path clip-path=\"url(#clip140)\" d=\"\n",
       "M2002.76 270.476 L2284.09 270.476 L2284.09 166.796 L2002.76 166.796  Z\n",
       "  \" fill=\"#ffffff\" fill-rule=\"evenodd\" fill-opacity=\"1\"/>\n",
       "<polyline clip-path=\"url(#clip140)\" style=\"stroke:#000000; stroke-linecap:butt; stroke-linejoin:round; stroke-width:4; stroke-opacity:1; fill:none\" points=\"\n",
       "  2002.76,270.476 2284.09,270.476 2284.09,166.796 2002.76,166.796 2002.76,270.476 \n",
       "  \"/>\n",
       "<polyline clip-path=\"url(#clip140)\" style=\"stroke:#009af9; stroke-linecap:butt; stroke-linejoin:round; stroke-width:4; stroke-opacity:1; fill:none\" points=\"\n",
       "  2025.65,218.636 2162.99,218.636 \n",
       "  \"/>\n",
       "<path clip-path=\"url(#clip140)\" d=\"M2199.72 238.323 Q2197.92 242.953 2196.2 244.365 Q2194.49 245.777 2191.62 245.777 L2188.22 245.777 L2188.22 242.212 L2190.72 242.212 Q2192.48 242.212 2193.45 241.379 Q2194.42 240.545 2195.6 237.443 L2196.36 235.499 L2185.88 209.99 L2190.39 209.99 L2198.49 230.268 L2206.6 209.99 L2211.11 209.99 L2199.72 238.323 Z\" fill=\"#000000\" fill-rule=\"evenodd\" fill-opacity=\"1\" /><path clip-path=\"url(#clip140)\" d=\"M2218.4 231.981 L2226.04 231.981 L2226.04 205.615 L2217.73 207.282 L2217.73 203.022 L2225.99 201.356 L2230.67 201.356 L2230.67 231.981 L2238.31 231.981 L2238.31 235.916 L2218.4 235.916 L2218.4 231.981 Z\" fill=\"#000000\" fill-rule=\"evenodd\" fill-opacity=\"1\" /></svg>\n"
      ]
     },
     "execution_count": 77,
     "metadata": {},
     "output_type": "execute_result"
    }
   ],
   "source": [
    "plot(\n",
    "    [p for p in 0:1000],\n",
    "    [ustrip(temperature_of_gas(p*atm, 3.59L^2*atm*mol^-2, 0.0427L*mol^-1)) for p in 0:1000], \n",
    "    title=\"Temperature of \\$CO_{2}\\$ at increasing pressure\"\n",
    ")\n",
    "xlabel!(\"Pressure (atm)\")\n",
    "ylabel!(\"Temperature (K)\")"
   ]
  },
  {
   "cell_type": "markdown",
   "id": "99fd5201",
   "metadata": {},
   "source": [
    "$$\n",
    "\\left[P + a\\left(\\frac{n}{V}\\right)^{2}\\right] \\left[V - nb \\right] = nRT \\\\\n",
    "\\left[P + a\\left(\\frac{n}{V}\\right)^{2}\\right] = \\frac{nRT}{\\left[V - nb \\right]} \\\\\n",
    "P = \\frac{nRT}{\\left[V - nb \\right]} - a\\left(\\frac{n}{V}\\right)^{2}\n",
    "$$"
   ]
  },
  {
   "cell_type": "code",
   "execution_count": 82,
   "id": "d8fc6ecf",
   "metadata": {},
   "outputs": [
    {
     "data": {
      "text/plain": [
       "1001-element Vector{Float64}:\n",
       "    41.88176106712044\n",
       "    53.547989776624746\n",
       "    65.21421848612906\n",
       "    76.88044719563335\n",
       "    88.54667590513766\n",
       "   100.21290461464196\n",
       "   111.87913332414627\n",
       "   123.54536203365056\n",
       "   135.21159074315486\n",
       "   146.87781945265917\n",
       "   158.54404816216348\n",
       "   170.21027687166776\n",
       "   181.87650558117207\n",
       "     ⋮\n",
       " 11579.781954766877\n",
       " 11591.44818347638\n",
       " 11603.114412185885\n",
       " 11614.78064089539\n",
       " 11626.446869604893\n",
       " 11638.113098314398\n",
       " 11649.779327023902\n",
       " 11661.445555733406\n",
       " 11673.11178444291\n",
       " 11684.778013152414\n",
       " 11696.44424186192\n",
       " 11708.110470571422"
      ]
     },
     "execution_count": 82,
     "metadata": {},
     "output_type": "execute_result"
    }
   ],
   "source": [
    "temps = [ustrip(temperature_of_gas(p*atm, 3.59L^2*atm*mol^-2, 0.0427L*mol^-1)) for p in 0:1000]"
   ]
  },
  {
   "cell_type": "code",
   "execution_count": 86,
   "id": "fc727b86",
   "metadata": {},
   "outputs": [
    {
     "data": {
      "text/plain": [
       "290.9762164769938 mol"
      ]
     },
     "execution_count": 86,
     "metadata": {},
     "output_type": "execute_result"
    }
   ],
   "source": [
    "(1000*atm*1L) / (R*temps[1]*K)"
   ]
  },
  {
   "cell_type": "code",
   "execution_count": 90,
   "id": "afc57dca",
   "metadata": {},
   "outputs": [
    {
     "data": {
      "image/svg+xml": [
       "<?xml version=\"1.0\" encoding=\"utf-8\"?>\n",
       "<svg xmlns=\"http://www.w3.org/2000/svg\" xmlns:xlink=\"http://www.w3.org/1999/xlink\" width=\"600\" height=\"400\" viewBox=\"0 0 2400 1600\">\n",
       "<defs>\n",
       "  <clipPath id=\"clip340\">\n",
       "    <rect x=\"0\" y=\"0\" width=\"2400\" height=\"1600\"/>\n",
       "  </clipPath>\n",
       "</defs>\n",
       "<path clip-path=\"url(#clip340)\" d=\"\n",
       "M0 1600 L2400 1600 L2400 0 L0 0  Z\n",
       "  \" fill=\"#ffffff\" fill-rule=\"evenodd\" fill-opacity=\"1\"/>\n",
       "<defs>\n",
       "  <clipPath id=\"clip341\">\n",
       "    <rect x=\"480\" y=\"0\" width=\"1681\" height=\"1600\"/>\n",
       "  </clipPath>\n",
       "</defs>\n",
       "<defs>\n",
       "  <clipPath id=\"clip342\">\n",
       "    <rect x=\"344\" y=\"168\" width=\"2009\" height=\"1256\"/>\n",
       "  </clipPath>\n",
       "</defs>\n",
       "<path clip-path=\"url(#clip340)\" d=\"\n",
       "M269.142 1423.18 L2352.76 1423.18 L2352.76 168.039 L269.142 168.039  Z\n",
       "  \" fill=\"#ffffff\" fill-rule=\"evenodd\" fill-opacity=\"1\"/>\n",
       "<defs>\n",
       "  <clipPath id=\"clip343\">\n",
       "    <rect x=\"269\" y=\"168\" width=\"2085\" height=\"1256\"/>\n",
       "  </clipPath>\n",
       "</defs>\n",
       "<polyline clip-path=\"url(#clip343)\" style=\"stroke:#000000; stroke-linecap:butt; stroke-linejoin:round; stroke-width:2; stroke-opacity:0.1; fill:none\" points=\"\n",
       "  326.145,1423.18 326.145,168.039 \n",
       "  \"/>\n",
       "<polyline clip-path=\"url(#clip343)\" style=\"stroke:#000000; stroke-linecap:butt; stroke-linejoin:round; stroke-width:2; stroke-opacity:0.1; fill:none\" points=\"\n",
       "  818.055,1423.18 818.055,168.039 \n",
       "  \"/>\n",
       "<polyline clip-path=\"url(#clip343)\" style=\"stroke:#000000; stroke-linecap:butt; stroke-linejoin:round; stroke-width:2; stroke-opacity:0.1; fill:none\" points=\"\n",
       "  1309.97,1423.18 1309.97,168.039 \n",
       "  \"/>\n",
       "<polyline clip-path=\"url(#clip343)\" style=\"stroke:#000000; stroke-linecap:butt; stroke-linejoin:round; stroke-width:2; stroke-opacity:0.1; fill:none\" points=\"\n",
       "  1801.88,1423.18 1801.88,168.039 \n",
       "  \"/>\n",
       "<polyline clip-path=\"url(#clip343)\" style=\"stroke:#000000; stroke-linecap:butt; stroke-linejoin:round; stroke-width:2; stroke-opacity:0.1; fill:none\" points=\"\n",
       "  2293.79,1423.18 2293.79,168.039 \n",
       "  \"/>\n",
       "<polyline clip-path=\"url(#clip340)\" style=\"stroke:#000000; stroke-linecap:butt; stroke-linejoin:round; stroke-width:4; stroke-opacity:1; fill:none\" points=\"\n",
       "  269.142,1423.18 2352.76,1423.18 \n",
       "  \"/>\n",
       "<polyline clip-path=\"url(#clip340)\" style=\"stroke:#000000; stroke-linecap:butt; stroke-linejoin:round; stroke-width:4; stroke-opacity:1; fill:none\" points=\"\n",
       "  326.145,1423.18 326.145,1404.28 \n",
       "  \"/>\n",
       "<polyline clip-path=\"url(#clip340)\" style=\"stroke:#000000; stroke-linecap:butt; stroke-linejoin:round; stroke-width:4; stroke-opacity:1; fill:none\" points=\"\n",
       "  818.055,1423.18 818.055,1404.28 \n",
       "  \"/>\n",
       "<polyline clip-path=\"url(#clip340)\" style=\"stroke:#000000; stroke-linecap:butt; stroke-linejoin:round; stroke-width:4; stroke-opacity:1; fill:none\" points=\"\n",
       "  1309.97,1423.18 1309.97,1404.28 \n",
       "  \"/>\n",
       "<polyline clip-path=\"url(#clip340)\" style=\"stroke:#000000; stroke-linecap:butt; stroke-linejoin:round; stroke-width:4; stroke-opacity:1; fill:none\" points=\"\n",
       "  1801.88,1423.18 1801.88,1404.28 \n",
       "  \"/>\n",
       "<polyline clip-path=\"url(#clip340)\" style=\"stroke:#000000; stroke-linecap:butt; stroke-linejoin:round; stroke-width:4; stroke-opacity:1; fill:none\" points=\"\n",
       "  2293.79,1423.18 2293.79,1404.28 \n",
       "  \"/>\n",
       "<path clip-path=\"url(#clip340)\" d=\"M326.145 1454.1 Q322.534 1454.1 320.705 1457.66 Q318.899 1461.2 318.899 1468.33 Q318.899 1475.44 320.705 1479.01 Q322.534 1482.55 326.145 1482.55 Q329.779 1482.55 331.584 1479.01 Q333.413 1475.44 333.413 1468.33 Q333.413 1461.2 331.584 1457.66 Q329.779 1454.1 326.145 1454.1 M326.145 1450.39 Q331.955 1450.39 335.01 1455 Q338.089 1459.58 338.089 1468.33 Q338.089 1477.06 335.01 1481.67 Q331.955 1486.25 326.145 1486.25 Q320.335 1486.25 317.256 1481.67 Q314.2 1477.06 314.2 1468.33 Q314.2 1459.58 317.256 1455 Q320.335 1450.39 326.145 1450.39 Z\" fill=\"#000000\" fill-rule=\"evenodd\" fill-opacity=\"1\" /><path clip-path=\"url(#clip340)\" d=\"M781.747 1481.64 L798.067 1481.64 L798.067 1485.58 L776.122 1485.58 L776.122 1481.64 Q778.784 1478.89 783.368 1474.26 Q787.974 1469.61 789.155 1468.27 Q791.4 1465.74 792.28 1464.01 Q793.182 1462.25 793.182 1460.56 Q793.182 1457.8 791.238 1456.07 Q789.317 1454.33 786.215 1454.33 Q784.016 1454.33 781.562 1455.09 Q779.132 1455.86 776.354 1457.41 L776.354 1452.69 Q779.178 1451.55 781.632 1450.97 Q784.085 1450.39 786.122 1450.39 Q791.493 1450.39 794.687 1453.08 Q797.881 1455.77 797.881 1460.26 Q797.881 1462.39 797.071 1464.31 Q796.284 1466.2 794.178 1468.8 Q793.599 1469.47 790.497 1472.69 Q787.395 1475.88 781.747 1481.64 Z\" fill=\"#000000\" fill-rule=\"evenodd\" fill-opacity=\"1\" /><path clip-path=\"url(#clip340)\" d=\"M807.928 1451.02 L826.284 1451.02 L826.284 1454.96 L812.21 1454.96 L812.21 1463.43 Q813.229 1463.08 814.247 1462.92 Q815.266 1462.73 816.284 1462.73 Q822.071 1462.73 825.451 1465.9 Q828.83 1469.08 828.83 1474.49 Q828.83 1480.07 825.358 1483.17 Q821.886 1486.25 815.567 1486.25 Q813.391 1486.25 811.122 1485.88 Q808.877 1485.51 806.469 1484.77 L806.469 1480.07 Q808.553 1481.2 810.775 1481.76 Q812.997 1482.32 815.474 1482.32 Q819.479 1482.32 821.816 1480.21 Q824.154 1478.1 824.154 1474.49 Q824.154 1470.88 821.816 1468.77 Q819.479 1466.67 815.474 1466.67 Q813.599 1466.67 811.724 1467.08 Q809.872 1467.5 807.928 1468.38 L807.928 1451.02 Z\" fill=\"#000000\" fill-rule=\"evenodd\" fill-opacity=\"1\" /><path clip-path=\"url(#clip340)\" d=\"M848.043 1454.1 Q844.432 1454.1 842.603 1457.66 Q840.798 1461.2 840.798 1468.33 Q840.798 1475.44 842.603 1479.01 Q844.432 1482.55 848.043 1482.55 Q851.677 1482.55 853.483 1479.01 Q855.312 1475.44 855.312 1468.33 Q855.312 1461.2 853.483 1457.66 Q851.677 1454.1 848.043 1454.1 M848.043 1450.39 Q853.853 1450.39 856.909 1455 Q859.988 1459.58 859.988 1468.33 Q859.988 1477.06 856.909 1481.67 Q853.853 1486.25 848.043 1486.25 Q842.233 1486.25 839.154 1481.67 Q836.099 1477.06 836.099 1468.33 Q836.099 1459.58 839.154 1455 Q842.233 1450.39 848.043 1450.39 Z\" fill=\"#000000\" fill-rule=\"evenodd\" fill-opacity=\"1\" /><path clip-path=\"url(#clip340)\" d=\"M1269.58 1451.02 L1287.94 1451.02 L1287.94 1454.96 L1273.87 1454.96 L1273.87 1463.43 Q1274.88 1463.08 1275.9 1462.92 Q1276.92 1462.73 1277.94 1462.73 Q1283.73 1462.73 1287.11 1465.9 Q1290.49 1469.08 1290.49 1474.49 Q1290.49 1480.07 1287.01 1483.17 Q1283.54 1486.25 1277.22 1486.25 Q1275.05 1486.25 1272.78 1485.88 Q1270.53 1485.51 1268.13 1484.77 L1268.13 1480.07 Q1270.21 1481.2 1272.43 1481.76 Q1274.65 1482.32 1277.13 1482.32 Q1281.13 1482.32 1283.47 1480.21 Q1285.81 1478.1 1285.81 1474.49 Q1285.81 1470.88 1283.47 1468.77 Q1281.13 1466.67 1277.13 1466.67 Q1275.25 1466.67 1273.38 1467.08 Q1271.53 1467.5 1269.58 1468.38 L1269.58 1451.02 Z\" fill=\"#000000\" fill-rule=\"evenodd\" fill-opacity=\"1\" /><path clip-path=\"url(#clip340)\" d=\"M1309.7 1454.1 Q1306.09 1454.1 1304.26 1457.66 Q1302.45 1461.2 1302.45 1468.33 Q1302.45 1475.44 1304.26 1479.01 Q1306.09 1482.55 1309.7 1482.55 Q1313.33 1482.55 1315.14 1479.01 Q1316.97 1475.44 1316.97 1468.33 Q1316.97 1461.2 1315.14 1457.66 Q1313.33 1454.1 1309.7 1454.1 M1309.7 1450.39 Q1315.51 1450.39 1318.56 1455 Q1321.64 1459.58 1321.64 1468.33 Q1321.64 1477.06 1318.56 1481.67 Q1315.51 1486.25 1309.7 1486.25 Q1303.89 1486.25 1300.81 1481.67 Q1297.75 1477.06 1297.75 1468.33 Q1297.75 1459.58 1300.81 1455 Q1303.89 1450.39 1309.7 1450.39 Z\" fill=\"#000000\" fill-rule=\"evenodd\" fill-opacity=\"1\" /><path clip-path=\"url(#clip340)\" d=\"M1339.86 1454.1 Q1336.25 1454.1 1334.42 1457.66 Q1332.62 1461.2 1332.62 1468.33 Q1332.62 1475.44 1334.42 1479.01 Q1336.25 1482.55 1339.86 1482.55 Q1343.5 1482.55 1345.3 1479.01 Q1347.13 1475.44 1347.13 1468.33 Q1347.13 1461.2 1345.3 1457.66 Q1343.5 1454.1 1339.86 1454.1 M1339.86 1450.39 Q1345.67 1450.39 1348.73 1455 Q1351.81 1459.58 1351.81 1468.33 Q1351.81 1477.06 1348.73 1481.67 Q1345.67 1486.25 1339.86 1486.25 Q1334.05 1486.25 1330.97 1481.67 Q1327.92 1477.06 1327.92 1468.33 Q1327.92 1459.58 1330.97 1455 Q1334.05 1450.39 1339.86 1450.39 Z\" fill=\"#000000\" fill-rule=\"evenodd\" fill-opacity=\"1\" /><path clip-path=\"url(#clip340)\" d=\"M1760.15 1451.02 L1782.37 1451.02 L1782.37 1453.01 L1769.83 1485.58 L1764.94 1485.58 L1776.75 1454.96 L1760.15 1454.96 L1760.15 1451.02 Z\" fill=\"#000000\" fill-rule=\"evenodd\" fill-opacity=\"1\" /><path clip-path=\"url(#clip340)\" d=\"M1791.54 1451.02 L1809.9 1451.02 L1809.9 1454.96 L1795.82 1454.96 L1795.82 1463.43 Q1796.84 1463.08 1797.86 1462.92 Q1798.88 1462.73 1799.9 1462.73 Q1805.68 1462.73 1809.06 1465.9 Q1812.44 1469.08 1812.44 1474.49 Q1812.44 1480.07 1808.97 1483.17 Q1805.5 1486.25 1799.18 1486.25 Q1797 1486.25 1794.73 1485.88 Q1792.49 1485.51 1790.08 1484.77 L1790.08 1480.07 Q1792.16 1481.2 1794.39 1481.76 Q1796.61 1482.32 1799.09 1482.32 Q1803.09 1482.32 1805.43 1480.21 Q1807.77 1478.1 1807.77 1474.49 Q1807.77 1470.88 1805.43 1468.77 Q1803.09 1466.67 1799.09 1466.67 Q1797.21 1466.67 1795.34 1467.08 Q1793.48 1467.5 1791.54 1468.38 L1791.54 1451.02 Z\" fill=\"#000000\" fill-rule=\"evenodd\" fill-opacity=\"1\" /><path clip-path=\"url(#clip340)\" d=\"M1831.66 1454.1 Q1828.04 1454.1 1826.22 1457.66 Q1824.41 1461.2 1824.41 1468.33 Q1824.41 1475.44 1826.22 1479.01 Q1828.04 1482.55 1831.66 1482.55 Q1835.29 1482.55 1837.1 1479.01 Q1838.92 1475.44 1838.92 1468.33 Q1838.92 1461.2 1837.1 1457.66 Q1835.29 1454.1 1831.66 1454.1 M1831.66 1450.39 Q1837.47 1450.39 1840.52 1455 Q1843.6 1459.58 1843.6 1468.33 Q1843.6 1477.06 1840.52 1481.67 Q1837.47 1486.25 1831.66 1486.25 Q1825.85 1486.25 1822.77 1481.67 Q1819.71 1477.06 1819.71 1468.33 Q1819.71 1459.58 1822.77 1455 Q1825.85 1450.39 1831.66 1450.39 Z\" fill=\"#000000\" fill-rule=\"evenodd\" fill-opacity=\"1\" /><path clip-path=\"url(#clip340)\" d=\"M2238.31 1481.64 L2245.95 1481.64 L2245.95 1455.28 L2237.64 1456.95 L2237.64 1452.69 L2245.9 1451.02 L2250.58 1451.02 L2250.58 1481.64 L2258.22 1481.64 L2258.22 1485.58 L2238.31 1485.58 L2238.31 1481.64 Z\" fill=\"#000000\" fill-rule=\"evenodd\" fill-opacity=\"1\" /><path clip-path=\"url(#clip340)\" d=\"M2277.66 1454.1 Q2274.05 1454.1 2272.22 1457.66 Q2270.42 1461.2 2270.42 1468.33 Q2270.42 1475.44 2272.22 1479.01 Q2274.05 1482.55 2277.66 1482.55 Q2281.3 1482.55 2283.1 1479.01 Q2284.93 1475.44 2284.93 1468.33 Q2284.93 1461.2 2283.1 1457.66 Q2281.3 1454.1 2277.66 1454.1 M2277.66 1450.39 Q2283.47 1450.39 2286.53 1455 Q2289.61 1459.58 2289.61 1468.33 Q2289.61 1477.06 2286.53 1481.67 Q2283.47 1486.25 2277.66 1486.25 Q2271.85 1486.25 2268.77 1481.67 Q2265.72 1477.06 2265.72 1468.33 Q2265.72 1459.58 2268.77 1455 Q2271.85 1450.39 2277.66 1450.39 Z\" fill=\"#000000\" fill-rule=\"evenodd\" fill-opacity=\"1\" /><path clip-path=\"url(#clip340)\" d=\"M2307.82 1454.1 Q2304.21 1454.1 2302.39 1457.66 Q2300.58 1461.2 2300.58 1468.33 Q2300.58 1475.44 2302.39 1479.01 Q2304.21 1482.55 2307.82 1482.55 Q2311.46 1482.55 2313.26 1479.01 Q2315.09 1475.44 2315.09 1468.33 Q2315.09 1461.2 2313.26 1457.66 Q2311.46 1454.1 2307.82 1454.1 M2307.82 1450.39 Q2313.64 1450.39 2316.69 1455 Q2319.77 1459.58 2319.77 1468.33 Q2319.77 1477.06 2316.69 1481.67 Q2313.64 1486.25 2307.82 1486.25 Q2302.01 1486.25 2298.94 1481.67 Q2295.88 1477.06 2295.88 1468.33 Q2295.88 1459.58 2298.94 1455 Q2302.01 1450.39 2307.82 1450.39 Z\" fill=\"#000000\" fill-rule=\"evenodd\" fill-opacity=\"1\" /><path clip-path=\"url(#clip340)\" d=\"M2337.99 1454.1 Q2334.38 1454.1 2332.55 1457.66 Q2330.74 1461.2 2330.74 1468.33 Q2330.74 1475.44 2332.55 1479.01 Q2334.38 1482.55 2337.99 1482.55 Q2341.62 1482.55 2343.43 1479.01 Q2345.26 1475.44 2345.26 1468.33 Q2345.26 1461.2 2343.43 1457.66 Q2341.62 1454.1 2337.99 1454.1 M2337.99 1450.39 Q2343.8 1450.39 2346.85 1455 Q2349.93 1459.58 2349.93 1468.33 Q2349.93 1477.06 2346.85 1481.67 Q2343.8 1486.25 2337.99 1486.25 Q2332.18 1486.25 2329.1 1481.67 Q2326.04 1477.06 2326.04 1468.33 Q2326.04 1459.58 2329.1 1455 Q2332.18 1450.39 2337.99 1450.39 Z\" fill=\"#000000\" fill-rule=\"evenodd\" fill-opacity=\"1\" /><path clip-path=\"url(#clip340)\" d=\"M1050.03 1520.52 L1090.23 1520.52 L1090.23 1525.93 L1073.36 1525.93 L1073.36 1568.04 L1066.9 1568.04 L1066.9 1525.93 L1050.03 1525.93 L1050.03 1520.52 Z\" fill=\"#000000\" fill-rule=\"evenodd\" fill-opacity=\"1\" /><path clip-path=\"url(#clip340)\" d=\"M1115.6 1548.76 L1115.6 1551.62 L1088.67 1551.62 Q1089.06 1557.67 1092.3 1560.85 Q1095.58 1564 1101.41 1564 Q1104.78 1564 1107.93 1563.17 Q1111.11 1562.35 1114.23 1560.69 L1114.23 1566.23 Q1111.08 1567.57 1107.77 1568.27 Q1104.46 1568.97 1101.06 1568.97 Q1092.53 1568.97 1087.53 1564 Q1082.56 1559.04 1082.56 1550.57 Q1082.56 1541.82 1087.27 1536.69 Q1092.02 1531.54 1100.04 1531.54 Q1107.23 1531.54 1111.4 1536.18 Q1115.6 1540.8 1115.6 1548.76 M1109.74 1547.04 Q1109.68 1542.23 1107.04 1539.37 Q1104.43 1536.5 1100.1 1536.5 Q1095.2 1536.5 1092.24 1539.27 Q1089.31 1542.04 1088.87 1547.07 L1109.74 1547.04 Z\" fill=\"#000000\" fill-rule=\"evenodd\" fill-opacity=\"1\" /><path clip-path=\"url(#clip340)\" d=\"M1152.97 1539.24 Q1155.16 1535.29 1158.22 1533.41 Q1161.28 1531.54 1165.41 1531.54 Q1170.98 1531.54 1174.01 1535.45 Q1177.03 1539.33 1177.03 1546.53 L1177.03 1568.04 L1171.14 1568.04 L1171.14 1546.72 Q1171.14 1541.59 1169.33 1539.11 Q1167.51 1536.63 1163.79 1536.63 Q1159.24 1536.63 1156.6 1539.65 Q1153.95 1542.68 1153.95 1547.9 L1153.95 1568.04 L1148.07 1568.04 L1148.07 1546.72 Q1148.07 1541.56 1146.25 1539.11 Q1144.44 1536.63 1140.65 1536.63 Q1136.16 1536.63 1133.52 1539.68 Q1130.88 1542.71 1130.88 1547.9 L1130.88 1568.04 L1124.99 1568.04 L1124.99 1532.4 L1130.88 1532.4 L1130.88 1537.93 Q1132.88 1534.66 1135.69 1533.1 Q1138.49 1531.54 1142.34 1531.54 Q1146.22 1531.54 1148.93 1533.51 Q1151.66 1535.48 1152.97 1539.24 Z\" fill=\"#000000\" fill-rule=\"evenodd\" fill-opacity=\"1\" /><path clip-path=\"url(#clip340)\" d=\"M1194.38 1562.7 L1194.38 1581.6 L1188.49 1581.6 L1188.49 1532.4 L1194.38 1532.4 L1194.38 1537.81 Q1196.22 1534.62 1199.02 1533.1 Q1201.86 1531.54 1205.77 1531.54 Q1212.26 1531.54 1216.31 1536.69 Q1220.38 1541.85 1220.38 1550.25 Q1220.38 1558.65 1216.31 1563.81 Q1212.26 1568.97 1205.77 1568.97 Q1201.86 1568.97 1199.02 1567.44 Q1196.22 1565.88 1194.38 1562.7 M1214.3 1550.25 Q1214.3 1543.79 1211.63 1540.13 Q1208.99 1536.44 1204.34 1536.44 Q1199.69 1536.44 1197.02 1540.13 Q1194.38 1543.79 1194.38 1550.25 Q1194.38 1556.71 1197.02 1560.4 Q1199.69 1564.07 1204.34 1564.07 Q1208.99 1564.07 1211.63 1560.4 Q1214.3 1556.71 1214.3 1550.25 Z\" fill=\"#000000\" fill-rule=\"evenodd\" fill-opacity=\"1\" /><path clip-path=\"url(#clip340)\" d=\"M1260.58 1548.76 L1260.58 1551.62 L1233.65 1551.62 Q1234.04 1557.67 1237.28 1560.85 Q1240.56 1564 1246.38 1564 Q1249.76 1564 1252.91 1563.17 Q1256.09 1562.35 1259.21 1560.69 L1259.21 1566.23 Q1256.06 1567.57 1252.75 1568.27 Q1249.44 1568.97 1246.03 1568.97 Q1237.5 1568.97 1232.51 1564 Q1227.54 1559.04 1227.54 1550.57 Q1227.54 1541.82 1232.25 1536.69 Q1237 1531.54 1245.02 1531.54 Q1252.21 1531.54 1256.38 1536.18 Q1260.58 1540.8 1260.58 1548.76 M1254.72 1547.04 Q1254.66 1542.23 1252.02 1539.37 Q1249.41 1536.5 1245.08 1536.5 Q1240.18 1536.5 1237.22 1539.27 Q1234.29 1542.04 1233.84 1547.07 L1254.72 1547.04 Z\" fill=\"#000000\" fill-rule=\"evenodd\" fill-opacity=\"1\" /><path clip-path=\"url(#clip340)\" d=\"M1290.85 1537.87 Q1289.86 1537.3 1288.68 1537.04 Q1287.54 1536.76 1286.14 1536.76 Q1281.17 1536.76 1278.5 1540 Q1275.86 1543.22 1275.86 1549.27 L1275.86 1568.04 L1269.97 1568.04 L1269.97 1532.4 L1275.86 1532.4 L1275.86 1537.93 Q1277.7 1534.69 1280.66 1533.13 Q1283.62 1531.54 1287.86 1531.54 Q1288.46 1531.54 1289.19 1531.63 Q1289.93 1531.7 1290.82 1531.85 L1290.85 1537.87 Z\" fill=\"#000000\" fill-rule=\"evenodd\" fill-opacity=\"1\" /><path clip-path=\"url(#clip340)\" d=\"M1313.19 1550.12 Q1306.1 1550.12 1303.36 1551.75 Q1300.62 1553.37 1300.62 1557.29 Q1300.62 1560.4 1302.66 1562.25 Q1304.73 1564.07 1308.26 1564.07 Q1313.13 1564.07 1316.06 1560.63 Q1319.02 1557.16 1319.02 1551.43 L1319.02 1550.12 L1313.19 1550.12 M1324.87 1547.71 L1324.87 1568.04 L1319.02 1568.04 L1319.02 1562.63 Q1317.01 1565.88 1314.02 1567.44 Q1311.03 1568.97 1306.7 1568.97 Q1301.23 1568.97 1297.98 1565.91 Q1294.76 1562.82 1294.76 1557.67 Q1294.76 1551.65 1298.77 1548.6 Q1302.82 1545.54 1310.81 1545.54 L1319.02 1545.54 L1319.02 1544.97 Q1319.02 1540.93 1316.34 1538.73 Q1313.7 1536.5 1308.9 1536.5 Q1305.84 1536.5 1302.94 1537.23 Q1300.05 1537.97 1297.37 1539.43 L1297.37 1534.02 Q1300.59 1532.78 1303.61 1532.17 Q1306.64 1531.54 1309.5 1531.54 Q1317.24 1531.54 1321.05 1535.55 Q1324.87 1539.56 1324.87 1547.71 Z\" fill=\"#000000\" fill-rule=\"evenodd\" fill-opacity=\"1\" /><path clip-path=\"url(#clip340)\" d=\"M1342.73 1522.27 L1342.73 1532.4 L1354.79 1532.4 L1354.79 1536.95 L1342.73 1536.95 L1342.73 1556.3 Q1342.73 1560.66 1343.91 1561.9 Q1345.12 1563.14 1348.78 1563.14 L1354.79 1563.14 L1354.79 1568.04 L1348.78 1568.04 Q1342 1568.04 1339.42 1565.53 Q1336.84 1562.98 1336.84 1556.3 L1336.84 1536.95 L1332.54 1536.95 L1332.54 1532.4 L1336.84 1532.4 L1336.84 1522.27 L1342.73 1522.27 Z\" fill=\"#000000\" fill-rule=\"evenodd\" fill-opacity=\"1\" /><path clip-path=\"url(#clip340)\" d=\"M1361.89 1553.98 L1361.89 1532.4 L1367.75 1532.4 L1367.75 1553.75 Q1367.75 1558.81 1369.72 1561.36 Q1371.69 1563.87 1375.64 1563.87 Q1380.38 1563.87 1383.12 1560.85 Q1385.89 1557.83 1385.89 1552.61 L1385.89 1532.4 L1391.75 1532.4 L1391.75 1568.04 L1385.89 1568.04 L1385.89 1562.57 Q1383.76 1565.82 1380.92 1567.41 Q1378.12 1568.97 1374.4 1568.97 Q1368.26 1568.97 1365.07 1565.15 Q1361.89 1561.33 1361.89 1553.98 M1376.63 1531.54 L1376.63 1531.54 Z\" fill=\"#000000\" fill-rule=\"evenodd\" fill-opacity=\"1\" /><path clip-path=\"url(#clip340)\" d=\"M1424.47 1537.87 Q1423.48 1537.3 1422.3 1537.04 Q1421.16 1536.76 1419.75 1536.76 Q1414.79 1536.76 1412.12 1540 Q1409.47 1543.22 1409.47 1549.27 L1409.47 1568.04 L1403.59 1568.04 L1403.59 1532.4 L1409.47 1532.4 L1409.47 1537.93 Q1411.32 1534.69 1414.28 1533.13 Q1417.24 1531.54 1421.47 1531.54 Q1422.08 1531.54 1422.81 1531.63 Q1423.54 1531.7 1424.43 1531.85 L1424.47 1537.87 Z\" fill=\"#000000\" fill-rule=\"evenodd\" fill-opacity=\"1\" /><path clip-path=\"url(#clip340)\" d=\"M1459.67 1548.76 L1459.67 1551.62 L1432.74 1551.62 Q1433.12 1557.67 1436.37 1560.85 Q1439.65 1564 1445.47 1564 Q1448.85 1564 1452 1563.17 Q1455.18 1562.35 1458.3 1560.69 L1458.3 1566.23 Q1455.15 1567.57 1451.84 1568.27 Q1448.53 1568.97 1445.12 1568.97 Q1436.59 1568.97 1431.6 1564 Q1426.63 1559.04 1426.63 1550.57 Q1426.63 1541.82 1431.34 1536.69 Q1436.08 1531.54 1444.1 1531.54 Q1451.3 1531.54 1455.47 1536.18 Q1459.67 1540.8 1459.67 1548.76 M1453.81 1547.04 Q1453.75 1542.23 1451.11 1539.37 Q1448.5 1536.5 1444.17 1536.5 Q1439.27 1536.5 1436.31 1539.27 Q1433.38 1542.04 1432.93 1547.07 L1453.81 1547.04 Z\" fill=\"#000000\" fill-rule=\"evenodd\" fill-opacity=\"1\" /><path clip-path=\"url(#clip340)\" d=\"M1504.07 1518.58 Q1499.8 1525.9 1497.73 1533.06 Q1495.67 1540.23 1495.67 1547.58 Q1495.67 1554.93 1497.73 1562.16 Q1499.84 1569.35 1504.07 1576.64 L1498.98 1576.64 Q1494.2 1569.16 1491.81 1561.93 Q1489.46 1554.71 1489.46 1547.58 Q1489.46 1540.48 1491.81 1533.29 Q1494.17 1526.09 1498.98 1518.58 L1504.07 1518.58 Z\" fill=\"#000000\" fill-rule=\"evenodd\" fill-opacity=\"1\" /><path clip-path=\"url(#clip340)\" d=\"M1515.69 1520.52 L1522.12 1520.52 L1522.12 1540.61 L1543.44 1520.52 L1551.72 1520.52 L1528.13 1542.68 L1553.4 1568.04 L1544.94 1568.04 L1522.12 1545.16 L1522.12 1568.04 L1515.69 1568.04 L1515.69 1520.52 Z\" fill=\"#000000\" fill-rule=\"evenodd\" fill-opacity=\"1\" /><path clip-path=\"url(#clip340)\" d=\"M1557.25 1518.58 L1562.35 1518.58 Q1567.12 1526.09 1569.48 1533.29 Q1571.86 1540.48 1571.86 1547.58 Q1571.86 1554.71 1569.48 1561.93 Q1567.12 1569.16 1562.35 1576.64 L1557.25 1576.64 Q1561.49 1569.35 1563.56 1562.16 Q1565.66 1554.93 1565.66 1547.58 Q1565.66 1540.23 1563.56 1533.06 Q1561.49 1525.9 1557.25 1518.58 Z\" fill=\"#000000\" fill-rule=\"evenodd\" fill-opacity=\"1\" /><polyline clip-path=\"url(#clip343)\" style=\"stroke:#000000; stroke-linecap:butt; stroke-linejoin:round; stroke-width:2; stroke-opacity:0.1; fill:none\" points=\"\n",
       "  269.142,1391.91 2352.76,1391.91 \n",
       "  \"/>\n",
       "<polyline clip-path=\"url(#clip343)\" style=\"stroke:#000000; stroke-linecap:butt; stroke-linejoin:round; stroke-width:2; stroke-opacity:0.1; fill:none\" points=\"\n",
       "  269.142,1187.71 2352.76,1187.71 \n",
       "  \"/>\n",
       "<polyline clip-path=\"url(#clip343)\" style=\"stroke:#000000; stroke-linecap:butt; stroke-linejoin:round; stroke-width:2; stroke-opacity:0.1; fill:none\" points=\"\n",
       "  269.142,983.511 2352.76,983.511 \n",
       "  \"/>\n",
       "<polyline clip-path=\"url(#clip343)\" style=\"stroke:#000000; stroke-linecap:butt; stroke-linejoin:round; stroke-width:2; stroke-opacity:0.1; fill:none\" points=\"\n",
       "  269.142,779.31 2352.76,779.31 \n",
       "  \"/>\n",
       "<polyline clip-path=\"url(#clip343)\" style=\"stroke:#000000; stroke-linecap:butt; stroke-linejoin:round; stroke-width:2; stroke-opacity:0.1; fill:none\" points=\"\n",
       "  269.142,575.11 2352.76,575.11 \n",
       "  \"/>\n",
       "<polyline clip-path=\"url(#clip343)\" style=\"stroke:#000000; stroke-linecap:butt; stroke-linejoin:round; stroke-width:2; stroke-opacity:0.1; fill:none\" points=\"\n",
       "  269.142,370.909 2352.76,370.909 \n",
       "  \"/>\n",
       "<polyline clip-path=\"url(#clip340)\" style=\"stroke:#000000; stroke-linecap:butt; stroke-linejoin:round; stroke-width:4; stroke-opacity:1; fill:none\" points=\"\n",
       "  269.142,1423.18 269.142,168.039 \n",
       "  \"/>\n",
       "<polyline clip-path=\"url(#clip340)\" style=\"stroke:#000000; stroke-linecap:butt; stroke-linejoin:round; stroke-width:4; stroke-opacity:1; fill:none\" points=\"\n",
       "  269.142,1391.91 288.04,1391.91 \n",
       "  \"/>\n",
       "<polyline clip-path=\"url(#clip340)\" style=\"stroke:#000000; stroke-linecap:butt; stroke-linejoin:round; stroke-width:4; stroke-opacity:1; fill:none\" points=\"\n",
       "  269.142,1187.71 288.04,1187.71 \n",
       "  \"/>\n",
       "<polyline clip-path=\"url(#clip340)\" style=\"stroke:#000000; stroke-linecap:butt; stroke-linejoin:round; stroke-width:4; stroke-opacity:1; fill:none\" points=\"\n",
       "  269.142,983.511 288.04,983.511 \n",
       "  \"/>\n",
       "<polyline clip-path=\"url(#clip340)\" style=\"stroke:#000000; stroke-linecap:butt; stroke-linejoin:round; stroke-width:4; stroke-opacity:1; fill:none\" points=\"\n",
       "  269.142,779.31 288.04,779.31 \n",
       "  \"/>\n",
       "<polyline clip-path=\"url(#clip340)\" style=\"stroke:#000000; stroke-linecap:butt; stroke-linejoin:round; stroke-width:4; stroke-opacity:1; fill:none\" points=\"\n",
       "  269.142,575.11 288.04,575.11 \n",
       "  \"/>\n",
       "<polyline clip-path=\"url(#clip340)\" style=\"stroke:#000000; stroke-linecap:butt; stroke-linejoin:round; stroke-width:4; stroke-opacity:1; fill:none\" points=\"\n",
       "  269.142,370.909 288.04,370.909 \n",
       "  \"/>\n",
       "<path clip-path=\"url(#clip340)\" d=\"M221.198 1377.71 Q217.587 1377.71 215.758 1381.28 Q213.952 1384.82 213.952 1391.95 Q213.952 1399.05 215.758 1402.62 Q217.587 1406.16 221.198 1406.16 Q224.832 1406.16 226.638 1402.62 Q228.466 1399.05 228.466 1391.95 Q228.466 1384.82 226.638 1381.28 Q224.832 1377.71 221.198 1377.71 M221.198 1374.01 Q227.008 1374.01 230.063 1378.61 Q233.142 1383.2 233.142 1391.95 Q233.142 1400.67 230.063 1405.28 Q227.008 1409.86 221.198 1409.86 Q215.388 1409.86 212.309 1405.28 Q209.253 1400.67 209.253 1391.95 Q209.253 1383.2 212.309 1378.61 Q215.388 1374.01 221.198 1374.01 Z\" fill=\"#000000\" fill-rule=\"evenodd\" fill-opacity=\"1\" /><path clip-path=\"url(#clip340)\" d=\"M181.082 1170.43 L199.439 1170.43 L199.439 1174.37 L185.365 1174.37 L185.365 1182.84 Q186.383 1182.49 187.402 1182.33 Q188.42 1182.14 189.439 1182.14 Q195.226 1182.14 198.605 1185.32 Q201.985 1188.49 201.985 1193.9 Q201.985 1199.48 198.513 1202.58 Q195.04 1205.66 188.721 1205.66 Q186.545 1205.66 184.277 1205.29 Q182.031 1204.92 179.624 1204.18 L179.624 1199.48 Q181.707 1200.62 183.929 1201.17 Q186.152 1201.73 188.628 1201.73 Q192.633 1201.73 194.971 1199.62 Q197.309 1197.51 197.309 1193.9 Q197.309 1190.29 194.971 1188.19 Q192.633 1186.08 188.628 1186.08 Q186.753 1186.08 184.878 1186.5 Q183.027 1186.91 181.082 1187.79 L181.082 1170.43 Z\" fill=\"#000000\" fill-rule=\"evenodd\" fill-opacity=\"1\" /><path clip-path=\"url(#clip340)\" d=\"M221.198 1173.51 Q217.587 1173.51 215.758 1177.08 Q213.952 1180.62 213.952 1187.75 Q213.952 1194.85 215.758 1198.42 Q217.587 1201.96 221.198 1201.96 Q224.832 1201.96 226.638 1198.42 Q228.466 1194.85 228.466 1187.75 Q228.466 1180.62 226.638 1177.08 Q224.832 1173.51 221.198 1173.51 M221.198 1169.81 Q227.008 1169.81 230.063 1174.41 Q233.142 1179 233.142 1187.75 Q233.142 1196.47 230.063 1201.08 Q227.008 1205.66 221.198 1205.66 Q215.388 1205.66 212.309 1201.08 Q209.253 1196.47 209.253 1187.75 Q209.253 1179 212.309 1174.41 Q215.388 1169.81 221.198 1169.81 Z\" fill=\"#000000\" fill-rule=\"evenodd\" fill-opacity=\"1\" /><path clip-path=\"url(#clip340)\" d=\"M151.684 996.856 L159.323 996.856 L159.323 970.49 L151.013 972.157 L151.013 967.898 L159.277 966.231 L163.953 966.231 L163.953 996.856 L171.592 996.856 L171.592 1000.79 L151.684 1000.79 L151.684 996.856 Z\" fill=\"#000000\" fill-rule=\"evenodd\" fill-opacity=\"1\" /><path clip-path=\"url(#clip340)\" d=\"M191.036 969.31 Q187.425 969.31 185.596 972.874 Q183.791 976.416 183.791 983.546 Q183.791 990.652 185.596 994.217 Q187.425 997.759 191.036 997.759 Q194.67 997.759 196.476 994.217 Q198.304 990.652 198.304 983.546 Q198.304 976.416 196.476 972.874 Q194.67 969.31 191.036 969.31 M191.036 965.606 Q196.846 965.606 199.902 970.212 Q202.98 974.796 202.98 983.546 Q202.98 992.272 199.902 996.879 Q196.846 1001.46 191.036 1001.46 Q185.226 1001.46 182.147 996.879 Q179.091 992.272 179.091 983.546 Q179.091 974.796 182.147 970.212 Q185.226 965.606 191.036 965.606 Z\" fill=\"#000000\" fill-rule=\"evenodd\" fill-opacity=\"1\" /><path clip-path=\"url(#clip340)\" d=\"M221.198 969.31 Q217.587 969.31 215.758 972.874 Q213.952 976.416 213.952 983.546 Q213.952 990.652 215.758 994.217 Q217.587 997.759 221.198 997.759 Q224.832 997.759 226.638 994.217 Q228.466 990.652 228.466 983.546 Q228.466 976.416 226.638 972.874 Q224.832 969.31 221.198 969.31 M221.198 965.606 Q227.008 965.606 230.063 970.212 Q233.142 974.796 233.142 983.546 Q233.142 992.272 230.063 996.879 Q227.008 1001.46 221.198 1001.46 Q215.388 1001.46 212.309 996.879 Q209.253 992.272 209.253 983.546 Q209.253 974.796 212.309 970.212 Q215.388 965.606 221.198 965.606 Z\" fill=\"#000000\" fill-rule=\"evenodd\" fill-opacity=\"1\" /><path clip-path=\"url(#clip340)\" d=\"M151.684 792.655 L159.323 792.655 L159.323 766.29 L151.013 767.956 L151.013 763.697 L159.277 762.03 L163.953 762.03 L163.953 792.655 L171.592 792.655 L171.592 796.59 L151.684 796.59 L151.684 792.655 Z\" fill=\"#000000\" fill-rule=\"evenodd\" fill-opacity=\"1\" /><path clip-path=\"url(#clip340)\" d=\"M181.082 762.03 L199.439 762.03 L199.439 765.965 L185.365 765.965 L185.365 774.438 Q186.383 774.09 187.402 773.928 Q188.42 773.743 189.439 773.743 Q195.226 773.743 198.605 776.914 Q201.985 780.086 201.985 785.502 Q201.985 791.081 198.513 794.183 Q195.04 797.262 188.721 797.262 Q186.545 797.262 184.277 796.891 Q182.031 796.521 179.624 795.78 L179.624 791.081 Q181.707 792.215 183.929 792.771 Q186.152 793.326 188.628 793.326 Q192.633 793.326 194.971 791.22 Q197.309 789.113 197.309 785.502 Q197.309 781.891 194.971 779.785 Q192.633 777.678 188.628 777.678 Q186.753 777.678 184.878 778.095 Q183.027 778.512 181.082 779.391 L181.082 762.03 Z\" fill=\"#000000\" fill-rule=\"evenodd\" fill-opacity=\"1\" /><path clip-path=\"url(#clip340)\" d=\"M221.198 765.109 Q217.587 765.109 215.758 768.674 Q213.952 772.215 213.952 779.345 Q213.952 786.451 215.758 790.016 Q217.587 793.558 221.198 793.558 Q224.832 793.558 226.638 790.016 Q228.466 786.451 228.466 779.345 Q228.466 772.215 226.638 768.674 Q224.832 765.109 221.198 765.109 M221.198 761.405 Q227.008 761.405 230.063 766.012 Q233.142 770.595 233.142 779.345 Q233.142 788.072 230.063 792.678 Q227.008 797.262 221.198 797.262 Q215.388 797.262 212.309 792.678 Q209.253 788.072 209.253 779.345 Q209.253 770.595 212.309 766.012 Q215.388 761.405 221.198 761.405 Z\" fill=\"#000000\" fill-rule=\"evenodd\" fill-opacity=\"1\" /><path clip-path=\"url(#clip340)\" d=\"M154.902 588.454 L171.221 588.454 L171.221 592.39 L149.277 592.39 L149.277 588.454 Q151.939 585.7 156.522 581.07 Q161.129 576.418 162.309 575.075 Q164.555 572.552 165.434 570.816 Q166.337 569.056 166.337 567.367 Q166.337 564.612 164.392 562.876 Q162.471 561.14 159.369 561.14 Q157.17 561.14 154.717 561.904 Q152.286 562.668 149.508 564.219 L149.508 559.496 Q152.332 558.362 154.786 557.783 Q157.24 557.205 159.277 557.205 Q164.647 557.205 167.842 559.89 Q171.036 562.575 171.036 567.066 Q171.036 569.195 170.226 571.117 Q169.439 573.015 167.332 575.607 Q166.754 576.279 163.652 579.496 Q160.55 582.691 154.902 588.454 Z\" fill=\"#000000\" fill-rule=\"evenodd\" fill-opacity=\"1\" /><path clip-path=\"url(#clip340)\" d=\"M191.036 560.908 Q187.425 560.908 185.596 564.473 Q183.791 568.015 183.791 575.144 Q183.791 582.251 185.596 585.816 Q187.425 589.357 191.036 589.357 Q194.67 589.357 196.476 585.816 Q198.304 582.251 198.304 575.144 Q198.304 568.015 196.476 564.473 Q194.67 560.908 191.036 560.908 M191.036 557.205 Q196.846 557.205 199.902 561.811 Q202.98 566.394 202.98 575.144 Q202.98 583.871 199.902 588.478 Q196.846 593.061 191.036 593.061 Q185.226 593.061 182.147 588.478 Q179.091 583.871 179.091 575.144 Q179.091 566.394 182.147 561.811 Q185.226 557.205 191.036 557.205 Z\" fill=\"#000000\" fill-rule=\"evenodd\" fill-opacity=\"1\" /><path clip-path=\"url(#clip340)\" d=\"M221.198 560.908 Q217.587 560.908 215.758 564.473 Q213.952 568.015 213.952 575.144 Q213.952 582.251 215.758 585.816 Q217.587 589.357 221.198 589.357 Q224.832 589.357 226.638 585.816 Q228.466 582.251 228.466 575.144 Q228.466 568.015 226.638 564.473 Q224.832 560.908 221.198 560.908 M221.198 557.205 Q227.008 557.205 230.063 561.811 Q233.142 566.394 233.142 575.144 Q233.142 583.871 230.063 588.478 Q227.008 593.061 221.198 593.061 Q215.388 593.061 212.309 588.478 Q209.253 583.871 209.253 575.144 Q209.253 566.394 212.309 561.811 Q215.388 557.205 221.198 557.205 Z\" fill=\"#000000\" fill-rule=\"evenodd\" fill-opacity=\"1\" /><path clip-path=\"url(#clip340)\" d=\"M154.902 384.254 L171.221 384.254 L171.221 388.189 L149.277 388.189 L149.277 384.254 Q151.939 381.499 156.522 376.87 Q161.129 372.217 162.309 370.874 Q164.555 368.351 165.434 366.615 Q166.337 364.856 166.337 363.166 Q166.337 360.411 164.392 358.675 Q162.471 356.939 159.369 356.939 Q157.17 356.939 154.717 357.703 Q152.286 358.467 149.508 360.018 L149.508 355.296 Q152.332 354.161 154.786 353.583 Q157.24 353.004 159.277 353.004 Q164.647 353.004 167.842 355.689 Q171.036 358.374 171.036 362.865 Q171.036 364.995 170.226 366.916 Q169.439 368.814 167.332 371.407 Q166.754 372.078 163.652 375.296 Q160.55 378.49 154.902 384.254 Z\" fill=\"#000000\" fill-rule=\"evenodd\" fill-opacity=\"1\" /><path clip-path=\"url(#clip340)\" d=\"M181.082 353.629 L199.439 353.629 L199.439 357.564 L185.365 357.564 L185.365 366.036 Q186.383 365.689 187.402 365.527 Q188.42 365.342 189.439 365.342 Q195.226 365.342 198.605 368.513 Q201.985 371.684 201.985 377.101 Q201.985 382.68 198.513 385.782 Q195.04 388.86 188.721 388.86 Q186.545 388.86 184.277 388.49 Q182.031 388.12 179.624 387.379 L179.624 382.68 Q181.707 383.814 183.929 384.37 Q186.152 384.925 188.628 384.925 Q192.633 384.925 194.971 382.819 Q197.309 380.712 197.309 377.101 Q197.309 373.49 194.971 371.384 Q192.633 369.277 188.628 369.277 Q186.753 369.277 184.878 369.694 Q183.027 370.11 181.082 370.99 L181.082 353.629 Z\" fill=\"#000000\" fill-rule=\"evenodd\" fill-opacity=\"1\" /><path clip-path=\"url(#clip340)\" d=\"M221.198 356.708 Q217.587 356.708 215.758 360.273 Q213.952 363.814 213.952 370.944 Q213.952 378.05 215.758 381.615 Q217.587 385.157 221.198 385.157 Q224.832 385.157 226.638 381.615 Q228.466 378.05 228.466 370.944 Q228.466 363.814 226.638 360.273 Q224.832 356.708 221.198 356.708 M221.198 353.004 Q227.008 353.004 230.063 357.61 Q233.142 362.194 233.142 370.944 Q233.142 379.671 230.063 384.277 Q227.008 388.86 221.198 388.86 Q215.388 388.86 212.309 384.277 Q209.253 379.671 209.253 370.944 Q209.253 362.194 212.309 357.61 Q215.388 353.004 221.198 353.004 Z\" fill=\"#000000\" fill-rule=\"evenodd\" fill-opacity=\"1\" /><path clip-path=\"url(#clip340)\" d=\"M11.3729 797.779 Q14.98 797.779 18.2972 800.452 Q21.6144 803.093 23.6434 807.408 Q25.6401 811.692 25.6401 816.297 L25.6401 827.505 L42.1295 831.595 Q42.2262 831.627 42.6448 831.724 Q43.0313 831.821 43.2567 831.821 Q44.0619 831.821 44.2551 830.822 Q44.4484 829.792 44.4484 827.505 Q44.4484 826.023 44.706 825.798 Q44.867 825.669 45.1569 825.669 Q45.6078 825.669 45.9298 825.798 Q46.2197 825.927 46.3163 826.184 Q46.4129 826.41 46.4451 826.571 Q46.4773 826.732 46.4773 826.99 Q46.4773 827.666 46.4129 829.115 Q46.3485 830.532 46.3485 831.273 L46.2841 835.492 L46.4773 843.866 Q46.4773 844.864 45.6722 844.864 Q45.0603 844.864 44.8026 844.606 Q44.5128 844.349 44.4806 844.059 Q44.4484 843.769 44.4484 843.028 Q44.4484 841.418 44.3517 840.452 Q44.2551 839.486 44.1263 838.874 Q43.9653 838.229 43.5144 837.907 Q43.0635 837.553 42.677 837.392 Q42.2584 837.231 41.3244 837.006 L5.89794 828.181 Q4.83515 827.924 4.67412 827.924 Q4.12662 827.924 3.93338 828.246 Q3.70794 828.536 3.61132 829.373 Q3.4825 830.983 3.4825 832.207 Q3.4825 833.012 3.45029 833.334 Q3.41809 833.624 3.25706 833.882 Q3.06382 834.107 2.67735 834.107 Q2.06544 834.107 1.80779 833.849 Q1.51794 833.56 1.48574 833.238 Q1.42132 832.916 1.42132 832.143 L1.42132 810.758 Q1.42132 804.607 4.35206 801.193 Q7.28279 797.779 11.3729 797.779 M9.79485 803.898 Q3.4825 803.898 3.4825 812.883 L3.4825 819.196 Q3.4825 821.289 3.86897 821.804 Q4.22323 822.32 5.99456 822.771 L23.9332 827.247 L23.9332 817.94 Q23.9332 811.692 20.4228 807.795 Q18.8125 806.024 15.4631 804.961 Q12.1137 803.898 9.79485 803.898 Z\" fill=\"#000000\" fill-rule=\"evenodd\" fill-opacity=\"1\" /><path clip-path=\"url(#clip340)\" d=\"M2.22647 745.897 Q3.41809 745.961 3.4825 746.766 Q3.54691 747.99 3.70794 748.731 Q3.83676 749.472 4.31985 750.631 Q4.80294 751.79 5.96235 752.918 Q7.12176 754.045 8.9575 755.204 L46.735 778.94 Q47.4435 779.359 47.6689 779.713 Q47.9266 780.035 47.9266 780.776 Q47.9266 781.452 47.6367 781.71 Q47.3791 781.967 46.4129 782.096 L5.7047 787.313 Q4.96397 787.41 4.64191 787.507 Q4.31985 787.603 3.99779 787.99 Q3.67573 788.344 3.57912 789.117 Q3.4825 789.89 3.4825 791.275 Q3.4825 791.919 3.45029 792.209 Q3.41809 792.466 3.25706 792.692 Q3.06382 792.917 2.67735 792.917 Q2.09765 792.917 1.80779 792.692 Q1.48574 792.434 1.45353 792.241 Q1.42132 792.015 1.42132 791.661 Q1.42132 791.114 1.48574 789.922 Q1.55015 788.73 1.55015 788.119 Q1.55015 787.539 1.58235 786.315 Q1.61456 785.091 1.61456 784.479 Q1.61456 783.127 1.51794 780.389 Q1.42132 777.619 1.42132 776.299 Q1.42132 775.397 2.16206 775.397 Q3.06382 775.397 3.28926 775.784 Q3.4825 776.17 3.4825 777.04 Q3.4825 779.23 4.03 780.421 Q4.5775 781.581 5.44706 781.581 L40.3582 777.104 L8.15235 756.847 Q6.63867 755.848 5.64029 755.848 Q3.70794 755.848 3.4825 758.908 Q3.4825 759.938 2.67735 759.938 Q2.09765 759.938 1.80779 759.681 Q1.48574 759.423 1.45353 759.23 Q1.42132 759.004 1.42132 758.682 Q1.42132 757.62 1.51794 755.462 Q1.61456 753.272 1.61456 752.177 Q1.61456 751.275 1.51794 749.439 Q1.42132 747.604 1.42132 746.766 Q1.42132 745.897 2.22647 745.897 Z\" fill=\"#000000\" fill-rule=\"evenodd\" fill-opacity=\"1\" /><path clip-path=\"url(#clip340)\" d=\"\n",
       "M65.5148 844.864 L65.5148 739.315 L61.9948 739.315 L61.9948 844.864  Z\n",
       "  \" fill=\"#000000\" fill-rule=\"evenodd\" fill-opacity=\"1\"/>\n",
       "<path clip-path=\"url(#clip340)\" d=\"M87.7306 800.961 Q86.6678 800.961 85.7982 801.251 Q84.8965 801.508 84.2846 801.927 Q83.6404 802.313 83.1574 803.054 Q82.6421 803.795 82.32 804.407 Q81.9979 805.019 81.8047 806.049 Q81.5793 807.08 81.4826 807.756 Q81.3538 808.433 81.2894 809.592 Q81.225 810.751 81.225 811.331 Q81.225 811.879 81.225 812.974 Q81.225 816.42 81.2894 816.999 Q81.4182 817.869 81.9335 818.191 Q82.4166 818.513 83.7371 818.835 L100.935 823.118 L100.935 815.743 Q100.935 811.718 99.8078 808.948 Q98.6806 806.178 97.1025 804.6 Q95.3634 802.861 92.5615 801.927 Q89.7596 800.961 87.7306 800.961 M118.101 793.779 Q118.455 793.779 119.26 794.069 Q120.065 794.326 121.192 794.971 Q122.287 795.615 123.286 796.484 Q124.284 797.354 124.961 798.739 Q125.669 800.123 125.669 801.702 Q125.669 802.088 125.637 802.474 Q125.637 802.861 125.476 803.827 Q125.347 804.761 125.089 805.534 Q124.864 806.307 124.316 807.273 Q123.801 808.239 123.093 808.916 Q122.352 809.56 121.192 810.011 Q120.001 810.462 118.552 810.462 Q117.263 810.462 112.948 809.399 Q109.276 808.465 108.375 808.465 Q107.376 808.465 106.442 808.787 Q105.508 809.077 104.542 809.817 Q103.576 810.526 102.996 812.04 Q102.384 813.553 102.384 815.679 L102.384 823.505 L119.872 827.885 Q119.904 827.885 120.355 827.982 Q120.774 828.078 120.999 828.078 Q121.418 828.078 121.676 827.821 Q121.933 827.531 122.062 826.822 Q122.159 826.114 122.191 825.566 Q122.191 824.986 122.191 823.795 Q122.191 822.313 122.449 822.056 Q122.61 821.927 122.899 821.927 Q123.35 821.927 123.672 822.056 Q123.962 822.152 124.059 822.41 Q124.155 822.635 124.188 822.796 Q124.22 822.957 124.22 823.247 L124.027 831.621 L124.22 839.93 Q124.22 840.864 123.479 840.864 Q122.835 840.864 122.577 840.638 Q122.287 840.413 122.255 840.123 Q122.191 839.833 122.191 839.093 Q122.191 837.482 122.094 836.516 Q121.998 835.55 121.869 834.938 Q121.708 834.294 121.257 833.972 Q120.806 833.618 120.42 833.457 Q120.001 833.296 119.067 833.07 L83.6404 824.246 Q82.5776 823.988 82.4166 823.988 Q81.8047 823.988 81.6437 824.374 Q81.4504 824.729 81.3538 825.759 L81.225 828.271 Q81.225 829.044 81.1928 829.366 Q81.1606 829.656 80.9996 829.882 Q80.8385 830.107 80.4843 830.107 Q79.5825 830.107 79.3893 829.721 Q79.1638 829.334 79.1638 828.207 L79.1638 809.399 Q79.1638 802.99 81.9657 798.932 Q84.7676 794.842 89.051 794.842 Q90.9834 794.842 92.7869 795.711 Q94.5904 796.581 96.0075 798.03 Q97.4245 799.447 98.6162 801.347 Q99.7756 803.247 100.581 805.276 Q101.354 807.273 101.805 809.334 Q102.127 808.433 102.61 807.595 Q103.093 806.726 103.995 805.631 Q104.896 804.503 106.346 803.827 Q107.795 803.151 109.566 803.151 Q110.822 803.151 112.69 803.408 Q118.004 804.053 120.194 804.053 Q122.287 804.053 123.254 803.505 Q124.22 802.958 124.22 801.412 Q124.22 799.898 122.867 798.223 Q121.482 796.516 118.23 795.421 Q117.296 795.164 117.296 794.552 Q117.296 794.52 117.296 794.487 Q117.296 794.423 117.36 794.294 Q117.392 794.165 117.489 794.069 Q117.553 793.94 117.714 793.876 Q117.875 793.779 118.101 793.779 Z\" fill=\"#000000\" fill-rule=\"evenodd\" fill-opacity=\"1\" /><path clip-path=\"url(#clip340)\" d=\"M80.291 749.376 Q80.9029 749.376 81.4182 749.505 L92.8835 751.308 Q93.7531 751.405 94.0751 751.598 Q94.3972 751.759 94.3972 752.274 Q94.3972 753.08 93.5598 753.08 Q93.0768 753.08 92.3038 752.886 Q88.6646 752.339 87.0221 752.339 Q85.9271 752.339 85.1219 752.564 Q84.2846 752.757 83.7049 753.08 Q83.1251 753.369 82.7387 754.046 Q82.3522 754.722 82.1268 755.366 Q81.9013 756.01 81.8047 757.17 Q81.6759 758.329 81.6437 759.327 Q81.6115 760.326 81.6115 761.968 Q81.6115 765.543 81.7403 766.123 Q81.9013 766.735 82.3844 767.057 Q82.8353 767.347 84.1879 767.669 L119.196 776.429 L120.581 776.686 Q121.354 776.686 121.611 776.203 Q121.869 775.72 122.03 774.239 Q122.191 772.113 122.191 770.02 Q122.191 769.955 122.191 769.827 Q122.191 769.118 122.223 768.828 Q122.223 768.538 122.287 768.248 Q122.352 767.959 122.513 767.894 Q122.642 767.798 122.899 767.798 Q123.511 767.798 123.833 768.055 Q124.123 768.313 124.188 768.571 Q124.22 768.796 124.22 769.247 Q124.22 770.149 124.155 772.081 Q124.091 774.013 124.091 774.98 L124.027 780.455 L124.091 786.058 Q124.091 786.928 124.155 788.764 Q124.22 790.599 124.22 791.469 Q124.22 792.596 123.415 792.596 Q122.513 792.596 122.352 792.177 Q122.191 791.727 122.191 789.826 Q122.191 787.153 122.062 785.704 Q121.933 784.255 121.482 783.482 Q121.031 782.677 120.581 782.451 Q120.097 782.226 119.002 781.968 L83.8015 773.112 Q83.0285 772.854 82.4166 772.854 Q82.0946 772.854 81.9657 772.951 Q81.8369 773.015 81.7403 773.434 Q81.6115 773.852 81.6115 774.722 L81.6115 777.298 Q81.6115 779.939 81.7403 781.582 Q81.8369 783.192 82.32 784.738 Q82.8031 786.252 83.4794 787.153 Q84.1557 788.023 85.5406 788.989 Q86.9254 789.955 88.6001 790.664 Q90.2748 791.34 93.0123 792.306 Q93.9141 792.628 94.1718 792.822 Q94.3972 792.983 94.3972 793.433 Q94.3972 793.756 94.204 794.013 Q93.9785 794.239 93.6887 794.239 Q92.6259 793.917 92.4971 793.852 L80.8707 789.891 Q79.9368 789.569 79.7757 789.279 Q79.5825 788.957 79.5825 787.765 L79.5825 751.179 Q79.5825 750.6 79.5825 750.406 Q79.5825 750.213 79.6469 749.891 Q79.7113 749.569 79.8724 749.472 Q80.0334 749.376 80.291 749.376 Z\" fill=\"#000000\" fill-rule=\"evenodd\" fill-opacity=\"1\" /><path clip-path=\"url(#clip340)\" d=\"M606.641 27.8756 Q606.641 32.4664 603.239 36.6883 Q599.878 40.9102 594.385 43.4925 Q588.934 46.0338 583.072 46.0338 L568.808 46.0338 L563.602 67.0203 Q563.561 67.1433 563.438 67.6762 Q563.315 68.168 563.315 68.4549 Q563.315 69.4797 564.586 69.7256 Q565.898 69.9716 568.808 69.9716 Q570.693 69.9716 570.98 70.2995 Q571.144 70.5044 571.144 70.8733 Q571.144 71.4472 570.98 71.8571 Q570.816 72.226 570.488 72.3489 Q570.201 72.4719 569.996 72.5129 Q569.792 72.5539 569.464 72.5539 Q568.603 72.5539 566.758 72.4719 Q564.955 72.3899 564.012 72.3899 L558.642 72.3079 L547.985 72.5539 Q546.715 72.5539 546.715 71.5291 Q546.715 70.7503 547.042 70.4224 Q547.37 70.0535 547.739 70.0125 Q548.108 69.9716 549.051 69.9716 Q551.1 69.9716 552.33 69.8486 Q553.56 69.7256 554.339 69.5617 Q555.158 69.3567 555.568 68.7829 Q556.019 68.209 556.224 67.7171 Q556.429 67.1843 556.716 65.9956 L567.947 20.9074 Q568.275 19.5547 568.275 19.3498 Q568.275 18.653 567.865 18.407 Q567.496 18.1201 566.43 17.9971 Q564.381 17.8332 562.823 17.8332 Q561.799 17.8332 561.389 17.7922 Q561.02 17.7512 560.692 17.5463 Q560.405 17.3003 560.405 16.8085 Q560.405 16.0297 560.733 15.7017 Q561.102 15.3328 561.512 15.2919 Q561.922 15.2099 562.905 15.2099 L590.122 15.2099 Q597.951 15.2099 602.296 18.9399 Q606.641 22.6699 606.641 27.8756 M598.853 25.8671 Q598.853 17.8332 587.417 17.8332 L579.383 17.8332 Q576.719 17.8332 576.063 18.3251 Q575.407 18.7759 574.833 21.0304 L569.136 43.8614 L580.982 43.8614 Q588.934 43.8614 593.893 39.3935 Q596.148 37.3441 597.5 33.0812 Q598.853 28.8183 598.853 25.8671 Z\" fill=\"#000000\" fill-rule=\"evenodd\" fill-opacity=\"1\" /><path clip-path=\"url(#clip340)\" d=\"M672.67 16.2346 Q672.588 17.7512 671.563 17.8332 Q670.006 17.9152 669.063 18.1201 Q668.12 18.2841 666.645 18.8989 Q665.169 19.5137 663.734 20.9894 Q662.3 22.465 660.824 24.8014 L630.615 72.8818 Q630.082 73.7836 629.631 74.0705 Q629.221 74.3984 628.279 74.3984 Q627.418 74.3984 627.09 74.0295 Q626.762 73.7016 626.598 72.4719 L619.958 20.6614 Q619.835 19.7187 619.712 19.3088 Q619.589 18.8989 619.097 18.489 Q618.646 18.0791 617.662 17.9562 Q616.679 17.8332 614.916 17.8332 Q614.096 17.8332 613.727 17.7922 Q613.4 17.7512 613.113 17.5463 Q612.826 17.3003 612.826 16.8085 Q612.826 16.0706 613.113 15.7017 Q613.441 15.2919 613.686 15.2509 Q613.973 15.2099 614.424 15.2099 Q615.121 15.2099 616.638 15.2919 Q618.154 15.3738 618.933 15.3738 Q619.671 15.3738 621.229 15.4148 Q622.786 15.4558 623.565 15.4558 Q625.286 15.4558 628.771 15.3328 Q632.296 15.2099 633.976 15.2099 Q635.124 15.2099 635.124 16.1526 Q635.124 17.3003 634.632 17.5873 Q634.14 17.8332 633.033 17.8332 Q630.246 17.8332 628.73 18.53 Q627.254 19.2268 627.254 20.3335 L632.951 64.7659 L658.734 23.7766 Q660.004 21.8501 660.004 20.5795 Q660.004 18.1201 656.11 17.8332 Q654.799 17.8332 654.799 16.8085 Q654.799 16.0706 655.127 15.7017 Q655.455 15.2919 655.7 15.2509 Q655.987 15.2099 656.397 15.2099 Q657.75 15.2099 660.496 15.3328 Q663.284 15.4558 664.677 15.4558 Q665.825 15.4558 668.161 15.3328 Q670.498 15.2099 671.563 15.2099 Q672.67 15.2099 672.67 16.2346 Z\" fill=\"#000000\" fill-rule=\"evenodd\" fill-opacity=\"1\" /><path clip-path=\"url(#clip340)\" d=\"\n",
       "M546.715 96.782 L681.051 96.782 L681.051 92.302 L546.715 92.302  Z\n",
       "  \" fill=\"#000000\" fill-rule=\"evenodd\" fill-opacity=\"1\"/>\n",
       "<path clip-path=\"url(#clip340)\" d=\"M602.5 125.058 Q602.5 123.705 602.131 122.599 Q601.803 121.451 601.271 120.672 Q600.779 119.852 599.836 119.238 Q598.893 118.582 598.114 118.172 Q597.336 117.762 596.024 117.516 Q594.712 117.229 593.852 117.106 Q592.991 116.942 591.515 116.86 Q590.04 116.778 589.302 116.778 Q588.605 116.778 587.211 116.778 Q582.825 116.778 582.088 116.86 Q580.981 117.024 580.571 117.68 Q580.161 118.295 579.751 119.975 L574.3 141.864 L583.686 141.864 Q588.81 141.864 592.335 140.429 Q595.86 138.994 597.868 136.986 Q600.082 134.772 601.271 131.206 Q602.5 127.64 602.5 125.058 M611.641 163.711 Q611.641 164.162 611.272 165.187 Q610.944 166.211 610.124 167.646 Q609.304 169.04 608.198 170.31 Q607.091 171.581 605.329 172.442 Q603.566 173.343 601.558 173.343 Q601.066 173.343 600.574 173.302 Q600.082 173.302 598.852 173.097 Q597.664 172.933 596.68 172.606 Q595.696 172.319 594.466 171.622 Q593.237 170.966 592.376 170.064 Q591.556 169.121 590.982 167.646 Q590.408 166.129 590.408 164.285 Q590.408 162.645 591.761 157.153 Q592.95 152.48 592.95 151.332 Q592.95 150.061 592.54 148.873 Q592.171 147.684 591.228 146.454 Q590.326 145.225 588.4 144.487 Q586.473 143.708 583.768 143.708 L573.808 143.708 L568.233 165.965 Q568.233 166.006 568.11 166.58 Q567.987 167.113 567.987 167.4 Q567.987 167.933 568.315 168.261 Q568.684 168.589 569.586 168.753 Q570.488 168.876 571.184 168.917 Q571.922 168.917 573.439 168.917 Q575.324 168.917 575.652 169.244 Q575.816 169.449 575.816 169.818 Q575.816 170.392 575.652 170.802 Q575.529 171.171 575.201 171.294 Q574.914 171.417 574.71 171.458 Q574.505 171.499 574.136 171.499 L563.478 171.253 L552.903 171.499 Q551.715 171.499 551.715 170.556 Q551.715 169.736 552.001 169.408 Q552.288 169.04 552.657 168.999 Q553.026 168.917 553.969 168.917 Q556.018 168.917 557.248 168.794 Q558.478 168.671 559.257 168.507 Q560.076 168.302 560.486 167.728 Q560.937 167.154 561.142 166.662 Q561.347 166.129 561.634 164.941 L572.865 119.852 Q573.193 118.5 573.193 118.295 Q573.193 117.516 572.701 117.311 Q572.25 117.065 570.939 116.942 L567.741 116.778 Q566.758 116.778 566.348 116.737 Q565.979 116.696 565.692 116.491 Q565.405 116.286 565.405 115.835 Q565.405 114.688 565.897 114.442 Q566.389 114.155 567.823 114.155 L591.761 114.155 Q599.918 114.155 605.083 117.721 Q610.288 121.287 610.288 126.739 Q610.288 129.198 609.182 131.493 Q608.075 133.789 606.23 135.592 Q604.427 137.396 602.008 138.912 Q599.59 140.388 597.008 141.413 Q594.466 142.396 591.843 142.97 Q592.991 143.38 594.056 143.995 Q595.163 144.61 596.557 145.758 Q597.991 146.905 598.852 148.75 Q599.713 150.594 599.713 152.849 Q599.713 154.447 599.385 156.825 Q598.565 163.588 598.565 166.375 Q598.565 169.04 599.262 170.269 Q599.959 171.499 601.926 171.499 Q603.853 171.499 605.984 169.777 Q608.157 168.015 609.55 163.875 Q609.878 162.686 610.657 162.686 Q610.698 162.686 610.739 162.686 Q610.821 162.686 610.985 162.768 Q611.149 162.809 611.272 162.932 Q611.436 163.014 611.518 163.219 Q611.641 163.424 611.641 163.711 Z\" fill=\"#000000\" fill-rule=\"evenodd\" fill-opacity=\"1\" /><path clip-path=\"url(#clip340)\" d=\"M668.219 115.589 Q668.219 116.368 668.055 117.024 L665.759 131.616 Q665.636 132.723 665.391 133.133 Q665.186 133.543 664.53 133.543 Q663.505 133.543 663.505 132.477 Q663.505 131.862 663.751 130.879 Q664.448 126.247 664.448 124.156 Q664.448 122.763 664.161 121.738 Q663.915 120.672 663.505 119.934 Q663.136 119.197 662.275 118.705 Q661.415 118.213 660.595 117.926 Q659.775 117.639 658.299 117.516 Q656.824 117.352 655.553 117.311 Q654.282 117.27 652.192 117.27 Q647.642 117.27 646.904 117.434 Q646.126 117.639 645.716 118.254 Q645.347 118.828 644.937 120.549 L633.788 165.105 L633.46 166.867 Q633.46 167.851 634.075 168.179 Q634.69 168.507 636.575 168.712 Q639.28 168.917 641.945 168.917 Q642.027 168.917 642.191 168.917 Q643.092 168.917 643.461 168.958 Q643.83 168.958 644.199 169.04 Q644.568 169.121 644.65 169.326 Q644.773 169.49 644.773 169.818 Q644.773 170.597 644.445 171.007 Q644.117 171.376 643.789 171.458 Q643.502 171.499 642.928 171.499 Q641.781 171.499 639.321 171.417 Q636.862 171.335 635.632 171.335 L628.664 171.253 L621.532 171.335 Q620.425 171.335 618.089 171.417 Q615.753 171.499 614.646 171.499 Q613.211 171.499 613.211 170.474 Q613.211 169.326 613.744 169.121 Q614.318 168.917 616.736 168.917 Q620.138 168.917 621.983 168.753 Q623.827 168.589 624.811 168.015 Q625.836 167.441 626.123 166.867 Q626.41 166.252 626.738 164.859 L638.01 120.057 Q638.338 119.074 638.338 118.295 Q638.338 117.885 638.215 117.721 Q638.133 117.557 637.6 117.434 Q637.067 117.27 635.96 117.27 L632.681 117.27 Q629.32 117.27 627.23 117.434 Q625.18 117.557 623.213 118.172 Q621.286 118.787 620.138 119.647 Q619.032 120.508 617.802 122.271 Q616.572 124.033 615.671 126.165 Q614.81 128.296 613.58 131.78 Q613.17 132.928 612.924 133.256 Q612.719 133.543 612.145 133.543 Q611.736 133.543 611.408 133.297 Q611.121 133.01 611.121 132.641 Q611.531 131.288 611.613 131.124 L616.654 116.327 Q617.064 115.139 617.433 114.934 Q617.843 114.688 619.36 114.688 L665.923 114.688 Q666.661 114.688 666.907 114.688 Q667.153 114.688 667.563 114.77 Q667.973 114.852 668.096 115.057 Q668.219 115.262 668.219 115.589 Z\" fill=\"#000000\" fill-rule=\"evenodd\" fill-opacity=\"1\" /><path clip-path=\"url(#clip340)\" d=\"M741.782 75.1788 Q735.787 75.1788 732.303 79.8778 Q728.819 84.5364 728.819 92.6787 Q728.819 100.821 732.262 105.52 Q735.746 110.179 741.782 110.179 Q747.737 110.179 751.221 105.48 Q754.704 100.781 754.704 92.6787 Q754.704 84.6174 751.221 79.9183 Q747.737 75.1788 741.782 75.1788 M741.782 68.8594 Q751.504 68.8594 757.054 75.1788 Q762.604 81.4982 762.604 92.6787 Q762.604 103.819 757.054 110.179 Q751.504 116.498 741.782 116.498 Q732.019 116.498 726.469 110.179 Q720.96 103.819 720.96 92.6787 Q720.96 81.4982 726.469 75.1788 Q732.019 68.8594 741.782 68.8594 Z\" fill=\"#000000\" fill-rule=\"evenodd\" fill-opacity=\"1\" /><path clip-path=\"url(#clip340)\" d=\"M797.927 52.2912 L797.927 58.4891 L790.798 58.4891 Q786.787 58.4891 785.208 60.1094 Q783.668 61.7298 783.668 65.9427 L783.668 69.9531 L795.942 69.9531 L795.942 75.7459 L783.668 75.7459 L783.668 115.323 L776.174 115.323 L776.174 75.7459 L769.044 75.7459 L769.044 69.9531 L776.174 69.9531 L776.174 66.7934 Q776.174 59.2182 779.698 55.775 Q783.223 52.2912 790.879 52.2912 L797.927 52.2912 Z\" fill=\"#000000\" fill-rule=\"evenodd\" fill-opacity=\"1\" /><path clip-path=\"url(#clip340)\" d=\"M882.317 52.9839 L877.03 74.3803 Q876.661 75.733 876.415 75.897 Q876.21 76.0609 875.554 76.0609 Q874.283 76.0609 874.283 75.2001 Q874.283 75.1182 874.406 74.0524 Q874.529 72.9457 874.529 70.9372 Q874.529 63.5182 870.922 59.1323 Q867.356 54.7465 861.003 54.7465 Q855.51 54.7465 849.977 57.5338 Q844.484 60.321 840.549 64.8708 Q837.598 68.3139 835.426 72.6588 Q833.294 77.0037 832.269 80.9796 Q831.286 84.9556 830.835 87.9478 Q830.384 90.94 830.384 93.1124 Q830.384 96.2686 831.04 98.9329 Q831.737 101.597 832.966 103.483 Q834.196 105.327 835.754 106.762 Q837.352 108.156 839.197 108.975 Q841.082 109.795 842.968 110.205 Q844.853 110.574 846.821 110.574 Q854.732 110.574 862.274 104.425 Q868.258 99.3838 870.758 91.145 Q870.963 90.3252 871.824 90.3252 Q872.849 90.3252 872.849 91.145 Q872.849 91.3089 872.644 92.1287 Q872.439 92.9075 871.824 94.5061 Q871.209 96.0637 870.267 97.8262 Q869.324 99.5888 867.561 101.802 Q865.799 104.016 863.626 105.942 Q859.937 109.139 855.264 111.148 Q850.592 113.156 845.468 113.156 Q839.074 113.156 833.909 110.328 Q828.744 107.5 825.711 102.212 Q822.719 96.9245 822.719 90.1612 Q822.719 83.0291 825.998 76.0199 Q829.277 69.0108 834.483 63.8051 Q839.689 58.5995 846.575 55.3613 Q853.461 52.1232 860.347 52.1232 Q862.97 52.1232 865.307 52.82 Q867.643 53.5168 869.037 54.3776 Q870.471 55.2384 871.742 56.509 Q873.013 57.7387 873.423 58.3126 Q873.874 58.8864 874.283 59.5832 L880.145 53.1479 Q881.17 52.1232 881.416 52.1232 Q881.907 52.1232 882.112 52.4101 Q882.317 52.697 882.317 52.9839 Z\" fill=\"#000000\" fill-rule=\"evenodd\" fill-opacity=\"1\" /><path clip-path=\"url(#clip340)\" d=\"M940.192 74.7083 Q940.192 80.5697 938.102 86.3902 Q936.052 92.1697 932.445 96.9245 Q928.838 101.679 924.248 105.368 Q919.657 109.057 914.287 111.107 Q908.918 113.156 903.671 113.156 Q894.366 113.156 888.259 107.049 Q882.152 100.941 882.152 90.7351 Q882.152 83.6029 885.349 76.5118 Q888.546 69.3797 893.629 64.092 Q898.711 58.7634 905.392 55.4433 Q912.115 52.1232 918.755 52.1232 Q928.182 52.1232 934.167 58.3945 Q940.192 64.6249 940.192 74.7083 M932.691 71.4291 Q932.691 66.9203 931.421 63.5182 Q930.15 60.0751 928.019 58.1076 Q925.928 56.1401 923.428 55.1974 Q920.968 54.2136 918.263 54.2136 Q913.016 54.2136 907.401 57.6157 Q901.785 61.0178 897.604 67.3302 Q895.35 70.7733 893.71 74.9132 Q892.071 79.0121 891.333 82.6602 Q890.595 86.2672 890.267 88.8086 Q889.98 91.3499 889.98 93.1124 Q889.98 101.31 893.915 106.147 Q897.85 110.984 904.163 110.984 Q909.122 110.984 913.959 108.074 Q918.796 105.122 922.116 100.9 Q925.067 97.2524 927.24 92.8665 Q929.453 88.4807 930.56 84.4637 Q931.667 80.4468 932.158 77.2086 Q932.691 73.9705 932.691 71.4291 Z\" fill=\"#000000\" fill-rule=\"evenodd\" fill-opacity=\"1\" /><path clip-path=\"url(#clip340)\" d=\"M948.58 136.397 Q948.58 135.336 948.666 135.02 Q948.781 134.704 949.24 134.217 L960.516 121.649 Q966.685 114.706 966.685 108.652 Q966.685 104.721 964.619 101.909 Q962.582 99.0971 958.823 99.0971 Q956.241 99.0971 954.061 100.675 Q951.88 102.253 950.876 105.065 Q951.048 105.008 951.65 105.008 Q953.114 105.008 953.917 105.926 Q954.749 106.844 954.749 108.078 Q954.749 109.656 953.716 110.431 Q952.712 111.177 951.708 111.177 Q951.306 111.177 950.761 111.091 Q950.244 111.004 949.412 110.201 Q948.58 109.369 948.58 107.906 Q948.58 103.803 951.679 100.532 Q954.807 97.2607 959.569 97.2607 Q964.964 97.2607 968.493 100.474 Q972.051 103.659 972.051 108.652 Q972.051 110.402 971.506 112.009 Q970.989 113.587 970.272 114.821 Q969.583 116.054 967.689 118.034 Q965.796 120.014 964.275 121.42 Q962.754 122.826 959.34 125.81 L953.114 131.864 L963.701 131.864 Q968.866 131.864 969.268 131.405 Q969.841 130.573 970.559 126.183 L972.051 126.183 L970.387 136.397 L948.58 136.397 Z\" fill=\"#000000\" fill-rule=\"evenodd\" fill-opacity=\"1\" /><path clip-path=\"url(#clip340)\" d=\"M1041.45 92.5167 Q1032.41 92.5167 1028.93 94.5826 Q1025.45 96.6486 1025.45 101.631 Q1025.45 105.601 1028.04 107.951 Q1030.67 110.26 1035.17 110.26 Q1041.37 110.26 1045.09 105.885 Q1048.86 101.469 1048.86 94.1775 L1048.86 92.5167 L1041.45 92.5167 M1056.32 89.438 L1056.32 115.323 L1048.86 115.323 L1048.86 108.437 Q1046.31 112.569 1042.5 114.554 Q1038.69 116.498 1033.18 116.498 Q1026.22 116.498 1022.08 112.609 Q1017.99 108.68 1017.99 102.117 Q1017.99 94.4611 1023.1 90.5722 Q1028.24 86.6834 1038.41 86.6834 L1048.86 86.6834 L1048.86 85.9542 Q1048.86 80.8095 1045.46 78.0144 Q1042.1 75.1788 1035.98 75.1788 Q1032.09 75.1788 1028.4 76.1105 Q1024.72 77.0422 1021.32 78.9056 L1021.32 72.0191 Q1025.41 70.4392 1029.25 69.6696 Q1033.1 68.8594 1036.75 68.8594 Q1046.59 68.8594 1051.45 73.9635 Q1056.32 79.0677 1056.32 89.438 Z\" fill=\"#000000\" fill-rule=\"evenodd\" fill-opacity=\"1\" /><path clip-path=\"url(#clip340)\" d=\"M1079.04 57.0712 L1079.04 69.9531 L1094.39 69.9531 L1094.39 75.7459 L1079.04 75.7459 L1079.04 100.375 Q1079.04 105.925 1080.54 107.505 Q1082.08 109.085 1086.74 109.085 L1094.39 109.085 L1094.39 115.323 L1086.74 115.323 Q1078.11 115.323 1074.83 112.123 Q1071.55 108.882 1071.55 100.375 L1071.55 75.7459 L1066.08 75.7459 L1066.08 69.9531 L1071.55 69.9531 L1071.55 57.0712 L1079.04 57.0712 Z\" fill=\"#000000\" fill-rule=\"evenodd\" fill-opacity=\"1\" /><path clip-path=\"url(#clip340)\" d=\"M1130.57 69.9531 L1138.02 69.9531 L1138.02 115.323 L1130.57 115.323 L1130.57 69.9531 M1130.57 52.2912 L1138.02 52.2912 L1138.02 61.7298 L1130.57 61.7298 L1130.57 52.2912 Z\" fill=\"#000000\" fill-rule=\"evenodd\" fill-opacity=\"1\" /><path clip-path=\"url(#clip340)\" d=\"M1191.33 87.9391 L1191.33 115.323 L1183.88 115.323 L1183.88 88.1822 Q1183.88 81.7413 1181.37 78.541 Q1178.85 75.3408 1173.83 75.3408 Q1167.8 75.3408 1164.31 79.1892 Q1160.83 83.0375 1160.83 89.681 L1160.83 115.323 L1153.33 115.323 L1153.33 69.9531 L1160.83 69.9531 L1160.83 77.0017 Q1163.5 72.9103 1167.11 70.8848 Q1170.75 68.8594 1175.49 68.8594 Q1183.31 68.8594 1187.32 73.7205 Q1191.33 78.541 1191.33 87.9391 Z\" fill=\"#000000\" fill-rule=\"evenodd\" fill-opacity=\"1\" /><path clip-path=\"url(#clip340)\" d=\"M1238.85 71.695 L1238.85 78.6626 Q1235.69 76.9207 1232.49 76.07 Q1229.33 75.1788 1226.09 75.1788 Q1218.84 75.1788 1214.83 79.7968 Q1210.82 84.3743 1210.82 92.6787 Q1210.82 100.983 1214.83 105.601 Q1218.84 110.179 1226.09 110.179 Q1229.33 110.179 1232.49 109.328 Q1235.69 108.437 1238.85 106.695 L1238.85 113.581 Q1235.73 115.04 1232.37 115.769 Q1229.05 116.498 1225.28 116.498 Q1215.03 116.498 1208.99 110.057 Q1202.96 103.616 1202.96 92.6787 Q1202.96 81.5792 1209.03 75.2193 Q1215.15 68.8594 1225.76 68.8594 Q1229.21 68.8594 1232.49 69.5885 Q1235.77 70.2772 1238.85 71.695 Z\" fill=\"#000000\" fill-rule=\"evenodd\" fill-opacity=\"1\" /><path clip-path=\"url(#clip340)\" d=\"M1278.1 76.9207 Q1276.85 76.1915 1275.35 75.8674 Q1273.89 75.5029 1272.11 75.5029 Q1265.79 75.5029 1262.38 79.6348 Q1259.02 83.7262 1259.02 91.4229 L1259.02 115.323 L1251.53 115.323 L1251.53 69.9531 L1259.02 69.9531 L1259.02 77.0017 Q1261.37 72.8698 1265.14 70.8848 Q1268.91 68.8594 1274.29 68.8594 Q1275.06 68.8594 1276 68.9809 Q1276.93 69.0619 1278.06 69.2645 L1278.1 76.9207 Z\" fill=\"#000000\" fill-rule=\"evenodd\" fill-opacity=\"1\" /><path clip-path=\"url(#clip340)\" d=\"M1322.91 90.7748 L1322.91 94.4206 L1288.63 94.4206 Q1289.12 102.117 1293.25 106.168 Q1297.42 110.179 1304.84 110.179 Q1309.13 110.179 1313.14 109.125 Q1317.19 108.072 1321.16 105.966 L1321.16 113.014 Q1317.15 114.716 1312.94 115.607 Q1308.73 116.498 1304.39 116.498 Q1293.54 116.498 1287.18 110.179 Q1280.86 103.859 1280.86 93.0838 Q1280.86 81.9438 1286.85 75.4218 Q1292.89 68.8594 1303.1 68.8594 Q1312.25 68.8594 1317.56 74.7737 Q1322.91 80.6475 1322.91 90.7748 M1315.45 88.5873 Q1315.37 82.4704 1312.01 78.8246 Q1308.69 75.1788 1303.18 75.1788 Q1296.94 75.1788 1293.17 78.7031 Q1289.44 82.2274 1288.88 88.6278 L1315.45 88.5873 Z\" fill=\"#000000\" fill-rule=\"evenodd\" fill-opacity=\"1\" /><path clip-path=\"url(#clip340)\" d=\"M1355.76 92.5167 Q1346.72 92.5167 1343.24 94.5826 Q1339.76 96.6486 1339.76 101.631 Q1339.76 105.601 1342.35 107.951 Q1344.98 110.26 1349.48 110.26 Q1355.68 110.26 1359.4 105.885 Q1363.17 101.469 1363.17 94.1775 L1363.17 92.5167 L1355.76 92.5167 M1370.62 89.438 L1370.62 115.323 L1363.17 115.323 L1363.17 108.437 Q1360.62 112.569 1356.81 114.554 Q1353 116.498 1347.49 116.498 Q1340.53 116.498 1336.39 112.609 Q1332.3 108.68 1332.3 102.117 Q1332.3 94.4611 1337.41 90.5722 Q1342.55 86.6834 1352.72 86.6834 L1363.17 86.6834 L1363.17 85.9542 Q1363.17 80.8095 1359.77 78.0144 Q1356.41 75.1788 1350.29 75.1788 Q1346.4 75.1788 1342.71 76.1105 Q1339.03 77.0422 1335.62 78.9056 L1335.62 72.0191 Q1339.72 70.4392 1343.56 69.6696 Q1347.41 68.8594 1351.06 68.8594 Q1360.9 68.8594 1365.76 73.9635 Q1370.62 79.0677 1370.62 89.438 Z\" fill=\"#000000\" fill-rule=\"evenodd\" fill-opacity=\"1\" /><path clip-path=\"url(#clip340)\" d=\"M1414.9 71.2899 L1414.9 78.3385 Q1411.74 76.7181 1408.34 75.908 Q1404.94 75.0978 1401.29 75.0978 Q1395.74 75.0978 1392.95 76.7992 Q1390.19 78.5005 1390.19 81.9033 Q1390.19 84.4959 1392.18 85.9947 Q1394.16 87.453 1400.16 88.7898 L1402.71 89.357 Q1410.65 91.0583 1413.97 94.1775 Q1417.33 97.2562 1417.33 102.806 Q1417.33 109.125 1412.31 112.812 Q1407.33 116.498 1398.58 116.498 Q1394.93 116.498 1390.96 115.769 Q1387.03 115.08 1382.66 113.662 L1382.66 105.966 Q1386.79 108.113 1390.8 109.206 Q1394.81 110.26 1398.74 110.26 Q1404 110.26 1406.84 108.477 Q1409.68 106.654 1409.68 103.373 Q1409.68 100.335 1407.61 98.7145 Q1405.58 97.0942 1398.66 95.5953 L1396.06 94.9877 Q1389.14 93.5294 1386.06 90.5317 Q1382.98 87.4935 1382.98 82.2274 Q1382.98 75.8269 1387.52 72.3432 Q1392.05 68.8594 1400.4 68.8594 Q1404.53 68.8594 1408.18 69.467 Q1411.82 70.0746 1414.9 71.2899 Z\" fill=\"#000000\" fill-rule=\"evenodd\" fill-opacity=\"1\" /><path clip-path=\"url(#clip340)\" d=\"M1429.2 69.9531 L1436.65 69.9531 L1436.65 115.323 L1429.2 115.323 L1429.2 69.9531 M1429.2 52.2912 L1436.65 52.2912 L1436.65 61.7298 L1429.2 61.7298 L1429.2 52.2912 Z\" fill=\"#000000\" fill-rule=\"evenodd\" fill-opacity=\"1\" /><path clip-path=\"url(#clip340)\" d=\"M1489.96 87.9391 L1489.96 115.323 L1482.51 115.323 L1482.51 88.1822 Q1482.51 81.7413 1480 78.541 Q1477.49 75.3408 1472.46 75.3408 Q1466.43 75.3408 1462.94 79.1892 Q1459.46 83.0375 1459.46 89.681 L1459.46 115.323 L1451.97 115.323 L1451.97 69.9531 L1459.46 69.9531 L1459.46 77.0017 Q1462.13 72.9103 1465.74 70.8848 Q1469.39 68.8594 1474.13 68.8594 Q1481.94 68.8594 1485.95 73.7205 Q1489.96 78.541 1489.96 87.9391 Z\" fill=\"#000000\" fill-rule=\"evenodd\" fill-opacity=\"1\" /><path clip-path=\"url(#clip340)\" d=\"M1534.69 92.1116 Q1534.69 84.0098 1531.32 79.5538 Q1528 75.0978 1521.97 75.0978 Q1515.97 75.0978 1512.61 79.5538 Q1509.29 84.0098 1509.29 92.1116 Q1509.29 100.173 1512.61 104.629 Q1515.97 109.085 1521.97 109.085 Q1528 109.085 1531.32 104.629 Q1534.69 100.173 1534.69 92.1116 M1542.14 109.692 Q1542.14 121.278 1537 126.909 Q1531.85 132.58 1521.24 132.58 Q1517.31 132.58 1513.82 131.972 Q1510.34 131.405 1507.06 130.19 L1507.06 122.939 Q1510.34 124.721 1513.54 125.572 Q1516.74 126.423 1520.06 126.423 Q1527.39 126.423 1531.04 122.574 Q1534.69 118.767 1534.69 111.029 L1534.69 107.343 Q1532.38 111.353 1528.77 113.338 Q1525.17 115.323 1520.14 115.323 Q1511.8 115.323 1506.69 108.963 Q1501.59 102.603 1501.59 92.1116 Q1501.59 81.5792 1506.69 75.2193 Q1511.8 68.8594 1520.14 68.8594 Q1525.17 68.8594 1528.77 70.8443 Q1532.38 72.8293 1534.69 76.8397 L1534.69 69.9531 L1542.14 69.9531 L1542.14 109.692 Z\" fill=\"#000000\" fill-rule=\"evenodd\" fill-opacity=\"1\" /><path clip-path=\"url(#clip340)\" d=\"M1591.24 57.0712 L1591.24 69.9531 L1606.59 69.9531 L1606.59 75.7459 L1591.24 75.7459 L1591.24 100.375 Q1591.24 105.925 1592.74 107.505 Q1594.28 109.085 1598.93 109.085 L1606.59 109.085 L1606.59 115.323 L1598.93 115.323 Q1590.31 115.323 1587.02 112.123 Q1583.74 108.882 1583.74 100.375 L1583.74 75.7459 L1578.27 75.7459 L1578.27 69.9531 L1583.74 69.9531 L1583.74 57.0712 L1591.24 57.0712 Z\" fill=\"#000000\" fill-rule=\"evenodd\" fill-opacity=\"1\" /><path clip-path=\"url(#clip340)\" d=\"M1655.2 90.7748 L1655.2 94.4206 L1620.93 94.4206 Q1621.42 102.117 1625.55 106.168 Q1629.72 110.179 1637.13 110.179 Q1641.43 110.179 1645.44 109.125 Q1649.49 108.072 1653.46 105.966 L1653.46 113.014 Q1649.45 114.716 1645.24 115.607 Q1641.02 116.498 1636.69 116.498 Q1625.83 116.498 1619.47 110.179 Q1613.15 103.859 1613.15 93.0838 Q1613.15 81.9438 1619.15 75.4218 Q1625.18 68.8594 1635.39 68.8594 Q1644.55 68.8594 1649.85 74.7737 Q1655.2 80.6475 1655.2 90.7748 M1647.75 88.5873 Q1647.67 82.4704 1644.3 78.8246 Q1640.98 75.1788 1635.47 75.1788 Q1629.23 75.1788 1625.47 78.7031 Q1621.74 82.2274 1621.17 88.6278 L1647.75 88.5873 Z\" fill=\"#000000\" fill-rule=\"evenodd\" fill-opacity=\"1\" /><path clip-path=\"url(#clip340)\" d=\"M1702.76 78.6626 Q1705.55 73.6394 1709.44 71.2494 Q1713.33 68.8594 1718.6 68.8594 Q1725.69 68.8594 1729.53 73.842 Q1733.38 78.7841 1733.38 87.9391 L1733.38 115.323 L1725.89 115.323 L1725.89 88.1822 Q1725.89 81.6602 1723.58 78.5005 Q1721.27 75.3408 1716.53 75.3408 Q1710.74 75.3408 1707.38 79.1892 Q1704.01 83.0375 1704.01 89.681 L1704.01 115.323 L1696.52 115.323 L1696.52 88.1822 Q1696.52 81.6197 1694.21 78.5005 Q1691.9 75.3408 1687.08 75.3408 Q1681.37 75.3408 1678.01 79.2297 Q1674.65 83.0781 1674.65 89.681 L1674.65 115.323 L1667.15 115.323 L1667.15 69.9531 L1674.65 69.9531 L1674.65 77.0017 Q1677.2 72.8293 1680.76 70.8443 Q1684.33 68.8594 1689.23 68.8594 Q1694.17 68.8594 1697.61 71.3709 Q1701.1 73.8825 1702.76 78.6626 Z\" fill=\"#000000\" fill-rule=\"evenodd\" fill-opacity=\"1\" /><path clip-path=\"url(#clip340)\" d=\"M1755.46 108.518 L1755.46 132.58 L1747.97 132.58 L1747.97 69.9531 L1755.46 69.9531 L1755.46 76.8397 Q1757.81 72.7888 1761.37 70.8443 Q1764.98 68.8594 1769.96 68.8594 Q1778.23 68.8594 1783.37 75.4218 Q1788.56 81.9843 1788.56 92.6787 Q1788.56 103.373 1783.37 109.936 Q1778.23 116.498 1769.96 116.498 Q1764.98 116.498 1761.37 114.554 Q1757.81 112.569 1755.46 108.518 M1780.82 92.6787 Q1780.82 84.4554 1777.42 79.7968 Q1774.05 75.0978 1768.14 75.0978 Q1762.23 75.0978 1758.82 79.7968 Q1755.46 84.4554 1755.46 92.6787 Q1755.46 100.902 1758.82 105.601 Q1762.23 110.26 1768.14 110.26 Q1774.05 110.26 1777.42 105.601 Q1780.82 100.902 1780.82 92.6787 Z\" fill=\"#000000\" fill-rule=\"evenodd\" fill-opacity=\"1\" /><path clip-path=\"url(#clip340)\" d=\"M1839.72 90.7748 L1839.72 94.4206 L1805.45 94.4206 Q1805.93 102.117 1810.07 106.168 Q1814.24 110.179 1821.65 110.179 Q1825.95 110.179 1829.96 109.125 Q1834.01 108.072 1837.98 105.966 L1837.98 113.014 Q1833.97 114.716 1829.75 115.607 Q1825.54 116.498 1821.21 116.498 Q1810.35 116.498 1803.99 110.179 Q1797.67 103.859 1797.67 93.0838 Q1797.67 81.9438 1803.67 75.4218 Q1809.7 68.8594 1819.91 68.8594 Q1829.07 68.8594 1834.37 74.7737 Q1839.72 80.6475 1839.72 90.7748 M1832.27 88.5873 Q1832.18 82.4704 1828.82 78.8246 Q1825.5 75.1788 1819.99 75.1788 Q1813.75 75.1788 1809.99 78.7031 Q1806.26 82.2274 1805.69 88.6278 L1832.27 88.5873 Z\" fill=\"#000000\" fill-rule=\"evenodd\" fill-opacity=\"1\" /><path clip-path=\"url(#clip340)\" d=\"M1878.24 76.9207 Q1876.99 76.1915 1875.49 75.8674 Q1874.03 75.5029 1872.25 75.5029 Q1865.93 75.5029 1862.53 79.6348 Q1859.16 83.7262 1859.16 91.4229 L1859.16 115.323 L1851.67 115.323 L1851.67 69.9531 L1859.16 69.9531 L1859.16 77.0017 Q1861.51 72.8698 1865.28 70.8848 Q1869.05 68.8594 1874.44 68.8594 Q1875.21 68.8594 1876.14 68.9809 Q1877.07 69.0619 1878.2 69.2645 L1878.24 76.9207 Z\" fill=\"#000000\" fill-rule=\"evenodd\" fill-opacity=\"1\" /><path clip-path=\"url(#clip340)\" d=\"M1906.68 92.5167 Q1897.65 92.5167 1894.16 94.5826 Q1890.68 96.6486 1890.68 101.631 Q1890.68 105.601 1893.27 107.951 Q1895.91 110.26 1900.4 110.26 Q1906.6 110.26 1910.33 105.885 Q1914.09 101.469 1914.09 94.1775 L1914.09 92.5167 L1906.68 92.5167 M1921.55 89.438 L1921.55 115.323 L1914.09 115.323 L1914.09 108.437 Q1911.54 112.569 1907.73 114.554 Q1903.93 116.498 1898.42 116.498 Q1891.45 116.498 1887.32 112.609 Q1883.23 108.68 1883.23 102.117 Q1883.23 94.4611 1888.33 90.5722 Q1893.47 86.6834 1903.64 86.6834 L1914.09 86.6834 L1914.09 85.9542 Q1914.09 80.8095 1910.69 78.0144 Q1907.33 75.1788 1901.21 75.1788 Q1897.32 75.1788 1893.64 76.1105 Q1889.95 77.0422 1886.55 78.9056 L1886.55 72.0191 Q1890.64 70.4392 1894.49 69.6696 Q1898.34 68.8594 1901.98 68.8594 Q1911.83 68.8594 1916.69 73.9635 Q1921.55 79.0677 1921.55 89.438 Z\" fill=\"#000000\" fill-rule=\"evenodd\" fill-opacity=\"1\" /><path clip-path=\"url(#clip340)\" d=\"M1944.27 57.0712 L1944.27 69.9531 L1959.63 69.9531 L1959.63 75.7459 L1944.27 75.7459 L1944.27 100.375 Q1944.27 105.925 1945.77 107.505 Q1947.31 109.085 1951.97 109.085 L1959.63 109.085 L1959.63 115.323 L1951.97 115.323 Q1943.34 115.323 1940.06 112.123 Q1936.78 108.882 1936.78 100.375 L1936.78 75.7459 L1931.31 75.7459 L1931.31 69.9531 L1936.78 69.9531 L1936.78 57.0712 L1944.27 57.0712 Z\" fill=\"#000000\" fill-rule=\"evenodd\" fill-opacity=\"1\" /><path clip-path=\"url(#clip340)\" d=\"M1968.66 97.4183 L1968.66 69.9531 L1976.11 69.9531 L1976.11 97.1347 Q1976.11 103.576 1978.62 106.816 Q1981.14 110.017 1986.16 110.017 Q1992.2 110.017 1995.68 106.168 Q1999.2 102.32 1999.2 95.6764 L1999.2 69.9531 L2006.66 69.9531 L2006.66 115.323 L1999.2 115.323 L1999.2 108.356 Q1996.49 112.488 1992.88 114.513 Q1989.32 116.498 1984.58 116.498 Q1976.76 116.498 1972.71 111.637 Q1968.66 106.776 1968.66 97.4183 M1987.42 68.8594 L1987.42 68.8594 Z\" fill=\"#000000\" fill-rule=\"evenodd\" fill-opacity=\"1\" /><path clip-path=\"url(#clip340)\" d=\"M2048.3 76.9207 Q2047.04 76.1915 2045.55 75.8674 Q2044.09 75.5029 2042.31 75.5029 Q2035.99 75.5029 2032.58 79.6348 Q2029.22 83.7262 2029.22 91.4229 L2029.22 115.323 L2021.73 115.323 L2021.73 69.9531 L2029.22 69.9531 L2029.22 77.0017 Q2031.57 72.8698 2035.34 70.8848 Q2039.1 68.8594 2044.49 68.8594 Q2045.26 68.8594 2046.19 68.9809 Q2047.13 69.0619 2048.26 69.2645 L2048.3 76.9207 Z\" fill=\"#000000\" fill-rule=\"evenodd\" fill-opacity=\"1\" /><path clip-path=\"url(#clip340)\" d=\"M2093.1 90.7748 L2093.1 94.4206 L2058.83 94.4206 Q2059.32 102.117 2063.45 106.168 Q2067.62 110.179 2075.04 110.179 Q2079.33 110.179 2083.34 109.125 Q2087.39 108.072 2091.36 105.966 L2091.36 113.014 Q2087.35 114.716 2083.14 115.607 Q2078.93 116.498 2074.59 116.498 Q2063.73 116.498 2057.37 110.179 Q2051.06 103.859 2051.06 93.0838 Q2051.06 81.9438 2057.05 75.4218 Q2063.09 68.8594 2073.29 68.8594 Q2082.45 68.8594 2087.76 74.7737 Q2093.1 80.6475 2093.1 90.7748 M2085.65 88.5873 Q2085.57 82.4704 2082.21 78.8246 Q2078.88 75.1788 2073.38 75.1788 Q2067.14 75.1788 2063.37 78.7031 Q2059.64 82.2274 2059.08 88.6278 L2085.65 88.5873 Z\" fill=\"#000000\" fill-rule=\"evenodd\" fill-opacity=\"1\" /><polyline clip-path=\"url(#clip343)\" style=\"stroke:#009af9; stroke-linecap:butt; stroke-linejoin:round; stroke-width:4; stroke-opacity:1; fill:none\" points=\"\n",
       "  328.112,203.562 330.08,462.462 332.048,628.732 334.015,744.541 335.983,829.833 337.951,895.267 339.918,947.055 341.886,989.062 343.853,1023.82 345.821,1053.06 \n",
       "  347.789,1077.99 349.756,1099.51 351.724,1118.26 353.692,1134.76 355.659,1149.38 357.627,1162.42 359.595,1174.14 361.562,1184.72 363.53,1194.31 365.497,1203.06 \n",
       "  367.465,1211.07 369.433,1218.42 371.4,1225.2 373.368,1231.47 375.336,1237.28 377.303,1242.69 379.271,1247.74 381.239,1252.45 383.206,1256.86 385.174,1261.01 \n",
       "  387.142,1264.9 389.109,1268.58 391.077,1272.04 393.044,1275.32 395.012,1278.42 396.98,1281.36 398.947,1284.15 400.915,1286.81 402.883,1289.34 404.85,1291.74 \n",
       "  406.818,1294.04 408.786,1296.24 410.753,1298.34 412.721,1300.34 414.689,1302.27 416.656,1304.11 418.624,1305.88 420.591,1307.58 422.559,1309.22 424.527,1310.79 \n",
       "  426.494,1312.3 428.462,1313.76 430.43,1315.17 432.397,1316.52 434.365,1317.83 436.333,1319.1 438.3,1320.32 440.268,1321.5 442.235,1322.64 444.203,1323.75 \n",
       "  446.171,1324.82 448.138,1325.86 450.106,1326.87 452.074,1327.85 454.041,1328.79 456.009,1329.71 457.977,1330.61 459.944,1331.48 461.912,1332.32 463.88,1333.14 \n",
       "  465.847,1333.94 467.815,1334.72 469.782,1335.47 471.75,1336.21 473.718,1336.93 475.685,1337.63 477.653,1338.31 479.621,1338.98 481.588,1339.62 483.556,1340.26 \n",
       "  485.524,1340.88 487.491,1341.48 489.459,1342.07 491.427,1342.64 493.394,1343.21 495.362,1343.76 497.329,1344.29 499.297,1344.82 501.265,1345.33 503.232,1345.84 \n",
       "  505.2,1346.33 507.168,1346.81 509.135,1347.28 511.103,1347.74 513.071,1348.2 515.038,1348.64 517.006,1349.07 518.973,1349.5 520.941,1349.92 522.909,1350.33 \n",
       "  524.876,1350.73 526.844,1351.12 528.812,1351.51 530.779,1351.89 532.747,1352.26 534.715,1352.63 536.682,1352.98 538.65,1353.34 540.618,1353.68 542.585,1354.02 \n",
       "  544.553,1354.35 546.52,1354.68 548.488,1355 550.456,1355.32 552.423,1355.63 554.391,1355.94 556.359,1356.24 558.326,1356.53 560.294,1356.83 562.262,1357.11 \n",
       "  564.229,1357.39 566.197,1357.67 568.165,1357.94 570.132,1358.21 572.1,1358.48 574.067,1358.74 576.035,1358.99 578.003,1359.24 579.97,1359.49 581.938,1359.74 \n",
       "  583.906,1359.98 585.873,1360.21 587.841,1360.45 589.809,1360.68 591.776,1360.91 593.744,1361.13 595.711,1361.35 597.679,1361.57 599.647,1361.78 601.614,1361.99 \n",
       "  603.582,1362.2 605.55,1362.41 607.517,1362.61 609.485,1362.81 611.453,1363.01 613.42,1363.2 615.388,1363.39 617.356,1363.58 619.323,1363.77 621.291,1363.95 \n",
       "  623.258,1364.14 625.226,1364.32 627.194,1364.49 629.161,1364.67 631.129,1364.84 633.097,1365.01 635.064,1365.18 637.032,1365.35 639,1365.51 640.967,1365.67 \n",
       "  642.935,1365.83 644.903,1365.99 646.87,1366.15 648.838,1366.3 650.805,1366.46 652.773,1366.61 654.741,1366.76 656.708,1366.9 658.676,1367.05 660.644,1367.19 \n",
       "  662.611,1367.34 664.579,1367.48 666.547,1367.62 668.514,1367.75 670.482,1367.89 672.449,1368.02 674.417,1368.16 676.385,1368.29 678.352,1368.42 680.32,1368.55 \n",
       "  682.288,1368.67 684.255,1368.8 686.223,1368.93 688.191,1369.05 690.158,1369.17 692.126,1369.29 694.094,1369.41 696.061,1369.53 698.029,1369.64 699.996,1369.76 \n",
       "  701.964,1369.87 703.932,1369.99 705.899,1370.1 707.867,1370.21 709.835,1370.32 711.802,1370.43 713.77,1370.54 715.738,1370.64 717.705,1370.75 719.673,1370.85 \n",
       "  721.641,1370.96 723.608,1371.06 725.576,1371.16 727.543,1371.26 729.511,1371.36 731.479,1371.46 733.446,1371.56 735.414,1371.65 737.382,1371.75 739.349,1371.84 \n",
       "  741.317,1371.94 743.285,1372.03 745.252,1372.12 747.22,1372.22 749.187,1372.31 751.155,1372.4 753.123,1372.48 755.09,1372.57 757.058,1372.66 759.026,1372.75 \n",
       "  760.993,1372.83 762.961,1372.92 764.929,1373 766.896,1373.08 768.864,1373.17 770.832,1373.25 772.799,1373.33 774.767,1373.41 776.734,1373.49 778.702,1373.57 \n",
       "  780.67,1373.65 782.637,1373.73 784.605,1373.8 786.573,1373.88 788.54,1373.96 790.508,1374.03 792.476,1374.11 794.443,1374.18 796.411,1374.25 798.379,1374.33 \n",
       "  800.346,1374.4 802.314,1374.47 804.281,1374.54 806.249,1374.61 808.217,1374.68 810.184,1374.75 812.152,1374.82 814.12,1374.89 816.087,1374.96 818.055,1375.02 \n",
       "  820.023,1375.09 821.99,1375.16 823.958,1375.22 825.925,1375.29 827.893,1375.35 829.861,1375.41 831.828,1375.48 833.796,1375.54 835.764,1375.6 837.731,1375.67 \n",
       "  839.699,1375.73 841.667,1375.79 843.634,1375.85 845.602,1375.91 847.57,1375.97 849.537,1376.03 851.505,1376.09 853.472,1376.15 855.44,1376.2 857.408,1376.26 \n",
       "  859.375,1376.32 861.343,1376.38 863.311,1376.43 865.278,1376.49 867.246,1376.54 869.214,1376.6 871.181,1376.65 873.149,1376.71 875.117,1376.76 877.084,1376.82 \n",
       "  879.052,1376.87 881.019,1376.92 882.987,1376.97 884.955,1377.03 886.922,1377.08 888.89,1377.13 890.858,1377.18 892.825,1377.23 894.793,1377.28 896.761,1377.33 \n",
       "  898.728,1377.38 900.696,1377.43 902.663,1377.48 904.631,1377.53 906.599,1377.58 908.566,1377.62 910.534,1377.67 912.502,1377.72 914.469,1377.77 916.437,1377.81 \n",
       "  918.405,1377.86 920.372,1377.91 922.34,1377.95 924.308,1378 926.275,1378.04 928.243,1378.09 930.21,1378.13 932.178,1378.18 934.146,1378.22 936.113,1378.26 \n",
       "  938.081,1378.31 940.049,1378.35 942.016,1378.39 943.984,1378.44 945.952,1378.48 947.919,1378.52 949.887,1378.56 951.855,1378.6 953.822,1378.65 955.79,1378.69 \n",
       "  957.757,1378.73 959.725,1378.77 961.693,1378.81 963.66,1378.85 965.628,1378.89 967.596,1378.93 969.563,1378.97 971.531,1379.01 973.499,1379.05 975.466,1379.09 \n",
       "  977.434,1379.12 979.401,1379.16 981.369,1379.2 983.337,1379.24 985.304,1379.27 987.272,1379.31 989.24,1379.35 991.207,1379.39 993.175,1379.42 995.143,1379.46 \n",
       "  997.11,1379.5 999.078,1379.53 1001.05,1379.57 1003.01,1379.6 1004.98,1379.64 1006.95,1379.67 1008.92,1379.71 1010.88,1379.74 1012.85,1379.78 1014.82,1379.81 \n",
       "  1016.79,1379.85 1018.75,1379.88 1020.72,1379.91 1022.69,1379.95 1024.66,1379.98 1026.62,1380.02 1028.59,1380.05 1030.56,1380.08 1032.53,1380.11 1034.5,1380.15 \n",
       "  1036.46,1380.18 1038.43,1380.21 1040.4,1380.24 1042.37,1380.27 1044.33,1380.31 1046.3,1380.34 1048.27,1380.37 1050.24,1380.4 1052.2,1380.43 1054.17,1380.46 \n",
       "  1056.14,1380.49 1058.11,1380.52 1060.07,1380.55 1062.04,1380.58 1064.01,1380.61 1065.98,1380.64 1067.95,1380.67 1069.91,1380.7 1071.88,1380.73 1073.85,1380.76 \n",
       "  1075.82,1380.79 1077.78,1380.82 1079.75,1380.85 1081.72,1380.88 1083.69,1380.91 1085.65,1380.93 1087.62,1380.96 1089.59,1380.99 1091.56,1381.02 1093.52,1381.05 \n",
       "  1095.49,1381.07 1097.46,1381.1 1099.43,1381.13 1101.4,1381.15 1103.36,1381.18 1105.33,1381.21 1107.3,1381.24 1109.27,1381.26 1111.23,1381.29 1113.2,1381.32 \n",
       "  1115.17,1381.34 1117.14,1381.37 1119.1,1381.39 1121.07,1381.42 1123.04,1381.45 1125.01,1381.47 1126.97,1381.5 1128.94,1381.52 1130.91,1381.55 1132.88,1381.57 \n",
       "  1134.85,1381.6 1136.81,1381.62 1138.78,1381.65 1140.75,1381.67 1142.72,1381.7 1144.68,1381.72 1146.65,1381.74 1148.62,1381.77 1150.59,1381.79 1152.55,1381.82 \n",
       "  1154.52,1381.84 1156.49,1381.86 1158.46,1381.89 1160.42,1381.91 1162.39,1381.93 1164.36,1381.96 1166.33,1381.98 1168.3,1382 1170.26,1382.03 1172.23,1382.05 \n",
       "  1174.2,1382.07 1176.17,1382.1 1178.13,1382.12 1180.1,1382.14 1182.07,1382.16 1184.04,1382.19 1186,1382.21 1187.97,1382.23 1189.94,1382.25 1191.91,1382.27 \n",
       "  1193.87,1382.29 1195.84,1382.32 1197.81,1382.34 1199.78,1382.36 1201.74,1382.38 1203.71,1382.4 1205.68,1382.42 1207.65,1382.44 1209.62,1382.47 1211.58,1382.49 \n",
       "  1213.55,1382.51 1215.52,1382.53 1217.49,1382.55 1219.45,1382.57 1221.42,1382.59 1223.39,1382.61 1225.36,1382.63 1227.32,1382.65 1229.29,1382.67 1231.26,1382.69 \n",
       "  1233.23,1382.71 1235.19,1382.73 1237.16,1382.75 1239.13,1382.77 1241.1,1382.79 1243.07,1382.81 1245.03,1382.83 1247,1382.85 1248.97,1382.87 1250.94,1382.88 \n",
       "  1252.9,1382.9 1254.87,1382.92 1256.84,1382.94 1258.81,1382.96 1260.77,1382.98 1262.74,1383 1264.71,1383.02 1266.68,1383.04 1268.64,1383.05 1270.61,1383.07 \n",
       "  1272.58,1383.09 1274.55,1383.11 1276.52,1383.13 1278.48,1383.14 1280.45,1383.16 1282.42,1383.18 1284.39,1383.2 1286.35,1383.22 1288.32,1383.23 1290.29,1383.25 \n",
       "  1292.26,1383.27 1294.22,1383.29 1296.19,1383.3 1298.16,1383.32 1300.13,1383.34 1302.09,1383.36 1304.06,1383.37 1306.03,1383.39 1308,1383.41 1309.97,1383.42 \n",
       "  1311.93,1383.44 1313.9,1383.46 1315.87,1383.47 1317.84,1383.49 1319.8,1383.51 1321.77,1383.52 1323.74,1383.54 1325.71,1383.56 1327.67,1383.57 1329.64,1383.59 \n",
       "  1331.61,1383.61 1333.58,1383.62 1335.54,1383.64 1337.51,1383.65 1339.48,1383.67 1341.45,1383.69 1343.42,1383.7 1345.38,1383.72 1347.35,1383.73 1349.32,1383.75 \n",
       "  1351.29,1383.76 1353.25,1383.78 1355.22,1383.8 1357.19,1383.81 1359.16,1383.83 1361.12,1383.84 1363.09,1383.86 1365.06,1383.87 1367.03,1383.89 1368.99,1383.9 \n",
       "  1370.96,1383.92 1372.93,1383.93 1374.9,1383.95 1376.86,1383.96 1378.83,1383.98 1380.8,1383.99 1382.77,1384.01 1384.74,1384.02 1386.7,1384.04 1388.67,1384.05 \n",
       "  1390.64,1384.06 1392.61,1384.08 1394.57,1384.09 1396.54,1384.11 1398.51,1384.12 1400.48,1384.14 1402.44,1384.15 1404.41,1384.16 1406.38,1384.18 1408.35,1384.19 \n",
       "  1410.31,1384.21 1412.28,1384.22 1414.25,1384.23 1416.22,1384.25 1418.19,1384.26 1420.15,1384.27 1422.12,1384.29 1424.09,1384.3 1426.06,1384.32 1428.02,1384.33 \n",
       "  1429.99,1384.34 1431.96,1384.36 1433.93,1384.37 1435.89,1384.38 1437.86,1384.4 1439.83,1384.41 1441.8,1384.42 1443.76,1384.44 1445.73,1384.45 1447.7,1384.46 \n",
       "  1449.67,1384.47 1451.64,1384.49 1453.6,1384.5 1455.57,1384.51 1457.54,1384.53 1459.51,1384.54 1461.47,1384.55 1463.44,1384.56 1465.41,1384.58 1467.38,1384.59 \n",
       "  1469.34,1384.6 1471.31,1384.61 1473.28,1384.63 1475.25,1384.64 1477.21,1384.65 1479.18,1384.66 1481.15,1384.68 1483.12,1384.69 1485.09,1384.7 1487.05,1384.71 \n",
       "  1489.02,1384.73 1490.99,1384.74 1492.96,1384.75 1494.92,1384.76 1496.89,1384.77 1498.86,1384.79 1500.83,1384.8 1502.79,1384.81 1504.76,1384.82 1506.73,1384.83 \n",
       "  1508.7,1384.84 1510.66,1384.86 1512.63,1384.87 1514.6,1384.88 1516.57,1384.89 1518.54,1384.9 1520.5,1384.91 1522.47,1384.93 1524.44,1384.94 1526.41,1384.95 \n",
       "  1528.37,1384.96 1530.34,1384.97 1532.31,1384.98 1534.28,1384.99 1536.24,1385 1538.21,1385.02 1540.18,1385.03 1542.15,1385.04 1544.11,1385.05 1546.08,1385.06 \n",
       "  1548.05,1385.07 1550.02,1385.08 1551.99,1385.09 1553.95,1385.1 1555.92,1385.11 1557.89,1385.13 1559.86,1385.14 1561.82,1385.15 1563.79,1385.16 1565.76,1385.17 \n",
       "  1567.73,1385.18 1569.69,1385.19 1571.66,1385.2 1573.63,1385.21 1575.6,1385.22 1577.56,1385.23 1579.53,1385.24 1581.5,1385.25 1583.47,1385.26 1585.43,1385.27 \n",
       "  1587.4,1385.28 1589.37,1385.29 1591.34,1385.3 1593.31,1385.31 1595.27,1385.32 1597.24,1385.33 1599.21,1385.34 1601.18,1385.35 1603.14,1385.36 1605.11,1385.37 \n",
       "  1607.08,1385.38 1609.05,1385.39 1611.01,1385.4 1612.98,1385.41 1614.95,1385.42 1616.92,1385.43 1618.88,1385.44 1620.85,1385.45 1622.82,1385.46 1624.79,1385.47 \n",
       "  1626.76,1385.48 1628.72,1385.49 1630.69,1385.5 1632.66,1385.51 1634.63,1385.52 1636.59,1385.53 1638.56,1385.54 1640.53,1385.55 1642.5,1385.56 1644.46,1385.57 \n",
       "  1646.43,1385.58 1648.4,1385.59 1650.37,1385.6 1652.33,1385.61 1654.3,1385.62 1656.27,1385.63 1658.24,1385.63 1660.21,1385.64 1662.17,1385.65 1664.14,1385.66 \n",
       "  1666.11,1385.67 1668.08,1385.68 1670.04,1385.69 1672.01,1385.7 1673.98,1385.71 1675.95,1385.72 1677.91,1385.73 1679.88,1385.73 1681.85,1385.74 1683.82,1385.75 \n",
       "  1685.78,1385.76 1687.75,1385.77 1689.72,1385.78 1691.69,1385.79 1693.66,1385.8 1695.62,1385.81 1697.59,1385.81 1699.56,1385.82 1701.53,1385.83 1703.49,1385.84 \n",
       "  1705.46,1385.85 1707.43,1385.86 1709.4,1385.87 1711.36,1385.87 1713.33,1385.88 1715.3,1385.89 1717.27,1385.9 1719.23,1385.91 1721.2,1385.92 1723.17,1385.93 \n",
       "  1725.14,1385.93 1727.11,1385.94 1729.07,1385.95 1731.04,1385.96 1733.01,1385.97 1734.98,1385.98 1736.94,1385.98 1738.91,1385.99 1740.88,1386 1742.85,1386.01 \n",
       "  1744.81,1386.02 1746.78,1386.02 1748.75,1386.03 1750.72,1386.04 1752.68,1386.05 1754.65,1386.06 1756.62,1386.06 1758.59,1386.07 1760.55,1386.08 1762.52,1386.09 \n",
       "  1764.49,1386.1 1766.46,1386.1 1768.43,1386.11 1770.39,1386.12 1772.36,1386.13 1774.33,1386.14 1776.3,1386.14 1778.26,1386.15 1780.23,1386.16 1782.2,1386.17 \n",
       "  1784.17,1386.17 1786.13,1386.18 1788.1,1386.19 1790.07,1386.2 1792.04,1386.21 1794,1386.21 1795.97,1386.22 1797.94,1386.23 1799.91,1386.24 1801.88,1386.24 \n",
       "  1803.84,1386.25 1805.81,1386.26 1807.78,1386.27 1809.75,1386.27 1811.71,1386.28 1813.68,1386.29 1815.65,1386.3 1817.62,1386.3 1819.58,1386.31 1821.55,1386.32 \n",
       "  1823.52,1386.33 1825.49,1386.33 1827.45,1386.34 1829.42,1386.35 1831.39,1386.35 1833.36,1386.36 1835.33,1386.37 1837.29,1386.38 1839.26,1386.38 1841.23,1386.39 \n",
       "  1843.2,1386.4 1845.16,1386.4 1847.13,1386.41 1849.1,1386.42 1851.07,1386.43 1853.03,1386.43 1855,1386.44 1856.97,1386.45 1858.94,1386.45 1860.9,1386.46 \n",
       "  1862.87,1386.47 1864.84,1386.47 1866.81,1386.48 1868.78,1386.49 1870.74,1386.5 1872.71,1386.5 1874.68,1386.51 1876.65,1386.52 1878.61,1386.52 1880.58,1386.53 \n",
       "  1882.55,1386.54 1884.52,1386.54 1886.48,1386.55 1888.45,1386.56 1890.42,1386.56 1892.39,1386.57 1894.35,1386.58 1896.32,1386.58 1898.29,1386.59 1900.26,1386.6 \n",
       "  1902.23,1386.6 1904.19,1386.61 1906.16,1386.62 1908.13,1386.62 1910.1,1386.63 1912.06,1386.64 1914.03,1386.64 1916,1386.65 1917.97,1386.66 1919.93,1386.66 \n",
       "  1921.9,1386.67 1923.87,1386.67 1925.84,1386.68 1927.8,1386.69 1929.77,1386.69 1931.74,1386.7 1933.71,1386.71 1935.68,1386.71 1937.64,1386.72 1939.61,1386.73 \n",
       "  1941.58,1386.73 1943.55,1386.74 1945.51,1386.74 1947.48,1386.75 1949.45,1386.76 1951.42,1386.76 1953.38,1386.77 1955.35,1386.78 1957.32,1386.78 1959.29,1386.79 \n",
       "  1961.25,1386.79 1963.22,1386.8 1965.19,1386.81 1967.16,1386.81 1969.12,1386.82 1971.09,1386.82 1973.06,1386.83 1975.03,1386.84 1977,1386.84 1978.96,1386.85 \n",
       "  1980.93,1386.85 1982.9,1386.86 1984.87,1386.87 1986.83,1386.87 1988.8,1386.88 1990.77,1386.88 1992.74,1386.89 1994.7,1386.9 1996.67,1386.9 1998.64,1386.91 \n",
       "  2000.61,1386.91 2002.57,1386.92 2004.54,1386.93 2006.51,1386.93 2008.48,1386.94 2010.45,1386.94 2012.41,1386.95 2014.38,1386.95 2016.35,1386.96 2018.32,1386.97 \n",
       "  2020.28,1386.97 2022.25,1386.98 2024.22,1386.98 2026.19,1386.99 2028.15,1386.99 2030.12,1387 2032.09,1387.01 2034.06,1387.01 2036.02,1387.02 2037.99,1387.02 \n",
       "  2039.96,1387.03 2041.93,1387.03 2043.9,1387.04 2045.86,1387.05 2047.83,1387.05 2049.8,1387.06 2051.77,1387.06 2053.73,1387.07 2055.7,1387.07 2057.67,1387.08 \n",
       "  2059.64,1387.08 2061.6,1387.09 2063.57,1387.09 2065.54,1387.1 2067.51,1387.11 2069.47,1387.11 2071.44,1387.12 2073.41,1387.12 2075.38,1387.13 2077.35,1387.13 \n",
       "  2079.31,1387.14 2081.28,1387.14 2083.25,1387.15 2085.22,1387.15 2087.18,1387.16 2089.15,1387.16 2091.12,1387.17 2093.09,1387.18 2095.05,1387.18 2097.02,1387.19 \n",
       "  2098.99,1387.19 2100.96,1387.2 2102.92,1387.2 2104.89,1387.21 2106.86,1387.21 2108.83,1387.22 2110.8,1387.22 2112.76,1387.23 2114.73,1387.23 2116.7,1387.24 \n",
       "  2118.67,1387.24 2120.63,1387.25 2122.6,1387.25 2124.57,1387.26 2126.54,1387.26 2128.5,1387.27 2130.47,1387.27 2132.44,1387.28 2134.41,1387.28 2136.37,1387.29 \n",
       "  2138.34,1387.29 2140.31,1387.3 2142.28,1387.3 2144.24,1387.31 2146.21,1387.31 2148.18,1387.32 2150.15,1387.32 2152.12,1387.33 2154.08,1387.33 2156.05,1387.34 \n",
       "  2158.02,1387.34 2159.99,1387.35 2161.95,1387.35 2163.92,1387.36 2165.89,1387.36 2167.86,1387.37 2169.82,1387.37 2171.79,1387.38 2173.76,1387.38 2175.73,1387.39 \n",
       "  2177.69,1387.39 2179.66,1387.4 2181.63,1387.4 2183.6,1387.41 2185.57,1387.41 2187.53,1387.41 2189.5,1387.42 2191.47,1387.42 2193.44,1387.43 2195.4,1387.43 \n",
       "  2197.37,1387.44 2199.34,1387.44 2201.31,1387.45 2203.27,1387.45 2205.24,1387.46 2207.21,1387.46 2209.18,1387.47 2211.14,1387.47 2213.11,1387.48 2215.08,1387.48 \n",
       "  2217.05,1387.48 2219.02,1387.49 2220.98,1387.49 2222.95,1387.5 2224.92,1387.5 2226.89,1387.51 2228.85,1387.51 2230.82,1387.52 2232.79,1387.52 2234.76,1387.53 \n",
       "  2236.72,1387.53 2238.69,1387.53 2240.66,1387.54 2242.63,1387.54 2244.59,1387.55 2246.56,1387.55 2248.53,1387.56 2250.5,1387.56 2252.47,1387.57 2254.43,1387.57 \n",
       "  2256.4,1387.57 2258.37,1387.58 2260.34,1387.58 2262.3,1387.59 2264.27,1387.59 2266.24,1387.6 2268.21,1387.6 2270.17,1387.61 2272.14,1387.61 2274.11,1387.61 \n",
       "  2276.08,1387.62 2278.04,1387.62 2280.01,1387.63 2281.98,1387.63 2283.95,1387.64 2285.92,1387.64 2287.88,1387.64 2289.85,1387.65 2291.82,1387.65 2293.79,1387.66 \n",
       "  \n",
       "  \"/>\n",
       "<path clip-path=\"url(#clip340)\" d=\"\n",
       "M1999.36 313.557 L2283.3 313.557 L2283.3 209.877 L1999.36 209.877  Z\n",
       "  \" fill=\"#ffffff\" fill-rule=\"evenodd\" fill-opacity=\"1\"/>\n",
       "<polyline clip-path=\"url(#clip340)\" style=\"stroke:#000000; stroke-linecap:butt; stroke-linejoin:round; stroke-width:4; stroke-opacity:1; fill:none\" points=\"\n",
       "  1999.36,313.557 2283.3,313.557 2283.3,209.877 1999.36,209.877 1999.36,313.557 \n",
       "  \"/>\n",
       "<polyline clip-path=\"url(#clip340)\" style=\"stroke:#009af9; stroke-linecap:butt; stroke-linejoin:round; stroke-width:4; stroke-opacity:1; fill:none\" points=\"\n",
       "  2022.51,261.717 2161.42,261.717 \n",
       "  \"/>\n",
       "<path clip-path=\"url(#clip340)\" d=\"M2198.41 281.404 Q2196.61 286.034 2194.89 287.446 Q2193.18 288.858 2190.31 288.858 L2186.91 288.858 L2186.91 285.293 L2189.41 285.293 Q2191.17 285.293 2192.14 284.46 Q2193.11 283.626 2194.29 280.525 L2195.06 278.58 L2184.57 253.071 L2189.08 253.071 L2197.18 273.349 L2205.29 253.071 L2209.8 253.071 L2198.41 281.404 Z\" fill=\"#000000\" fill-rule=\"evenodd\" fill-opacity=\"1\" /><path clip-path=\"url(#clip340)\" d=\"M2217.09 275.062 L2224.73 275.062 L2224.73 248.696 L2216.42 250.363 L2216.42 246.103 L2224.68 244.437 L2229.36 244.437 L2229.36 275.062 L2237 275.062 L2237 278.997 L2217.09 278.997 L2217.09 275.062 Z\" fill=\"#000000\" fill-rule=\"evenodd\" fill-opacity=\"1\" /></svg>\n"
      ]
     },
     "execution_count": 90,
     "metadata": {},
     "output_type": "execute_result"
    }
   ],
   "source": [
    "plot(\n",
    "    [t for t in 1:1000],\n",
    "    [(1000*atm*1L) / (1mol*R*temps[t]*K) for t in 1:1000], \n",
    "    title=\"\\$\\\\frac{PV}{RT}\\$ of \\$CO_{2}\\$ at increasing temperature\"\n",
    ")\n",
    "xlabel!(\"Temperature (K)\")\n",
    "ylabel!(\"\\$\\\\frac{PV}{RT}\\$\")\n",
    "\n"
   ]
  },
  {
   "cell_type": "code",
   "execution_count": 93,
   "id": "e98ceee8",
   "metadata": {},
   "outputs": [
    {
     "data": {
      "image/svg+xml": [
       "<?xml version=\"1.0\" encoding=\"utf-8\"?>\n",
       "<svg xmlns=\"http://www.w3.org/2000/svg\" xmlns:xlink=\"http://www.w3.org/1999/xlink\" width=\"600\" height=\"400\" viewBox=\"0 0 2400 1600\">\n",
       "<defs>\n",
       "  <clipPath id=\"clip460\">\n",
       "    <rect x=\"0\" y=\"0\" width=\"2400\" height=\"1600\"/>\n",
       "  </clipPath>\n",
       "</defs>\n",
       "<path clip-path=\"url(#clip460)\" d=\"\n",
       "M0 1600 L2400 1600 L2400 0 L0 0  Z\n",
       "  \" fill=\"#ffffff\" fill-rule=\"evenodd\" fill-opacity=\"1\"/>\n",
       "<defs>\n",
       "  <clipPath id=\"clip461\">\n",
       "    <rect x=\"480\" y=\"0\" width=\"1681\" height=\"1600\"/>\n",
       "  </clipPath>\n",
       "</defs>\n",
       "<defs>\n",
       "  <clipPath id=\"clip462\">\n",
       "    <rect x=\"252\" y=\"168\" width=\"2101\" height=\"1256\"/>\n",
       "  </clipPath>\n",
       "</defs>\n",
       "<path clip-path=\"url(#clip460)\" d=\"\n",
       "M254.05 1423.18 L2352.76 1423.18 L2352.76 168.039 L254.05 168.039  Z\n",
       "  \" fill=\"#ffffff\" fill-rule=\"evenodd\" fill-opacity=\"1\"/>\n",
       "<defs>\n",
       "  <clipPath id=\"clip463\">\n",
       "    <rect x=\"254\" y=\"168\" width=\"2100\" height=\"1256\"/>\n",
       "  </clipPath>\n",
       "</defs>\n",
       "<polyline clip-path=\"url(#clip463)\" style=\"stroke:#000000; stroke-linecap:butt; stroke-linejoin:round; stroke-width:2; stroke-opacity:0.1; fill:none\" points=\"\n",
       "  313.447,1423.18 313.447,168.039 \n",
       "  \"/>\n",
       "<polyline clip-path=\"url(#clip463)\" style=\"stroke:#000000; stroke-linecap:butt; stroke-linejoin:round; stroke-width:2; stroke-opacity:0.1; fill:none\" points=\"\n",
       "  709.429,1423.18 709.429,168.039 \n",
       "  \"/>\n",
       "<polyline clip-path=\"url(#clip463)\" style=\"stroke:#000000; stroke-linecap:butt; stroke-linejoin:round; stroke-width:2; stroke-opacity:0.1; fill:none\" points=\"\n",
       "  1105.41,1423.18 1105.41,168.039 \n",
       "  \"/>\n",
       "<polyline clip-path=\"url(#clip463)\" style=\"stroke:#000000; stroke-linecap:butt; stroke-linejoin:round; stroke-width:2; stroke-opacity:0.1; fill:none\" points=\"\n",
       "  1501.39,1423.18 1501.39,168.039 \n",
       "  \"/>\n",
       "<polyline clip-path=\"url(#clip463)\" style=\"stroke:#000000; stroke-linecap:butt; stroke-linejoin:round; stroke-width:2; stroke-opacity:0.1; fill:none\" points=\"\n",
       "  1897.38,1423.18 1897.38,168.039 \n",
       "  \"/>\n",
       "<polyline clip-path=\"url(#clip463)\" style=\"stroke:#000000; stroke-linecap:butt; stroke-linejoin:round; stroke-width:2; stroke-opacity:0.1; fill:none\" points=\"\n",
       "  2293.36,1423.18 2293.36,168.039 \n",
       "  \"/>\n",
       "<polyline clip-path=\"url(#clip460)\" style=\"stroke:#000000; stroke-linecap:butt; stroke-linejoin:round; stroke-width:4; stroke-opacity:1; fill:none\" points=\"\n",
       "  254.05,1423.18 2352.76,1423.18 \n",
       "  \"/>\n",
       "<polyline clip-path=\"url(#clip460)\" style=\"stroke:#000000; stroke-linecap:butt; stroke-linejoin:round; stroke-width:4; stroke-opacity:1; fill:none\" points=\"\n",
       "  313.447,1423.18 313.447,1404.28 \n",
       "  \"/>\n",
       "<polyline clip-path=\"url(#clip460)\" style=\"stroke:#000000; stroke-linecap:butt; stroke-linejoin:round; stroke-width:4; stroke-opacity:1; fill:none\" points=\"\n",
       "  709.429,1423.18 709.429,1404.28 \n",
       "  \"/>\n",
       "<polyline clip-path=\"url(#clip460)\" style=\"stroke:#000000; stroke-linecap:butt; stroke-linejoin:round; stroke-width:4; stroke-opacity:1; fill:none\" points=\"\n",
       "  1105.41,1423.18 1105.41,1404.28 \n",
       "  \"/>\n",
       "<polyline clip-path=\"url(#clip460)\" style=\"stroke:#000000; stroke-linecap:butt; stroke-linejoin:round; stroke-width:4; stroke-opacity:1; fill:none\" points=\"\n",
       "  1501.39,1423.18 1501.39,1404.28 \n",
       "  \"/>\n",
       "<polyline clip-path=\"url(#clip460)\" style=\"stroke:#000000; stroke-linecap:butt; stroke-linejoin:round; stroke-width:4; stroke-opacity:1; fill:none\" points=\"\n",
       "  1897.38,1423.18 1897.38,1404.28 \n",
       "  \"/>\n",
       "<polyline clip-path=\"url(#clip460)\" style=\"stroke:#000000; stroke-linecap:butt; stroke-linejoin:round; stroke-width:4; stroke-opacity:1; fill:none\" points=\"\n",
       "  2293.36,1423.18 2293.36,1404.28 \n",
       "  \"/>\n",
       "<path clip-path=\"url(#clip460)\" d=\"M273.065 1451.02 L291.422 1451.02 L291.422 1454.96 L277.348 1454.96 L277.348 1463.43 Q278.366 1463.08 279.385 1462.92 Q280.403 1462.73 281.422 1462.73 Q287.209 1462.73 290.588 1465.9 Q293.968 1469.08 293.968 1474.49 Q293.968 1480.07 290.496 1483.17 Q287.023 1486.25 280.704 1486.25 Q278.528 1486.25 276.26 1485.88 Q274.014 1485.51 271.607 1484.77 L271.607 1480.07 Q273.69 1481.2 275.912 1481.76 Q278.135 1482.32 280.611 1482.32 Q284.616 1482.32 286.954 1480.21 Q289.292 1478.1 289.292 1474.49 Q289.292 1470.88 286.954 1468.77 Q284.616 1466.67 280.611 1466.67 Q278.736 1466.67 276.861 1467.08 Q275.01 1467.5 273.065 1468.38 L273.065 1451.02 Z\" fill=\"#000000\" fill-rule=\"evenodd\" fill-opacity=\"1\" /><path clip-path=\"url(#clip460)\" d=\"M313.181 1454.1 Q309.57 1454.1 307.741 1457.66 Q305.935 1461.2 305.935 1468.33 Q305.935 1475.44 307.741 1479.01 Q309.57 1482.55 313.181 1482.55 Q316.815 1482.55 318.621 1479.01 Q320.449 1475.44 320.449 1468.33 Q320.449 1461.2 318.621 1457.66 Q316.815 1454.1 313.181 1454.1 M313.181 1450.39 Q318.991 1450.39 322.046 1455 Q325.125 1459.58 325.125 1468.33 Q325.125 1477.06 322.046 1481.67 Q318.991 1486.25 313.181 1486.25 Q307.371 1486.25 304.292 1481.67 Q301.236 1477.06 301.236 1468.33 Q301.236 1459.58 304.292 1455 Q307.371 1450.39 313.181 1450.39 Z\" fill=\"#000000\" fill-rule=\"evenodd\" fill-opacity=\"1\" /><path clip-path=\"url(#clip460)\" d=\"M343.343 1454.1 Q339.732 1454.1 337.903 1457.66 Q336.097 1461.2 336.097 1468.33 Q336.097 1475.44 337.903 1479.01 Q339.732 1482.55 343.343 1482.55 Q346.977 1482.55 348.782 1479.01 Q350.611 1475.44 350.611 1468.33 Q350.611 1461.2 348.782 1457.66 Q346.977 1454.1 343.343 1454.1 M343.343 1450.39 Q349.153 1450.39 352.208 1455 Q355.287 1459.58 355.287 1468.33 Q355.287 1477.06 352.208 1481.67 Q349.153 1486.25 343.343 1486.25 Q337.532 1486.25 334.454 1481.67 Q331.398 1477.06 331.398 1468.33 Q331.398 1459.58 334.454 1455 Q337.532 1450.39 343.343 1450.39 Z\" fill=\"#000000\" fill-rule=\"evenodd\" fill-opacity=\"1\" /><path clip-path=\"url(#clip460)\" d=\"M679.754 1466.44 Q676.605 1466.44 674.754 1468.59 Q672.925 1470.74 672.925 1474.49 Q672.925 1478.22 674.754 1480.39 Q676.605 1482.55 679.754 1482.55 Q682.902 1482.55 684.73 1480.39 Q686.582 1478.22 686.582 1474.49 Q686.582 1470.74 684.73 1468.59 Q682.902 1466.44 679.754 1466.44 M689.036 1451.78 L689.036 1456.04 Q687.277 1455.21 685.471 1454.77 Q683.689 1454.33 681.929 1454.33 Q677.3 1454.33 674.846 1457.45 Q672.416 1460.58 672.068 1466.9 Q673.434 1464.89 675.494 1463.82 Q677.554 1462.73 680.031 1462.73 Q685.24 1462.73 688.249 1465.9 Q691.281 1469.05 691.281 1474.49 Q691.281 1479.82 688.133 1483.03 Q684.985 1486.25 679.754 1486.25 Q673.758 1486.25 670.587 1481.67 Q667.416 1477.06 667.416 1468.33 Q667.416 1460.14 671.304 1455.28 Q675.193 1450.39 681.744 1450.39 Q683.503 1450.39 685.286 1450.74 Q687.091 1451.09 689.036 1451.78 Z\" fill=\"#000000\" fill-rule=\"evenodd\" fill-opacity=\"1\" /><path clip-path=\"url(#clip460)\" d=\"M709.337 1454.1 Q705.726 1454.1 703.897 1457.66 Q702.091 1461.2 702.091 1468.33 Q702.091 1475.44 703.897 1479.01 Q705.726 1482.55 709.337 1482.55 Q712.971 1482.55 714.776 1479.01 Q716.605 1475.44 716.605 1468.33 Q716.605 1461.2 714.776 1457.66 Q712.971 1454.1 709.337 1454.1 M709.337 1450.39 Q715.147 1450.39 718.202 1455 Q721.281 1459.58 721.281 1468.33 Q721.281 1477.06 718.202 1481.67 Q715.147 1486.25 709.337 1486.25 Q703.527 1486.25 700.448 1481.67 Q697.392 1477.06 697.392 1468.33 Q697.392 1459.58 700.448 1455 Q703.527 1450.39 709.337 1450.39 Z\" fill=\"#000000\" fill-rule=\"evenodd\" fill-opacity=\"1\" /><path clip-path=\"url(#clip460)\" d=\"M739.499 1454.1 Q735.887 1454.1 734.059 1457.66 Q732.253 1461.2 732.253 1468.33 Q732.253 1475.44 734.059 1479.01 Q735.887 1482.55 739.499 1482.55 Q743.133 1482.55 744.938 1479.01 Q746.767 1475.44 746.767 1468.33 Q746.767 1461.2 744.938 1457.66 Q743.133 1454.1 739.499 1454.1 M739.499 1450.39 Q745.309 1450.39 748.364 1455 Q751.443 1459.58 751.443 1468.33 Q751.443 1477.06 748.364 1481.67 Q745.309 1486.25 739.499 1486.25 Q733.688 1486.25 730.61 1481.67 Q727.554 1477.06 727.554 1468.33 Q727.554 1459.58 730.61 1455 Q733.688 1450.39 739.499 1450.39 Z\" fill=\"#000000\" fill-rule=\"evenodd\" fill-opacity=\"1\" /><path clip-path=\"url(#clip460)\" d=\"M1063.69 1451.02 L1085.91 1451.02 L1085.91 1453.01 L1073.36 1485.58 L1068.48 1485.58 L1080.28 1454.96 L1063.69 1454.96 L1063.69 1451.02 Z\" fill=\"#000000\" fill-rule=\"evenodd\" fill-opacity=\"1\" /><path clip-path=\"url(#clip460)\" d=\"M1105.03 1454.1 Q1101.42 1454.1 1099.59 1457.66 Q1097.78 1461.2 1097.78 1468.33 Q1097.78 1475.44 1099.59 1479.01 Q1101.42 1482.55 1105.03 1482.55 Q1108.66 1482.55 1110.47 1479.01 Q1112.3 1475.44 1112.3 1468.33 Q1112.3 1461.2 1110.47 1457.66 Q1108.66 1454.1 1105.03 1454.1 M1105.03 1450.39 Q1110.84 1450.39 1113.9 1455 Q1116.97 1459.58 1116.97 1468.33 Q1116.97 1477.06 1113.9 1481.67 Q1110.84 1486.25 1105.03 1486.25 Q1099.22 1486.25 1096.14 1481.67 Q1093.09 1477.06 1093.09 1468.33 Q1093.09 1459.58 1096.14 1455 Q1099.22 1450.39 1105.03 1450.39 Z\" fill=\"#000000\" fill-rule=\"evenodd\" fill-opacity=\"1\" /><path clip-path=\"url(#clip460)\" d=\"M1135.19 1454.1 Q1131.58 1454.1 1129.75 1457.66 Q1127.95 1461.2 1127.95 1468.33 Q1127.95 1475.44 1129.75 1479.01 Q1131.58 1482.55 1135.19 1482.55 Q1138.83 1482.55 1140.63 1479.01 Q1142.46 1475.44 1142.46 1468.33 Q1142.46 1461.2 1140.63 1457.66 Q1138.83 1454.1 1135.19 1454.1 M1135.19 1450.39 Q1141 1450.39 1144.06 1455 Q1147.14 1459.58 1147.14 1468.33 Q1147.14 1477.06 1144.06 1481.67 Q1141 1486.25 1135.19 1486.25 Q1129.38 1486.25 1126.3 1481.67 Q1123.25 1477.06 1123.25 1468.33 Q1123.25 1459.58 1126.3 1455 Q1129.38 1450.39 1135.19 1450.39 Z\" fill=\"#000000\" fill-rule=\"evenodd\" fill-opacity=\"1\" /><path clip-path=\"url(#clip460)\" d=\"M1471.19 1469.17 Q1467.85 1469.17 1465.93 1470.95 Q1464.03 1472.73 1464.03 1475.86 Q1464.03 1478.98 1465.93 1480.77 Q1467.85 1482.55 1471.19 1482.55 Q1474.52 1482.55 1476.44 1480.77 Q1478.36 1478.96 1478.36 1475.86 Q1478.36 1472.73 1476.44 1470.95 Q1474.54 1469.17 1471.19 1469.17 M1466.51 1467.18 Q1463.5 1466.44 1461.81 1464.38 Q1460.14 1462.32 1460.14 1459.35 Q1460.14 1455.21 1463.08 1452.8 Q1466.05 1450.39 1471.19 1450.39 Q1476.35 1450.39 1479.29 1452.8 Q1482.23 1455.21 1482.23 1459.35 Q1482.23 1462.32 1480.54 1464.38 Q1478.87 1466.44 1475.88 1467.18 Q1479.26 1467.96 1481.14 1470.26 Q1483.04 1472.55 1483.04 1475.86 Q1483.04 1480.88 1479.96 1483.57 Q1476.9 1486.25 1471.19 1486.25 Q1465.47 1486.25 1462.39 1483.57 Q1459.33 1480.88 1459.33 1475.86 Q1459.33 1472.55 1461.23 1470.26 Q1463.13 1467.96 1466.51 1467.18 M1464.8 1459.79 Q1464.8 1462.48 1466.46 1463.98 Q1468.15 1465.49 1471.19 1465.49 Q1474.19 1465.49 1475.88 1463.98 Q1477.6 1462.48 1477.6 1459.79 Q1477.6 1457.11 1475.88 1455.6 Q1474.19 1454.1 1471.19 1454.1 Q1468.15 1454.1 1466.46 1455.6 Q1464.8 1457.11 1464.8 1459.79 Z\" fill=\"#000000\" fill-rule=\"evenodd\" fill-opacity=\"1\" /><path clip-path=\"url(#clip460)\" d=\"M1501.35 1454.1 Q1497.74 1454.1 1495.91 1457.66 Q1494.1 1461.2 1494.1 1468.33 Q1494.1 1475.44 1495.91 1479.01 Q1497.74 1482.55 1501.35 1482.55 Q1504.98 1482.55 1506.79 1479.01 Q1508.62 1475.44 1508.62 1468.33 Q1508.62 1461.2 1506.79 1457.66 Q1504.98 1454.1 1501.35 1454.1 M1501.35 1450.39 Q1507.16 1450.39 1510.21 1455 Q1513.29 1459.58 1513.29 1468.33 Q1513.29 1477.06 1510.21 1481.67 Q1507.16 1486.25 1501.35 1486.25 Q1495.54 1486.25 1492.46 1481.67 Q1489.4 1477.06 1489.4 1468.33 Q1489.4 1459.58 1492.46 1455 Q1495.54 1450.39 1501.35 1450.39 Z\" fill=\"#000000\" fill-rule=\"evenodd\" fill-opacity=\"1\" /><path clip-path=\"url(#clip460)\" d=\"M1531.51 1454.1 Q1527.9 1454.1 1526.07 1457.66 Q1524.26 1461.2 1524.26 1468.33 Q1524.26 1475.44 1526.07 1479.01 Q1527.9 1482.55 1531.51 1482.55 Q1535.14 1482.55 1536.95 1479.01 Q1538.78 1475.44 1538.78 1468.33 Q1538.78 1461.2 1536.95 1457.66 Q1535.14 1454.1 1531.51 1454.1 M1531.51 1450.39 Q1537.32 1450.39 1540.38 1455 Q1543.45 1459.58 1543.45 1468.33 Q1543.45 1477.06 1540.38 1481.67 Q1537.32 1486.25 1531.51 1486.25 Q1525.7 1486.25 1522.62 1481.67 Q1519.57 1477.06 1519.57 1468.33 Q1519.57 1459.58 1522.62 1455 Q1525.7 1450.39 1531.51 1450.39 Z\" fill=\"#000000\" fill-rule=\"evenodd\" fill-opacity=\"1\" /><path clip-path=\"url(#clip460)\" d=\"M1857.42 1484.86 L1857.42 1480.6 Q1859.18 1481.44 1860.99 1481.88 Q1862.79 1482.32 1864.53 1482.32 Q1869.16 1482.32 1871.59 1479.21 Q1874.04 1476.09 1874.39 1469.75 Q1873.05 1471.74 1870.99 1472.8 Q1868.93 1473.87 1866.43 1473.87 Q1861.24 1473.87 1858.21 1470.74 Q1855.2 1467.59 1855.2 1462.15 Q1855.2 1456.83 1858.35 1453.61 Q1861.5 1450.39 1866.73 1450.39 Q1872.72 1450.39 1875.87 1455 Q1879.04 1459.58 1879.04 1468.33 Q1879.04 1476.51 1875.15 1481.39 Q1871.29 1486.25 1864.74 1486.25 Q1862.98 1486.25 1861.17 1485.9 Q1859.37 1485.56 1857.42 1484.86 M1866.73 1470.21 Q1869.88 1470.21 1871.71 1468.06 Q1873.56 1465.9 1873.56 1462.15 Q1873.56 1458.43 1871.71 1456.27 Q1869.88 1454.1 1866.73 1454.1 Q1863.58 1454.1 1861.73 1456.27 Q1859.9 1458.43 1859.9 1462.15 Q1859.9 1465.9 1861.73 1468.06 Q1863.58 1470.21 1866.73 1470.21 Z\" fill=\"#000000\" fill-rule=\"evenodd\" fill-opacity=\"1\" /><path clip-path=\"url(#clip460)\" d=\"M1897.45 1454.1 Q1893.83 1454.1 1892.01 1457.66 Q1890.2 1461.2 1890.2 1468.33 Q1890.2 1475.44 1892.01 1479.01 Q1893.83 1482.55 1897.45 1482.55 Q1901.08 1482.55 1902.89 1479.01 Q1904.71 1475.44 1904.71 1468.33 Q1904.71 1461.2 1902.89 1457.66 Q1901.08 1454.1 1897.45 1454.1 M1897.45 1450.39 Q1903.26 1450.39 1906.31 1455 Q1909.39 1459.58 1909.39 1468.33 Q1909.39 1477.06 1906.31 1481.67 Q1903.26 1486.25 1897.45 1486.25 Q1891.64 1486.25 1888.56 1481.67 Q1885.5 1477.06 1885.5 1468.33 Q1885.5 1459.58 1888.56 1455 Q1891.64 1450.39 1897.45 1450.39 Z\" fill=\"#000000\" fill-rule=\"evenodd\" fill-opacity=\"1\" /><path clip-path=\"url(#clip460)\" d=\"M1927.61 1454.1 Q1924 1454.1 1922.17 1457.66 Q1920.36 1461.2 1920.36 1468.33 Q1920.36 1475.44 1922.17 1479.01 Q1924 1482.55 1927.61 1482.55 Q1931.24 1482.55 1933.05 1479.01 Q1934.88 1475.44 1934.88 1468.33 Q1934.88 1461.2 1933.05 1457.66 Q1931.24 1454.1 1927.61 1454.1 M1927.61 1450.39 Q1933.42 1450.39 1936.47 1455 Q1939.55 1459.58 1939.55 1468.33 Q1939.55 1477.06 1936.47 1481.67 Q1933.42 1486.25 1927.61 1486.25 Q1921.8 1486.25 1918.72 1481.67 Q1915.66 1477.06 1915.66 1468.33 Q1915.66 1459.58 1918.72 1455 Q1921.8 1450.39 1927.61 1450.39 Z\" fill=\"#000000\" fill-rule=\"evenodd\" fill-opacity=\"1\" /><path clip-path=\"url(#clip460)\" d=\"M2237.88 1481.64 L2245.52 1481.64 L2245.52 1455.28 L2237.21 1456.95 L2237.21 1452.69 L2245.48 1451.02 L2250.15 1451.02 L2250.15 1481.64 L2257.79 1481.64 L2257.79 1485.58 L2237.88 1485.58 L2237.88 1481.64 Z\" fill=\"#000000\" fill-rule=\"evenodd\" fill-opacity=\"1\" /><path clip-path=\"url(#clip460)\" d=\"M2277.24 1454.1 Q2273.62 1454.1 2271.8 1457.66 Q2269.99 1461.2 2269.99 1468.33 Q2269.99 1475.44 2271.8 1479.01 Q2273.62 1482.55 2277.24 1482.55 Q2280.87 1482.55 2282.68 1479.01 Q2284.5 1475.44 2284.5 1468.33 Q2284.5 1461.2 2282.68 1457.66 Q2280.87 1454.1 2277.24 1454.1 M2277.24 1450.39 Q2283.05 1450.39 2286.1 1455 Q2289.18 1459.58 2289.18 1468.33 Q2289.18 1477.06 2286.1 1481.67 Q2283.05 1486.25 2277.24 1486.25 Q2271.43 1486.25 2268.35 1481.67 Q2265.29 1477.06 2265.29 1468.33 Q2265.29 1459.58 2268.35 1455 Q2271.43 1450.39 2277.24 1450.39 Z\" fill=\"#000000\" fill-rule=\"evenodd\" fill-opacity=\"1\" /><path clip-path=\"url(#clip460)\" d=\"M2307.4 1454.1 Q2303.79 1454.1 2301.96 1457.66 Q2300.15 1461.2 2300.15 1468.33 Q2300.15 1475.44 2301.96 1479.01 Q2303.79 1482.55 2307.4 1482.55 Q2311.03 1482.55 2312.84 1479.01 Q2314.67 1475.44 2314.67 1468.33 Q2314.67 1461.2 2312.84 1457.66 Q2311.03 1454.1 2307.4 1454.1 M2307.4 1450.39 Q2313.21 1450.39 2316.26 1455 Q2319.34 1459.58 2319.34 1468.33 Q2319.34 1477.06 2316.26 1481.67 Q2313.21 1486.25 2307.4 1486.25 Q2301.59 1486.25 2298.51 1481.67 Q2295.45 1477.06 2295.45 1468.33 Q2295.45 1459.58 2298.51 1455 Q2301.59 1450.39 2307.4 1450.39 Z\" fill=\"#000000\" fill-rule=\"evenodd\" fill-opacity=\"1\" /><path clip-path=\"url(#clip460)\" d=\"M2337.56 1454.1 Q2333.95 1454.1 2332.12 1457.66 Q2330.31 1461.2 2330.31 1468.33 Q2330.31 1475.44 2332.12 1479.01 Q2333.95 1482.55 2337.56 1482.55 Q2341.19 1482.55 2343 1479.01 Q2344.83 1475.44 2344.83 1468.33 Q2344.83 1461.2 2343 1457.66 Q2341.19 1454.1 2337.56 1454.1 M2337.56 1450.39 Q2343.37 1450.39 2346.43 1455 Q2349.5 1459.58 2349.5 1468.33 Q2349.5 1477.06 2346.43 1481.67 Q2343.37 1486.25 2337.56 1486.25 Q2331.75 1486.25 2328.67 1481.67 Q2325.62 1477.06 2325.62 1468.33 Q2325.62 1459.58 2328.67 1455 Q2331.75 1450.39 2337.56 1450.39 Z\" fill=\"#000000\" fill-rule=\"evenodd\" fill-opacity=\"1\" /><path clip-path=\"url(#clip460)\" d=\"M1042.49 1520.52 L1082.69 1520.52 L1082.69 1525.93 L1065.82 1525.93 L1065.82 1568.04 L1059.36 1568.04 L1059.36 1525.93 L1042.49 1525.93 L1042.49 1520.52 Z\" fill=\"#000000\" fill-rule=\"evenodd\" fill-opacity=\"1\" /><path clip-path=\"url(#clip460)\" d=\"M1108.06 1548.76 L1108.06 1551.62 L1081.13 1551.62 Q1081.51 1557.67 1084.76 1560.85 Q1088.03 1564 1093.86 1564 Q1097.23 1564 1100.38 1563.17 Q1103.57 1562.35 1106.69 1560.69 L1106.69 1566.23 Q1103.54 1567.57 1100.23 1568.27 Q1096.92 1568.97 1093.51 1568.97 Q1084.98 1568.97 1079.98 1564 Q1075.02 1559.04 1075.02 1550.57 Q1075.02 1541.82 1079.73 1536.69 Q1084.47 1531.54 1092.49 1531.54 Q1099.68 1531.54 1103.85 1536.18 Q1108.06 1540.8 1108.06 1548.76 M1102.2 1547.04 Q1102.14 1542.23 1099.49 1539.37 Q1096.88 1536.5 1092.55 1536.5 Q1087.65 1536.5 1084.69 1539.27 Q1081.76 1542.04 1081.32 1547.07 L1102.2 1547.04 Z\" fill=\"#000000\" fill-rule=\"evenodd\" fill-opacity=\"1\" /><path clip-path=\"url(#clip460)\" d=\"M1145.42 1539.24 Q1147.62 1535.29 1150.67 1533.41 Q1153.73 1531.54 1157.87 1531.54 Q1163.44 1531.54 1166.46 1535.45 Q1169.48 1539.33 1169.48 1546.53 L1169.48 1568.04 L1163.6 1568.04 L1163.6 1546.72 Q1163.6 1541.59 1161.78 1539.11 Q1159.97 1536.63 1156.24 1536.63 Q1151.69 1536.63 1149.05 1539.65 Q1146.41 1542.68 1146.41 1547.9 L1146.41 1568.04 L1140.52 1568.04 L1140.52 1546.72 Q1140.52 1541.56 1138.71 1539.11 Q1136.89 1536.63 1133.1 1536.63 Q1128.62 1536.63 1125.97 1539.68 Q1123.33 1542.71 1123.33 1547.9 L1123.33 1568.04 L1117.44 1568.04 L1117.44 1532.4 L1123.33 1532.4 L1123.33 1537.93 Q1125.34 1534.66 1128.14 1533.1 Q1130.94 1531.54 1134.79 1531.54 Q1138.67 1531.54 1141.38 1533.51 Q1144.12 1535.48 1145.42 1539.24 Z\" fill=\"#000000\" fill-rule=\"evenodd\" fill-opacity=\"1\" /><path clip-path=\"url(#clip460)\" d=\"M1186.83 1562.7 L1186.83 1581.6 L1180.94 1581.6 L1180.94 1532.4 L1186.83 1532.4 L1186.83 1537.81 Q1188.68 1534.62 1191.48 1533.1 Q1194.31 1531.54 1198.23 1531.54 Q1204.72 1531.54 1208.76 1536.69 Q1212.83 1541.85 1212.83 1550.25 Q1212.83 1558.65 1208.76 1563.81 Q1204.72 1568.97 1198.23 1568.97 Q1194.31 1568.97 1191.48 1567.44 Q1188.68 1565.88 1186.83 1562.7 M1206.76 1550.25 Q1206.76 1543.79 1204.08 1540.13 Q1201.44 1536.44 1196.79 1536.44 Q1192.15 1536.44 1189.47 1540.13 Q1186.83 1543.79 1186.83 1550.25 Q1186.83 1556.71 1189.47 1560.4 Q1192.15 1564.07 1196.79 1564.07 Q1201.44 1564.07 1204.08 1560.4 Q1206.76 1556.71 1206.76 1550.25 Z\" fill=\"#000000\" fill-rule=\"evenodd\" fill-opacity=\"1\" /><path clip-path=\"url(#clip460)\" d=\"M1253.03 1548.76 L1253.03 1551.62 L1226.11 1551.62 Q1226.49 1557.67 1229.74 1560.85 Q1233.01 1564 1238.84 1564 Q1242.21 1564 1245.36 1563.17 Q1248.55 1562.35 1251.67 1560.69 L1251.67 1566.23 Q1248.51 1567.57 1245.2 1568.27 Q1241.89 1568.97 1238.49 1568.97 Q1229.96 1568.97 1224.96 1564 Q1220 1559.04 1220 1550.57 Q1220 1541.82 1224.71 1536.69 Q1229.45 1531.54 1237.47 1531.54 Q1244.66 1531.54 1248.83 1536.18 Q1253.03 1540.8 1253.03 1548.76 M1247.18 1547.04 Q1247.11 1542.23 1244.47 1539.37 Q1241.86 1536.5 1237.53 1536.5 Q1232.63 1536.5 1229.67 1539.27 Q1226.74 1542.04 1226.3 1547.07 L1247.18 1547.04 Z\" fill=\"#000000\" fill-rule=\"evenodd\" fill-opacity=\"1\" /><path clip-path=\"url(#clip460)\" d=\"M1283.3 1537.87 Q1282.32 1537.3 1281.14 1537.04 Q1279.99 1536.76 1278.59 1536.76 Q1273.63 1536.76 1270.95 1540 Q1268.31 1543.22 1268.31 1549.27 L1268.31 1568.04 L1262.42 1568.04 L1262.42 1532.4 L1268.31 1532.4 L1268.31 1537.93 Q1270.16 1534.69 1273.12 1533.13 Q1276.08 1531.54 1280.31 1531.54 Q1280.92 1531.54 1281.65 1531.63 Q1282.38 1531.7 1283.27 1531.85 L1283.3 1537.87 Z\" fill=\"#000000\" fill-rule=\"evenodd\" fill-opacity=\"1\" /><path clip-path=\"url(#clip460)\" d=\"M1305.65 1550.12 Q1298.55 1550.12 1295.81 1551.75 Q1293.07 1553.37 1293.07 1557.29 Q1293.07 1560.4 1295.11 1562.25 Q1297.18 1564.07 1300.71 1564.07 Q1305.58 1564.07 1308.51 1560.63 Q1311.47 1557.16 1311.47 1551.43 L1311.47 1550.12 L1305.65 1550.12 M1317.33 1547.71 L1317.33 1568.04 L1311.47 1568.04 L1311.47 1562.63 Q1309.47 1565.88 1306.47 1567.44 Q1303.48 1568.97 1299.15 1568.97 Q1293.68 1568.97 1290.43 1565.91 Q1287.22 1562.82 1287.22 1557.67 Q1287.22 1551.65 1291.23 1548.6 Q1295.27 1545.54 1303.26 1545.54 L1311.47 1545.54 L1311.47 1544.97 Q1311.47 1540.93 1308.8 1538.73 Q1306.16 1536.5 1301.35 1536.5 Q1298.29 1536.5 1295.4 1537.23 Q1292.5 1537.97 1289.83 1539.43 L1289.83 1534.02 Q1293.04 1532.78 1296.07 1532.17 Q1299.09 1531.54 1301.95 1531.54 Q1309.69 1531.54 1313.51 1535.55 Q1317.33 1539.56 1317.33 1547.71 Z\" fill=\"#000000\" fill-rule=\"evenodd\" fill-opacity=\"1\" /><path clip-path=\"url(#clip460)\" d=\"M1335.18 1522.27 L1335.18 1532.4 L1347.25 1532.4 L1347.25 1536.95 L1335.18 1536.95 L1335.18 1556.3 Q1335.18 1560.66 1336.36 1561.9 Q1337.57 1563.14 1341.23 1563.14 L1347.25 1563.14 L1347.25 1568.04 L1341.23 1568.04 Q1334.45 1568.04 1331.87 1565.53 Q1329.3 1562.98 1329.3 1556.3 L1329.3 1536.95 L1325 1536.95 L1325 1532.4 L1329.3 1532.4 L1329.3 1522.27 L1335.18 1522.27 Z\" fill=\"#000000\" fill-rule=\"evenodd\" fill-opacity=\"1\" /><path clip-path=\"url(#clip460)\" d=\"M1354.34 1553.98 L1354.34 1532.4 L1360.2 1532.4 L1360.2 1553.75 Q1360.2 1558.81 1362.17 1561.36 Q1364.15 1563.87 1368.09 1563.87 Q1372.84 1563.87 1375.57 1560.85 Q1378.34 1557.83 1378.34 1552.61 L1378.34 1532.4 L1384.2 1532.4 L1384.2 1568.04 L1378.34 1568.04 L1378.34 1562.57 Q1376.21 1565.82 1373.38 1567.41 Q1370.58 1568.97 1366.85 1568.97 Q1360.71 1568.97 1357.53 1565.15 Q1354.34 1561.33 1354.34 1553.98 M1369.08 1531.54 L1369.08 1531.54 Z\" fill=\"#000000\" fill-rule=\"evenodd\" fill-opacity=\"1\" /><path clip-path=\"url(#clip460)\" d=\"M1416.92 1537.87 Q1415.93 1537.3 1414.75 1537.04 Q1413.61 1536.76 1412.21 1536.76 Q1407.24 1536.76 1404.57 1540 Q1401.93 1543.22 1401.93 1549.27 L1401.93 1568.04 L1396.04 1568.04 L1396.04 1532.4 L1401.93 1532.4 L1401.93 1537.93 Q1403.77 1534.69 1406.73 1533.13 Q1409.69 1531.54 1413.93 1531.54 Q1414.53 1531.54 1415.26 1531.63 Q1416 1531.7 1416.89 1531.85 L1416.92 1537.87 Z\" fill=\"#000000\" fill-rule=\"evenodd\" fill-opacity=\"1\" /><path clip-path=\"url(#clip460)\" d=\"M1452.12 1548.76 L1452.12 1551.62 L1425.19 1551.62 Q1425.58 1557.67 1428.82 1560.85 Q1432.1 1564 1437.93 1564 Q1441.3 1564 1444.45 1563.17 Q1447.63 1562.35 1450.75 1560.69 L1450.75 1566.23 Q1447.6 1567.57 1444.29 1568.27 Q1440.98 1568.97 1437.58 1568.97 Q1429.05 1568.97 1424.05 1564 Q1419.08 1559.04 1419.08 1550.57 Q1419.08 1541.82 1423.79 1536.69 Q1428.54 1531.54 1436.56 1531.54 Q1443.75 1531.54 1447.92 1536.18 Q1452.12 1540.8 1452.12 1548.76 M1446.27 1547.04 Q1446.2 1542.23 1443.56 1539.37 Q1440.95 1536.5 1436.62 1536.5 Q1431.72 1536.5 1428.76 1539.27 Q1425.83 1542.04 1425.39 1547.07 L1446.27 1547.04 Z\" fill=\"#000000\" fill-rule=\"evenodd\" fill-opacity=\"1\" /><path clip-path=\"url(#clip460)\" d=\"M1496.52 1518.58 Q1492.26 1525.9 1490.19 1533.06 Q1488.12 1540.23 1488.12 1547.58 Q1488.12 1554.93 1490.19 1562.16 Q1492.29 1569.35 1496.52 1576.64 L1491.43 1576.64 Q1486.66 1569.16 1484.27 1561.93 Q1481.91 1554.71 1481.91 1547.58 Q1481.91 1540.48 1484.27 1533.29 Q1486.62 1526.09 1491.43 1518.58 L1496.52 1518.58 Z\" fill=\"#000000\" fill-rule=\"evenodd\" fill-opacity=\"1\" /><path clip-path=\"url(#clip460)\" d=\"M1508.14 1520.52 L1514.57 1520.52 L1514.57 1540.61 L1535.89 1520.52 L1544.17 1520.52 L1520.58 1542.68 L1545.86 1568.04 L1537.39 1568.04 L1514.57 1545.16 L1514.57 1568.04 L1508.14 1568.04 L1508.14 1520.52 Z\" fill=\"#000000\" fill-rule=\"evenodd\" fill-opacity=\"1\" /><path clip-path=\"url(#clip460)\" d=\"M1549.71 1518.58 L1554.8 1518.58 Q1559.57 1526.09 1561.93 1533.29 Q1564.32 1540.48 1564.32 1547.58 Q1564.32 1554.71 1561.93 1561.93 Q1559.57 1569.16 1554.8 1576.64 L1549.71 1576.64 Q1553.94 1569.35 1556.01 1562.16 Q1558.11 1554.93 1558.11 1547.58 Q1558.11 1540.23 1556.01 1533.06 Q1553.94 1525.9 1549.71 1518.58 Z\" fill=\"#000000\" fill-rule=\"evenodd\" fill-opacity=\"1\" /><polyline clip-path=\"url(#clip463)\" style=\"stroke:#000000; stroke-linecap:butt; stroke-linejoin:round; stroke-width:2; stroke-opacity:0.1; fill:none\" points=\"\n",
       "  254.05,1207.06 2352.76,1207.06 \n",
       "  \"/>\n",
       "<polyline clip-path=\"url(#clip463)\" style=\"stroke:#000000; stroke-linecap:butt; stroke-linejoin:round; stroke-width:2; stroke-opacity:0.1; fill:none\" points=\"\n",
       "  254.05,978.586 2352.76,978.586 \n",
       "  \"/>\n",
       "<polyline clip-path=\"url(#clip463)\" style=\"stroke:#000000; stroke-linecap:butt; stroke-linejoin:round; stroke-width:2; stroke-opacity:0.1; fill:none\" points=\"\n",
       "  254.05,750.114 2352.76,750.114 \n",
       "  \"/>\n",
       "<polyline clip-path=\"url(#clip463)\" style=\"stroke:#000000; stroke-linecap:butt; stroke-linejoin:round; stroke-width:2; stroke-opacity:0.1; fill:none\" points=\"\n",
       "  254.05,521.643 2352.76,521.643 \n",
       "  \"/>\n",
       "<polyline clip-path=\"url(#clip463)\" style=\"stroke:#000000; stroke-linecap:butt; stroke-linejoin:round; stroke-width:2; stroke-opacity:0.1; fill:none\" points=\"\n",
       "  254.05,293.171 2352.76,293.171 \n",
       "  \"/>\n",
       "<polyline clip-path=\"url(#clip460)\" style=\"stroke:#000000; stroke-linecap:butt; stroke-linejoin:round; stroke-width:4; stroke-opacity:1; fill:none\" points=\"\n",
       "  254.05,1423.18 254.05,168.039 \n",
       "  \"/>\n",
       "<polyline clip-path=\"url(#clip460)\" style=\"stroke:#000000; stroke-linecap:butt; stroke-linejoin:round; stroke-width:4; stroke-opacity:1; fill:none\" points=\"\n",
       "  254.05,1207.06 272.947,1207.06 \n",
       "  \"/>\n",
       "<polyline clip-path=\"url(#clip460)\" style=\"stroke:#000000; stroke-linecap:butt; stroke-linejoin:round; stroke-width:4; stroke-opacity:1; fill:none\" points=\"\n",
       "  254.05,978.586 272.947,978.586 \n",
       "  \"/>\n",
       "<polyline clip-path=\"url(#clip460)\" style=\"stroke:#000000; stroke-linecap:butt; stroke-linejoin:round; stroke-width:4; stroke-opacity:1; fill:none\" points=\"\n",
       "  254.05,750.114 272.947,750.114 \n",
       "  \"/>\n",
       "<polyline clip-path=\"url(#clip460)\" style=\"stroke:#000000; stroke-linecap:butt; stroke-linejoin:round; stroke-width:4; stroke-opacity:1; fill:none\" points=\"\n",
       "  254.05,521.643 272.947,521.643 \n",
       "  \"/>\n",
       "<polyline clip-path=\"url(#clip460)\" style=\"stroke:#000000; stroke-linecap:butt; stroke-linejoin:round; stroke-width:4; stroke-opacity:1; fill:none\" points=\"\n",
       "  254.05,293.171 272.947,293.171 \n",
       "  \"/>\n",
       "<path clip-path=\"url(#clip460)\" d=\"M153.281 1220.4 L160.92 1220.4 L160.92 1194.04 L152.61 1195.7 L152.61 1191.44 L160.874 1189.78 L165.55 1189.78 L165.55 1220.4 L173.189 1220.4 L173.189 1224.34 L153.281 1224.34 L153.281 1220.4 Z\" fill=\"#000000\" fill-rule=\"evenodd\" fill-opacity=\"1\" /><path clip-path=\"url(#clip460)\" d=\"M182.633 1218.46 L187.517 1218.46 L187.517 1224.34 L182.633 1224.34 L182.633 1218.46 Z\" fill=\"#000000\" fill-rule=\"evenodd\" fill-opacity=\"1\" /><path clip-path=\"url(#clip460)\" d=\"M201.73 1220.4 L218.05 1220.4 L218.05 1224.34 L196.105 1224.34 L196.105 1220.4 Q198.767 1217.65 203.351 1213.02 Q207.957 1208.37 209.138 1207.02 Q211.383 1204.5 212.263 1202.76 Q213.165 1201 213.165 1199.31 Q213.165 1196.56 211.221 1194.82 Q209.3 1193.09 206.198 1193.09 Q203.999 1193.09 201.545 1193.85 Q199.115 1194.62 196.337 1196.17 L196.337 1191.44 Q199.161 1190.31 201.615 1189.73 Q204.068 1189.15 206.105 1189.15 Q211.476 1189.15 214.67 1191.84 Q217.864 1194.52 217.864 1199.01 Q217.864 1201.14 217.054 1203.06 Q216.267 1204.96 214.161 1207.55 Q213.582 1208.23 210.48 1211.44 Q207.378 1214.64 201.73 1220.4 Z\" fill=\"#000000\" fill-rule=\"evenodd\" fill-opacity=\"1\" /><path clip-path=\"url(#clip460)\" d=\"M151.198 991.931 L158.837 991.931 L158.837 965.565 L150.527 967.232 L150.527 962.972 L158.791 961.306 L163.467 961.306 L163.467 991.931 L171.105 991.931 L171.105 995.866 L151.198 995.866 L151.198 991.931 Z\" fill=\"#000000\" fill-rule=\"evenodd\" fill-opacity=\"1\" /><path clip-path=\"url(#clip460)\" d=\"M180.55 989.986 L185.434 989.986 L185.434 995.866 L180.55 995.866 L180.55 989.986 Z\" fill=\"#000000\" fill-rule=\"evenodd\" fill-opacity=\"1\" /><path clip-path=\"url(#clip460)\" d=\"M208.466 965.38 L196.661 983.829 L208.466 983.829 L208.466 965.38 M207.239 961.306 L213.119 961.306 L213.119 983.829 L218.05 983.829 L218.05 987.718 L213.119 987.718 L213.119 995.866 L208.466 995.866 L208.466 987.718 L192.865 987.718 L192.865 983.204 L207.239 961.306 Z\" fill=\"#000000\" fill-rule=\"evenodd\" fill-opacity=\"1\" /><path clip-path=\"url(#clip460)\" d=\"M151.522 763.459 L159.161 763.459 L159.161 737.094 L150.851 738.76 L150.851 734.501 L159.115 732.834 L163.791 732.834 L163.791 763.459 L171.429 763.459 L171.429 767.394 L151.522 767.394 L151.522 763.459 Z\" fill=\"#000000\" fill-rule=\"evenodd\" fill-opacity=\"1\" /><path clip-path=\"url(#clip460)\" d=\"M180.874 761.515 L185.758 761.515 L185.758 767.394 L180.874 767.394 L180.874 761.515 Z\" fill=\"#000000\" fill-rule=\"evenodd\" fill-opacity=\"1\" /><path clip-path=\"url(#clip460)\" d=\"M206.522 748.251 Q203.374 748.251 201.522 750.404 Q199.693 752.556 199.693 756.306 Q199.693 760.033 201.522 762.209 Q203.374 764.362 206.522 764.362 Q209.67 764.362 211.499 762.209 Q213.351 760.033 213.351 756.306 Q213.351 752.556 211.499 750.404 Q209.67 748.251 206.522 748.251 M215.804 733.598 L215.804 737.857 Q214.045 737.024 212.239 736.584 Q210.457 736.145 208.698 736.145 Q204.068 736.145 201.615 739.27 Q199.184 742.394 198.837 748.714 Q200.202 746.7 202.263 745.635 Q204.323 744.547 206.8 744.547 Q212.008 744.547 215.017 747.719 Q218.05 750.867 218.05 756.306 Q218.05 761.631 214.901 764.848 Q211.753 768.066 206.522 768.066 Q200.527 768.066 197.355 763.482 Q194.184 758.876 194.184 750.149 Q194.184 741.955 198.073 737.094 Q201.962 732.209 208.513 732.209 Q210.272 732.209 212.054 732.557 Q213.86 732.904 215.804 733.598 Z\" fill=\"#000000\" fill-rule=\"evenodd\" fill-opacity=\"1\" /><path clip-path=\"url(#clip460)\" d=\"M151.777 534.988 L159.416 534.988 L159.416 508.622 L151.106 510.289 L151.106 506.03 L159.369 504.363 L164.045 504.363 L164.045 534.988 L171.684 534.988 L171.684 538.923 L151.777 538.923 L151.777 534.988 Z\" fill=\"#000000\" fill-rule=\"evenodd\" fill-opacity=\"1\" /><path clip-path=\"url(#clip460)\" d=\"M181.129 533.043 L186.013 533.043 L186.013 538.923 L181.129 538.923 L181.129 533.043 Z\" fill=\"#000000\" fill-rule=\"evenodd\" fill-opacity=\"1\" /><path clip-path=\"url(#clip460)\" d=\"M206.198 522.511 Q202.864 522.511 200.943 524.293 Q199.045 526.076 199.045 529.201 Q199.045 532.326 200.943 534.108 Q202.864 535.891 206.198 535.891 Q209.531 535.891 211.452 534.108 Q213.374 532.303 213.374 529.201 Q213.374 526.076 211.452 524.293 Q209.554 522.511 206.198 522.511 M201.522 520.52 Q198.513 519.779 196.823 517.719 Q195.156 515.659 195.156 512.696 Q195.156 508.553 198.096 506.145 Q201.059 503.738 206.198 503.738 Q211.36 503.738 214.3 506.145 Q217.239 508.553 217.239 512.696 Q217.239 515.659 215.55 517.719 Q213.883 519.779 210.897 520.52 Q214.276 521.307 216.151 523.599 Q218.05 525.891 218.05 529.201 Q218.05 534.224 214.971 536.909 Q211.915 539.594 206.198 539.594 Q200.48 539.594 197.402 536.909 Q194.346 534.224 194.346 529.201 Q194.346 525.891 196.244 523.599 Q198.142 521.307 201.522 520.52 M199.809 513.136 Q199.809 515.821 201.476 517.326 Q203.165 518.83 206.198 518.83 Q209.207 518.83 210.897 517.326 Q212.61 515.821 212.61 513.136 Q212.61 510.451 210.897 508.946 Q209.207 507.442 206.198 507.442 Q203.165 507.442 201.476 508.946 Q199.809 510.451 199.809 513.136 Z\" fill=\"#000000\" fill-rule=\"evenodd\" fill-opacity=\"1\" /><path clip-path=\"url(#clip460)\" d=\"M154.902 306.516 L171.221 306.516 L171.221 310.451 L149.277 310.451 L149.277 306.516 Q151.939 303.762 156.522 299.132 Q161.129 294.479 162.309 293.137 Q164.555 290.614 165.434 288.878 Q166.337 287.118 166.337 285.428 Q166.337 282.674 164.392 280.938 Q162.471 279.202 159.369 279.202 Q157.17 279.202 154.717 279.966 Q152.286 280.729 149.508 282.28 L149.508 277.558 Q152.332 276.424 154.786 275.845 Q157.24 275.266 159.277 275.266 Q164.647 275.266 167.842 277.952 Q171.036 280.637 171.036 285.128 Q171.036 287.257 170.226 289.178 Q169.439 291.077 167.332 293.669 Q166.754 294.34 163.652 297.558 Q160.55 300.752 154.902 306.516 Z\" fill=\"#000000\" fill-rule=\"evenodd\" fill-opacity=\"1\" /><path clip-path=\"url(#clip460)\" d=\"M181.036 304.572 L185.92 304.572 L185.92 310.451 L181.036 310.451 L181.036 304.572 Z\" fill=\"#000000\" fill-rule=\"evenodd\" fill-opacity=\"1\" /><path clip-path=\"url(#clip460)\" d=\"M206.105 278.97 Q202.494 278.97 200.665 282.535 Q198.86 286.077 198.86 293.206 Q198.86 300.313 200.665 303.877 Q202.494 307.419 206.105 307.419 Q209.739 307.419 211.545 303.877 Q213.374 300.313 213.374 293.206 Q213.374 286.077 211.545 282.535 Q209.739 278.97 206.105 278.97 M206.105 275.266 Q211.915 275.266 214.971 279.873 Q218.05 284.456 218.05 293.206 Q218.05 301.933 214.971 306.539 Q211.915 311.123 206.105 311.123 Q200.295 311.123 197.216 306.539 Q194.161 301.933 194.161 293.206 Q194.161 284.456 197.216 279.873 Q200.295 275.266 206.105 275.266 Z\" fill=\"#000000\" fill-rule=\"evenodd\" fill-opacity=\"1\" /><path clip-path=\"url(#clip460)\" d=\"M11.3729 797.779 Q14.98 797.779 18.2972 800.452 Q21.6144 803.093 23.6434 807.408 Q25.6401 811.692 25.6401 816.297 L25.6401 827.505 L42.1295 831.595 Q42.2262 831.627 42.6448 831.724 Q43.0313 831.821 43.2567 831.821 Q44.0619 831.821 44.2551 830.822 Q44.4484 829.792 44.4484 827.505 Q44.4484 826.023 44.706 825.798 Q44.867 825.669 45.1569 825.669 Q45.6078 825.669 45.9298 825.798 Q46.2197 825.927 46.3163 826.184 Q46.4129 826.41 46.4451 826.571 Q46.4773 826.732 46.4773 826.99 Q46.4773 827.666 46.4129 829.115 Q46.3485 830.532 46.3485 831.273 L46.2841 835.492 L46.4773 843.866 Q46.4773 844.864 45.6722 844.864 Q45.0603 844.864 44.8026 844.606 Q44.5128 844.349 44.4806 844.059 Q44.4484 843.769 44.4484 843.028 Q44.4484 841.418 44.3517 840.452 Q44.2551 839.486 44.1263 838.874 Q43.9653 838.229 43.5144 837.907 Q43.0635 837.553 42.677 837.392 Q42.2584 837.231 41.3244 837.006 L5.89794 828.181 Q4.83515 827.924 4.67412 827.924 Q4.12662 827.924 3.93338 828.246 Q3.70794 828.536 3.61132 829.373 Q3.4825 830.983 3.4825 832.207 Q3.4825 833.012 3.45029 833.334 Q3.41809 833.624 3.25706 833.882 Q3.06382 834.107 2.67735 834.107 Q2.06544 834.107 1.80779 833.849 Q1.51794 833.56 1.48574 833.238 Q1.42132 832.916 1.42132 832.143 L1.42132 810.758 Q1.42132 804.607 4.35206 801.193 Q7.28279 797.779 11.3729 797.779 M9.79485 803.898 Q3.4825 803.898 3.4825 812.883 L3.4825 819.196 Q3.4825 821.289 3.86897 821.804 Q4.22323 822.32 5.99456 822.771 L23.9332 827.247 L23.9332 817.94 Q23.9332 811.692 20.4228 807.795 Q18.8125 806.024 15.4631 804.961 Q12.1137 803.898 9.79485 803.898 Z\" fill=\"#000000\" fill-rule=\"evenodd\" fill-opacity=\"1\" /><path clip-path=\"url(#clip460)\" d=\"M2.22647 745.897 Q3.41809 745.961 3.4825 746.766 Q3.54691 747.99 3.70794 748.731 Q3.83676 749.472 4.31985 750.631 Q4.80294 751.79 5.96235 752.918 Q7.12176 754.045 8.9575 755.204 L46.735 778.94 Q47.4435 779.359 47.6689 779.713 Q47.9266 780.035 47.9266 780.776 Q47.9266 781.452 47.6367 781.71 Q47.3791 781.967 46.4129 782.096 L5.7047 787.313 Q4.96397 787.41 4.64191 787.507 Q4.31985 787.603 3.99779 787.99 Q3.67573 788.344 3.57912 789.117 Q3.4825 789.89 3.4825 791.275 Q3.4825 791.919 3.45029 792.209 Q3.41809 792.466 3.25706 792.692 Q3.06382 792.917 2.67735 792.917 Q2.09765 792.917 1.80779 792.692 Q1.48574 792.434 1.45353 792.241 Q1.42132 792.015 1.42132 791.661 Q1.42132 791.114 1.48574 789.922 Q1.55015 788.73 1.55015 788.119 Q1.55015 787.539 1.58235 786.315 Q1.61456 785.091 1.61456 784.479 Q1.61456 783.127 1.51794 780.389 Q1.42132 777.619 1.42132 776.299 Q1.42132 775.397 2.16206 775.397 Q3.06382 775.397 3.28926 775.784 Q3.4825 776.17 3.4825 777.04 Q3.4825 779.23 4.03 780.421 Q4.5775 781.581 5.44706 781.581 L40.3582 777.104 L8.15235 756.847 Q6.63867 755.848 5.64029 755.848 Q3.70794 755.848 3.4825 758.908 Q3.4825 759.938 2.67735 759.938 Q2.09765 759.938 1.80779 759.681 Q1.48574 759.423 1.45353 759.23 Q1.42132 759.004 1.42132 758.682 Q1.42132 757.62 1.51794 755.462 Q1.61456 753.272 1.61456 752.177 Q1.61456 751.275 1.51794 749.439 Q1.42132 747.604 1.42132 746.766 Q1.42132 745.897 2.22647 745.897 Z\" fill=\"#000000\" fill-rule=\"evenodd\" fill-opacity=\"1\" /><path clip-path=\"url(#clip460)\" d=\"\n",
       "M65.5148 844.864 L65.5148 739.315 L61.9948 739.315 L61.9948 844.864  Z\n",
       "  \" fill=\"#000000\" fill-rule=\"evenodd\" fill-opacity=\"1\"/>\n",
       "<path clip-path=\"url(#clip460)\" d=\"M87.7306 800.961 Q86.6678 800.961 85.7982 801.251 Q84.8965 801.508 84.2846 801.927 Q83.6404 802.313 83.1574 803.054 Q82.6421 803.795 82.32 804.407 Q81.9979 805.019 81.8047 806.049 Q81.5793 807.08 81.4826 807.756 Q81.3538 808.433 81.2894 809.592 Q81.225 810.751 81.225 811.331 Q81.225 811.879 81.225 812.974 Q81.225 816.42 81.2894 816.999 Q81.4182 817.869 81.9335 818.191 Q82.4166 818.513 83.7371 818.835 L100.935 823.118 L100.935 815.743 Q100.935 811.718 99.8078 808.948 Q98.6806 806.178 97.1025 804.6 Q95.3634 802.861 92.5615 801.927 Q89.7596 800.961 87.7306 800.961 M118.101 793.779 Q118.455 793.779 119.26 794.069 Q120.065 794.326 121.192 794.971 Q122.287 795.615 123.286 796.484 Q124.284 797.354 124.961 798.739 Q125.669 800.123 125.669 801.702 Q125.669 802.088 125.637 802.474 Q125.637 802.861 125.476 803.827 Q125.347 804.761 125.089 805.534 Q124.864 806.307 124.316 807.273 Q123.801 808.239 123.093 808.916 Q122.352 809.56 121.192 810.011 Q120.001 810.462 118.552 810.462 Q117.263 810.462 112.948 809.399 Q109.276 808.465 108.375 808.465 Q107.376 808.465 106.442 808.787 Q105.508 809.077 104.542 809.817 Q103.576 810.526 102.996 812.04 Q102.384 813.553 102.384 815.679 L102.384 823.505 L119.872 827.885 Q119.904 827.885 120.355 827.982 Q120.774 828.078 120.999 828.078 Q121.418 828.078 121.676 827.821 Q121.933 827.531 122.062 826.822 Q122.159 826.114 122.191 825.566 Q122.191 824.986 122.191 823.795 Q122.191 822.313 122.449 822.056 Q122.61 821.927 122.899 821.927 Q123.35 821.927 123.672 822.056 Q123.962 822.152 124.059 822.41 Q124.155 822.635 124.188 822.796 Q124.22 822.957 124.22 823.247 L124.027 831.621 L124.22 839.93 Q124.22 840.864 123.479 840.864 Q122.835 840.864 122.577 840.638 Q122.287 840.413 122.255 840.123 Q122.191 839.833 122.191 839.093 Q122.191 837.482 122.094 836.516 Q121.998 835.55 121.869 834.938 Q121.708 834.294 121.257 833.972 Q120.806 833.618 120.42 833.457 Q120.001 833.296 119.067 833.07 L83.6404 824.246 Q82.5776 823.988 82.4166 823.988 Q81.8047 823.988 81.6437 824.374 Q81.4504 824.729 81.3538 825.759 L81.225 828.271 Q81.225 829.044 81.1928 829.366 Q81.1606 829.656 80.9996 829.882 Q80.8385 830.107 80.4843 830.107 Q79.5825 830.107 79.3893 829.721 Q79.1638 829.334 79.1638 828.207 L79.1638 809.399 Q79.1638 802.99 81.9657 798.932 Q84.7676 794.842 89.051 794.842 Q90.9834 794.842 92.7869 795.711 Q94.5904 796.581 96.0075 798.03 Q97.4245 799.447 98.6162 801.347 Q99.7756 803.247 100.581 805.276 Q101.354 807.273 101.805 809.334 Q102.127 808.433 102.61 807.595 Q103.093 806.726 103.995 805.631 Q104.896 804.503 106.346 803.827 Q107.795 803.151 109.566 803.151 Q110.822 803.151 112.69 803.408 Q118.004 804.053 120.194 804.053 Q122.287 804.053 123.254 803.505 Q124.22 802.958 124.22 801.412 Q124.22 799.898 122.867 798.223 Q121.482 796.516 118.23 795.421 Q117.296 795.164 117.296 794.552 Q117.296 794.52 117.296 794.487 Q117.296 794.423 117.36 794.294 Q117.392 794.165 117.489 794.069 Q117.553 793.94 117.714 793.876 Q117.875 793.779 118.101 793.779 Z\" fill=\"#000000\" fill-rule=\"evenodd\" fill-opacity=\"1\" /><path clip-path=\"url(#clip460)\" d=\"M80.291 749.376 Q80.9029 749.376 81.4182 749.505 L92.8835 751.308 Q93.7531 751.405 94.0751 751.598 Q94.3972 751.759 94.3972 752.274 Q94.3972 753.08 93.5598 753.08 Q93.0768 753.08 92.3038 752.886 Q88.6646 752.339 87.0221 752.339 Q85.9271 752.339 85.1219 752.564 Q84.2846 752.757 83.7049 753.08 Q83.1251 753.369 82.7387 754.046 Q82.3522 754.722 82.1268 755.366 Q81.9013 756.01 81.8047 757.17 Q81.6759 758.329 81.6437 759.327 Q81.6115 760.326 81.6115 761.968 Q81.6115 765.543 81.7403 766.123 Q81.9013 766.735 82.3844 767.057 Q82.8353 767.347 84.1879 767.669 L119.196 776.429 L120.581 776.686 Q121.354 776.686 121.611 776.203 Q121.869 775.72 122.03 774.239 Q122.191 772.113 122.191 770.02 Q122.191 769.955 122.191 769.827 Q122.191 769.118 122.223 768.828 Q122.223 768.538 122.287 768.248 Q122.352 767.959 122.513 767.894 Q122.642 767.798 122.899 767.798 Q123.511 767.798 123.833 768.055 Q124.123 768.313 124.188 768.571 Q124.22 768.796 124.22 769.247 Q124.22 770.149 124.155 772.081 Q124.091 774.013 124.091 774.98 L124.027 780.455 L124.091 786.058 Q124.091 786.928 124.155 788.764 Q124.22 790.599 124.22 791.469 Q124.22 792.596 123.415 792.596 Q122.513 792.596 122.352 792.177 Q122.191 791.727 122.191 789.826 Q122.191 787.153 122.062 785.704 Q121.933 784.255 121.482 783.482 Q121.031 782.677 120.581 782.451 Q120.097 782.226 119.002 781.968 L83.8015 773.112 Q83.0285 772.854 82.4166 772.854 Q82.0946 772.854 81.9657 772.951 Q81.8369 773.015 81.7403 773.434 Q81.6115 773.852 81.6115 774.722 L81.6115 777.298 Q81.6115 779.939 81.7403 781.582 Q81.8369 783.192 82.32 784.738 Q82.8031 786.252 83.4794 787.153 Q84.1557 788.023 85.5406 788.989 Q86.9254 789.955 88.6001 790.664 Q90.2748 791.34 93.0123 792.306 Q93.9141 792.628 94.1718 792.822 Q94.3972 792.983 94.3972 793.433 Q94.3972 793.756 94.204 794.013 Q93.9785 794.239 93.6887 794.239 Q92.6259 793.917 92.4971 793.852 L80.8707 789.891 Q79.9368 789.569 79.7757 789.279 Q79.5825 788.957 79.5825 787.765 L79.5825 751.179 Q79.5825 750.6 79.5825 750.406 Q79.5825 750.213 79.6469 749.891 Q79.7113 749.569 79.8724 749.472 Q80.0334 749.376 80.291 749.376 Z\" fill=\"#000000\" fill-rule=\"evenodd\" fill-opacity=\"1\" /><path clip-path=\"url(#clip460)\" d=\"M599.095 27.8756 Q599.095 32.4664 595.693 36.6883 Q592.331 40.9102 586.839 43.4925 Q581.387 46.0338 575.526 46.0338 L561.262 46.0338 L556.056 67.0203 Q556.015 67.1433 555.892 67.6762 Q555.769 68.168 555.769 68.4549 Q555.769 69.4797 557.04 69.7256 Q558.351 69.9716 561.262 69.9716 Q563.147 69.9716 563.434 70.2995 Q563.598 70.5044 563.598 70.8733 Q563.598 71.4472 563.434 71.8571 Q563.27 72.226 562.942 72.3489 Q562.655 72.4719 562.45 72.5129 Q562.245 72.5539 561.917 72.5539 Q561.057 72.5539 559.212 72.4719 Q557.409 72.3899 556.466 72.3899 L551.096 72.3079 L540.439 72.5539 Q539.168 72.5539 539.168 71.5291 Q539.168 70.7503 539.496 70.4224 Q539.824 70.0535 540.193 70.0125 Q540.562 69.9716 541.505 69.9716 Q543.554 69.9716 544.784 69.8486 Q546.014 69.7256 546.792 69.5617 Q547.612 69.3567 548.022 68.7829 Q548.473 68.209 548.678 67.7171 Q548.883 67.1843 549.17 65.9956 L560.401 20.9074 Q560.729 19.5547 560.729 19.3498 Q560.729 18.653 560.319 18.407 Q559.95 18.1201 558.884 17.9971 Q556.835 17.8332 555.277 17.8332 Q554.252 17.8332 553.842 17.7922 Q553.474 17.7512 553.146 17.5463 Q552.859 17.3003 552.859 16.8085 Q552.859 16.0297 553.187 15.7017 Q553.556 15.3328 553.965 15.2919 Q554.375 15.2099 555.359 15.2099 L582.576 15.2099 Q590.405 15.2099 594.75 18.9399 Q599.095 22.6699 599.095 27.8756 M591.307 25.8671 Q591.307 17.8332 579.871 17.8332 L571.837 17.8332 Q569.172 17.8332 568.517 18.3251 Q567.861 18.7759 567.287 21.0304 L561.589 43.8614 L573.435 43.8614 Q581.387 43.8614 586.347 39.3935 Q588.601 37.3441 589.954 33.0812 Q591.307 28.8183 591.307 25.8671 Z\" fill=\"#000000\" fill-rule=\"evenodd\" fill-opacity=\"1\" /><path clip-path=\"url(#clip460)\" d=\"M665.124 16.2346 Q665.042 17.7512 664.017 17.8332 Q662.46 17.9152 661.517 18.1201 Q660.574 18.2841 659.098 18.8989 Q657.623 19.5137 656.188 20.9894 Q654.754 22.465 653.278 24.8014 L623.069 72.8818 Q622.536 73.7836 622.085 74.0705 Q621.675 74.3984 620.732 74.3984 Q619.872 74.3984 619.544 74.0295 Q619.216 73.7016 619.052 72.4719 L612.412 20.6614 Q612.289 19.7187 612.166 19.3088 Q612.043 18.8989 611.551 18.489 Q611.1 18.0791 610.116 17.9562 Q609.132 17.8332 607.37 17.8332 Q606.55 17.8332 606.181 17.7922 Q605.853 17.7512 605.566 17.5463 Q605.279 17.3003 605.279 16.8085 Q605.279 16.0706 605.566 15.7017 Q605.894 15.2919 606.14 15.2509 Q606.427 15.2099 606.878 15.2099 Q607.575 15.2099 609.091 15.2919 Q610.608 15.3738 611.387 15.3738 Q612.125 15.3738 613.682 15.4148 Q615.24 15.4558 616.019 15.4558 Q617.74 15.4558 621.224 15.3328 Q624.749 15.2099 626.43 15.2099 Q627.578 15.2099 627.578 16.1526 Q627.578 17.3003 627.086 17.5873 Q626.594 17.8332 625.487 17.8332 Q622.7 17.8332 621.183 18.53 Q619.708 19.2268 619.708 20.3335 L625.405 64.7659 L651.187 23.7766 Q652.458 21.8501 652.458 20.5795 Q652.458 18.1201 648.564 17.8332 Q647.252 17.8332 647.252 16.8085 Q647.252 16.0706 647.58 15.7017 Q647.908 15.2919 648.154 15.2509 Q648.441 15.2099 648.851 15.2099 Q650.204 15.2099 652.95 15.3328 Q655.737 15.4558 657.131 15.4558 Q658.279 15.4558 660.615 15.3328 Q662.951 15.2099 664.017 15.2099 Q665.124 15.2099 665.124 16.2346 Z\" fill=\"#000000\" fill-rule=\"evenodd\" fill-opacity=\"1\" /><path clip-path=\"url(#clip460)\" d=\"\n",
       "M539.168 96.782 L673.505 96.782 L673.505 92.302 L539.168 92.302  Z\n",
       "  \" fill=\"#000000\" fill-rule=\"evenodd\" fill-opacity=\"1\"/>\n",
       "<path clip-path=\"url(#clip460)\" d=\"M594.954 125.058 Q594.954 123.705 594.585 122.599 Q594.257 121.451 593.724 120.672 Q593.232 119.852 592.29 119.238 Q591.347 118.582 590.568 118.172 Q589.789 117.762 588.478 117.516 Q587.166 117.229 586.305 117.106 Q585.445 116.942 583.969 116.86 Q582.493 116.778 581.755 116.778 Q581.059 116.778 579.665 116.778 Q575.279 116.778 574.541 116.86 Q573.435 117.024 573.025 117.68 Q572.615 118.295 572.205 119.975 L566.753 141.864 L576.14 141.864 Q581.264 141.864 584.789 140.429 Q588.314 138.994 590.322 136.986 Q592.536 134.772 593.724 131.206 Q594.954 127.64 594.954 125.058 M604.095 163.711 Q604.095 164.162 603.726 165.187 Q603.398 166.211 602.578 167.646 Q601.758 169.04 600.652 170.31 Q599.545 171.581 597.782 172.442 Q596.02 173.343 594.011 173.343 Q593.519 173.343 593.028 173.302 Q592.536 173.302 591.306 173.097 Q590.117 172.933 589.134 172.606 Q588.15 172.319 586.92 171.622 Q585.69 170.966 584.83 170.064 Q584.01 169.121 583.436 167.646 Q582.862 166.129 582.862 164.285 Q582.862 162.645 584.215 157.153 Q585.404 152.48 585.404 151.332 Q585.404 150.061 584.994 148.873 Q584.625 147.684 583.682 146.454 Q582.78 145.225 580.854 144.487 Q578.927 143.708 576.222 143.708 L566.262 143.708 L560.687 165.965 Q560.687 166.006 560.564 166.58 Q560.441 167.113 560.441 167.4 Q560.441 167.933 560.769 168.261 Q561.138 168.589 562.04 168.753 Q562.941 168.876 563.638 168.917 Q564.376 168.917 565.893 168.917 Q567.778 168.917 568.106 169.244 Q568.27 169.449 568.27 169.818 Q568.27 170.392 568.106 170.802 Q567.983 171.171 567.655 171.294 Q567.368 171.417 567.163 171.458 Q566.958 171.499 566.589 171.499 L555.932 171.253 L545.357 171.499 Q544.168 171.499 544.168 170.556 Q544.168 169.736 544.455 169.408 Q544.742 169.04 545.111 168.999 Q545.48 168.917 546.423 168.917 Q548.472 168.917 549.702 168.794 Q550.932 168.671 551.71 168.507 Q552.53 168.302 552.94 167.728 Q553.391 167.154 553.596 166.662 Q553.801 166.129 554.088 164.941 L565.319 119.852 Q565.647 118.5 565.647 118.295 Q565.647 117.516 565.155 117.311 Q564.704 117.065 563.392 116.942 L560.195 116.778 Q559.211 116.778 558.801 116.737 Q558.433 116.696 558.146 116.491 Q557.859 116.286 557.859 115.835 Q557.859 114.688 558.351 114.442 Q558.842 114.155 560.277 114.155 L584.215 114.155 Q592.372 114.155 597.536 117.721 Q602.742 121.287 602.742 126.739 Q602.742 129.198 601.635 131.493 Q600.529 133.789 598.684 135.592 Q596.881 137.396 594.462 138.912 Q592.044 140.388 589.461 141.413 Q586.92 142.396 584.297 142.97 Q585.445 143.38 586.51 143.995 Q587.617 144.61 589.011 145.758 Q590.445 146.905 591.306 148.75 Q592.167 150.594 592.167 152.849 Q592.167 154.447 591.839 156.825 Q591.019 163.588 591.019 166.375 Q591.019 169.04 591.716 170.269 Q592.413 171.499 594.38 171.499 Q596.307 171.499 598.438 169.777 Q600.611 168.015 602.004 163.875 Q602.332 162.686 603.111 162.686 Q603.152 162.686 603.193 162.686 Q603.275 162.686 603.439 162.768 Q603.603 162.809 603.726 162.932 Q603.89 163.014 603.972 163.219 Q604.095 163.424 604.095 163.711 Z\" fill=\"#000000\" fill-rule=\"evenodd\" fill-opacity=\"1\" /><path clip-path=\"url(#clip460)\" d=\"M660.673 115.589 Q660.673 116.368 660.509 117.024 L658.213 131.616 Q658.09 132.723 657.844 133.133 Q657.639 133.543 656.984 133.543 Q655.959 133.543 655.959 132.477 Q655.959 131.862 656.205 130.879 Q656.902 126.247 656.902 124.156 Q656.902 122.763 656.615 121.738 Q656.369 120.672 655.959 119.934 Q655.59 119.197 654.729 118.705 Q653.868 118.213 653.049 117.926 Q652.229 117.639 650.753 117.516 Q649.278 117.352 648.007 117.311 Q646.736 117.27 644.646 117.27 Q640.096 117.27 639.358 117.434 Q638.579 117.639 638.169 118.254 Q637.801 118.828 637.391 120.549 L626.242 165.105 L625.914 166.867 Q625.914 167.851 626.528 168.179 Q627.143 168.507 629.029 168.712 Q631.734 168.917 634.398 168.917 Q634.48 168.917 634.644 168.917 Q635.546 168.917 635.915 168.958 Q636.284 168.958 636.653 169.04 Q637.022 169.121 637.104 169.326 Q637.227 169.49 637.227 169.818 Q637.227 170.597 636.899 171.007 Q636.571 171.376 636.243 171.458 Q635.956 171.499 635.382 171.499 Q634.234 171.499 631.775 171.417 Q629.316 171.335 628.086 171.335 L621.118 171.253 L613.986 171.335 Q612.879 171.335 610.543 171.417 Q608.206 171.499 607.1 171.499 Q605.665 171.499 605.665 170.474 Q605.665 169.326 606.198 169.121 Q606.772 168.917 609.19 168.917 Q612.592 168.917 614.437 168.753 Q616.281 168.589 617.265 168.015 Q618.29 167.441 618.577 166.867 Q618.863 166.252 619.191 164.859 L630.463 120.057 Q630.791 119.074 630.791 118.295 Q630.791 117.885 630.668 117.721 Q630.586 117.557 630.054 117.434 Q629.521 117.27 628.414 117.27 L625.135 117.27 Q621.774 117.27 619.683 117.434 Q617.634 117.557 615.666 118.172 Q613.74 118.787 612.592 119.647 Q611.485 120.508 610.256 122.271 Q609.026 124.033 608.124 126.165 Q607.264 128.296 606.034 131.78 Q605.624 132.928 605.378 133.256 Q605.173 133.543 604.599 133.543 Q604.189 133.543 603.861 133.297 Q603.574 133.01 603.574 132.641 Q603.984 131.288 604.066 131.124 L609.108 116.327 Q609.518 115.139 609.887 114.934 Q610.297 114.688 611.813 114.688 L658.377 114.688 Q659.115 114.688 659.361 114.688 Q659.607 114.688 660.017 114.77 Q660.427 114.852 660.55 115.057 Q660.673 115.262 660.673 115.589 Z\" fill=\"#000000\" fill-rule=\"evenodd\" fill-opacity=\"1\" /><path clip-path=\"url(#clip460)\" d=\"M734.236 75.1788 Q728.24 75.1788 724.757 79.8778 Q721.273 84.5364 721.273 92.6787 Q721.273 100.821 724.716 105.52 Q728.2 110.179 734.236 110.179 Q740.19 110.179 743.674 105.48 Q747.158 100.781 747.158 92.6787 Q747.158 84.6174 743.674 79.9183 Q740.19 75.1788 734.236 75.1788 M734.236 68.8594 Q743.958 68.8594 749.508 75.1788 Q755.057 81.4982 755.057 92.6787 Q755.057 103.819 749.508 110.179 Q743.958 116.498 734.236 116.498 Q724.473 116.498 718.923 110.179 Q713.414 103.819 713.414 92.6787 Q713.414 81.4982 718.923 75.1788 Q724.473 68.8594 734.236 68.8594 Z\" fill=\"#000000\" fill-rule=\"evenodd\" fill-opacity=\"1\" /><path clip-path=\"url(#clip460)\" d=\"M790.381 52.2912 L790.381 58.4891 L783.252 58.4891 Q779.241 58.4891 777.661 60.1094 Q776.122 61.7298 776.122 65.9427 L776.122 69.9531 L788.396 69.9531 L788.396 75.7459 L776.122 75.7459 L776.122 115.323 L768.628 115.323 L768.628 75.7459 L761.498 75.7459 L761.498 69.9531 L768.628 69.9531 L768.628 66.7934 Q768.628 59.2182 772.152 55.775 Q775.676 52.2912 783.333 52.2912 L790.381 52.2912 Z\" fill=\"#000000\" fill-rule=\"evenodd\" fill-opacity=\"1\" /><path clip-path=\"url(#clip460)\" d=\"M874.771 52.9839 L869.483 74.3803 Q869.115 75.733 868.869 75.897 Q868.664 76.0609 868.008 76.0609 Q866.737 76.0609 866.737 75.2001 Q866.737 75.1182 866.86 74.0524 Q866.983 72.9457 866.983 70.9372 Q866.983 63.5182 863.376 59.1323 Q859.81 54.7465 853.457 54.7465 Q847.964 54.7465 842.431 57.5338 Q836.938 60.321 833.003 64.8708 Q830.052 68.3139 827.879 72.6588 Q825.748 77.0037 824.723 80.9796 Q823.739 84.9556 823.289 87.9478 Q822.838 90.94 822.838 93.1124 Q822.838 96.2686 823.494 98.9329 Q824.19 101.597 825.42 103.483 Q826.65 105.327 828.207 106.762 Q829.806 108.156 831.65 108.975 Q833.536 109.795 835.421 110.205 Q837.307 110.574 839.274 110.574 Q847.185 110.574 854.727 104.425 Q860.712 99.3838 863.212 91.145 Q863.417 90.3252 864.278 90.3252 Q865.303 90.3252 865.303 91.145 Q865.303 91.3089 865.098 92.1287 Q864.893 92.9075 864.278 94.5061 Q863.663 96.0637 862.72 97.8262 Q861.778 99.5888 860.015 101.802 Q858.252 104.016 856.08 105.942 Q852.391 109.139 847.718 111.148 Q843.045 113.156 837.922 113.156 Q831.527 113.156 826.363 110.328 Q821.198 107.5 818.165 102.212 Q815.173 96.9245 815.173 90.1612 Q815.173 83.0291 818.452 76.0199 Q821.731 69.0108 826.937 63.8051 Q832.142 58.5995 839.028 55.3613 Q845.915 52.1232 852.801 52.1232 Q855.424 52.1232 857.761 52.82 Q860.097 53.5168 861.491 54.3776 Q862.925 55.2384 864.196 56.509 Q865.467 57.7387 865.876 58.3126 Q866.327 58.8864 866.737 59.5832 L872.599 53.1479 Q873.623 52.1232 873.869 52.1232 Q874.361 52.1232 874.566 52.4101 Q874.771 52.697 874.771 52.9839 Z\" fill=\"#000000\" fill-rule=\"evenodd\" fill-opacity=\"1\" /><path clip-path=\"url(#clip460)\" d=\"M932.646 74.7083 Q932.646 80.5697 930.556 86.3902 Q928.506 92.1697 924.899 96.9245 Q921.292 101.679 916.701 105.368 Q912.11 109.057 906.741 111.107 Q901.371 113.156 896.125 113.156 Q886.82 113.156 880.713 107.049 Q874.605 100.941 874.605 90.7351 Q874.605 83.6029 877.802 76.5118 Q881 69.3797 886.082 64.092 Q891.165 58.7634 897.846 55.4433 Q904.568 52.1232 911.209 52.1232 Q920.636 52.1232 926.621 58.3945 Q932.646 64.6249 932.646 74.7083 M925.145 71.4291 Q925.145 66.9203 923.874 63.5182 Q922.604 60.0751 920.472 58.1076 Q918.382 56.1401 915.881 55.1974 Q913.422 54.2136 910.717 54.2136 Q905.47 54.2136 899.855 57.6157 Q894.239 61.0178 890.058 67.3302 Q887.804 70.7733 886.164 74.9132 Q884.525 79.0121 883.787 82.6602 Q883.049 86.2672 882.721 88.8086 Q882.434 91.3499 882.434 93.1124 Q882.434 101.31 886.369 106.147 Q890.304 110.984 896.617 110.984 Q901.576 110.984 906.413 108.074 Q911.25 105.122 914.57 100.9 Q917.521 97.2524 919.693 92.8665 Q921.907 88.4807 923.014 84.4637 Q924.12 80.4468 924.612 77.2086 Q925.145 73.9705 925.145 71.4291 Z\" fill=\"#000000\" fill-rule=\"evenodd\" fill-opacity=\"1\" /><path clip-path=\"url(#clip460)\" d=\"M941.034 136.397 Q941.034 135.336 941.12 135.02 Q941.235 134.704 941.694 134.217 L952.97 121.649 Q959.139 114.706 959.139 108.652 Q959.139 104.721 957.073 101.909 Q955.036 99.0971 951.277 99.0971 Q948.695 99.0971 946.514 100.675 Q944.334 102.253 943.329 105.065 Q943.502 105.008 944.104 105.008 Q945.567 105.008 946.371 105.926 Q947.203 106.844 947.203 108.078 Q947.203 109.656 946.17 110.431 Q945.166 111.177 944.161 111.177 Q943.76 111.177 943.215 111.091 Q942.698 111.004 941.866 110.201 Q941.034 109.369 941.034 107.906 Q941.034 103.803 944.133 100.532 Q947.26 97.2607 952.023 97.2607 Q957.417 97.2607 960.947 100.474 Q964.504 103.659 964.504 108.652 Q964.504 110.402 963.959 112.009 Q963.443 113.587 962.726 114.821 Q962.037 116.054 960.143 118.034 Q958.25 120.014 956.729 121.42 Q955.208 122.826 951.794 125.81 L945.567 131.864 L956.155 131.864 Q961.32 131.864 961.721 131.405 Q962.295 130.573 963.012 126.183 L964.504 126.183 L962.84 136.397 L941.034 136.397 Z\" fill=\"#000000\" fill-rule=\"evenodd\" fill-opacity=\"1\" /><path clip-path=\"url(#clip460)\" d=\"M1033.9 92.5167 Q1024.87 92.5167 1021.38 94.5826 Q1017.9 96.6486 1017.9 101.631 Q1017.9 105.601 1020.49 107.951 Q1023.13 110.26 1027.62 110.26 Q1033.82 110.26 1037.55 105.885 Q1041.32 101.469 1041.32 94.1775 L1041.32 92.5167 L1033.9 92.5167 M1048.77 89.438 L1048.77 115.323 L1041.32 115.323 L1041.32 108.437 Q1038.76 112.569 1034.96 114.554 Q1031.15 116.498 1025.64 116.498 Q1018.67 116.498 1014.54 112.609 Q1010.45 108.68 1010.45 102.117 Q1010.45 94.4611 1015.55 90.5722 Q1020.7 86.6834 1030.86 86.6834 L1041.32 86.6834 L1041.32 85.9542 Q1041.32 80.8095 1037.91 78.0144 Q1034.55 75.1788 1028.43 75.1788 Q1024.54 75.1788 1020.86 76.1105 Q1017.17 77.0422 1013.77 78.9056 L1013.77 72.0191 Q1017.86 70.4392 1021.71 69.6696 Q1025.56 68.8594 1029.2 68.8594 Q1039.05 68.8594 1043.91 73.9635 Q1048.77 79.0677 1048.77 89.438 Z\" fill=\"#000000\" fill-rule=\"evenodd\" fill-opacity=\"1\" /><path clip-path=\"url(#clip460)\" d=\"M1071.49 57.0712 L1071.49 69.9531 L1086.85 69.9531 L1086.85 75.7459 L1071.49 75.7459 L1071.49 100.375 Q1071.49 105.925 1072.99 107.505 Q1074.53 109.085 1079.19 109.085 L1086.85 109.085 L1086.85 115.323 L1079.19 115.323 Q1070.56 115.323 1067.28 112.123 Q1064 108.882 1064 100.375 L1064 75.7459 L1058.53 75.7459 L1058.53 69.9531 L1064 69.9531 L1064 57.0712 L1071.49 57.0712 Z\" fill=\"#000000\" fill-rule=\"evenodd\" fill-opacity=\"1\" /><path clip-path=\"url(#clip460)\" d=\"M1123.02 69.9531 L1130.48 69.9531 L1130.48 115.323 L1123.02 115.323 L1123.02 69.9531 M1123.02 52.2912 L1130.48 52.2912 L1130.48 61.7298 L1123.02 61.7298 L1123.02 52.2912 Z\" fill=\"#000000\" fill-rule=\"evenodd\" fill-opacity=\"1\" /><path clip-path=\"url(#clip460)\" d=\"M1183.79 87.9391 L1183.79 115.323 L1176.33 115.323 L1176.33 88.1822 Q1176.33 81.7413 1173.82 78.541 Q1171.31 75.3408 1166.29 75.3408 Q1160.25 75.3408 1156.77 79.1892 Q1153.28 83.0375 1153.28 89.681 L1153.28 115.323 L1145.79 115.323 L1145.79 69.9531 L1153.28 69.9531 L1153.28 77.0017 Q1155.96 72.9103 1159.56 70.8848 Q1163.21 68.8594 1167.95 68.8594 Q1175.76 68.8594 1179.78 73.7205 Q1183.79 78.541 1183.79 87.9391 Z\" fill=\"#000000\" fill-rule=\"evenodd\" fill-opacity=\"1\" /><path clip-path=\"url(#clip460)\" d=\"M1231.3 71.695 L1231.3 78.6626 Q1228.14 76.9207 1224.94 76.07 Q1221.78 75.1788 1218.54 75.1788 Q1211.29 75.1788 1207.28 79.7968 Q1203.27 84.3743 1203.27 92.6787 Q1203.27 100.983 1207.28 105.601 Q1211.29 110.179 1218.54 110.179 Q1221.78 110.179 1224.94 109.328 Q1228.14 108.437 1231.3 106.695 L1231.3 113.581 Q1228.18 115.04 1224.82 115.769 Q1221.5 116.498 1217.73 116.498 Q1207.48 116.498 1201.45 110.057 Q1195.41 103.616 1195.41 92.6787 Q1195.41 81.5792 1201.49 75.2193 Q1207.6 68.8594 1218.22 68.8594 Q1221.66 68.8594 1224.94 69.5885 Q1228.22 70.2772 1231.3 71.695 Z\" fill=\"#000000\" fill-rule=\"evenodd\" fill-opacity=\"1\" /><path clip-path=\"url(#clip460)\" d=\"M1270.56 76.9207 Q1269.3 76.1915 1267.8 75.8674 Q1266.34 75.5029 1264.56 75.5029 Q1258.24 75.5029 1254.84 79.6348 Q1251.48 83.7262 1251.48 91.4229 L1251.48 115.323 L1243.98 115.323 L1243.98 69.9531 L1251.48 69.9531 L1251.48 77.0017 Q1253.83 72.8698 1257.59 70.8848 Q1261.36 68.8594 1266.75 68.8594 Q1267.52 68.8594 1268.45 68.9809 Q1269.38 69.0619 1270.52 69.2645 L1270.56 76.9207 Z\" fill=\"#000000\" fill-rule=\"evenodd\" fill-opacity=\"1\" /><path clip-path=\"url(#clip460)\" d=\"M1315.36 90.7748 L1315.36 94.4206 L1281.09 94.4206 Q1281.57 102.117 1285.71 106.168 Q1289.88 110.179 1297.29 110.179 Q1301.59 110.179 1305.6 109.125 Q1309.65 108.072 1313.62 105.966 L1313.62 113.014 Q1309.61 114.716 1305.39 115.607 Q1301.18 116.498 1296.85 116.498 Q1285.99 116.498 1279.63 110.179 Q1273.31 103.859 1273.31 93.0838 Q1273.31 81.9438 1279.31 75.4218 Q1285.34 68.8594 1295.55 68.8594 Q1304.7 68.8594 1310.01 74.7737 Q1315.36 80.6475 1315.36 90.7748 M1307.91 88.5873 Q1307.82 82.4704 1304.46 78.8246 Q1301.14 75.1788 1295.63 75.1788 Q1289.39 75.1788 1285.63 78.7031 Q1281.9 82.2274 1281.33 88.6278 L1307.91 88.5873 Z\" fill=\"#000000\" fill-rule=\"evenodd\" fill-opacity=\"1\" /><path clip-path=\"url(#clip460)\" d=\"M1348.21 92.5167 Q1339.18 92.5167 1335.69 94.5826 Q1332.21 96.6486 1332.21 101.631 Q1332.21 105.601 1334.8 107.951 Q1337.44 110.26 1341.93 110.26 Q1348.13 110.26 1351.86 105.885 Q1355.62 101.469 1355.62 94.1775 L1355.62 92.5167 L1348.21 92.5167 M1363.08 89.438 L1363.08 115.323 L1355.62 115.323 L1355.62 108.437 Q1353.07 112.569 1349.26 114.554 Q1345.46 116.498 1339.95 116.498 Q1332.98 116.498 1328.85 112.609 Q1324.76 108.68 1324.76 102.117 Q1324.76 94.4611 1329.86 90.5722 Q1335.01 86.6834 1345.17 86.6834 L1355.62 86.6834 L1355.62 85.9542 Q1355.62 80.8095 1352.22 78.0144 Q1348.86 75.1788 1342.74 75.1788 Q1338.85 75.1788 1335.17 76.1105 Q1331.48 77.0422 1328.08 78.9056 L1328.08 72.0191 Q1332.17 70.4392 1336.02 69.6696 Q1339.87 68.8594 1343.51 68.8594 Q1353.36 68.8594 1358.22 73.9635 Q1363.08 79.0677 1363.08 89.438 Z\" fill=\"#000000\" fill-rule=\"evenodd\" fill-opacity=\"1\" /><path clip-path=\"url(#clip460)\" d=\"M1407.35 71.2899 L1407.35 78.3385 Q1404.2 76.7181 1400.79 75.908 Q1397.39 75.0978 1393.74 75.0978 Q1388.19 75.0978 1385.4 76.7992 Q1382.64 78.5005 1382.64 81.9033 Q1382.64 84.4959 1384.63 85.9947 Q1386.61 87.453 1392.61 88.7898 L1395.16 89.357 Q1403.1 91.0583 1406.42 94.1775 Q1409.79 97.2562 1409.79 102.806 Q1409.79 109.125 1404.76 112.812 Q1399.78 116.498 1391.03 116.498 Q1387.38 116.498 1383.41 115.769 Q1379.48 115.08 1375.11 113.662 L1375.11 105.966 Q1379.24 108.113 1383.25 109.206 Q1387.26 110.26 1391.19 110.26 Q1396.46 110.26 1399.29 108.477 Q1402.13 106.654 1402.13 103.373 Q1402.13 100.335 1400.06 98.7145 Q1398.04 97.0942 1391.11 95.5953 L1388.52 94.9877 Q1381.59 93.5294 1378.51 90.5317 Q1375.43 87.4935 1375.43 82.2274 Q1375.43 75.8269 1379.97 72.3432 Q1384.51 68.8594 1392.85 68.8594 Q1396.98 68.8594 1400.63 69.467 Q1404.28 70.0746 1407.35 71.2899 Z\" fill=\"#000000\" fill-rule=\"evenodd\" fill-opacity=\"1\" /><path clip-path=\"url(#clip460)\" d=\"M1421.65 69.9531 L1429.11 69.9531 L1429.11 115.323 L1421.65 115.323 L1421.65 69.9531 M1421.65 52.2912 L1429.11 52.2912 L1429.11 61.7298 L1421.65 61.7298 L1421.65 52.2912 Z\" fill=\"#000000\" fill-rule=\"evenodd\" fill-opacity=\"1\" /><path clip-path=\"url(#clip460)\" d=\"M1482.42 87.9391 L1482.42 115.323 L1474.96 115.323 L1474.96 88.1822 Q1474.96 81.7413 1472.45 78.541 Q1469.94 75.3408 1464.92 75.3408 Q1458.88 75.3408 1455.4 79.1892 Q1451.91 83.0375 1451.91 89.681 L1451.91 115.323 L1444.42 115.323 L1444.42 69.9531 L1451.91 69.9531 L1451.91 77.0017 Q1454.59 72.9103 1458.19 70.8848 Q1461.84 68.8594 1466.58 68.8594 Q1474.4 68.8594 1478.41 73.7205 Q1482.42 78.541 1482.42 87.9391 Z\" fill=\"#000000\" fill-rule=\"evenodd\" fill-opacity=\"1\" /><path clip-path=\"url(#clip460)\" d=\"M1527.14 92.1116 Q1527.14 84.0098 1523.78 79.5538 Q1520.46 75.0978 1514.42 75.0978 Q1508.42 75.0978 1505.06 79.5538 Q1501.74 84.0098 1501.74 92.1116 Q1501.74 100.173 1505.06 104.629 Q1508.42 109.085 1514.42 109.085 Q1520.46 109.085 1523.78 104.629 Q1527.14 100.173 1527.14 92.1116 M1534.59 109.692 Q1534.59 121.278 1529.45 126.909 Q1524.3 132.58 1513.69 132.58 Q1509.76 132.58 1506.28 131.972 Q1502.79 131.405 1499.51 130.19 L1499.51 122.939 Q1502.79 124.721 1505.99 125.572 Q1509.19 126.423 1512.52 126.423 Q1519.85 126.423 1523.49 122.574 Q1527.14 118.767 1527.14 111.029 L1527.14 107.343 Q1524.83 111.353 1521.23 113.338 Q1517.62 115.323 1512.6 115.323 Q1504.25 115.323 1499.15 108.963 Q1494.04 102.603 1494.04 92.1116 Q1494.04 81.5792 1499.15 75.2193 Q1504.25 68.8594 1512.6 68.8594 Q1517.62 68.8594 1521.23 70.8443 Q1524.83 72.8293 1527.14 76.8397 L1527.14 69.9531 L1534.59 69.9531 L1534.59 109.692 Z\" fill=\"#000000\" fill-rule=\"evenodd\" fill-opacity=\"1\" /><path clip-path=\"url(#clip460)\" d=\"M1583.69 57.0712 L1583.69 69.9531 L1599.04 69.9531 L1599.04 75.7459 L1583.69 75.7459 L1583.69 100.375 Q1583.69 105.925 1585.19 107.505 Q1586.73 109.085 1591.39 109.085 L1599.04 109.085 L1599.04 115.323 L1591.39 115.323 Q1582.76 115.323 1579.48 112.123 Q1576.2 108.882 1576.2 100.375 L1576.2 75.7459 L1570.73 75.7459 L1570.73 69.9531 L1576.2 69.9531 L1576.2 57.0712 L1583.69 57.0712 Z\" fill=\"#000000\" fill-rule=\"evenodd\" fill-opacity=\"1\" /><path clip-path=\"url(#clip460)\" d=\"M1647.65 90.7748 L1647.65 94.4206 L1613.38 94.4206 Q1613.87 102.117 1618 106.168 Q1622.17 110.179 1629.59 110.179 Q1633.88 110.179 1637.89 109.125 Q1641.94 108.072 1645.91 105.966 L1645.91 113.014 Q1641.9 114.716 1637.69 115.607 Q1633.48 116.498 1629.14 116.498 Q1618.29 116.498 1611.93 110.179 Q1605.61 103.859 1605.61 93.0838 Q1605.61 81.9438 1611.6 75.4218 Q1617.64 68.8594 1627.85 68.8594 Q1637 68.8594 1642.31 74.7737 Q1647.65 80.6475 1647.65 90.7748 M1640.2 88.5873 Q1640.12 82.4704 1636.76 78.8246 Q1633.44 75.1788 1627.93 75.1788 Q1621.69 75.1788 1617.92 78.7031 Q1614.19 82.2274 1613.63 88.6278 L1640.2 88.5873 Z\" fill=\"#000000\" fill-rule=\"evenodd\" fill-opacity=\"1\" /><path clip-path=\"url(#clip460)\" d=\"M1695.21 78.6626 Q1698.01 73.6394 1701.9 71.2494 Q1705.78 68.8594 1711.05 68.8594 Q1718.14 68.8594 1721.99 73.842 Q1725.84 78.7841 1725.84 87.9391 L1725.84 115.323 L1718.34 115.323 L1718.34 88.1822 Q1718.34 81.6602 1716.03 78.5005 Q1713.72 75.3408 1708.99 75.3408 Q1703.19 75.3408 1699.83 79.1892 Q1696.47 83.0375 1696.47 89.681 L1696.47 115.323 L1688.97 115.323 L1688.97 88.1822 Q1688.97 81.6197 1686.66 78.5005 Q1684.36 75.3408 1679.54 75.3408 Q1673.82 75.3408 1670.46 79.2297 Q1667.1 83.0781 1667.1 89.681 L1667.1 115.323 L1659.6 115.323 L1659.6 69.9531 L1667.1 69.9531 L1667.1 77.0017 Q1669.65 72.8293 1673.22 70.8443 Q1676.78 68.8594 1681.68 68.8594 Q1686.62 68.8594 1690.07 71.3709 Q1693.55 73.8825 1695.21 78.6626 Z\" fill=\"#000000\" fill-rule=\"evenodd\" fill-opacity=\"1\" /><path clip-path=\"url(#clip460)\" d=\"M1747.91 108.518 L1747.91 132.58 L1740.42 132.58 L1740.42 69.9531 L1747.91 69.9531 L1747.91 76.8397 Q1750.26 72.7888 1753.83 70.8443 Q1757.43 68.8594 1762.42 68.8594 Q1770.68 68.8594 1775.83 75.4218 Q1781.01 81.9843 1781.01 92.6787 Q1781.01 103.373 1775.83 109.936 Q1770.68 116.498 1762.42 116.498 Q1757.43 116.498 1753.83 114.554 Q1750.26 112.569 1747.91 108.518 M1773.27 92.6787 Q1773.27 84.4554 1769.87 79.7968 Q1766.51 75.0978 1760.59 75.0978 Q1754.68 75.0978 1751.28 79.7968 Q1747.91 84.4554 1747.91 92.6787 Q1747.91 100.902 1751.28 105.601 Q1754.68 110.26 1760.59 110.26 Q1766.51 110.26 1769.87 105.601 Q1773.27 100.902 1773.27 92.6787 Z\" fill=\"#000000\" fill-rule=\"evenodd\" fill-opacity=\"1\" /><path clip-path=\"url(#clip460)\" d=\"M1832.17 90.7748 L1832.17 94.4206 L1797.9 94.4206 Q1798.39 102.117 1802.52 106.168 Q1806.69 110.179 1814.11 110.179 Q1818.4 110.179 1822.41 109.125 Q1826.46 108.072 1830.43 105.966 L1830.43 113.014 Q1826.42 114.716 1822.21 115.607 Q1817.99 116.498 1813.66 116.498 Q1802.8 116.498 1796.44 110.179 Q1790.12 103.859 1790.12 93.0838 Q1790.12 81.9438 1796.12 75.4218 Q1802.16 68.8594 1812.36 68.8594 Q1821.52 68.8594 1826.83 74.7737 Q1832.17 80.6475 1832.17 90.7748 M1824.72 88.5873 Q1824.64 82.4704 1821.28 78.8246 Q1817.95 75.1788 1812.45 75.1788 Q1806.21 75.1788 1802.44 78.7031 Q1798.71 82.2274 1798.15 88.6278 L1824.72 88.5873 Z\" fill=\"#000000\" fill-rule=\"evenodd\" fill-opacity=\"1\" /><path clip-path=\"url(#clip460)\" d=\"M1870.7 76.9207 Q1869.44 76.1915 1867.94 75.8674 Q1866.48 75.5029 1864.7 75.5029 Q1858.38 75.5029 1854.98 79.6348 Q1851.62 83.7262 1851.62 91.4229 L1851.62 115.323 L1844.12 115.323 L1844.12 69.9531 L1851.62 69.9531 L1851.62 77.0017 Q1853.97 72.8698 1857.73 70.8848 Q1861.5 68.8594 1866.89 68.8594 Q1867.66 68.8594 1868.59 68.9809 Q1869.52 69.0619 1870.66 69.2645 L1870.7 76.9207 Z\" fill=\"#000000\" fill-rule=\"evenodd\" fill-opacity=\"1\" /><path clip-path=\"url(#clip460)\" d=\"M1899.13 92.5167 Q1890.1 92.5167 1886.62 94.5826 Q1883.13 96.6486 1883.13 101.631 Q1883.13 105.601 1885.73 107.951 Q1888.36 110.26 1892.86 110.26 Q1899.05 110.26 1902.78 105.885 Q1906.55 101.469 1906.55 94.1775 L1906.55 92.5167 L1899.13 92.5167 M1914 89.438 L1914 115.323 L1906.55 115.323 L1906.55 108.437 Q1904 112.569 1900.19 114.554 Q1896.38 116.498 1890.87 116.498 Q1883.9 116.498 1879.77 112.609 Q1875.68 108.68 1875.68 102.117 Q1875.68 94.4611 1880.78 90.5722 Q1885.93 86.6834 1896.1 86.6834 L1906.55 86.6834 L1906.55 85.9542 Q1906.55 80.8095 1903.14 78.0144 Q1899.78 75.1788 1893.67 75.1788 Q1889.78 75.1788 1886.09 76.1105 Q1882.4 77.0422 1879 78.9056 L1879 72.0191 Q1883.09 70.4392 1886.94 69.6696 Q1890.79 68.8594 1894.44 68.8594 Q1904.28 68.8594 1909.14 73.9635 Q1914 79.0677 1914 89.438 Z\" fill=\"#000000\" fill-rule=\"evenodd\" fill-opacity=\"1\" /><path clip-path=\"url(#clip460)\" d=\"M1936.73 57.0712 L1936.73 69.9531 L1952.08 69.9531 L1952.08 75.7459 L1936.73 75.7459 L1936.73 100.375 Q1936.73 105.925 1938.23 107.505 Q1939.77 109.085 1944.42 109.085 L1952.08 109.085 L1952.08 115.323 L1944.42 115.323 Q1935.8 115.323 1932.51 112.123 Q1929.23 108.882 1929.23 100.375 L1929.23 75.7459 L1923.76 75.7459 L1923.76 69.9531 L1929.23 69.9531 L1929.23 57.0712 L1936.73 57.0712 Z\" fill=\"#000000\" fill-rule=\"evenodd\" fill-opacity=\"1\" /><path clip-path=\"url(#clip460)\" d=\"M1961.11 97.4183 L1961.11 69.9531 L1968.57 69.9531 L1968.57 97.1347 Q1968.57 103.576 1971.08 106.816 Q1973.59 110.017 1978.61 110.017 Q1984.65 110.017 1988.13 106.168 Q1991.66 102.32 1991.66 95.6764 L1991.66 69.9531 L1999.11 69.9531 L1999.11 115.323 L1991.66 115.323 L1991.66 108.356 Q1988.94 112.488 1985.34 114.513 Q1981.77 116.498 1977.03 116.498 Q1969.22 116.498 1965.16 111.637 Q1961.11 106.776 1961.11 97.4183 M1979.87 68.8594 L1979.87 68.8594 Z\" fill=\"#000000\" fill-rule=\"evenodd\" fill-opacity=\"1\" /><path clip-path=\"url(#clip460)\" d=\"M2040.75 76.9207 Q2039.5 76.1915 2038 75.8674 Q2036.54 75.5029 2034.76 75.5029 Q2028.44 75.5029 2025.04 79.6348 Q2021.67 83.7262 2021.67 91.4229 L2021.67 115.323 L2014.18 115.323 L2014.18 69.9531 L2021.67 69.9531 L2021.67 77.0017 Q2024.02 72.8698 2027.79 70.8848 Q2031.56 68.8594 2036.95 68.8594 Q2037.72 68.8594 2038.65 68.9809 Q2039.58 69.0619 2040.71 69.2645 L2040.75 76.9207 Z\" fill=\"#000000\" fill-rule=\"evenodd\" fill-opacity=\"1\" /><path clip-path=\"url(#clip460)\" d=\"M2085.56 90.7748 L2085.56 94.4206 L2051.29 94.4206 Q2051.77 102.117 2055.9 106.168 Q2060.08 110.179 2067.49 110.179 Q2071.78 110.179 2075.79 109.125 Q2079.85 108.072 2083.82 105.966 L2083.82 113.014 Q2079.8 114.716 2075.59 115.607 Q2071.38 116.498 2067.04 116.498 Q2056.19 116.498 2049.83 110.179 Q2043.51 103.859 2043.51 93.0838 Q2043.51 81.9438 2049.5 75.4218 Q2055.54 68.8594 2065.75 68.8594 Q2074.9 68.8594 2080.21 74.7737 Q2085.56 80.6475 2085.56 90.7748 M2078.1 88.5873 Q2078.02 82.4704 2074.66 78.8246 Q2071.34 75.1788 2065.83 75.1788 Q2059.59 75.1788 2055.82 78.7031 Q2052.1 82.2274 2051.53 88.6278 L2078.1 88.5873 Z\" fill=\"#000000\" fill-rule=\"evenodd\" fill-opacity=\"1\" /><polyline clip-path=\"url(#clip463)\" style=\"stroke:#009af9; stroke-linecap:butt; stroke-linejoin:round; stroke-width:4; stroke-opacity:1; fill:none\" points=\"\n",
       "  313.447,203.562 317.407,208.276 321.367,212.973 325.326,217.65 329.286,222.309 333.246,226.95 337.206,231.572 341.166,236.177 345.126,240.763 349.085,245.331 \n",
       "  353.045,249.882 357.005,254.415 360.965,258.93 364.925,263.427 368.884,267.908 372.844,272.371 376.804,276.816 380.764,281.245 384.724,285.657 388.684,290.051 \n",
       "  392.643,294.429 396.603,298.79 400.563,303.135 404.523,307.463 408.483,311.774 412.443,316.07 416.402,320.349 420.362,324.611 424.322,328.858 428.282,333.089 \n",
       "  432.242,337.304 436.201,341.503 440.161,345.686 444.121,349.854 448.081,354.006 452.041,358.143 456.001,362.264 459.96,366.37 463.92,370.461 467.88,374.537 \n",
       "  471.84,378.598 475.8,382.644 479.76,386.675 483.719,390.691 487.679,394.693 491.639,398.68 495.599,402.652 499.559,406.61 503.518,410.553 507.478,414.483 \n",
       "  511.438,418.398 515.398,422.299 519.358,426.185 523.318,430.058 527.277,433.917 531.237,437.762 535.197,441.593 539.157,445.411 543.117,449.215 547.077,453.005 \n",
       "  551.036,456.782 554.996,460.546 558.956,464.296 562.916,468.033 566.876,471.757 570.835,475.468 574.795,479.165 578.755,482.85 582.715,486.521 586.675,490.18 \n",
       "  590.635,493.826 594.594,497.46 598.554,501.08 602.514,504.689 606.474,508.284 610.434,511.867 614.394,515.438 618.353,518.997 622.313,522.543 626.273,526.077 \n",
       "  630.233,529.599 634.193,533.109 638.152,536.606 642.112,540.092 646.072,543.566 650.032,547.028 653.992,550.479 657.952,553.917 661.911,557.344 665.871,560.76 \n",
       "  669.831,564.164 673.791,567.556 677.751,570.937 681.711,574.307 685.67,577.665 689.63,581.012 693.59,584.348 697.55,587.673 701.51,590.987 705.469,594.29 \n",
       "  709.429,597.582 713.389,600.862 717.349,604.132 721.309,607.392 725.269,610.64 729.228,613.878 733.188,617.105 737.148,620.322 741.108,623.528 745.068,626.723 \n",
       "  749.028,629.908 752.987,633.083 756.947,636.247 760.907,639.401 764.867,642.545 768.827,645.679 772.786,648.803 776.746,651.916 780.706,655.02 784.666,658.113 \n",
       "  788.626,661.197 792.586,664.27 796.545,667.334 800.505,670.388 804.465,673.432 808.425,676.467 812.385,679.492 816.344,682.507 820.304,685.513 824.264,688.509 \n",
       "  828.224,691.496 832.184,694.473 836.144,697.441 840.103,700.399 844.063,703.349 848.023,706.289 851.983,709.22 855.943,712.141 859.903,715.054 863.862,717.957 \n",
       "  867.822,720.852 871.782,723.737 875.742,726.614 879.702,729.481 883.661,732.34 887.621,735.19 891.581,738.031 895.541,740.863 899.501,743.687 903.461,746.502 \n",
       "  907.42,749.308 911.38,752.106 915.34,754.895 919.3,757.676 923.26,760.448 927.22,763.212 931.179,765.967 935.139,768.714 939.099,771.453 943.059,774.183 \n",
       "  947.019,776.905 950.978,779.619 954.938,782.325 958.898,785.023 962.858,787.713 966.818,790.394 970.778,793.068 974.737,795.733 978.697,798.391 982.657,801.04 \n",
       "  986.617,803.682 990.577,806.316 994.537,808.942 998.496,811.561 1002.46,814.171 1006.42,816.774 1010.38,819.37 1014.34,821.957 1018.3,824.537 1022.26,827.11 \n",
       "  1026.22,829.675 1030.17,832.232 1034.13,834.782 1038.09,837.324 1042.05,839.859 1046.01,842.387 1049.97,844.907 1053.93,847.421 1057.89,849.926 1061.85,852.425 \n",
       "  1065.81,854.916 1069.77,857.4 1073.73,859.877 1077.69,862.347 1081.65,864.81 1085.61,867.266 1089.57,869.714 1093.53,872.156 1097.49,874.591 1101.45,877.018 \n",
       "  1105.41,879.439 1109.37,881.853 1113.33,884.26 1117.29,886.661 1121.25,889.054 1125.21,891.441 1129.17,893.821 1133.13,896.194 1137.09,898.561 1141.05,900.921 \n",
       "  1145.01,903.274 1148.97,905.621 1152.93,907.961 1156.89,910.295 1160.85,912.622 1164.81,914.942 1168.77,917.257 1172.73,919.564 1176.69,921.866 1180.65,924.161 \n",
       "  1184.61,926.449 1188.57,928.732 1192.53,931.008 1196.49,933.277 1200.45,935.541 1204.41,937.798 1208.37,940.049 1212.33,942.294 1216.29,944.533 1220.25,946.765 \n",
       "  1224.21,948.992 1228.17,951.212 1232.13,953.427 1236.09,955.635 1240.05,957.837 1244.01,960.034 1247.97,962.224 1251.93,964.409 1255.88,966.587 1259.84,968.76 \n",
       "  1263.8,970.927 1267.76,973.088 1271.72,975.243 1275.68,977.393 1279.64,979.537 1283.6,981.675 1287.56,983.807 1291.52,985.933 1295.48,988.054 1299.44,990.17 \n",
       "  1303.4,992.279 1307.36,994.383 1311.32,996.482 1315.28,998.575 1319.24,1000.66 1323.2,1002.74 1327.16,1004.82 1331.12,1006.89 1335.08,1008.96 1339.04,1011.02 \n",
       "  1343,1013.07 1346.96,1015.12 1350.92,1017.16 1354.88,1019.2 1358.84,1021.24 1362.8,1023.26 1366.76,1025.29 1370.72,1027.3 1374.68,1029.32 1378.64,1031.32 \n",
       "  1382.6,1033.33 1386.56,1035.32 1390.52,1037.31 1394.48,1039.3 1398.44,1041.28 1402.4,1043.26 1406.36,1045.23 1410.32,1047.19 1414.28,1049.16 1418.24,1051.11 \n",
       "  1422.2,1053.06 1426.16,1055.01 1430.12,1056.95 1434.08,1058.89 1438.04,1060.82 1442,1062.74 1445.96,1064.66 1449.92,1066.58 1453.88,1068.49 1457.84,1070.4 \n",
       "  1461.8,1072.3 1465.76,1074.2 1469.72,1076.09 1473.68,1077.98 1477.63,1079.86 1481.59,1081.74 1485.55,1083.61 1489.51,1085.48 1493.47,1087.35 1497.43,1089.21 \n",
       "  1501.39,1091.06 1505.35,1092.91 1509.31,1094.76 1513.27,1096.6 1517.23,1098.43 1521.19,1100.27 1525.15,1102.09 1529.11,1103.92 1533.07,1105.73 1537.03,1107.55 \n",
       "  1540.99,1109.36 1544.95,1111.16 1548.91,1112.96 1552.87,1114.76 1556.83,1116.55 1560.79,1118.34 1564.75,1120.12 1568.71,1121.9 1572.67,1123.67 1576.63,1125.44 \n",
       "  1580.59,1127.21 1584.55,1128.97 1588.51,1130.73 1592.47,1132.48 1596.43,1134.23 1600.39,1135.97 1604.35,1137.71 1608.31,1139.45 1612.27,1141.18 1616.23,1142.91 \n",
       "  1620.19,1144.63 1624.15,1146.35 1628.11,1148.07 1632.07,1149.78 1636.03,1151.49 1639.99,1153.19 1643.95,1154.89 1647.91,1156.58 1651.87,1158.27 1655.83,1159.96 \n",
       "  1659.79,1161.64 1663.75,1163.32 1667.71,1165 1671.67,1166.67 1675.63,1168.34 1679.59,1170 1683.55,1171.66 1687.51,1173.31 1691.47,1174.96 1695.43,1176.61 \n",
       "  1699.39,1178.25 1703.34,1179.89 1707.3,1181.53 1711.26,1183.16 1715.22,1184.79 1719.18,1186.41 1723.14,1188.04 1727.1,1189.65 1731.06,1191.27 1735.02,1192.87 \n",
       "  1738.98,1194.48 1742.94,1196.08 1746.9,1197.68 1750.86,1199.28 1754.82,1200.87 1758.78,1202.45 1762.74,1204.04 1766.7,1205.62 1770.66,1207.19 1774.62,1208.77 \n",
       "  1778.58,1210.33 1782.54,1211.9 1786.5,1213.46 1790.46,1215.02 1794.42,1216.57 1798.38,1218.13 1802.34,1219.67 1806.3,1221.22 1810.26,1222.76 1814.22,1224.3 \n",
       "  1818.18,1225.83 1822.14,1227.36 1826.1,1228.89 1830.06,1230.41 1834.02,1231.93 1837.98,1233.45 1841.94,1234.96 1845.9,1236.47 1849.86,1237.97 1853.82,1239.48 \n",
       "  1857.78,1240.98 1861.74,1242.47 1865.7,1243.97 1869.66,1245.46 1873.62,1246.94 1877.58,1248.42 1881.54,1249.9 1885.5,1251.38 1889.46,1252.85 1893.42,1254.32 \n",
       "  1897.38,1255.79 1901.34,1257.25 1905.3,1258.71 1909.26,1260.17 1913.22,1261.62 1917.18,1263.07 1921.14,1264.52 1925.09,1265.96 1929.05,1267.4 1933.01,1268.84 \n",
       "  1936.97,1270.28 1940.93,1271.71 1944.89,1273.14 1948.85,1274.56 1952.81,1275.98 1956.77,1277.4 1960.73,1278.82 1964.69,1280.23 1968.65,1281.64 1972.61,1283.05 \n",
       "  1976.57,1284.45 1980.53,1285.85 1984.49,1287.25 1988.45,1288.64 1992.41,1290.03 1996.37,1291.42 2000.33,1292.81 2004.29,1294.19 2008.25,1295.57 2012.21,1296.95 \n",
       "  2016.17,1298.32 2020.13,1299.69 2024.09,1301.06 2028.05,1302.42 2032.01,1303.78 2035.97,1305.14 2039.93,1306.5 2043.89,1307.85 2047.85,1309.2 2051.81,1310.55 \n",
       "  2055.77,1311.89 2059.73,1313.24 2063.69,1314.57 2067.65,1315.91 2071.61,1317.24 2075.57,1318.57 2079.53,1319.9 2083.49,1321.23 2087.45,1322.55 2091.41,1323.87 \n",
       "  2095.37,1325.18 2099.33,1326.5 2103.29,1327.81 2107.25,1329.12 2111.21,1330.42 2115.17,1331.72 2119.13,1333.02 2123.09,1334.32 2127.05,1335.62 2131.01,1336.91 \n",
       "  2134.97,1338.2 2138.93,1339.48 2142.89,1340.77 2146.85,1342.05 2150.8,1343.33 2154.76,1344.6 2158.72,1345.88 2162.68,1347.15 2166.64,1348.42 2170.6,1349.68 \n",
       "  2174.56,1350.94 2178.52,1352.2 2182.48,1353.46 2186.44,1354.72 2190.4,1355.97 2194.36,1357.22 2198.32,1358.47 2202.28,1359.71 2206.24,1360.95 2210.2,1362.19 \n",
       "  2214.16,1363.43 2218.12,1364.67 2222.08,1365.9 2226.04,1367.13 2230,1368.35 2233.96,1369.58 2237.92,1370.8 2241.88,1372.02 2245.84,1373.24 2249.8,1374.45 \n",
       "  2253.76,1375.67 2257.72,1376.88 2261.68,1378.08 2265.64,1379.29 2269.6,1380.49 2273.56,1381.69 2277.52,1382.89 2281.48,1384.08 2285.44,1385.28 2289.4,1386.47 \n",
       "  2293.36,1387.66 \n",
       "  \"/>\n",
       "<path clip-path=\"url(#clip460)\" d=\"\n",
       "M1997.18 313.557 L2282.8 313.557 L2282.8 209.877 L1997.18 209.877  Z\n",
       "  \" fill=\"#ffffff\" fill-rule=\"evenodd\" fill-opacity=\"1\"/>\n",
       "<polyline clip-path=\"url(#clip460)\" style=\"stroke:#000000; stroke-linecap:butt; stroke-linejoin:round; stroke-width:4; stroke-opacity:1; fill:none\" points=\"\n",
       "  1997.18,313.557 2282.8,313.557 2282.8,209.877 1997.18,209.877 1997.18,313.557 \n",
       "  \"/>\n",
       "<polyline clip-path=\"url(#clip460)\" style=\"stroke:#009af9; stroke-linecap:butt; stroke-linejoin:round; stroke-width:4; stroke-opacity:1; fill:none\" points=\"\n",
       "  2020.5,261.717 2160.41,261.717 \n",
       "  \"/>\n",
       "<path clip-path=\"url(#clip460)\" d=\"M2197.57 281.404 Q2195.77 286.034 2194.05 287.446 Q2192.34 288.858 2189.47 288.858 L2186.07 288.858 L2186.07 285.293 L2188.57 285.293 Q2190.33 285.293 2191.3 284.46 Q2192.27 283.626 2193.45 280.525 L2194.22 278.58 L2183.73 253.071 L2188.24 253.071 L2196.35 273.349 L2204.45 253.071 L2208.96 253.071 L2197.57 281.404 Z\" fill=\"#000000\" fill-rule=\"evenodd\" fill-opacity=\"1\" /><path clip-path=\"url(#clip460)\" d=\"M2216.25 275.062 L2223.89 275.062 L2223.89 248.696 L2215.58 250.363 L2215.58 246.103 L2223.85 244.437 L2228.52 244.437 L2228.52 275.062 L2236.16 275.062 L2236.16 278.997 L2216.25 278.997 L2216.25 275.062 Z\" fill=\"#000000\" fill-rule=\"evenodd\" fill-opacity=\"1\" /></svg>\n"
      ]
     },
     "execution_count": 93,
     "metadata": {},
     "output_type": "execute_result"
    }
   ],
   "source": [
    "plot(\n",
    "    [t for t in 500:1000],\n",
    "    [(1000*atm*1L) / (1mol*R*temps[t]*K) for t in 500:1000], \n",
    "    title=\"\\$\\\\frac{PV}{RT}\\$ of \\$CO_{2}\\$ at increasing temperature\"\n",
    ")\n",
    "xlabel!(\"Temperature (K)\")\n",
    "ylabel!(\"\\$\\\\frac{PV}{RT}\\$\")"
   ]
  },
  {
   "cell_type": "code",
   "execution_count": 96,
   "id": "52beaa65",
   "metadata": {},
   "outputs": [
    {
     "data": {
      "text/plain": [
       "1.0419060804041609"
      ]
     },
     "execution_count": 96,
     "metadata": {},
     "output_type": "execute_result"
    }
   ],
   "source": [
    "(1000*atm*1L) / (1mol*R*temps[length(temps)-1]*K)"
   ]
  },
  {
   "cell_type": "code",
   "execution_count": 97,
   "id": "a8e013a3",
   "metadata": {},
   "outputs": [
    {
     "data": {
      "text/plain": [
       "#59 (generic function with 1 method)"
      ]
     },
     "execution_count": 97,
     "metadata": {},
     "output_type": "execute_result"
    }
   ],
   "source": [
    "pvrt = (x) -> (1000*atm*1L) / (1mol*R*temps[x]*K)"
   ]
  },
  {
   "cell_type": "code",
   "execution_count": 101,
   "id": "cfc49768",
   "metadata": {},
   "outputs": [
    {
     "data": {
      "text/plain": [
       "2-element Vector{Tuple{Int64, Float64}}:\n",
       " (546, 1.9041627028425743)\n",
       " (547, 1.900698006063443)"
      ]
     },
     "execution_count": 101,
     "metadata": {},
     "output_type": "execute_result"
    }
   ],
   "source": [
    "[(t, pvrt(t)) for t in 500:1000 if 1.9-0.0005 < pvrt(t) < 1.9 + 0.005]"
   ]
  },
  {
   "cell_type": "code",
   "execution_count": 102,
   "id": "2d350b2d",
   "metadata": {},
   "outputs": [
    {
     "data": {
      "text/plain": [
       "3-element Vector{Tuple{Int64, Float64}}:\n",
       " (741, 1.4048126214075065)\n",
       " (742, 1.4029259285679472)\n",
       " (743, 1.401044296667616)"
      ]
     },
     "execution_count": 102,
     "metadata": {},
     "output_type": "execute_result"
    }
   ],
   "source": [
    "[(t, pvrt(t)) for t in 500:1000 if 1.4-0.0005 < pvrt(t) < 1.4 + 0.005]"
   ]
  },
  {
   "cell_type": "code",
   "execution_count": 103,
   "id": "8601964a",
   "metadata": {},
   "outputs": [
    {
     "data": {
      "text/plain": [
       "5-element Vector{Tuple{Int64, Float64}}:\n",
       " (943, 1.1047119969039518)\n",
       " (944, 1.1035449530973365)\n",
       " (945, 1.1023803724737573)\n",
       " (946, 1.1012182472431795)\n",
       " (947, 1.1000585696483827)"
      ]
     },
     "execution_count": 103,
     "metadata": {},
     "output_type": "execute_result"
    }
   ],
   "source": [
    "[(t, pvrt(t)) for t in 500:1000 if 1.1-0.0005 < pvrt(t) < 1.1 + 0.005]"
   ]
  },
  {
   "cell_type": "markdown",
   "id": "55c769d1",
   "metadata": {},
   "source": [
    "### Aha! A pretty accurate answer\n",
    "\n",
    "A is at 1.9 $\\approx\\frac{PV}{RT}$, B is 1.4 $\\approx\\frac{PV}{RT}$, and C is 1.1 $\\approx\\frac{PV}{RT}$. I mean the \"$\\frac{PV}{RT}$ of $CO_{2}$ at increasing temperature\" graph shows that the answer is **(b)**, but now we know what the temperatures are..."
   ]
  },
  {
   "cell_type": "code",
   "execution_count": 113,
   "id": "d1523495",
   "metadata": {},
   "outputs": [
    {
     "name": "stdout",
     "output_type": "stream",
     "text": [
      "CO₂ sample A is at ≈546K (or ≈6126.826407746966 °C)\n",
      "CO₂ sample B is at ≈742K (or ≈8413.407234809809 °C)\n",
      "CO₂ sample C is at ≈945K (or ≈10781.651662839182 °C)\n"
     ]
    }
   ],
   "source": [
    "println(\"CO₂ sample A is at ≈546K (or ≈$(uconvert(°C, temps[546]*K)))\")\n",
    "println(\"CO₂ sample B is at ≈742K (or ≈$(uconvert(°C, temps[742]*K)))\")\n",
    "println(\"CO₂ sample C is at ≈945K (or ≈$(uconvert(°C, temps[945]*K)))\")"
   ]
  },
  {
   "cell_type": "code",
   "execution_count": null,
   "id": "0e6c05cc",
   "metadata": {},
   "outputs": [],
   "source": []
  }
 ],
 "metadata": {
  "@webio": {
   "lastCommId": null,
   "lastKernelId": null
  },
  "kernelspec": {
   "display_name": "Julia 1.7.3",
   "language": "julia",
   "name": "julia-1.7"
  },
  "language_info": {
   "file_extension": ".jl",
   "mimetype": "application/julia",
   "name": "julia",
   "version": "1.7.3"
  }
 },
 "nbformat": 4,
 "nbformat_minor": 5
}
